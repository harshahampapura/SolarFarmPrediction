{
 "cells": [
  {
   "cell_type": "code",
   "execution_count": 13,
   "id": "e4f5d219",
   "metadata": {},
   "outputs": [],
   "source": [
    "import numpy as np\n",
    "import matplotlib.pyplot as plt\n",
    "import pandas as pd\n",
    "import os\n",
    "\n",
    "from urllib.request import Request, urlopen\n"
   ]
  },
  {
   "cell_type": "markdown",
   "id": "d72e4714",
   "metadata": {},
   "source": [
    "# Dataset for Solar Farms - Harmonised global datasets\n",
    "\n",
    "Paper Link : https://www.nature.com/articles/s41597-020-0469-8 <br>\n",
    "Dataset link: https://figshare.com/articles/dataset/Harmonised_global_datasets_of_wind_and_solar_farm_locations_and_power/11310269/2\n",
    "\n",
    "*\"There are no restrictions on the use of these data. The data should be cited as follows: Dunnett, S. Harmonised global datasets of wind and solar farm locations and power. figshare. Dataset. https://doi.org/10.6084/m9.figshare.11310269.v1 (2020)\"*"
   ]
  },
  {
   "cell_type": "code",
   "execution_count": 8,
   "id": "23c7cac0",
   "metadata": {},
   "outputs": [
    {
     "data": {
      "text/html": [
       "<div>\n",
       "<style scoped>\n",
       "    .dataframe tbody tr th:only-of-type {\n",
       "        vertical-align: middle;\n",
       "    }\n",
       "\n",
       "    .dataframe tbody tr th {\n",
       "        vertical-align: top;\n",
       "    }\n",
       "\n",
       "    .dataframe thead th {\n",
       "        text-align: right;\n",
       "    }\n",
       "</style>\n",
       "<table border=\"1\" class=\"dataframe\">\n",
       "  <thead>\n",
       "    <tr style=\"text-align: right;\">\n",
       "      <th></th>\n",
       "      <th>X</th>\n",
       "      <th>Y</th>\n",
       "      <th>sol_id</th>\n",
       "      <th>panels</th>\n",
       "      <th>panel.area</th>\n",
       "      <th>landscape.area</th>\n",
       "      <th>water</th>\n",
       "      <th>urban</th>\n",
       "      <th>power</th>\n",
       "    </tr>\n",
       "  </thead>\n",
       "  <tbody>\n",
       "    <tr>\n",
       "      <th>count</th>\n",
       "      <td>3.949000e+03</td>\n",
       "      <td>3.949000e+03</td>\n",
       "      <td>3949.000000</td>\n",
       "      <td>3949.000000</td>\n",
       "      <td>3949.000000</td>\n",
       "      <td>3949.000000</td>\n",
       "      <td>3949.000000</td>\n",
       "      <td>3949.000000</td>\n",
       "      <td>1127.000000</td>\n",
       "    </tr>\n",
       "    <tr>\n",
       "      <th>mean</th>\n",
       "      <td>-8.386997e+06</td>\n",
       "      <td>4.687226e+06</td>\n",
       "      <td>14292.681438</td>\n",
       "      <td>153.322867</td>\n",
       "      <td>0.128300</td>\n",
       "      <td>0.244227</td>\n",
       "      <td>0.000760</td>\n",
       "      <td>0.431755</td>\n",
       "      <td>16.367508</td>\n",
       "    </tr>\n",
       "    <tr>\n",
       "      <th>std</th>\n",
       "      <td>1.695486e+06</td>\n",
       "      <td>4.956819e+05</td>\n",
       "      <td>6779.123122</td>\n",
       "      <td>2331.445836</td>\n",
       "      <td>0.745280</td>\n",
       "      <td>1.294819</td>\n",
       "      <td>0.027555</td>\n",
       "      <td>0.495383</td>\n",
       "      <td>38.284127</td>\n",
       "    </tr>\n",
       "    <tr>\n",
       "      <th>min</th>\n",
       "      <td>-1.456521e+07</td>\n",
       "      <td>2.554883e+06</td>\n",
       "      <td>2.000000</td>\n",
       "      <td>1.000000</td>\n",
       "      <td>0.000003</td>\n",
       "      <td>0.000000</td>\n",
       "      <td>0.000000</td>\n",
       "      <td>0.000000</td>\n",
       "      <td>0.841058</td>\n",
       "    </tr>\n",
       "    <tr>\n",
       "      <th>25%</th>\n",
       "      <td>-1.000998e+07</td>\n",
       "      <td>4.408598e+06</td>\n",
       "      <td>10949.000000</td>\n",
       "      <td>3.000000</td>\n",
       "      <td>0.000141</td>\n",
       "      <td>0.000248</td>\n",
       "      <td>0.000000</td>\n",
       "      <td>0.000000</td>\n",
       "      <td>2.288516</td>\n",
       "    </tr>\n",
       "    <tr>\n",
       "      <th>50%</th>\n",
       "      <td>-8.680626e+06</td>\n",
       "      <td>4.637474e+06</td>\n",
       "      <td>11954.000000</td>\n",
       "      <td>6.000000</td>\n",
       "      <td>0.001866</td>\n",
       "      <td>0.009032</td>\n",
       "      <td>0.000000</td>\n",
       "      <td>0.000000</td>\n",
       "      <td>4.343822</td>\n",
       "    </tr>\n",
       "    <tr>\n",
       "      <th>75%</th>\n",
       "      <td>-6.748695e+06</td>\n",
       "      <td>5.078871e+06</td>\n",
       "      <td>20089.000000</td>\n",
       "      <td>16.000000</td>\n",
       "      <td>0.032051</td>\n",
       "      <td>0.069371</td>\n",
       "      <td>0.000000</td>\n",
       "      <td>1.000000</td>\n",
       "      <td>13.590260</td>\n",
       "    </tr>\n",
       "    <tr>\n",
       "      <th>max</th>\n",
       "      <td>-5.524927e+06</td>\n",
       "      <td>7.472106e+06</td>\n",
       "      <td>34238.000000</td>\n",
       "      <td>110246.000000</td>\n",
       "      <td>22.289277</td>\n",
       "      <td>39.411116</td>\n",
       "      <td>1.000000</td>\n",
       "      <td>1.000000</td>\n",
       "      <td>551.823434</td>\n",
       "    </tr>\n",
       "  </tbody>\n",
       "</table>\n",
       "</div>"
      ],
      "text/plain": [
       "                  X             Y        sol_id         panels   panel.area  \\\n",
       "count  3.949000e+03  3.949000e+03   3949.000000    3949.000000  3949.000000   \n",
       "mean  -8.386997e+06  4.687226e+06  14292.681438     153.322867     0.128300   \n",
       "std    1.695486e+06  4.956819e+05   6779.123122    2331.445836     0.745280   \n",
       "min   -1.456521e+07  2.554883e+06      2.000000       1.000000     0.000003   \n",
       "25%   -1.000998e+07  4.408598e+06  10949.000000       3.000000     0.000141   \n",
       "50%   -8.680626e+06  4.637474e+06  11954.000000       6.000000     0.001866   \n",
       "75%   -6.748695e+06  5.078871e+06  20089.000000      16.000000     0.032051   \n",
       "max   -5.524927e+06  7.472106e+06  34238.000000  110246.000000    22.289277   \n",
       "\n",
       "       landscape.area        water        urban        power  \n",
       "count     3949.000000  3949.000000  3949.000000  1127.000000  \n",
       "mean         0.244227     0.000760     0.431755    16.367508  \n",
       "std          1.294819     0.027555     0.495383    38.284127  \n",
       "min          0.000000     0.000000     0.000000     0.841058  \n",
       "25%          0.000248     0.000000     0.000000     2.288516  \n",
       "50%          0.009032     0.000000     0.000000     4.343822  \n",
       "75%          0.069371     0.000000     1.000000    13.590260  \n",
       "max         39.411116     1.000000     1.000000   551.823434  "
      ]
     },
     "execution_count": 8,
     "metadata": {},
     "output_type": "execute_result"
    }
   ],
   "source": [
    "solar_farms_data_path = 'global_solar_2020.csv'\n",
    "solar_farms_all = pd.read_csv(solar_farms_data_path)\n",
    "\n",
    "solar_farms_US  = solar_farms_all[solar_farms_all['GID_0']=='USA']\n",
    "solar_farms_US.describe()"
   ]
  },
  {
   "cell_type": "markdown",
   "id": "38322b91",
   "metadata": {},
   "source": [
    "# Filter required data\n"
   ]
  },
  {
   "cell_type": "code",
   "execution_count": 28,
   "id": "b3f3af4b",
   "metadata": {},
   "outputs": [],
   "source": [
    "min_panel_area = 1.0\n",
    "solar_farms_US = solar_farms_US[solar_farms_US['panel.area']>min_panel_area]"
   ]
  },
  {
   "cell_type": "markdown",
   "id": "da3377cb",
   "metadata": {},
   "source": [
    "## The (X,Y) above are in \"Eckert IV equal-area projection (EPSG:54012)\" format.\n",
    "I couldn't find a direct function to convert these into the normal latitude, longitude format that we use. So I used an API from a website that converts it (https://epsg.io/transform#s_srs=3857&t_srs=4326&x=NaN&y=NaN). You can put this coordinates in google maps to get the image of the solar site.\n",
    "\n",
    "A direct funtion might be possible somehow from https://pyproj4.github.io/pyproj/stable/ but I am not sure how to do it."
   ]
  },
  {
   "cell_type": "code",
   "execution_count": 32,
   "id": "d6d4421f",
   "metadata": {},
   "outputs": [],
   "source": [
    "# NOTE : Order of (X,Y) is flipped at the end because google maps needs it that way\n",
    "\n",
    "def get_google_coordinates(X,Y):\n",
    "    \n",
    "    url = 'http://epsg.io/trans?x='+str(X)+'&y='+str(Y)+'&z=0&s_srs='+str(54012)+'&t_srs='+str(4326)+'&callback=jsonpFunction'\n",
    "    \n",
    "    req = Request(\n",
    "    url=url,#'http://www.cmegroup.com/trading/products/#sortField=oi&sortAsc=false&venues=3&page=1&cleared=1&group=1', \n",
    "    headers={'User-Agent': 'Mozilla/5.0'}\n",
    "    )\n",
    "    webpage = urlopen(req).read()\n",
    "    webpage_str = webpage.decode()\n",
    "    x = float(webpage_str.split('\"x\": \"')[1].split('\", \"y\":')[0])\n",
    "    y = float(webpage_str.split('\"y\": \"')[1].split('\", \"z\":')[0])\n",
    "    #print(\"Order of (x,y) if flipped for input into google maps\")\n",
    "    return y,x"
   ]
  },
  {
   "cell_type": "code",
   "execution_count": 35,
   "id": "7b489873",
   "metadata": {},
   "outputs": [
    {
     "name": "stdout",
     "output_type": "stream",
     "text": [
      "34.82641469953629 -118.40779822579395\n"
     ]
    }
   ],
   "source": [
    "ind = 10\n",
    "\n",
    "X_old = np.array(solar_farms_US['X'])[ind]\n",
    "Y_old = np.array(solar_farms_US['Y'])[ind]\n",
    "\n",
    "X_new,Y_new = get_google_coordinates(X_old, Y_old)\n",
    "print(X_new,Y_new)"
   ]
  },
  {
   "cell_type": "code",
   "execution_count": null,
   "id": "151a0c75",
   "metadata": {},
   "outputs": [],
   "source": []
  }
 ],
 "metadata": {
  "kernelspec": {
   "display_name": "Python 3 (ipykernel)",
   "language": "python",
   "name": "python3"
  },
  "language_info": {
   "codemirror_mode": {
    "name": "ipython",
    "version": 3
   },
   "file_extension": ".py",
   "mimetype": "text/x-python",
   "name": "python",
   "nbconvert_exporter": "python",
   "pygments_lexer": "ipython3",
   "version": "3.10.10"
  }
 },
 "nbformat": 4,
 "nbformat_minor": 5
}
