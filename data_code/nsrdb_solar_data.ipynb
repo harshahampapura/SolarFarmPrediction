{
 "cells": [
  {
   "cell_type": "code",
   "execution_count": 1,
   "id": "13dc42e7-0cf7-485d-b44a-d010cd85bf57",
   "metadata": {},
   "outputs": [],
   "source": [
    "import requests\n",
    "import pandas as pd\n",
    "import urllib.parse\n",
    "import time\n"
   ]
  },
  {
   "cell_type": "code",
   "execution_count": 2,
   "id": "229280c8-662b-468a-b359-0715eb67ba70",
   "metadata": {},
   "outputs": [],
   "source": [
    "hrh_apikey = 'GNoTfD5IZWwIEz24zB5Wn0aEhDvNJSep5bwapzTI'"
   ]
  },
  {
   "cell_type": "code",
   "execution_count": 3,
   "id": "eb46a184-0fbd-4e75-8403-e79593af65a9",
   "metadata": {},
   "outputs": [],
   "source": [
    "\n",
    "API_KEY = hrh_apikey\n",
    "EMAIL = \"hampapura.harsha@gmail.com\"\n",
    "BASE_URL = \"https://developer.nrel.gov/api/nsrdb/v2/solar/full-disc-download.json?\"\n",
    "POINTS = [\n",
    "'1494003'\n",
    "]"
   ]
  },
  {
   "cell_type": "code",
   "execution_count": 4,
   "id": "e0914ae8-b725-4800-8d38-bd4a6a1ca696",
   "metadata": {},
   "outputs": [
    {
     "name": "stdout",
     "output_type": "stream",
     "text": [
      "Processing name: 2019\n"
     ]
    },
    {
     "ename": "NameError",
     "evalue": "name 'input_data' is not defined",
     "output_type": "error",
     "traceback": [
      "\u001b[0;31m---------------------------------------------------------------------------\u001b[0m",
      "\u001b[0;31mNameError\u001b[0m                                 Traceback (most recent call last)",
      "Cell \u001b[0;32mIn[4], line 4\u001b[0m\n\u001b[1;32m      2\u001b[0m \u001b[38;5;28mprint\u001b[39m(\u001b[38;5;124mf\u001b[39m\u001b[38;5;124m\"\u001b[39m\u001b[38;5;124mProcessing name: \u001b[39m\u001b[38;5;132;01m{\u001b[39;00mname\u001b[38;5;132;01m}\u001b[39;00m\u001b[38;5;124m\"\u001b[39m)\n\u001b[1;32m      3\u001b[0m \u001b[38;5;28;01mfor\u001b[39;00m \u001b[38;5;28mid\u001b[39m, location_ids \u001b[38;5;129;01min\u001b[39;00m \u001b[38;5;28menumerate\u001b[39m(POINTS):\n\u001b[0;32m----> 4\u001b[0m     \u001b[43minput_data\u001b[49m[\u001b[38;5;124m'\u001b[39m\u001b[38;5;124mnames\u001b[39m\u001b[38;5;124m'\u001b[39m] \u001b[38;5;241m=\u001b[39m [name]\n\u001b[1;32m      5\u001b[0m     input_data[\u001b[38;5;124m'\u001b[39m\u001b[38;5;124mlocation_ids\u001b[39m\u001b[38;5;124m'\u001b[39m] \u001b[38;5;241m=\u001b[39m location_ids\n\u001b[1;32m      6\u001b[0m     \u001b[38;5;28mprint\u001b[39m(\u001b[38;5;124mf\u001b[39m\u001b[38;5;124m'\u001b[39m\u001b[38;5;124mMaking request for point group \u001b[39m\u001b[38;5;132;01m{\u001b[39;00m\u001b[38;5;28mid\u001b[39m\u001b[38;5;250m \u001b[39m\u001b[38;5;241m+\u001b[39m\u001b[38;5;250m \u001b[39m\u001b[38;5;241m1\u001b[39m\u001b[38;5;132;01m}\u001b[39;00m\u001b[38;5;124m of \u001b[39m\u001b[38;5;132;01m{\u001b[39;00m\u001b[38;5;28mlen\u001b[39m(POINTS)\u001b[38;5;132;01m}\u001b[39;00m\u001b[38;5;124m...\u001b[39m\u001b[38;5;124m'\u001b[39m)\n",
      "\u001b[0;31mNameError\u001b[0m: name 'input_data' is not defined"
     ]
    }
   ],
   "source": [
    "for name in ['2019','2020','2021','2022']:\n",
    "        print(f\"Processing name: {name}\")\n",
    "        for id, location_ids in enumerate(POINTS):\n",
    "            input_data['names'] = [name]\n",
    "            input_data['location_ids'] = location_ids\n",
    "            print(f'Making request for point group {id + 1} of {len(POINTS)}...')\n",
    "\n",
    "            if '.csv' in BASE_URL:\n",
    "                url = BASE_URL + urllib.parse.urlencode(data, True)\n",
    "                # Note: CSV format is only supported for single point requests\n",
    "                # Suggest that you might append to a larger data frame\n",
    "                data = pd.read_csv(url)\n",
    "                print(f'Response data (you should replace this print statement with your processing): {data}')\n",
    "                # You can use the following code to write it to a file\n",
    "                # data.to_csv('SingleBigDataPoint.csv')\n",
    "            else:\n",
    "                headers = {\n",
    "                  'x-api-key': API_KEY\n",
    "                }\n",
    "                data = get_response_json_and_handle_errors(requests.post(BASE_URL, input_data, headers=headers))\n",
    "                download_url = data['outputs']['downloadUrl']\n",
    "                # You can do with what you will the download url\n",
    "                print(data['outputs']['message'])\n",
    "                print(f\"Data can be downloaded from this url when ready: {download_url}\")\n",
    "\n",
    "                # Delay for 1 second to prevent rate limiting\n",
    "                time.sleep(1)\n",
    "            print(f'Processed')\n"
   ]
  },
  {
   "cell_type": "code",
   "execution_count": null,
   "id": "c74216d8-274c-4dab-932a-ae10dc77c32b",
   "metadata": {},
   "outputs": [],
   "source": [
    "\n",
    "\n",
    "def main():\n",
    "    input_data = {\n",
    "        'attributes': 'dhi,air_temperature,clearsky_dhi,clearsky_ghi,cloud_type,clearsky_dni,ghi,dni,relative_humidity,solar_zenith_angle,surface_albedo,surface_pressure',\n",
    "        'interval': '60',\n",
    "        'include_leap_day': 'true',\n",
    "        'to_utc': 'false',\n",
    "        \n",
    "        'api_key': API_KEY,\n",
    "        'email': EMAIL,\n",
    "    }\n",
    "    \n",
    "\n",
    "def get_response_json_and_handle_errors(response: requests.Response) -> dict:\n",
    "    \"\"\"Takes the given response and handles any errors, along with providing\n",
    "    the resulting json\n",
    "\n",
    "    Parameters\n",
    "    ----------\n",
    "    response : requests.Response\n",
    "        The response object\n",
    "\n",
    "    Returns\n",
    "    -------\n",
    "    dict\n",
    "        The resulting json\n",
    "    \"\"\"\n",
    "    if response.status_code != 200:\n",
    "        print(f\"An error has occurred with the server or the request. The request response code/status: {response.status_code} {response.reason}\")\n",
    "        print(f\"The response body: {response.text}\")\n",
    "        exit(1)\n",
    "\n",
    "    try:\n",
    "        response_json = response.json()\n",
    "    except:\n",
    "        print(f\"The response couldn't be parsed as JSON, likely an issue with the server, here is the text: {response.text}\")\n",
    "        exit(1)\n",
    "\n",
    "    if len(response_json['errors']) > 0:\n",
    "        errors = '\\n'.join(response_json['errors'])\n",
    "        print(f\"The request errored out, here are the errors: {errors}\")\n",
    "        exit(1)\n",
    "    return response_json\n",
    "\n",
    "if __name__ == \"__main__\":\n",
    "    main()"
   ]
  }
 ],
 "metadata": {
  "kernelspec": {
   "display_name": "Python 3 (ipykernel)",
   "language": "python",
   "name": "python3"
  },
  "language_info": {
   "codemirror_mode": {
    "name": "ipython",
    "version": 3
   },
   "file_extension": ".py",
   "mimetype": "text/x-python",
   "name": "python",
   "nbconvert_exporter": "python",
   "pygments_lexer": "ipython3",
   "version": "3.12.0"
  }
 },
 "nbformat": 4,
 "nbformat_minor": 5
}
