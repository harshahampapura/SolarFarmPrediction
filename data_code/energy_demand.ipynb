{
 "cells": [
  {
   "cell_type": "markdown",
   "id": "31f437af",
   "metadata": {},
   "source": [
    "# Links and Sources\n",
    "\n",
    "### Energy Information Administration (EIA)\n",
    "The U.S. Energy Information Administration (EIA) is a principal agency of the U.S. Federal Statistical System responsible for collecting, analyzing, and disseminating energy information. <br>\n",
    "https://www.eia.gov/\n",
    "\n",
    "\n",
    "### Electric Sales, Revenue, and Average Price\n",
    "https://www.eia.gov/electricity/sales_revenue_price/index.php\n",
    "\n",
    "### Retail Sales - All (Residential, Commercial, Industrial, Transportation)\n",
    "https://www.eia.gov/electricity/sales_revenue_price/pdf/table_10.pdf <br>\n",
    "Gives : City, State, #Customers, # MWhrs, # dollars, Average energy price\n",
    "\n",
    "### Terminology\n",
    "\n",
    "Difference between Privately owned utilities, Cooperatives, Municipalities : https://ceateam.com/whats-difference-privately-owned-utilities-cooperatives-municipalities/\n",
    "\n",
    "# Plan \n",
    "\n",
    "1. Get demand data from for all the possible cities in US\n",
    "2. Get demand data from all other sources (excluding cities) for each state\n",
    "3. Get the average demand per sq.miles for each state using data from (2)\n",
    "3. Find a way to see what cities are within a given distance 'd' from any given coordinates\n",
    "4. The total demand at any given coordinate will be the sum of \n",
    "    1. The demand from all the cities included in distance 'd' around it\n",
    "    2. **The total demand from all other sources calculated using (2)**"
   ]
  },
  {
   "cell_type": "code",
   "execution_count": 1,
   "id": "57196d23",
   "metadata": {},
   "outputs": [],
   "source": [
    "import numpy as np\n",
    "import matplotlib.pyplot as plt\n",
    "import pandas as pd\n",
    "import json\n",
    "import ast\n",
    "import geopy.distance"
   ]
  },
  {
   "cell_type": "markdown",
   "id": "a7bb00f5",
   "metadata": {},
   "source": [
    "# Loading data for entire US"
   ]
  },
  {
   "cell_type": "code",
   "execution_count": null,
   "id": "8d75acc1",
   "metadata": {},
   "outputs": [],
   "source": [
    "data = pd.read_excel('dataset_energy_demand.xlsx')\n",
    "data.columns = data.iloc[1]\n",
    "data.drop(data.index[0:2], inplace=True)\n",
    "data.reset_index(drop=True,inplace=True)\n",
    "data"
   ]
  },
  {
   "cell_type": "markdown",
   "id": "68dbc326",
   "metadata": {},
   "source": [
    "# Extracting only California data\n",
    "## Add columns to save (latitude, longitude)"
   ]
  },
  {
   "cell_type": "code",
   "execution_count": null,
   "id": "d2b16610",
   "metadata": {
    "scrolled": true
   },
   "outputs": [],
   "source": [
    "data_california = data.copy()\n",
    "data_california = data_california[data_california['State']=='CA']\n",
    "data_california.reset_index(drop=True,inplace=True)\n",
    "\n",
    "data_california['Latitude'] =np.nan\n",
    "data_california['Longitude']=np.nan\n",
    "data_california"
   ]
  },
  {
   "cell_type": "markdown",
   "id": "f2a79f2e",
   "metadata": {},
   "source": [
    "# Manually adding the latitude and longitudes for all Entities "
   ]
  },
  {
   "cell_type": "code",
   "execution_count": null,
   "id": "d8441e5c",
   "metadata": {},
   "outputs": [],
   "source": [
    "c_data = {}\n",
    "for name in data_california['Entity']:\n",
    "    c_data[name]={'Latitude':'','Longitude':''}\n",
    "\n",
    "# for name in data_california['Entity']:\n",
    "#     print(f\"c_data['{name}']['Latitude'], c_data['{name}']['Longitude'] = '','' ,\")\n",
    "\n",
    "\n",
    "c_data['Ahana Renewables, LLC']['Latitude'], c_data['Ahana Renewables, LLC']['Longitude'] = np.nan,np.nan ,\n",
    "c_data['Alameda Municipal Power']['Latitude'], c_data['Alameda Municipal Power']['Longitude'] = 37.77634429711531, -122.25240059975788 ,\n",
    "c_data['Bear Valley Electric Service']['Latitude'], c_data['Bear Valley Electric Service']['Longitude'] = 34.24589054285114, -116.88573977074265 ,\n",
    "c_data['City & County of San Francisco']['Latitude'], c_data['City & County of San Francisco']['Longitude'] = 37.7790262,-122.419906 ,\n",
    "c_data['City of Anaheim - (CA)']['Latitude'], c_data['City of Anaheim - (CA)']['Longitude'] = 33.8347516,-117.911732 ,\n",
    "c_data['City of Azusa']['Latitude'], c_data['City of Azusa']['Longitude'] = 34.1338751,-117.9056046,\n",
    "c_data['City of Burbank Water and Power']['Latitude'], c_data['City of Burbank Water and Power']['Longitude'] = 34.1816482,-118.3258554 ,\n",
    "c_data['City of Colton - (CA)']['Latitude'], c_data['City of Colton - (CA)']['Longitude'] = 34.0739016,-117.3136547 ,\n",
    "c_data['City of Corona - (CA)']['Latitude'], c_data['City of Corona - (CA)']['Longitude'] = 33.8752945,-117.5664449 ,\n",
    "c_data['City of Glendale - (CA)']['Latitude'], c_data['City of Glendale - (CA)']['Longitude'] = 34.1469416,-118.2478471 ,\n",
    "c_data['City of Lodi - (CA)']['Latitude'], c_data['City of Lodi - (CA)']['Longitude'] = 38.124694250000005 , -121.2795345883064,\n",
    "c_data['City of Moreno Valley - (CA)']['Latitude'], c_data['City of Moreno Valley - (CA)']['Longitude'] = 33.937517 , -117.2305944,\n",
    "c_data['City of Palo Alto - (CA)']['Latitude'], c_data['City of Palo Alto - (CA)']['Longitude'] = 37.4443293 , -122.1598465,\n",
    "c_data['City of Pasadena - (CA)']['Latitude'], c_data['City of Pasadena - (CA)']['Longitude'] = 34.1476452 , -118.1444779,\n",
    "c_data['City of Redding - (CA)']['Latitude'], c_data['City of Redding - (CA)']['Longitude'] = 40.5863563 , -122.391675,\n",
    "c_data['City of Riverside - (CA)']['Latitude'], c_data['City of Riverside - (CA)']['Longitude'] = 33.9533546 , -117.3961623,\n",
    "c_data['City of Roseville - (CA)']['Latitude'], c_data['City of Roseville - (CA)']['Longitude'] = 38.7521235 , -121.2880059,\n",
    "c_data['City of Santa Clara - (CA)']['Latitude'], c_data['City of Santa Clara - (CA)']['Longitude'] = 37.3541132 , -121.955174,\n",
    "c_data['City of Vernon']['Latitude'], c_data['City of Vernon']['Longitude'] = 34.1513105 , -99.2860857,\n",
    "c_data['Constellation Solar Holding, LLC']['Latitude'], c_data['Constellation Solar Holding, LLC']['Longitude'] = np.nan,np.nan ,\n",
    "c_data['Greenbacker Renewable Energy Corporation']['Latitude'], c_data['Greenbacker Renewable Energy Corporation']['Longitude'] = np.nan,np.nan ,\n",
    "c_data['Greenskies Renewable Energy, LLC']['Latitude'], c_data['Greenskies Renewable Energy, LLC']['Longitude'] = np.nan,np.nan ,\n",
    "c_data['Imperial Irrigation District']['Latitude'], c_data['Imperial Irrigation District']['Longitude'] = 32.84716294268047, -115.5670040955087 ,\n",
    "c_data['Kings River Conservation Dist']['Latitude'], c_data['Kings River Conservation Dist']['Longitude'] = 36.70684730256173, -119.73276423107694 ,\n",
    "c_data['Liberty Utilities']['Latitude'], c_data['Liberty Utilities']['Longitude'] = np.nan,np.nan ,\n",
    "c_data['Longroad Energy']['Latitude'], c_data['Longroad Energy']['Longitude'] = np.nan,np.nan ,\n",
    "c_data['Los Angeles Department of Water & Power']['Latitude'], c_data['Los Angeles Department of Water & Power']['Longitude'] = 34.0536909 , -118.242766,\n",
    "c_data['Merced Irrigation District']['Latitude'], c_data['Merced Irrigation District']['Longitude'] = 37.3029568 , -120.4843269,\n",
    "c_data['Modesto Irrigation District']['Latitude'], c_data['Modesto Irrigation District']['Longitude'] = 37.6390972 , -120.9968782,\n",
    "c_data['PacifiCorp']['Latitude'], c_data['PacifiCorp']['Longitude'] = np.nan,np.nan ,\n",
    "c_data['Pacific Gas & Electric Co.']['Latitude'], c_data['Pacific Gas & Electric Co.']['Longitude'] = np.nan,np.nan ,\n",
    "c_data['Sacramento Municipal Util Dist']['Latitude'], c_data['Sacramento Municipal Util Dist']['Longitude'] = 38.5810606 , -121.493895,\n",
    "c_data['San Diego Gas & Electric Co']['Latitude'], c_data['San Diego Gas & Electric Co']['Longitude'] = 32.7174202 , -117.1627728,\n",
    "c_data['Scale Sustainable I, LLC']['Latitude'], c_data['Scale Sustainable I, LLC']['Longitude'] = np.nan,np.nan ,\n",
    "c_data['Southern California Edison Co']['Latitude'], c_data['Southern California Edison Co']['Longitude'] = np.nan,np.nan ,\n",
    "c_data['Spruce Finance']['Latitude'], c_data['Spruce Finance']['Longitude'] = np.nan,np.nan ,\n",
    "c_data['SunPower Capital, LLC']['Latitude'], c_data['SunPower Capital, LLC']['Longitude'] = np.nan,np.nan ,\n",
    "c_data['Sunnova']['Latitude'], c_data['Sunnova']['Longitude'] = np.nan,np.nan ,\n",
    "c_data['Sunrun Inc.']['Latitude'], c_data['Sunrun Inc.']['Longitude'] = np.nan,np.nan ,\n",
    "c_data['Surprise Valley Electrification']['Latitude'], c_data['Surprise Valley Electrification']['Longitude'] = np.nan,np.nan ,\n",
    "c_data['TerraForm US Energy Services, LLC']['Latitude'], c_data['TerraForm US Energy Services, LLC']['Longitude'] = np.nan,np.nan ,\n",
    "c_data['Tesla Inc.']['Latitude'], c_data['Tesla Inc.']['Longitude'] = np.nan,np.nan ,\n",
    "c_data['Turlock Irrigation District']['Latitude'], c_data['Turlock Irrigation District']['Longitude'] = 37.4946568 , -120.8465941,\n",
    "c_data['Valley Electric Assn, Inc']['Latitude'], c_data['Valley Electric Assn, Inc']['Longitude'] = np.nan,np.nan ,\n",
    "c_data['WAPA-- Western Area Power Administration']['Latitude'], c_data['WAPA-- Western Area Power Administration']['Longitude'] = np.nan,np.nan "
   ]
  },
  {
   "cell_type": "markdown",
   "id": "bb9466f2",
   "metadata": {},
   "source": [
    "# Add the latitude and longitude data to California data"
   ]
  },
  {
   "cell_type": "code",
   "execution_count": null,
   "id": "03136edc",
   "metadata": {
    "scrolled": true
   },
   "outputs": [],
   "source": [
    "for entity in c_data:\n",
    "    index = data_california.index[data_california['Entity']==entity]\n",
    "    data_california.at[index[0],'Latitude'] =c_data[entity]['Latitude']\n",
    "    data_california.at[index[0],'Longitude']=c_data[entity]['Longitude']\n",
    "data_california"
   ]
  },
  {
   "cell_type": "markdown",
   "id": "c8d26c11",
   "metadata": {},
   "source": [
    "# Save California data with Latitude and Longitude"
   ]
  },
  {
   "cell_type": "code",
   "execution_count": null,
   "id": "f2e6ce56",
   "metadata": {},
   "outputs": [],
   "source": [
    "data_california.to_csv('demand_data_california_with_lat_lon.csv')"
   ]
  },
  {
   "cell_type": "markdown",
   "id": "22a4b2ef",
   "metadata": {},
   "source": [
    "# Function to get demand within a given distance\n",
    "\n",
    "### Checks what entities in the data are within a given distance. Adds the demands from all these entities\n",
    "\n",
    "### For entities whose coordinates are not present, the demand is equally distributed among all the other entities. This value is added to the demand"
   ]
  },
  {
   "cell_type": "code",
   "execution_count": null,
   "id": "452f5065",
   "metadata": {},
   "outputs": [],
   "source": [
    "# Distance in miles.Default value = 50 miles \n",
    "# Returns demand in Megawatthours\n",
    "def get_demand_within_distance(latitude,longitude,demand_within_distance=50):\n",
    "    coords_1 = (latitude,longitude)\n",
    "    demand = 0.\n",
    "    for ind, row in data_california.iterrows():\n",
    "        lat = data_california.at[ind,'Latitude']\n",
    "        lon = data_california.at[ind,'Longitude']\n",
    "        if not (np.isnan(lat) and np.isnan(lon)):\n",
    "            coords_2 = (lat,lon)\n",
    "            d = geopy.distance.geodesic(coords_1, coords_2).miles\n",
    "            if d<=demand_within_distance:\n",
    "                demand += data_california.at[ind,'Sales (Megawatthours)']\n",
    "                \n",
    "    demand_from_unidentified_sources = np.sum(data_california[pd.isnull(data_california['Latitude'])]['Sales (Megawatthours)'])\n",
    "    avg_demand_from_unidentified_sources = demand_from_unidentified_sources/len(data_california[pd.isnull(data_california['Latitude'])])\n",
    "    \n",
    "    demand += avg_demand_from_unidentified_sources\n",
    "    return demand\n",
    "\n",
    "# Example______________________________________________\n",
    "lat,lon = 34.08029236093867, -118.27017871471111\n",
    "dis = 50\n",
    "print(get_demand_within_distance(lat,lon,dis))\n",
    "#______________________________________________________"
   ]
  },
  {
   "cell_type": "markdown",
   "id": "aef12b7e",
   "metadata": {},
   "source": [
    "# Plotting how demand increases with increasing distance"
   ]
  },
  {
   "cell_type": "code",
   "execution_count": null,
   "id": "cf2d2c48",
   "metadata": {},
   "outputs": [],
   "source": [
    "distance = np.arange(1,600,5)\n",
    "\n",
    "lat,lon = 34.08029236093867, -118.27017871471111\n",
    "\n",
    "demand = np.array([get_demand_within_distance(lat,lon,x) for x in distance])\n",
    "\n",
    "plt.plot(distance[:600],demand[:600],'o', markersize='4')\n",
    "plt.show()"
   ]
  },
  {
   "cell_type": "markdown",
   "id": "7ae33bc5",
   "metadata": {},
   "source": [
    "# Update energy demand in California dataset"
   ]
  },
  {
   "cell_type": "code",
   "execution_count": 2,
   "id": "acbbfe77",
   "metadata": {},
   "outputs": [
    {
     "data": {
      "text/html": [
       "<div>\n",
       "<style scoped>\n",
       "    .dataframe tbody tr th:only-of-type {\n",
       "        vertical-align: middle;\n",
       "    }\n",
       "\n",
       "    .dataframe tbody tr th {\n",
       "        vertical-align: top;\n",
       "    }\n",
       "\n",
       "    .dataframe thead th {\n",
       "        text-align: right;\n",
       "    }\n",
       "</style>\n",
       "<table border=\"1\" class=\"dataframe\">\n",
       "  <thead>\n",
       "    <tr style=\"text-align: right;\">\n",
       "      <th></th>\n",
       "      <th>Latitude</th>\n",
       "      <th>Longitude</th>\n",
       "      <th>State</th>\n",
       "      <th>panel.area</th>\n",
       "      <th>power</th>\n",
       "      <th>panels</th>\n",
       "      <th>landscape.area</th>\n",
       "      <th>water</th>\n",
       "      <th>urban</th>\n",
       "      <th>Address</th>\n",
       "      <th>demand_10km_MWh</th>\n",
       "      <th>demand_20km_MWh</th>\n",
       "      <th>demand_50km_MWh</th>\n",
       "    </tr>\n",
       "  </thead>\n",
       "  <tbody>\n",
       "    <tr>\n",
       "      <th>0</th>\n",
       "      <td>47.020475</td>\n",
       "      <td>-120.223217</td>\n",
       "      <td>WA</td>\n",
       "      <td>0.000141</td>\n",
       "      <td>NaN</td>\n",
       "      <td>1.0</td>\n",
       "      <td>0.0</td>\n",
       "      <td>0.0</td>\n",
       "      <td>0.0</td>\n",
       "      <td>2QCG+5P Renslow, WA, USA</td>\n",
       "      <td>NaN</td>\n",
       "      <td>NaN</td>\n",
       "      <td>NaN</td>\n",
       "    </tr>\n",
       "    <tr>\n",
       "      <th>1</th>\n",
       "      <td>44.582129</td>\n",
       "      <td>-123.286963</td>\n",
       "      <td>OR</td>\n",
       "      <td>0.000141</td>\n",
       "      <td>NaN</td>\n",
       "      <td>1.0</td>\n",
       "      <td>0.0</td>\n",
       "      <td>0.0</td>\n",
       "      <td>1.0</td>\n",
       "      <td>3230 NW Garfield Ave, Corvallis, OR 97330, USA</td>\n",
       "      <td>NaN</td>\n",
       "      <td>NaN</td>\n",
       "      <td>NaN</td>\n",
       "    </tr>\n",
       "    <tr>\n",
       "      <th>2</th>\n",
       "      <td>37.405176</td>\n",
       "      <td>-122.084769</td>\n",
       "      <td>CA</td>\n",
       "      <td>0.000141</td>\n",
       "      <td>NaN</td>\n",
       "      <td>1.0</td>\n",
       "      <td>0.0</td>\n",
       "      <td>0.0</td>\n",
       "      <td>1.0</td>\n",
       "      <td>1625 San Luis Ave, Mountain View, CA 94043, USA</td>\n",
       "      <td>NaN</td>\n",
       "      <td>NaN</td>\n",
       "      <td>NaN</td>\n",
       "    </tr>\n",
       "    <tr>\n",
       "      <th>3</th>\n",
       "      <td>37.847173</td>\n",
       "      <td>-122.271529</td>\n",
       "      <td>CA</td>\n",
       "      <td>0.000141</td>\n",
       "      <td>NaN</td>\n",
       "      <td>1.0</td>\n",
       "      <td>0.0</td>\n",
       "      <td>0.0</td>\n",
       "      <td>1.0</td>\n",
       "      <td>3372 Martin Luther King Jr Way, Berkeley, CA 9...</td>\n",
       "      <td>NaN</td>\n",
       "      <td>NaN</td>\n",
       "      <td>NaN</td>\n",
       "    </tr>\n",
       "    <tr>\n",
       "      <th>4</th>\n",
       "      <td>37.154450</td>\n",
       "      <td>-121.560230</td>\n",
       "      <td>CA</td>\n",
       "      <td>0.000141</td>\n",
       "      <td>NaN</td>\n",
       "      <td>1.0</td>\n",
       "      <td>0.0</td>\n",
       "      <td>0.0</td>\n",
       "      <td>0.0</td>\n",
       "      <td>16600 Finley Ridge Rd, Morgan Hill, CA 95037, USA</td>\n",
       "      <td>NaN</td>\n",
       "      <td>NaN</td>\n",
       "      <td>NaN</td>\n",
       "    </tr>\n",
       "    <tr>\n",
       "      <th>...</th>\n",
       "      <td>...</td>\n",
       "      <td>...</td>\n",
       "      <td>...</td>\n",
       "      <td>...</td>\n",
       "      <td>...</td>\n",
       "      <td>...</td>\n",
       "      <td>...</td>\n",
       "      <td>...</td>\n",
       "      <td>...</td>\n",
       "      <td>...</td>\n",
       "      <td>...</td>\n",
       "      <td>...</td>\n",
       "      <td>...</td>\n",
       "    </tr>\n",
       "    <tr>\n",
       "      <th>7986</th>\n",
       "      <td>34.293795</td>\n",
       "      <td>-114.357804</td>\n",
       "      <td>CA</td>\n",
       "      <td>NaN</td>\n",
       "      <td>NaN</td>\n",
       "      <td>NaN</td>\n",
       "      <td>NaN</td>\n",
       "      <td>NaN</td>\n",
       "      <td>NaN</td>\n",
       "      <td>NaN</td>\n",
       "      <td>NaN</td>\n",
       "      <td>NaN</td>\n",
       "      <td>NaN</td>\n",
       "    </tr>\n",
       "    <tr>\n",
       "      <th>7987</th>\n",
       "      <td>34.392355</td>\n",
       "      <td>-114.357804</td>\n",
       "      <td>CA</td>\n",
       "      <td>NaN</td>\n",
       "      <td>NaN</td>\n",
       "      <td>NaN</td>\n",
       "      <td>NaN</td>\n",
       "      <td>NaN</td>\n",
       "      <td>NaN</td>\n",
       "      <td>NaN</td>\n",
       "      <td>NaN</td>\n",
       "      <td>NaN</td>\n",
       "      <td>NaN</td>\n",
       "    </tr>\n",
       "    <tr>\n",
       "      <th>7988</th>\n",
       "      <td>34.195234</td>\n",
       "      <td>-114.249069</td>\n",
       "      <td>CA</td>\n",
       "      <td>NaN</td>\n",
       "      <td>NaN</td>\n",
       "      <td>NaN</td>\n",
       "      <td>NaN</td>\n",
       "      <td>NaN</td>\n",
       "      <td>NaN</td>\n",
       "      <td>NaN</td>\n",
       "      <td>NaN</td>\n",
       "      <td>NaN</td>\n",
       "      <td>NaN</td>\n",
       "    </tr>\n",
       "    <tr>\n",
       "      <th>7989</th>\n",
       "      <td>34.293795</td>\n",
       "      <td>-114.249069</td>\n",
       "      <td>CA</td>\n",
       "      <td>NaN</td>\n",
       "      <td>NaN</td>\n",
       "      <td>NaN</td>\n",
       "      <td>NaN</td>\n",
       "      <td>NaN</td>\n",
       "      <td>NaN</td>\n",
       "      <td>NaN</td>\n",
       "      <td>NaN</td>\n",
       "      <td>NaN</td>\n",
       "      <td>NaN</td>\n",
       "    </tr>\n",
       "    <tr>\n",
       "      <th>7990</th>\n",
       "      <td>34.293795</td>\n",
       "      <td>-114.140335</td>\n",
       "      <td>CA</td>\n",
       "      <td>NaN</td>\n",
       "      <td>NaN</td>\n",
       "      <td>NaN</td>\n",
       "      <td>NaN</td>\n",
       "      <td>NaN</td>\n",
       "      <td>NaN</td>\n",
       "      <td>NaN</td>\n",
       "      <td>NaN</td>\n",
       "      <td>NaN</td>\n",
       "      <td>NaN</td>\n",
       "    </tr>\n",
       "  </tbody>\n",
       "</table>\n",
       "<p>7991 rows × 13 columns</p>\n",
       "</div>"
      ],
      "text/plain": [
       "       Latitude   Longitude State  panel.area  power  panels  landscape.area  \\\n",
       "0     47.020475 -120.223217    WA    0.000141    NaN     1.0             0.0   \n",
       "1     44.582129 -123.286963    OR    0.000141    NaN     1.0             0.0   \n",
       "2     37.405176 -122.084769    CA    0.000141    NaN     1.0             0.0   \n",
       "3     37.847173 -122.271529    CA    0.000141    NaN     1.0             0.0   \n",
       "4     37.154450 -121.560230    CA    0.000141    NaN     1.0             0.0   \n",
       "...         ...         ...   ...         ...    ...     ...             ...   \n",
       "7986  34.293795 -114.357804    CA         NaN    NaN     NaN             NaN   \n",
       "7987  34.392355 -114.357804    CA         NaN    NaN     NaN             NaN   \n",
       "7988  34.195234 -114.249069    CA         NaN    NaN     NaN             NaN   \n",
       "7989  34.293795 -114.249069    CA         NaN    NaN     NaN             NaN   \n",
       "7990  34.293795 -114.140335    CA         NaN    NaN     NaN             NaN   \n",
       "\n",
       "      water  urban                                            Address  \\\n",
       "0       0.0    0.0                           2QCG+5P Renslow, WA, USA   \n",
       "1       0.0    1.0     3230 NW Garfield Ave, Corvallis, OR 97330, USA   \n",
       "2       0.0    1.0    1625 San Luis Ave, Mountain View, CA 94043, USA   \n",
       "3       0.0    1.0  3372 Martin Luther King Jr Way, Berkeley, CA 9...   \n",
       "4       0.0    0.0  16600 Finley Ridge Rd, Morgan Hill, CA 95037, USA   \n",
       "...     ...    ...                                                ...   \n",
       "7986    NaN    NaN                                                NaN   \n",
       "7987    NaN    NaN                                                NaN   \n",
       "7988    NaN    NaN                                                NaN   \n",
       "7989    NaN    NaN                                                NaN   \n",
       "7990    NaN    NaN                                                NaN   \n",
       "\n",
       "      demand_10km_MWh  demand_20km_MWh  demand_50km_MWh  \n",
       "0                 NaN              NaN              NaN  \n",
       "1                 NaN              NaN              NaN  \n",
       "2                 NaN              NaN              NaN  \n",
       "3                 NaN              NaN              NaN  \n",
       "4                 NaN              NaN              NaN  \n",
       "...               ...              ...              ...  \n",
       "7986              NaN              NaN              NaN  \n",
       "7987              NaN              NaN              NaN  \n",
       "7988              NaN              NaN              NaN  \n",
       "7989              NaN              NaN              NaN  \n",
       "7990              NaN              NaN              NaN  \n",
       "\n",
       "[7991 rows x 13 columns]"
      ]
     },
     "execution_count": 2,
     "metadata": {},
     "output_type": "execute_result"
    }
   ],
   "source": [
    "data = pd.read_csv('CA_Grid_dataframe_with_existing_solar_farms.csv')\n",
    "data['demand_10km_MWh'] = np.nan\n",
    "data['demand_20km_MWh'] = np.nan\n",
    "data['demand_50km_MWh'] = np.nan\n",
    "data"
   ]
  },
  {
   "cell_type": "code",
   "execution_count": 5,
   "id": "02f0057e",
   "metadata": {},
   "outputs": [
    {
     "name": "stderr",
     "output_type": "stream",
     "text": [
      "7991it [03:36, 36.86it/s]\n"
     ]
    }
   ],
   "source": [
    "from utils import *#get_demand_within_distance\n",
    "from tqdm import tqdm\n",
    "\n",
    "for ind,row in tqdm(data.iterrows()):\n",
    "    \n",
    "    latitude  = data.at[ind,'Latitude']\n",
    "    longitude = data.at[ind,'Longitude']\n",
    "    unit = 'km'\n",
    "    data.at[ind,'demand_10km_MWh'] = get_demand_within_distance(latitude,longitude,demand_within_distance=10,unit=unit)\n",
    "    data.at[ind,'demand_20km_MWh'] = get_demand_within_distance(latitude,longitude,demand_within_distance=20,unit=unit)\n",
    "    data.at[ind,'demand_50km_MWh'] = get_demand_within_distance(latitude,longitude,demand_within_distance=50,unit=unit)    "
   ]
  },
  {
   "cell_type": "code",
   "execution_count": 14,
   "id": "d052e71c",
   "metadata": {},
   "outputs": [],
   "source": [
    "data.to_csv(\"CA_Grid_dataframe_with_existing_solar_farms.csv\",index=False)"
   ]
  },
  {
   "cell_type": "code",
   "execution_count": 13,
   "id": "7c495a72",
   "metadata": {},
   "outputs": [
    {
     "data": {
      "text/plain": [
       "[<matplotlib.lines.Line2D at 0x7f2c83815d20>]"
      ]
     },
     "execution_count": 13,
     "metadata": {},
     "output_type": "execute_result"
    },
    {
     "data": {
      "image/png": "[encoded data removed]",
      "text/plain": [
       "<Figure size 640x480 with 1 Axes>"
      ]
     },
     "metadata": {},
     "output_type": "display_data"
    }
   ],
   "source": [
    "plt.plot(np.array(data['demand_50km_MWh']))\n",
    "plt.plot(np.array(data['demand_20km_MWh']))\n",
    "plt.plot(np.array(data['demand_10km_MWh']))"
   ]
  },
  {
   "cell_type": "code",
   "execution_count": null,
   "id": "978b08ac",
   "metadata": {},
   "outputs": [],
   "source": []
  },
  {
   "cell_type": "markdown",
   "id": "66af4d1b",
   "metadata": {},
   "source": [
    "# ---------------------------- Extra ---------------------------------------"
   ]
  },
  {
   "cell_type": "markdown",
   "id": "7c75b802",
   "metadata": {},
   "source": [
    "# How to get latitudes and longitudes for any city"
   ]
  },
  {
   "cell_type": "code",
   "execution_count": null,
   "id": "83c17d00",
   "metadata": {},
   "outputs": [],
   "source": [
    "import requests\n",
    "\n",
    "city = 'Turlock'\n",
    "country = 'USA'\n",
    "state = 'California'\n",
    "api_url = 'https://api.api-ninjas.com/v1/geocoding?city={}&country={}&state={}'.format(city,country,state)\n",
    "response = requests.get(api_url + city, headers={'X-Api-Key': 'MUFmQYBgNJyE/VmlfN+wNA==aPmARELVzoFWzbT0'})\n",
    "if response.status_code == requests.codes.ok:\n",
    "    print(response.text)\n",
    "else:\n",
    "    print(\"Error:\", response.status_code, response.text)\n",
    "    \n",
    "res = json.loads(response.text)\n",
    "a = ast.literal_eval(str(res[0]))\n",
    "print(a)\n",
    "print()\n",
    "print(a['latitude'],',', a['longitude'])"
   ]
  }
 ],
 "metadata": {
  "kernelspec": {
   "display_name": "Python 3 (ipykernel)",
   "language": "python",
   "name": "python3"
  },
  "language_info": {
   "codemirror_mode": {
    "name": "ipython",
    "version": 3
   },
   "file_extension": ".py",
   "mimetype": "text/x-python",
   "name": "python",
   "nbconvert_exporter": "python",
   "pygments_lexer": "ipython3",
   "version": "3.10.13"
  }
 },
 "nbformat": 4,
 "nbformat_minor": 5
}
