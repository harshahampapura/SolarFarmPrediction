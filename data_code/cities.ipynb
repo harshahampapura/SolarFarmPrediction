{
 "cells": [
  {
   "cell_type": "markdown",
   "metadata": {},
   "source": [
    "### Data downloaded from https://simplemaps.com/data/us-cities"
   ]
  },
  {
   "cell_type": "code",
   "execution_count": 54,
   "metadata": {},
   "outputs": [],
   "source": [
    "import pandas as pd\n",
    "import requests\n",
    "import json \n",
    "import numpy as np\n",
    "import matplotlib.pyplot as pl"
   ]
  },
  {
   "cell_type": "code",
   "execution_count": 55,
   "metadata": {},
   "outputs": [],
   "source": [
    "import os\n",
    "import pickle\n",
    "import geopandas as gpd\n",
    "from shapely.geometry import Polygon, Point"
   ]
  },
  {
   "cell_type": "markdown",
   "metadata": {},
   "source": [
    "### Finding driving distance\n",
    "We use Open Source Routing Machine (OSRM) api to calculate this. \n",
    "\n",
    "http://project-osrm.org/docs/v5.24.0/api/?language=Python#general-options"
   ]
  },
  {
   "cell_type": "code",
   "execution_count": 56,
   "metadata": {},
   "outputs": [],
   "source": [
    "def distance_between(loc1,loc2):\n",
    "\n",
    "    \"\"\"\n",
    "    input:\n",
    "        loc1: source location (lat,long)\n",
    "        loc2: destination location (lat,long)\n",
    "    output:\n",
    "        distance: road distance in Km\n",
    "        duration: time in mins\n",
    "    \"\"\"\n",
    "\n",
    "    r = requests.get(f\"\"\"http://router.project-osrm.org/route/v1/car/{loc1[1]},{loc1[0]};{loc2[1]},{loc2[0]}?overview=false\"\"\")\n",
    "    # print(r.content)\n",
    "    try: \n",
    "        content = json.loads(r.content)['routes'][0]\n",
    "    except: \n",
    "        print(r.content)\n",
    "        return False\n",
    "    distance,duration = content['distance'],content['duration']\n",
    "\n",
    "    return distance/1000, duration/60\n"
   ]
  },
  {
   "cell_type": "code",
   "execution_count": 58,
   "metadata": {},
   "outputs": [],
   "source": [
    "def get_city_data():\n",
    "    final_file = '../data/cities_data/simplemaps_uscities_basicv1.76/uscitites_clean.csv'\n",
    "    if os.path.isfile(final_file):\n",
    "        with open(final_file,'rb') as f:\n",
    "            data = pickle.load(f)\n",
    "        return data\n",
    "    \n",
    "    file_name = 'cities_data/simplemaps_uscities_basicv1.76/uscities.csv'\n",
    "    city_data = pd.read_csv(file_name)\n",
    "    required_cols = ['city','state_id','state_name','county_name','lat','lng','population','density']\n",
    "    city_data_filtered = city_data.filter(required_cols,axis=1)\n",
    "    with open(final_file,'wb') as f:\n",
    "        pickle.dump(city_data_filtered,f)\n",
    "    return city_data_filtered"
   ]
  },
  {
   "cell_type": "code",
   "execution_count": 59,
   "metadata": {},
   "outputs": [],
   "source": [
    "city_data = get_city_data()"
   ]
  },
  {
   "cell_type": "code",
   "execution_count": 61,
   "metadata": {},
   "outputs": [
    {
     "data": {
      "text/html": [
       "<div>\n",
       "<style scoped>\n",
       "    .dataframe tbody tr th:only-of-type {\n",
       "        vertical-align: middle;\n",
       "    }\n",
       "\n",
       "    .dataframe tbody tr th {\n",
       "        vertical-align: top;\n",
       "    }\n",
       "\n",
       "    .dataframe thead th {\n",
       "        text-align: right;\n",
       "    }\n",
       "</style>\n",
       "<table border=\"1\" class=\"dataframe\">\n",
       "  <thead>\n",
       "    <tr style=\"text-align: right;\">\n",
       "      <th></th>\n",
       "      <th>city</th>\n",
       "      <th>state_id</th>\n",
       "      <th>state_name</th>\n",
       "      <th>county_name</th>\n",
       "      <th>lat</th>\n",
       "      <th>lng</th>\n",
       "      <th>population</th>\n",
       "      <th>density</th>\n",
       "    </tr>\n",
       "  </thead>\n",
       "  <tbody>\n",
       "    <tr>\n",
       "      <th>0</th>\n",
       "      <td>New York</td>\n",
       "      <td>NY</td>\n",
       "      <td>New York</td>\n",
       "      <td>Queens</td>\n",
       "      <td>40.6943</td>\n",
       "      <td>-73.9249</td>\n",
       "      <td>18972871</td>\n",
       "      <td>10768.2</td>\n",
       "    </tr>\n",
       "    <tr>\n",
       "      <th>1</th>\n",
       "      <td>Los Angeles</td>\n",
       "      <td>CA</td>\n",
       "      <td>California</td>\n",
       "      <td>Los Angeles</td>\n",
       "      <td>34.1141</td>\n",
       "      <td>-118.4068</td>\n",
       "      <td>12121244</td>\n",
       "      <td>3267.6</td>\n",
       "    </tr>\n",
       "    <tr>\n",
       "      <th>2</th>\n",
       "      <td>Chicago</td>\n",
       "      <td>IL</td>\n",
       "      <td>Illinois</td>\n",
       "      <td>Cook</td>\n",
       "      <td>41.8375</td>\n",
       "      <td>-87.6866</td>\n",
       "      <td>8595181</td>\n",
       "      <td>4576.6</td>\n",
       "    </tr>\n",
       "    <tr>\n",
       "      <th>3</th>\n",
       "      <td>Miami</td>\n",
       "      <td>FL</td>\n",
       "      <td>Florida</td>\n",
       "      <td>Miami-Dade</td>\n",
       "      <td>25.7840</td>\n",
       "      <td>-80.2101</td>\n",
       "      <td>5711945</td>\n",
       "      <td>4945.7</td>\n",
       "    </tr>\n",
       "    <tr>\n",
       "      <th>4</th>\n",
       "      <td>Dallas</td>\n",
       "      <td>TX</td>\n",
       "      <td>Texas</td>\n",
       "      <td>Dallas</td>\n",
       "      <td>32.7935</td>\n",
       "      <td>-96.7667</td>\n",
       "      <td>5668165</td>\n",
       "      <td>1522.2</td>\n",
       "    </tr>\n",
       "    <tr>\n",
       "      <th>...</th>\n",
       "      <td>...</td>\n",
       "      <td>...</td>\n",
       "      <td>...</td>\n",
       "      <td>...</td>\n",
       "      <td>...</td>\n",
       "      <td>...</td>\n",
       "      <td>...</td>\n",
       "      <td>...</td>\n",
       "    </tr>\n",
       "    <tr>\n",
       "      <th>30839</th>\n",
       "      <td>Ironville</td>\n",
       "      <td>PA</td>\n",
       "      <td>Pennsylvania</td>\n",
       "      <td>Blair</td>\n",
       "      <td>40.6586</td>\n",
       "      <td>-78.2155</td>\n",
       "      <td>0</td>\n",
       "      <td>59.2</td>\n",
       "    </tr>\n",
       "    <tr>\n",
       "      <th>30840</th>\n",
       "      <td>Newkirk</td>\n",
       "      <td>NM</td>\n",
       "      <td>New Mexico</td>\n",
       "      <td>Guadalupe</td>\n",
       "      <td>35.0635</td>\n",
       "      <td>-104.2715</td>\n",
       "      <td>0</td>\n",
       "      <td>0.0</td>\n",
       "    </tr>\n",
       "    <tr>\n",
       "      <th>30841</th>\n",
       "      <td>Falcon Village</td>\n",
       "      <td>TX</td>\n",
       "      <td>Texas</td>\n",
       "      <td>Starr</td>\n",
       "      <td>26.5652</td>\n",
       "      <td>-99.1341</td>\n",
       "      <td>0</td>\n",
       "      <td>38.9</td>\n",
       "    </tr>\n",
       "    <tr>\n",
       "      <th>30842</th>\n",
       "      <td>Hidden Lakes</td>\n",
       "      <td>OH</td>\n",
       "      <td>Ohio</td>\n",
       "      <td>Morrow</td>\n",
       "      <td>40.5479</td>\n",
       "      <td>-82.7632</td>\n",
       "      <td>0</td>\n",
       "      <td>18.6</td>\n",
       "    </tr>\n",
       "    <tr>\n",
       "      <th>30843</th>\n",
       "      <td>El Monte Mobile Village</td>\n",
       "      <td>CA</td>\n",
       "      <td>California</td>\n",
       "      <td>Tulare</td>\n",
       "      <td>36.5471</td>\n",
       "      <td>-119.4251</td>\n",
       "      <td>0</td>\n",
       "      <td>155.4</td>\n",
       "    </tr>\n",
       "  </tbody>\n",
       "</table>\n",
       "<p>30844 rows × 8 columns</p>\n",
       "</div>"
      ],
      "text/plain": [
       "                          city state_id    state_name  county_name      lat  \\\n",
       "0                     New York       NY      New York       Queens  40.6943   \n",
       "1                  Los Angeles       CA    California  Los Angeles  34.1141   \n",
       "2                      Chicago       IL      Illinois         Cook  41.8375   \n",
       "3                        Miami       FL       Florida   Miami-Dade  25.7840   \n",
       "4                       Dallas       TX         Texas       Dallas  32.7935   \n",
       "...                        ...      ...           ...          ...      ...   \n",
       "30839                Ironville       PA  Pennsylvania        Blair  40.6586   \n",
       "30840                  Newkirk       NM    New Mexico    Guadalupe  35.0635   \n",
       "30841           Falcon Village       TX         Texas        Starr  26.5652   \n",
       "30842             Hidden Lakes       OH          Ohio       Morrow  40.5479   \n",
       "30843  El Monte Mobile Village       CA    California       Tulare  36.5471   \n",
       "\n",
       "            lng  population  density  \n",
       "0      -73.9249    18972871  10768.2  \n",
       "1     -118.4068    12121244   3267.6  \n",
       "2      -87.6866     8595181   4576.6  \n",
       "3      -80.2101     5711945   4945.7  \n",
       "4      -96.7667     5668165   1522.2  \n",
       "...         ...         ...      ...  \n",
       "30839  -78.2155           0     59.2  \n",
       "30840 -104.2715           0      0.0  \n",
       "30841  -99.1341           0     38.9  \n",
       "30842  -82.7632           0     18.6  \n",
       "30843 -119.4251           0    155.4  \n",
       "\n",
       "[30844 rows x 8 columns]"
      ]
     },
     "execution_count": 61,
     "metadata": {},
     "output_type": "execute_result"
    }
   ],
   "source": [
    "city_data"
   ]
  },
  {
   "cell_type": "code",
   "execution_count": 62,
   "metadata": {},
   "outputs": [
    {
     "name": "stdout",
     "output_type": "stream",
     "text": [
      "[  34.4285 -119.7202] [  34.1879 -118.3235]\n"
     ]
    },
    {
     "data": {
      "text/plain": [
       "(146.6678, 109.50333333333333)"
      ]
     },
     "execution_count": 62,
     "metadata": {},
     "output_type": "execute_result"
    }
   ],
   "source": [
    "loc1= (city_data.loc[city_data['city']==\"Santa Barbara\"][['lat','lng']]).values[0]\n",
    "loc2 = (city_data.loc[city_data['city']==\"Burbank\"][['lat','lng']]).values[0]\n",
    "print(loc1,loc2)\n",
    "distance_between(loc1,loc2)"
   ]
  },
  {
   "cell_type": "markdown",
   "metadata": {},
   "source": [
    "### US state grid"
   ]
  },
  {
   "cell_type": "code",
   "execution_count": 63,
   "metadata": {},
   "outputs": [],
   "source": [
    "\n",
    "def state_polygon(state_name):\n",
    "    \"\"\"Returns Polygon of a US state\n",
    "\n",
    "    Args:\n",
    "        state_name (str): US state name\n",
    "\n",
    "    Returns:\n",
    "        polygon: Polygon for the state boundary\n",
    "    \"\"\"\n",
    "    boundaries = pd.read_csv('../data/cities_data/us-state-boundaries.csv',sep=';')\n",
    "    assert state_name in boundaries['name'].values, \"State not in the list\"\n",
    "    \n",
    "    boundaries = boundaries.filter(['name','St Asgeojson'],axis=1)\n",
    "    state = json.loads((boundaries.loc[boundaries['name']==state_name]).values[0][1])\n",
    "    polygon = Polygon(state['coordinates'][0][0])\n",
    "    return polygon\n",
    "\n",
    "def state_grid(state_name,resolution):\n",
    "    \"\"\"creates grid of points inside the state\n",
    "\n",
    "    Args:\n",
    "        state_name (str): name of the US state\n",
    "        resolution (float): distance resolution for the grid (units of miles)\n",
    "    output:\n",
    "        valid_points: list of (latitude,longitude) of points inside the state\n",
    "    \"\"\"\n",
    "\n",
    "    polygon = state_polygon(state_name)\n",
    "    \n",
    "\n",
    "    ## Creating grid points inside the state\n",
    "    x_min,y_min,x_max,y_max = polygon.bounds\n",
    "    lat_dist_per_degree = 111/1.6 #in miles\n",
    "    long_dist_per_degree = np.cos((y_min+y_max)*0.5)*111/1.6 #in miles\n",
    "    resolution_lat = resolution/lat_dist_per_degree\n",
    "    resolution_long = resolution/long_dist_per_degree\n",
    "    gridx_points = np.arange(x_min,x_max,resolution_long)\n",
    "    gridy_points = np.arange(y_min,y_max,resolution_lat)\n",
    "    # print(grid_points[0].flatten(),grid_points[1].flatten())\n",
    "    valid_points = []\n",
    "    invalid_points = []\n",
    "    for x in gridx_points:\n",
    "        for y in gridy_points:\n",
    "            # print(Point(x,y).within(polygon))\n",
    "            if Point(x,y).within(polygon):\n",
    "                valid_points.append((x,y))\n",
    "            else:\n",
    "                invalid_points.append((x,y))\n",
    "    return valid_points, polygon"
   ]
  },
  {
   "cell_type": "code",
   "execution_count": 64,
   "metadata": {},
   "outputs": [],
   "source": [
    "CA_grid, CA_polygon = state_grid('California',25)"
   ]
  },
  {
   "cell_type": "code",
   "execution_count": 65,
   "metadata": {},
   "outputs": [
    {
     "data": {
      "text/plain": [
       "[<matplotlib.collections.PathCollection at 0x168864e80>,\n",
       " <matplotlib.collections.PathCollection at 0x16886a3a0>,\n",
       " <matplotlib.collections.PathCollection at 0x168649c40>,\n",
       " <matplotlib.collections.PathCollection at 0x16886aa90>,\n",
       " <matplotlib.collections.PathCollection at 0x16886af40>,\n",
       " <matplotlib.collections.PathCollection at 0x167c60760>,\n",
       " <matplotlib.collections.PathCollection at 0x1688706a0>,\n",
       " <matplotlib.collections.PathCollection at 0x168870b50>,\n",
       " <matplotlib.collections.PathCollection at 0x168870f70>,\n",
       " <matplotlib.collections.PathCollection at 0x16887b520>,\n",
       " <matplotlib.collections.PathCollection at 0x16887ba00>,\n",
       " <matplotlib.collections.PathCollection at 0x16887bee0>,\n",
       " <matplotlib.collections.PathCollection at 0x16887bfd0>,\n",
       " <matplotlib.collections.PathCollection at 0x168881580>,\n",
       " <matplotlib.collections.PathCollection at 0x168881a60>,\n",
       " <matplotlib.collections.PathCollection at 0x168881f40>,\n",
       " <matplotlib.collections.PathCollection at 0x168893460>,\n",
       " <matplotlib.collections.PathCollection at 0x168893940>,\n",
       " <matplotlib.collections.PathCollection at 0x16887b4c0>,\n",
       " <matplotlib.collections.PathCollection at 0x168893fd0>,\n",
       " <matplotlib.collections.PathCollection at 0x1688974f0>,\n",
       " <matplotlib.collections.PathCollection at 0x1688979d0>,\n",
       " <matplotlib.collections.PathCollection at 0x168897eb0>,\n",
       " <matplotlib.collections.PathCollection at 0x1688a03d0>,\n",
       " <matplotlib.collections.PathCollection at 0x1688a08b0>,\n",
       " <matplotlib.collections.PathCollection at 0x168881ee0>,\n",
       " <matplotlib.collections.PathCollection at 0x1688a0f10>,\n",
       " <matplotlib.collections.PathCollection at 0x1688af430>,\n",
       " <matplotlib.collections.PathCollection at 0x1688af910>,\n",
       " <matplotlib.collections.PathCollection at 0x1688afdf0>,\n",
       " <matplotlib.collections.PathCollection at 0x1688b8310>,\n",
       " <matplotlib.collections.PathCollection at 0x1688af340>,\n",
       " <matplotlib.collections.PathCollection at 0x1688b8a00>,\n",
       " <matplotlib.collections.PathCollection at 0x1688b8ee0>,\n",
       " <matplotlib.collections.PathCollection at 0x1688c6400>,\n",
       " <matplotlib.collections.PathCollection at 0x1688c6940>,\n",
       " <matplotlib.collections.PathCollection at 0x1688c6df0>,\n",
       " <matplotlib.collections.PathCollection at 0x1688cd310>,\n",
       " <matplotlib.collections.PathCollection at 0x1688b89a0>,\n",
       " <matplotlib.collections.PathCollection at 0x1688cd6a0>,\n",
       " <matplotlib.collections.PathCollection at 0x1688cdb80>,\n",
       " <matplotlib.collections.PathCollection at 0x1688cdfd0>,\n",
       " <matplotlib.collections.PathCollection at 0x1688db580>,\n",
       " <matplotlib.collections.PathCollection at 0x1688dba60>,\n",
       " <matplotlib.collections.PathCollection at 0x1688cdb50>,\n",
       " <matplotlib.collections.PathCollection at 0x1688dbfd0>,\n",
       " <matplotlib.collections.PathCollection at 0x1688e85e0>,\n",
       " <matplotlib.collections.PathCollection at 0x1688e8ac0>,\n",
       " <matplotlib.collections.PathCollection at 0x1688e8fa0>,\n",
       " <matplotlib.collections.PathCollection at 0x1688f14c0>,\n",
       " <matplotlib.collections.PathCollection at 0x1688f19a0>,\n",
       " <matplotlib.collections.PathCollection at 0x1688e84f0>,\n",
       " <matplotlib.collections.PathCollection at 0x1688f1fa0>,\n",
       " <matplotlib.collections.PathCollection at 0x1688fe5b0>,\n",
       " <matplotlib.collections.PathCollection at 0x1688fea90>,\n",
       " <matplotlib.collections.PathCollection at 0x1688fef70>,\n",
       " <matplotlib.collections.PathCollection at 0x168908490>,\n",
       " <matplotlib.collections.PathCollection at 0x168908970>,\n",
       " <matplotlib.collections.PathCollection at 0x1688e8a90>,\n",
       " <matplotlib.collections.PathCollection at 0x168908fd0>,\n",
       " <matplotlib.collections.PathCollection at 0x1689154f0>,\n",
       " <matplotlib.collections.PathCollection at 0x1689159d0>,\n",
       " <matplotlib.collections.PathCollection at 0x168915eb0>,\n",
       " <matplotlib.collections.PathCollection at 0x1689203d0>,\n",
       " <matplotlib.collections.PathCollection at 0x168915400>,\n",
       " <matplotlib.collections.PathCollection at 0x168920ac0>,\n",
       " <matplotlib.collections.PathCollection at 0x168920fa0>,\n",
       " <matplotlib.collections.PathCollection at 0x16892b4c0>,\n",
       " <matplotlib.collections.PathCollection at 0x16892b9a0>,\n",
       " <matplotlib.collections.PathCollection at 0x16892be80>,\n",
       " <matplotlib.collections.PathCollection at 0x1689363a0>,\n",
       " <matplotlib.collections.PathCollection at 0x1689159a0>,\n",
       " <matplotlib.collections.PathCollection at 0x168936a00>,\n",
       " <matplotlib.collections.PathCollection at 0x168936ee0>,\n",
       " <matplotlib.collections.PathCollection at 0x168940400>,\n",
       " <matplotlib.collections.PathCollection at 0x1689408e0>,\n",
       " <matplotlib.collections.PathCollection at 0x168940dc0>,\n",
       " <matplotlib.collections.PathCollection at 0x168940880>,\n",
       " <matplotlib.collections.PathCollection at 0x16894c4f0>,\n",
       " <matplotlib.collections.PathCollection at 0x16894c9d0>,\n",
       " <matplotlib.collections.PathCollection at 0x16894ceb0>,\n",
       " <matplotlib.collections.PathCollection at 0x1689593d0>,\n",
       " <matplotlib.collections.PathCollection at 0x1689598b0>,\n",
       " <matplotlib.collections.PathCollection at 0x168959d90>,\n",
       " <matplotlib.collections.PathCollection at 0x1689593a0>,\n",
       " <matplotlib.collections.PathCollection at 0x168968430>,\n",
       " <matplotlib.collections.PathCollection at 0x168968910>,\n",
       " <matplotlib.collections.PathCollection at 0x168968df0>,\n",
       " <matplotlib.collections.PathCollection at 0x168974310>,\n",
       " <matplotlib.collections.PathCollection at 0x1689747f0>,\n",
       " <matplotlib.collections.PathCollection at 0x168968340>,\n",
       " <matplotlib.collections.PathCollection at 0x168974ee0>,\n",
       " <matplotlib.collections.PathCollection at 0x168982400>,\n",
       " <matplotlib.collections.PathCollection at 0x1689828e0>,\n",
       " <matplotlib.collections.PathCollection at 0x168982dc0>,\n",
       " <matplotlib.collections.PathCollection at 0x16898c2e0>,\n",
       " <matplotlib.collections.PathCollection at 0x16898c7c0>,\n",
       " <matplotlib.collections.PathCollection at 0x1689688e0>,\n",
       " <matplotlib.collections.PathCollection at 0x16898ce20>,\n",
       " <matplotlib.collections.PathCollection at 0x16899d340>,\n",
       " <matplotlib.collections.PathCollection at 0x16899d820>,\n",
       " <matplotlib.collections.PathCollection at 0x16899dd00>,\n",
       " <matplotlib.collections.PathCollection at 0x1689a4220>,\n",
       " <matplotlib.collections.PathCollection at 0x16899d250>,\n",
       " <matplotlib.collections.PathCollection at 0x1689a4910>,\n",
       " <matplotlib.collections.PathCollection at 0x1689a4df0>,\n",
       " <matplotlib.collections.PathCollection at 0x1689b5310>,\n",
       " <matplotlib.collections.PathCollection at 0x1689b57f0>,\n",
       " <matplotlib.collections.PathCollection at 0x1689b5cd0>,\n",
       " <matplotlib.collections.PathCollection at 0x1689c21f0>,\n",
       " <matplotlib.collections.PathCollection at 0x16899d7f0>,\n",
       " <matplotlib.collections.PathCollection at 0x1689c2850>,\n",
       " <matplotlib.collections.PathCollection at 0x1689c2d30>,\n",
       " <matplotlib.collections.PathCollection at 0x1689ce250>,\n",
       " <matplotlib.collections.PathCollection at 0x1689ce730>,\n",
       " <matplotlib.collections.PathCollection at 0x1689cec10>,\n",
       " <matplotlib.collections.PathCollection at 0x1689ce1f0>,\n",
       " <matplotlib.collections.PathCollection at 0x168959d60>,\n",
       " <matplotlib.collections.PathCollection at 0x1689df1f0>,\n",
       " <matplotlib.collections.PathCollection at 0x1689df6d0>,\n",
       " <matplotlib.collections.PathCollection at 0x1689dfbb0>,\n",
       " <matplotlib.collections.PathCollection at 0x1689dffa0>,\n",
       " <matplotlib.collections.PathCollection at 0x1689ec5b0>,\n",
       " <matplotlib.collections.PathCollection at 0x1689df670>,\n",
       " <matplotlib.collections.PathCollection at 0x1689ecc10>,\n",
       " <matplotlib.collections.PathCollection at 0x1689fa130>,\n",
       " <matplotlib.collections.PathCollection at 0x1689fa610>,\n",
       " <matplotlib.collections.PathCollection at 0x1689faaf0>,\n",
       " <matplotlib.collections.PathCollection at 0x1689fafd0>,\n",
       " <matplotlib.collections.PathCollection at 0x168a064f0>,\n",
       " <matplotlib.collections.PathCollection at 0x1689df6a0>,\n",
       " <matplotlib.collections.PathCollection at 0x168a06b50>,\n",
       " <matplotlib.collections.PathCollection at 0x168a06fa0>,\n",
       " <matplotlib.collections.PathCollection at 0x168a14550>,\n",
       " <matplotlib.collections.PathCollection at 0x168a14a30>,\n",
       " <matplotlib.collections.PathCollection at 0x168a14f10>,\n",
       " <matplotlib.collections.PathCollection at 0x168a14520>,\n",
       " <matplotlib.collections.PathCollection at 0x168a20640>,\n",
       " <matplotlib.collections.PathCollection at 0x168a20b20>,\n",
       " <matplotlib.collections.PathCollection at 0x168a20f70>,\n",
       " <matplotlib.collections.PathCollection at 0x168a2c520>,\n",
       " <matplotlib.collections.PathCollection at 0x168a2ca00>,\n",
       " <matplotlib.collections.PathCollection at 0x168a20550>,\n",
       " <matplotlib.collections.PathCollection at 0x168a3b130>,\n",
       " <matplotlib.collections.PathCollection at 0x168a3b610>,\n",
       " <matplotlib.collections.PathCollection at 0x168a3baf0>,\n",
       " <matplotlib.collections.PathCollection at 0x168a3bfd0>,\n",
       " <matplotlib.collections.PathCollection at 0x168a494f0>,\n",
       " <matplotlib.collections.PathCollection at 0x168a499d0>,\n",
       " <matplotlib.collections.PathCollection at 0x168a49b50>,\n",
       " <matplotlib.collections.PathCollection at 0x168a49fa0>,\n",
       " <matplotlib.collections.PathCollection at 0x168a57550>,\n",
       " <matplotlib.collections.PathCollection at 0x168a57a30>,\n",
       " <matplotlib.collections.PathCollection at 0x168a57f10>,\n",
       " <matplotlib.collections.PathCollection at 0x168a63430>,\n",
       " <matplotlib.collections.PathCollection at 0x168a57520>,\n",
       " <matplotlib.collections.PathCollection at 0x168a63b20>,\n",
       " <matplotlib.collections.PathCollection at 0x168a63f70>,\n",
       " <matplotlib.collections.PathCollection at 0x168a70520>,\n",
       " <matplotlib.collections.PathCollection at 0x168a70a00>,\n",
       " <matplotlib.collections.PathCollection at 0x168a70ee0>,\n",
       " <matplotlib.collections.PathCollection at 0x168a70430>,\n",
       " <matplotlib.collections.PathCollection at 0x168a7d610>,\n",
       " <matplotlib.collections.PathCollection at 0x168a7daf0>,\n",
       " <matplotlib.collections.PathCollection at 0x168a7dfd0>,\n",
       " <matplotlib.collections.PathCollection at 0x168a8c4f0>,\n",
       " <matplotlib.collections.PathCollection at 0x168a8c9d0>,\n",
       " <matplotlib.collections.PathCollection at 0x168a7dac0>,\n",
       " <matplotlib.collections.PathCollection at 0x168a8cfa0>,\n",
       " <matplotlib.collections.PathCollection at 0x168a9a550>,\n",
       " <matplotlib.collections.PathCollection at 0x168a9aa30>,\n",
       " <matplotlib.collections.PathCollection at 0x168a9af10>,\n",
       " <matplotlib.collections.PathCollection at 0x168aa5430>,\n",
       " <matplotlib.collections.PathCollection at 0x168aa5910>,\n",
       " <matplotlib.collections.PathCollection at 0x168aa53d0>,\n",
       " <matplotlib.collections.PathCollection at 0x168aa5f70>,\n",
       " <matplotlib.collections.PathCollection at 0x168ab4520>,\n",
       " <matplotlib.collections.PathCollection at 0x168ab4a00>,\n",
       " <matplotlib.collections.PathCollection at 0x168ab4ee0>,\n",
       " <matplotlib.collections.PathCollection at 0x168abf400>,\n",
       " <matplotlib.collections.PathCollection at 0x168ab4430>,\n",
       " <matplotlib.collections.PathCollection at 0x168abfaf0>,\n",
       " <matplotlib.collections.PathCollection at 0x168abffd0>,\n",
       " <matplotlib.collections.PathCollection at 0x168acf4f0>,\n",
       " <matplotlib.collections.PathCollection at 0x168acf9d0>,\n",
       " <matplotlib.collections.PathCollection at 0x168acfeb0>,\n",
       " <matplotlib.collections.PathCollection at 0x168acf8e0>,\n",
       " <matplotlib.collections.PathCollection at 0x168ad95e0>,\n",
       " <matplotlib.collections.PathCollection at 0x168ad9ac0>,\n",
       " <matplotlib.collections.PathCollection at 0x168ad9fa0>,\n",
       " <matplotlib.collections.PathCollection at 0x168ae84c0>,\n",
       " <matplotlib.collections.PathCollection at 0x168ae89a0>,\n",
       " <matplotlib.collections.PathCollection at 0x168ae8e80>,\n",
       " <matplotlib.collections.PathCollection at 0x168aa58b0>,\n",
       " <matplotlib.collections.PathCollection at 0x168ae8490>,\n",
       " <matplotlib.collections.PathCollection at 0x168afa3d0>,\n",
       " <matplotlib.collections.PathCollection at 0x168afa8b0>,\n",
       " <matplotlib.collections.PathCollection at 0x168afad90>,\n",
       " <matplotlib.collections.PathCollection at 0x168b042b0>,\n",
       " <matplotlib.collections.PathCollection at 0x168afa2e0>,\n",
       " <matplotlib.collections.PathCollection at 0x168b049a0>,\n",
       " <matplotlib.collections.PathCollection at 0x168b04e80>,\n",
       " <matplotlib.collections.PathCollection at 0x168b113a0>,\n",
       " <matplotlib.collections.PathCollection at 0x168b11880>,\n",
       " <matplotlib.collections.PathCollection at 0x168b11d60>,\n",
       " <matplotlib.collections.PathCollection at 0x168b11850>,\n",
       " <matplotlib.collections.PathCollection at 0x168b1f400>,\n",
       " <matplotlib.collections.PathCollection at 0x168b1f8e0>,\n",
       " <matplotlib.collections.PathCollection at 0x168b1fdc0>,\n",
       " <matplotlib.collections.PathCollection at 0x168b2a2e0>,\n",
       " <matplotlib.collections.PathCollection at 0x168b2a7c0>,\n",
       " <matplotlib.collections.PathCollection at 0x168b2aca0>,\n",
       " <matplotlib.collections.PathCollection at 0x168b2a280>,\n",
       " <matplotlib.collections.PathCollection at 0x168b3c3d0>,\n",
       " <matplotlib.collections.PathCollection at 0x168b3c8b0>,\n",
       " <matplotlib.collections.PathCollection at 0x168b3cd90>,\n",
       " <matplotlib.collections.PathCollection at 0x168b482b0>,\n",
       " <matplotlib.collections.PathCollection at 0x168b48790>,\n",
       " <matplotlib.collections.PathCollection at 0x168b3c2e0>,\n",
       " <matplotlib.collections.PathCollection at 0x168b48e80>,\n",
       " <matplotlib.collections.PathCollection at 0x168b553a0>,\n",
       " <matplotlib.collections.PathCollection at 0x168b55880>,\n",
       " <matplotlib.collections.PathCollection at 0x168b55d60>,\n",
       " <matplotlib.collections.PathCollection at 0x168b5f280>,\n",
       " <matplotlib.collections.PathCollection at 0x168b552b0>,\n",
       " <matplotlib.collections.PathCollection at 0x168b5f970>,\n",
       " <matplotlib.collections.PathCollection at 0x168b5fe50>,\n",
       " <matplotlib.collections.PathCollection at 0x168b6f370>,\n",
       " <matplotlib.collections.PathCollection at 0x168b6f850>,\n",
       " <matplotlib.collections.PathCollection at 0x168b6fd30>,\n",
       " <matplotlib.collections.PathCollection at 0x168b7b250>,\n",
       " <matplotlib.collections.PathCollection at 0x168b7b3d0>,\n",
       " <matplotlib.collections.PathCollection at 0x168b7b8b0>,\n",
       " <matplotlib.collections.PathCollection at 0x168b7bd90>,\n",
       " <matplotlib.collections.PathCollection at 0x168b882b0>,\n",
       " <matplotlib.collections.PathCollection at 0x168b88790>,\n",
       " <matplotlib.collections.PathCollection at 0x168b88c70>,\n",
       " <matplotlib.collections.PathCollection at 0x168b7b3a0>,\n",
       " <matplotlib.collections.PathCollection at 0x168b963a0>,\n",
       " <matplotlib.collections.PathCollection at 0x168b96880>,\n",
       " <matplotlib.collections.PathCollection at 0x168b96d60>,\n",
       " <matplotlib.collections.PathCollection at 0x168ba3280>,\n",
       " <matplotlib.collections.PathCollection at 0x168ba3760>,\n",
       " <matplotlib.collections.PathCollection at 0x168b962b0>,\n",
       " <matplotlib.collections.PathCollection at 0x168ba3e50>,\n",
       " <matplotlib.collections.PathCollection at 0x168bb0370>,\n",
       " <matplotlib.collections.PathCollection at 0x168bb0850>,\n",
       " <matplotlib.collections.PathCollection at 0x168bb0d30>,\n",
       " <matplotlib.collections.PathCollection at 0x168bbb250>,\n",
       " <matplotlib.collections.PathCollection at 0x168bb0820>,\n",
       " <matplotlib.collections.PathCollection at 0x168bbb8b0>,\n",
       " <matplotlib.collections.PathCollection at 0x168bbbd90>,\n",
       " <matplotlib.collections.PathCollection at 0x168bcb2b0>,\n",
       " <matplotlib.collections.PathCollection at 0x168bcb790>,\n",
       " <matplotlib.collections.PathCollection at 0x168bcbc70>,\n",
       " <matplotlib.collections.PathCollection at 0x168bd8190>,\n",
       " <matplotlib.collections.PathCollection at 0x168bbb850>,\n",
       " <matplotlib.collections.PathCollection at 0x168bd8880>,\n",
       " <matplotlib.collections.PathCollection at 0x168bd8d60>,\n",
       " <matplotlib.collections.PathCollection at 0x168be6280>,\n",
       " <matplotlib.collections.PathCollection at 0x168be6760>,\n",
       " <matplotlib.collections.PathCollection at 0x168be6c40>,\n",
       " <matplotlib.collections.PathCollection at 0x168be6190>,\n",
       " <matplotlib.collections.PathCollection at 0x168bf3370>,\n",
       " <matplotlib.collections.PathCollection at 0x168bf3850>,\n",
       " <matplotlib.collections.PathCollection at 0x168bf3d30>,\n",
       " <matplotlib.collections.PathCollection at 0x168bff250>,\n",
       " <matplotlib.collections.PathCollection at 0x168bff730>,\n",
       " <matplotlib.collections.PathCollection at 0x168bf3280>,\n",
       " <matplotlib.collections.PathCollection at 0x168b5f220>,\n",
       " <matplotlib.collections.PathCollection at 0x168bffcd0>,\n",
       " <matplotlib.collections.PathCollection at 0x168c0e1f0>,\n",
       " <matplotlib.collections.PathCollection at 0x168c0e6d0>,\n",
       " <matplotlib.collections.PathCollection at 0x168c0ebb0>,\n",
       " <matplotlib.collections.PathCollection at 0x168c0efa0>,\n",
       " <matplotlib.collections.PathCollection at 0x168bffc70>,\n",
       " <matplotlib.collections.PathCollection at 0x168c20730>,\n",
       " <matplotlib.collections.PathCollection at 0x168c20c10>,\n",
       " <matplotlib.collections.PathCollection at 0x168c2e130>,\n",
       " <matplotlib.collections.PathCollection at 0x168c2e610>,\n",
       " <matplotlib.collections.PathCollection at 0x168c2eaf0>,\n",
       " <matplotlib.collections.PathCollection at 0x168c206d0>,\n",
       " <matplotlib.collections.PathCollection at 0x168c3a220>,\n",
       " <matplotlib.collections.PathCollection at 0x168c3a700>,\n",
       " <matplotlib.collections.PathCollection at 0x168c3abe0>,\n",
       " <matplotlib.collections.PathCollection at 0x168c3afd0>,\n",
       " <matplotlib.collections.PathCollection at 0x168c475e0>,\n",
       " <matplotlib.collections.PathCollection at 0x168c3a610>,\n",
       " <matplotlib.collections.PathCollection at 0x168c47c40>,\n",
       " <matplotlib.collections.PathCollection at 0x168c53160>,\n",
       " <matplotlib.collections.PathCollection at 0x168c53670>,\n",
       " <matplotlib.collections.PathCollection at 0x168c53b50>,\n",
       " <matplotlib.collections.PathCollection at 0x168c53fa0>,\n",
       " <matplotlib.collections.PathCollection at 0x168c60550>,\n",
       " <matplotlib.collections.PathCollection at 0x168c47be0>,\n",
       " <matplotlib.collections.PathCollection at 0x168c60c40>,\n",
       " <matplotlib.collections.PathCollection at 0x168c6e160>,\n",
       " <matplotlib.collections.PathCollection at 0x168c6e640>,\n",
       " <matplotlib.collections.PathCollection at 0x168c6eb20>,\n",
       " <matplotlib.collections.PathCollection at 0x168c6ef70>,\n",
       " <matplotlib.collections.PathCollection at 0x168c6e070>]"
      ]
     },
     "execution_count": 65,
     "metadata": {},
     "output_type": "execute_result"
    },
    {
     "data": {
      "image/png": "[encoded data removed]",
      "text/plain": [
       "<Figure size 640x480 with 1 Axes>"
      ]
     },
     "metadata": {},
     "output_type": "display_data"
    }
   ],
   "source": [
    "colors = ['blue','red']\n",
    "pl.plot(*CA_polygon.exterior.xy)\n",
    "[pl.scatter(p[0],p[1],color='blue') for p in CA_grid]\n",
    "# [pl.scatter(*p,color='red') for p in invalid_points]\n",
    "\n"
   ]
  },
  {
   "cell_type": "code",
   "execution_count": 66,
   "metadata": {},
   "outputs": [
    {
     "data": {
      "text/plain": [
       "301"
      ]
     },
     "execution_count": 66,
     "metadata": {},
     "output_type": "execute_result"
    }
   ],
   "source": [
    "len(CA_grid) #total number of grid points"
   ]
  },
  {
   "cell_type": "markdown",
   "metadata": {},
   "source": [
    "## Driving distance to cities"
   ]
  },
  {
   "cell_type": "code",
   "execution_count": 67,
   "metadata": {},
   "outputs": [],
   "source": [
    "state_name = 'California'\n",
    "cities = (city_data[city_data['state_name']==state_name].reset_index(drop=True)).copy(deep=True)\n",
    "cities.sort_values(by='population',ascending=False,inplace=True)\n",
    "population_threshold = 80000\n",
    "cities = cities.loc[cities['population']>population_threshold]"
   ]
  },
  {
   "cell_type": "code",
   "execution_count": 68,
   "metadata": {},
   "outputs": [
    {
     "data": {
      "text/html": [
       "<div>\n",
       "<style scoped>\n",
       "    .dataframe tbody tr th:only-of-type {\n",
       "        vertical-align: middle;\n",
       "    }\n",
       "\n",
       "    .dataframe tbody tr th {\n",
       "        vertical-align: top;\n",
       "    }\n",
       "\n",
       "    .dataframe thead th {\n",
       "        text-align: right;\n",
       "    }\n",
       "</style>\n",
       "<table border=\"1\" class=\"dataframe\">\n",
       "  <thead>\n",
       "    <tr style=\"text-align: right;\">\n",
       "      <th></th>\n",
       "      <th>city</th>\n",
       "      <th>state_id</th>\n",
       "      <th>state_name</th>\n",
       "      <th>county_name</th>\n",
       "      <th>lat</th>\n",
       "      <th>lng</th>\n",
       "      <th>population</th>\n",
       "      <th>density</th>\n",
       "    </tr>\n",
       "  </thead>\n",
       "  <tbody>\n",
       "    <tr>\n",
       "      <th>0</th>\n",
       "      <td>Los Angeles</td>\n",
       "      <td>CA</td>\n",
       "      <td>California</td>\n",
       "      <td>Los Angeles</td>\n",
       "      <td>34.1141</td>\n",
       "      <td>-118.4068</td>\n",
       "      <td>12121244</td>\n",
       "      <td>3267.6</td>\n",
       "    </tr>\n",
       "    <tr>\n",
       "      <th>1</th>\n",
       "      <td>San Francisco</td>\n",
       "      <td>CA</td>\n",
       "      <td>California</td>\n",
       "      <td>San Francisco</td>\n",
       "      <td>37.7558</td>\n",
       "      <td>-122.4449</td>\n",
       "      <td>3290197</td>\n",
       "      <td>7199.4</td>\n",
       "    </tr>\n",
       "    <tr>\n",
       "      <th>2</th>\n",
       "      <td>San Diego</td>\n",
       "      <td>CA</td>\n",
       "      <td>California</td>\n",
       "      <td>San Diego</td>\n",
       "      <td>32.8313</td>\n",
       "      <td>-117.1222</td>\n",
       "      <td>3084174</td>\n",
       "      <td>1675.9</td>\n",
       "    </tr>\n",
       "    <tr>\n",
       "      <th>3</th>\n",
       "      <td>Riverside</td>\n",
       "      <td>CA</td>\n",
       "      <td>California</td>\n",
       "      <td>Riverside</td>\n",
       "      <td>33.9381</td>\n",
       "      <td>-117.3949</td>\n",
       "      <td>2022285</td>\n",
       "      <td>1557.0</td>\n",
       "    </tr>\n",
       "    <tr>\n",
       "      <th>4</th>\n",
       "      <td>Sacramento</td>\n",
       "      <td>CA</td>\n",
       "      <td>California</td>\n",
       "      <td>Sacramento</td>\n",
       "      <td>38.5677</td>\n",
       "      <td>-121.4685</td>\n",
       "      <td>1924167</td>\n",
       "      <td>1971.3</td>\n",
       "    </tr>\n",
       "    <tr>\n",
       "      <th>...</th>\n",
       "      <td>...</td>\n",
       "      <td>...</td>\n",
       "      <td>...</td>\n",
       "      <td>...</td>\n",
       "      <td>...</td>\n",
       "      <td>...</td>\n",
       "      <td>...</td>\n",
       "      <td>...</td>\n",
       "    </tr>\n",
       "    <tr>\n",
       "      <th>111</th>\n",
       "      <td>Redwood City</td>\n",
       "      <td>CA</td>\n",
       "      <td>California</td>\n",
       "      <td>San Mateo</td>\n",
       "      <td>37.5025</td>\n",
       "      <td>-122.2253</td>\n",
       "      <td>83905</td>\n",
       "      <td>1687.6</td>\n",
       "    </tr>\n",
       "    <tr>\n",
       "      <th>112</th>\n",
       "      <td>Alhambra</td>\n",
       "      <td>CA</td>\n",
       "      <td>California</td>\n",
       "      <td>Los Angeles</td>\n",
       "      <td>34.0840</td>\n",
       "      <td>-118.1355</td>\n",
       "      <td>83174</td>\n",
       "      <td>4275.8</td>\n",
       "    </tr>\n",
       "    <tr>\n",
       "      <th>113</th>\n",
       "      <td>Madera</td>\n",
       "      <td>CA</td>\n",
       "      <td>California</td>\n",
       "      <td>Madera</td>\n",
       "      <td>36.9630</td>\n",
       "      <td>-120.0778</td>\n",
       "      <td>82772</td>\n",
       "      <td>1536.8</td>\n",
       "    </tr>\n",
       "    <tr>\n",
       "      <th>114</th>\n",
       "      <td>Lakewood</td>\n",
       "      <td>CA</td>\n",
       "      <td>California</td>\n",
       "      <td>Los Angeles</td>\n",
       "      <td>33.8471</td>\n",
       "      <td>-118.1222</td>\n",
       "      <td>82419</td>\n",
       "      <td>3272.3</td>\n",
       "    </tr>\n",
       "    <tr>\n",
       "      <th>115</th>\n",
       "      <td>Mountain View</td>\n",
       "      <td>CA</td>\n",
       "      <td>California</td>\n",
       "      <td>Santa Clara</td>\n",
       "      <td>37.4001</td>\n",
       "      <td>-122.0796</td>\n",
       "      <td>82409</td>\n",
       "      <td>2586.4</td>\n",
       "    </tr>\n",
       "  </tbody>\n",
       "</table>\n",
       "<p>116 rows × 8 columns</p>\n",
       "</div>"
      ],
      "text/plain": [
       "              city state_id  state_name    county_name      lat       lng  \\\n",
       "0      Los Angeles       CA  California    Los Angeles  34.1141 -118.4068   \n",
       "1    San Francisco       CA  California  San Francisco  37.7558 -122.4449   \n",
       "2        San Diego       CA  California      San Diego  32.8313 -117.1222   \n",
       "3        Riverside       CA  California      Riverside  33.9381 -117.3949   \n",
       "4       Sacramento       CA  California     Sacramento  38.5677 -121.4685   \n",
       "..             ...      ...         ...            ...      ...       ...   \n",
       "111   Redwood City       CA  California      San Mateo  37.5025 -122.2253   \n",
       "112       Alhambra       CA  California    Los Angeles  34.0840 -118.1355   \n",
       "113         Madera       CA  California         Madera  36.9630 -120.0778   \n",
       "114       Lakewood       CA  California    Los Angeles  33.8471 -118.1222   \n",
       "115  Mountain View       CA  California    Santa Clara  37.4001 -122.0796   \n",
       "\n",
       "     population  density  \n",
       "0      12121244   3267.6  \n",
       "1       3290197   7199.4  \n",
       "2       3084174   1675.9  \n",
       "3       2022285   1557.0  \n",
       "4       1924167   1971.3  \n",
       "..          ...      ...  \n",
       "111       83905   1687.6  \n",
       "112       83174   4275.8  \n",
       "113       82772   1536.8  \n",
       "114       82419   3272.3  \n",
       "115       82409   2586.4  \n",
       "\n",
       "[116 rows x 8 columns]"
      ]
     },
     "execution_count": 68,
     "metadata": {},
     "output_type": "execute_result"
    }
   ],
   "source": [
    "cities"
   ]
  },
  {
   "cell_type": "code",
   "execution_count": 75,
   "metadata": {},
   "outputs": [],
   "source": [
    "def distance_from_cities(lat,lng,radii=None):\n",
    "    \"\"\"Generate driving distance of a point from major cities in a state\n",
    "\n",
    "    Args:\n",
    "        lat (float): latitude of the location \n",
    "        lng (float): longitude of the location\n",
    "        radii (float, optional): Threshold for the distance in miles. Defaults to None. This is obsolete in the current version\n",
    "\n",
    "    Returns:\n",
    "        distance_list: distance of to all cities within the radii\n",
    "        population_list: population of cities within the radii\n",
    "    \"\"\"\n",
    "    distance_list = []\n",
    "    population_list = []\n",
    "    city_name_list = []\n",
    "    city_loc_list = []\n",
    "    totol_pop = 0\n",
    "\n",
    "    if radii is None:\n",
    "        radii = 100000000 # some random value which is not possible in physical scenario\n",
    "    lat_radii = radii/(111/1.6) # in miles\n",
    "    lng_radii = abs(radii/(111*np.cos(lat)/1.6)) #in miles\n",
    "    \n",
    "    city_locs = cities[['lng','lat']].values\n",
    "    city_names = cities['city'].values\n",
    "    city_pop = cities['population'].values\n",
    "    \n",
    "    \n",
    "    dist_in_degrees = np.abs(city_locs - np.array([lng,lat]).reshape((1,2)))\n",
    "    dist_in_degrees = np.sum(np.abs(dist_in_degrees[:]),axis=-1)    \n",
    "    sorted_indices = dist_in_degrees.argsort()\n",
    "\n",
    "    # sorting cities according to the distance from the location\n",
    "    city_locs = city_locs[sorted_indices]\n",
    "    city_names = city_names[sorted_indices]\n",
    "    city_pop = city_pop[sorted_indices]\n",
    "\n",
    "    # for index,city in cities.iterrows():\n",
    "    for i,city in enumerate(city_locs):\n",
    "\n",
    "        city_lng,city_lat = city[0],city[1]\n",
    "        result = distance_between((lat,lng),(city_lat,city_lng))\n",
    "        if not result:\n",
    "            return False\n",
    "        else:\n",
    "            dist,_ = result\n",
    "        distance_list.append(dist)\n",
    "        city_loc_list.append((city_lat,city_lng))\n",
    "        city_name_list.append(city_names[i])\n",
    "        population_list.append(city_pop[i])\n",
    "        totol_pop += population_list[-1]\n",
    "        if totol_pop > 100000:\n",
    "            break\n",
    "    \n",
    "    index = list(range(len(distance_list)))\n",
    "    index = sorted(index,key=lambda x:distance_list[x])\n",
    "    distance_list = [distance_list[x] for x in index]\n",
    "    population_list = [population_list[x] for x in index]\n",
    "    city_loc_list = [city_loc_list[x] for x in index]\n",
    "    city_name_list = [city_name_list[x] for x in index]\n",
    "\n",
    "    return distance_list, population_list, city_name_list, city_loc_list"
   ]
  },
  {
   "cell_type": "code",
   "execution_count": 70,
   "metadata": {},
   "outputs": [
    {
     "data": {
      "text/html": [
       "<div>\n",
       "<style scoped>\n",
       "    .dataframe tbody tr th:only-of-type {\n",
       "        vertical-align: middle;\n",
       "    }\n",
       "\n",
       "    .dataframe tbody tr th {\n",
       "        vertical-align: top;\n",
       "    }\n",
       "\n",
       "    .dataframe thead th {\n",
       "        text-align: right;\n",
       "    }\n",
       "</style>\n",
       "<table border=\"1\" class=\"dataframe\">\n",
       "  <thead>\n",
       "    <tr style=\"text-align: right;\">\n",
       "      <th></th>\n",
       "      <th>lat</th>\n",
       "      <th>lon</th>\n",
       "      <th>Solar_farm_present</th>\n",
       "      <th>State</th>\n",
       "      <th>panel.area</th>\n",
       "      <th>power</th>\n",
       "      <th>panels</th>\n",
       "      <th>landscape.area</th>\n",
       "      <th>water</th>\n",
       "      <th>urban</th>\n",
       "      <th>...</th>\n",
       "      <th>solrad_annual</th>\n",
       "      <th>ac_monthly</th>\n",
       "      <th>poa_monthly</th>\n",
       "      <th>solrad_monthly</th>\n",
       "      <th>dc_monthly</th>\n",
       "      <th>ac_annual</th>\n",
       "      <th>demand_5km_MWh</th>\n",
       "      <th>demand_10km_MWh</th>\n",
       "      <th>demand_20km_MWh</th>\n",
       "      <th>demand_50km_MWh</th>\n",
       "    </tr>\n",
       "  </thead>\n",
       "  <tbody>\n",
       "    <tr>\n",
       "      <th>0</th>\n",
       "      <td>41.121933</td>\n",
       "      <td>-124.083541</td>\n",
       "      <td>NaN</td>\n",
       "      <td>CA</td>\n",
       "      <td>NaN</td>\n",
       "      <td>NaN</td>\n",
       "      <td>NaN</td>\n",
       "      <td>NaN</td>\n",
       "      <td>NaN</td>\n",
       "      <td>NaN</td>\n",
       "      <td>...</td>\n",
       "      <td>4.647099</td>\n",
       "      <td>[74220.87028531785, 81853.14136114981, 113785....</td>\n",
       "      <td>[89.71184293662846, 99.27773039711408, 142.244...</td>\n",
       "      <td>[2.893930417310596, 3.54563322846836, 4.588518...</td>\n",
       "      <td>[78072.6330660135, 86028.3788149819, 119490.90...</td>\n",
       "      <td>1.351093e+06</td>\n",
       "      <td>0.0</td>\n",
       "      <td>0.0</td>\n",
       "      <td>0.0</td>\n",
       "      <td>0.0</td>\n",
       "    </tr>\n",
       "    <tr>\n",
       "      <th>1</th>\n",
       "      <td>34.571305</td>\n",
       "      <td>-120.610359</td>\n",
       "      <td>NaN</td>\n",
       "      <td>CA</td>\n",
       "      <td>NaN</td>\n",
       "      <td>NaN</td>\n",
       "      <td>NaN</td>\n",
       "      <td>NaN</td>\n",
       "      <td>NaN</td>\n",
       "      <td>NaN</td>\n",
       "      <td>...</td>\n",
       "      <td>5.449958</td>\n",
       "      <td>[126910.2673240865, 120953.4951399055, 141626....</td>\n",
       "      <td>[157.4086237937431, 149.0061670892798, 176.243...</td>\n",
       "      <td>[5.07769754173365, 5.321648824617137, 5.685276...</td>\n",
       "      <td>[132842.0433185665, 126964.0270624705, 148524....</td>\n",
       "      <td>1.584719e+06</td>\n",
       "      <td>0.0</td>\n",
       "      <td>0.0</td>\n",
       "      <td>0.0</td>\n",
       "      <td>0.0</td>\n",
       "    </tr>\n",
       "    <tr>\n",
       "      <th>2</th>\n",
       "      <td>37.426206</td>\n",
       "      <td>-121.839995</td>\n",
       "      <td>NaN</td>\n",
       "      <td>CA</td>\n",
       "      <td>NaN</td>\n",
       "      <td>NaN</td>\n",
       "      <td>NaN</td>\n",
       "      <td>NaN</td>\n",
       "      <td>NaN</td>\n",
       "      <td>NaN</td>\n",
       "      <td>...</td>\n",
       "      <td>5.776466</td>\n",
       "      <td>[93296.39819471513, 94001.73832147277, 148309....</td>\n",
       "      <td>[115.084787852927, 118.3805626840665, 188.1425...</td>\n",
       "      <td>[3.712412511384743, 4.227877238716659, 6.06911...</td>\n",
       "      <td>[97913.03195989196, 98663.10917491073, 155325....</td>\n",
       "      <td>1.631746e+06</td>\n",
       "      <td>0.0</td>\n",
       "      <td>0.0</td>\n",
       "      <td>4414158.0</td>\n",
       "      <td>5241628.0</td>\n",
       "    </tr>\n",
       "    <tr>\n",
       "      <th>3</th>\n",
       "      <td>33.750032</td>\n",
       "      <td>-117.072459</td>\n",
       "      <td>NaN</td>\n",
       "      <td>CA</td>\n",
       "      <td>NaN</td>\n",
       "      <td>NaN</td>\n",
       "      <td>NaN</td>\n",
       "      <td>NaN</td>\n",
       "      <td>NaN</td>\n",
       "      <td>NaN</td>\n",
       "      <td>...</td>\n",
       "      <td>6.246080</td>\n",
       "      <td>[135309.814274307, 123283.186730356, 151155.07...</td>\n",
       "      <td>[170.4540593143596, 156.1909634208012, 197.380...</td>\n",
       "      <td>[5.498518042398696, 5.578248693600041, 6.36712...</td>\n",
       "      <td>[141635.9382116481, 129010.6773886973, 158297....</td>\n",
       "      <td>1.729305e+06</td>\n",
       "      <td>0.0</td>\n",
       "      <td>0.0</td>\n",
       "      <td>0.0</td>\n",
       "      <td>2857331.0</td>\n",
       "    </tr>\n",
       "    <tr>\n",
       "      <th>4</th>\n",
       "      <td>35.705444</td>\n",
       "      <td>-121.063383</td>\n",
       "      <td>NaN</td>\n",
       "      <td>CA</td>\n",
       "      <td>NaN</td>\n",
       "      <td>NaN</td>\n",
       "      <td>NaN</td>\n",
       "      <td>NaN</td>\n",
       "      <td>NaN</td>\n",
       "      <td>NaN</td>\n",
       "      <td>...</td>\n",
       "      <td>6.172914</td>\n",
       "      <td>[118738.5864463819, 113457.5578228151, 148653....</td>\n",
       "      <td>[145.3158467865841, 140.9581036133796, 186.941...</td>\n",
       "      <td>[4.687607960857552, 5.034217986192131, 6.03037...</td>\n",
       "      <td>[124417.4689334649, 118908.0059730483, 155818....</td>\n",
       "      <td>1.773539e+06</td>\n",
       "      <td>0.0</td>\n",
       "      <td>0.0</td>\n",
       "      <td>0.0</td>\n",
       "      <td>0.0</td>\n",
       "    </tr>\n",
       "    <tr>\n",
       "      <th>...</th>\n",
       "      <td>...</td>\n",
       "      <td>...</td>\n",
       "      <td>...</td>\n",
       "      <td>...</td>\n",
       "      <td>...</td>\n",
       "      <td>...</td>\n",
       "      <td>...</td>\n",
       "      <td>...</td>\n",
       "      <td>...</td>\n",
       "      <td>...</td>\n",
       "      <td>...</td>\n",
       "      <td>...</td>\n",
       "      <td>...</td>\n",
       "      <td>...</td>\n",
       "      <td>...</td>\n",
       "      <td>...</td>\n",
       "      <td>...</td>\n",
       "      <td>...</td>\n",
       "      <td>...</td>\n",
       "      <td>...</td>\n",
       "      <td>...</td>\n",
       "    </tr>\n",
       "    <tr>\n",
       "      <th>995</th>\n",
       "      <td>39.635821</td>\n",
       "      <td>-123.695234</td>\n",
       "      <td>NaN</td>\n",
       "      <td>CA</td>\n",
       "      <td>NaN</td>\n",
       "      <td>NaN</td>\n",
       "      <td>NaN</td>\n",
       "      <td>NaN</td>\n",
       "      <td>NaN</td>\n",
       "      <td>NaN</td>\n",
       "      <td>...</td>\n",
       "      <td>5.284656</td>\n",
       "      <td>[82206.5215781221, 79078.58223682463, 119457.0...</td>\n",
       "      <td>[101.4403464882599, 97.9490161792885, 151.1051...</td>\n",
       "      <td>[3.272269241556772, 3.498179149260304, 4.87436...</td>\n",
       "      <td>[86334.0767633393, 83172.89206218862, 125334.8...</td>\n",
       "      <td>1.497264e+06</td>\n",
       "      <td>0.0</td>\n",
       "      <td>0.0</td>\n",
       "      <td>0.0</td>\n",
       "      <td>0.0</td>\n",
       "    </tr>\n",
       "    <tr>\n",
       "      <th>996</th>\n",
       "      <td>41.063271</td>\n",
       "      <td>-121.192818</td>\n",
       "      <td>NaN</td>\n",
       "      <td>CA</td>\n",
       "      <td>NaN</td>\n",
       "      <td>NaN</td>\n",
       "      <td>NaN</td>\n",
       "      <td>NaN</td>\n",
       "      <td>NaN</td>\n",
       "      <td>NaN</td>\n",
       "      <td>...</td>\n",
       "      <td>5.759330</td>\n",
       "      <td>[99114.67518039557, 102305.487932296, 138174.3...</td>\n",
       "      <td>[118.7602691333396, 124.2157409854216, 172.137...</td>\n",
       "      <td>[3.830976423656115, 4.436276463765057, 5.55283...</td>\n",
       "      <td>[103913.1240378555, 107965.9059896455, 145940....</td>\n",
       "      <td>1.632927e+06</td>\n",
       "      <td>0.0</td>\n",
       "      <td>0.0</td>\n",
       "      <td>0.0</td>\n",
       "      <td>0.0</td>\n",
       "    </tr>\n",
       "    <tr>\n",
       "      <th>997</th>\n",
       "      <td>38.579898</td>\n",
       "      <td>-120.545641</td>\n",
       "      <td>NaN</td>\n",
       "      <td>CA</td>\n",
       "      <td>NaN</td>\n",
       "      <td>NaN</td>\n",
       "      <td>NaN</td>\n",
       "      <td>NaN</td>\n",
       "      <td>NaN</td>\n",
       "      <td>NaN</td>\n",
       "      <td>...</td>\n",
       "      <td>5.939311</td>\n",
       "      <td>[110443.9698609668, 99928.59308818416, 133367....</td>\n",
       "      <td>[136.2651011977622, 125.3747863465937, 169.904...</td>\n",
       "      <td>[4.395648425734264, 4.477670940949776, 5.48078...</td>\n",
       "      <td>[115801.7524074974, 104800.1668133905, 139813....</td>\n",
       "      <td>1.655084e+06</td>\n",
       "      <td>0.0</td>\n",
       "      <td>0.0</td>\n",
       "      <td>0.0</td>\n",
       "      <td>0.0</td>\n",
       "    </tr>\n",
       "    <tr>\n",
       "      <th>998</th>\n",
       "      <td>40.183336</td>\n",
       "      <td>-121.257536</td>\n",
       "      <td>NaN</td>\n",
       "      <td>CA</td>\n",
       "      <td>NaN</td>\n",
       "      <td>NaN</td>\n",
       "      <td>NaN</td>\n",
       "      <td>NaN</td>\n",
       "      <td>NaN</td>\n",
       "      <td>NaN</td>\n",
       "      <td>...</td>\n",
       "      <td>5.875154</td>\n",
       "      <td>[99694.60795598329, 102037.4288268836, 150853....</td>\n",
       "      <td>[124.0439463477292, 129.623619731286, 198.3924...</td>\n",
       "      <td>[4.001417624120297, 4.629414990403072, 6.39975...</td>\n",
       "      <td>[104512.3474230356, 106988.9897269136, 157887....</td>\n",
       "      <td>1.582795e+06</td>\n",
       "      <td>0.0</td>\n",
       "      <td>0.0</td>\n",
       "      <td>0.0</td>\n",
       "      <td>0.0</td>\n",
       "    </tr>\n",
       "    <tr>\n",
       "      <th>999</th>\n",
       "      <td>36.996015</td>\n",
       "      <td>-121.667414</td>\n",
       "      <td>NaN</td>\n",
       "      <td>CA</td>\n",
       "      <td>NaN</td>\n",
       "      <td>NaN</td>\n",
       "      <td>NaN</td>\n",
       "      <td>NaN</td>\n",
       "      <td>NaN</td>\n",
       "      <td>NaN</td>\n",
       "      <td>...</td>\n",
       "      <td>5.773619</td>\n",
       "      <td>[97467.42832721586, 94254.85273617772, 132711....</td>\n",
       "      <td>[122.9374481498102, 121.4921641499893, 173.100...</td>\n",
       "      <td>[3.965724133864844, 4.339005862499619, 5.58389...</td>\n",
       "      <td>[102259.4184944913, 98924.39342907566, 139058....</td>\n",
       "      <td>1.595949e+06</td>\n",
       "      <td>0.0</td>\n",
       "      <td>0.0</td>\n",
       "      <td>0.0</td>\n",
       "      <td>4414158.0</td>\n",
       "    </tr>\n",
       "  </tbody>\n",
       "</table>\n",
       "<p>1000 rows × 24 columns</p>\n",
       "</div>"
      ],
      "text/plain": [
       "           lat         lon  Solar_farm_present State  panel.area  power  \\\n",
       "0    41.121933 -124.083541                 NaN    CA         NaN    NaN   \n",
       "1    34.571305 -120.610359                 NaN    CA         NaN    NaN   \n",
       "2    37.426206 -121.839995                 NaN    CA         NaN    NaN   \n",
       "3    33.750032 -117.072459                 NaN    CA         NaN    NaN   \n",
       "4    35.705444 -121.063383                 NaN    CA         NaN    NaN   \n",
       "..         ...         ...                 ...   ...         ...    ...   \n",
       "995  39.635821 -123.695234                 NaN    CA         NaN    NaN   \n",
       "996  41.063271 -121.192818                 NaN    CA         NaN    NaN   \n",
       "997  38.579898 -120.545641                 NaN    CA         NaN    NaN   \n",
       "998  40.183336 -121.257536                 NaN    CA         NaN    NaN   \n",
       "999  36.996015 -121.667414                 NaN    CA         NaN    NaN   \n",
       "\n",
       "     panels  landscape.area  water  urban  ... solrad_annual  \\\n",
       "0       NaN             NaN    NaN    NaN  ...      4.647099   \n",
       "1       NaN             NaN    NaN    NaN  ...      5.449958   \n",
       "2       NaN             NaN    NaN    NaN  ...      5.776466   \n",
       "3       NaN             NaN    NaN    NaN  ...      6.246080   \n",
       "4       NaN             NaN    NaN    NaN  ...      6.172914   \n",
       "..      ...             ...    ...    ...  ...           ...   \n",
       "995     NaN             NaN    NaN    NaN  ...      5.284656   \n",
       "996     NaN             NaN    NaN    NaN  ...      5.759330   \n",
       "997     NaN             NaN    NaN    NaN  ...      5.939311   \n",
       "998     NaN             NaN    NaN    NaN  ...      5.875154   \n",
       "999     NaN             NaN    NaN    NaN  ...      5.773619   \n",
       "\n",
       "                                            ac_monthly  \\\n",
       "0    [74220.87028531785, 81853.14136114981, 113785....   \n",
       "1    [126910.2673240865, 120953.4951399055, 141626....   \n",
       "2    [93296.39819471513, 94001.73832147277, 148309....   \n",
       "3    [135309.814274307, 123283.186730356, 151155.07...   \n",
       "4    [118738.5864463819, 113457.5578228151, 148653....   \n",
       "..                                                 ...   \n",
       "995  [82206.5215781221, 79078.58223682463, 119457.0...   \n",
       "996  [99114.67518039557, 102305.487932296, 138174.3...   \n",
       "997  [110443.9698609668, 99928.59308818416, 133367....   \n",
       "998  [99694.60795598329, 102037.4288268836, 150853....   \n",
       "999  [97467.42832721586, 94254.85273617772, 132711....   \n",
       "\n",
       "                                           poa_monthly  \\\n",
       "0    [89.71184293662846, 99.27773039711408, 142.244...   \n",
       "1    [157.4086237937431, 149.0061670892798, 176.243...   \n",
       "2    [115.084787852927, 118.3805626840665, 188.1425...   \n",
       "3    [170.4540593143596, 156.1909634208012, 197.380...   \n",
       "4    [145.3158467865841, 140.9581036133796, 186.941...   \n",
       "..                                                 ...   \n",
       "995  [101.4403464882599, 97.9490161792885, 151.1051...   \n",
       "996  [118.7602691333396, 124.2157409854216, 172.137...   \n",
       "997  [136.2651011977622, 125.3747863465937, 169.904...   \n",
       "998  [124.0439463477292, 129.623619731286, 198.3924...   \n",
       "999  [122.9374481498102, 121.4921641499893, 173.100...   \n",
       "\n",
       "                                        solrad_monthly  \\\n",
       "0    [2.893930417310596, 3.54563322846836, 4.588518...   \n",
       "1    [5.07769754173365, 5.321648824617137, 5.685276...   \n",
       "2    [3.712412511384743, 4.227877238716659, 6.06911...   \n",
       "3    [5.498518042398696, 5.578248693600041, 6.36712...   \n",
       "4    [4.687607960857552, 5.034217986192131, 6.03037...   \n",
       "..                                                 ...   \n",
       "995  [3.272269241556772, 3.498179149260304, 4.87436...   \n",
       "996  [3.830976423656115, 4.436276463765057, 5.55283...   \n",
       "997  [4.395648425734264, 4.477670940949776, 5.48078...   \n",
       "998  [4.001417624120297, 4.629414990403072, 6.39975...   \n",
       "999  [3.965724133864844, 4.339005862499619, 5.58389...   \n",
       "\n",
       "                                            dc_monthly     ac_annual  \\\n",
       "0    [78072.6330660135, 86028.3788149819, 119490.90...  1.351093e+06   \n",
       "1    [132842.0433185665, 126964.0270624705, 148524....  1.584719e+06   \n",
       "2    [97913.03195989196, 98663.10917491073, 155325....  1.631746e+06   \n",
       "3    [141635.9382116481, 129010.6773886973, 158297....  1.729305e+06   \n",
       "4    [124417.4689334649, 118908.0059730483, 155818....  1.773539e+06   \n",
       "..                                                 ...           ...   \n",
       "995  [86334.0767633393, 83172.89206218862, 125334.8...  1.497264e+06   \n",
       "996  [103913.1240378555, 107965.9059896455, 145940....  1.632927e+06   \n",
       "997  [115801.7524074974, 104800.1668133905, 139813....  1.655084e+06   \n",
       "998  [104512.3474230356, 106988.9897269136, 157887....  1.582795e+06   \n",
       "999  [102259.4184944913, 98924.39342907566, 139058....  1.595949e+06   \n",
       "\n",
       "    demand_5km_MWh demand_10km_MWh demand_20km_MWh  demand_50km_MWh  \n",
       "0              0.0             0.0             0.0              0.0  \n",
       "1              0.0             0.0             0.0              0.0  \n",
       "2              0.0             0.0       4414158.0        5241628.0  \n",
       "3              0.0             0.0             0.0        2857331.0  \n",
       "4              0.0             0.0             0.0              0.0  \n",
       "..             ...             ...             ...              ...  \n",
       "995            0.0             0.0             0.0              0.0  \n",
       "996            0.0             0.0             0.0              0.0  \n",
       "997            0.0             0.0             0.0              0.0  \n",
       "998            0.0             0.0             0.0              0.0  \n",
       "999            0.0             0.0             0.0        4414158.0  \n",
       "\n",
       "[1000 rows x 24 columns]"
      ]
     },
     "execution_count": 70,
     "metadata": {},
     "output_type": "execute_result"
    }
   ],
   "source": [
    "test = pd.read_csv('../data/ca_data_version_6.csv')\n",
    "test"
   ]
  },
  {
   "cell_type": "code",
   "execution_count": 154,
   "metadata": {},
   "outputs": [],
   "source": [
    "# generating locations list\n",
    "loc_data = pd.read_csv('../data/ca_data_version_12.csv')\n",
    "locations  = loc_data.loc[loc_data['State']=='CA'][['Latitude','Longitude']].values\n",
    "\n",
    "# state_name = 'California' # state to focus on\n",
    "# locations,state_polygon = state_grid(state_name,resolution=25) # change this to change the dataset\n",
    "\n"
   ]
  },
  {
   "cell_type": "code",
   "execution_count": 155,
   "metadata": {},
   "outputs": [
    {
     "data": {
      "text/plain": [
       "5000"
      ]
     },
     "execution_count": 155,
     "metadata": {},
     "output_type": "execute_result"
    }
   ],
   "source": [
    "len(locations)"
   ]
  },
  {
   "cell_type": "code",
   "execution_count": 156,
   "metadata": {},
   "outputs": [
    {
     "data": {
      "text/plain": [
       "(array([  34.08245206, -117.39604782]),\n",
       " [(34.1175, -117.3892)],\n",
       " (644.4552, 455.995))"
      ]
     },
     "execution_count": 156,
     "metadata": {},
     "output_type": "execute_result"
    }
   ],
   "source": [
    "dist_list_100, pop_list_100,name_list_100,loc_list_100 = distance_from_cities(locations[0][0],locations[0][1],radii=100)\n",
    "locations[0],loc_list_100,distance_between(locations[0],(37.4001, -122.0796))"
   ]
  },
  {
   "cell_type": "code",
   "execution_count": 157,
   "metadata": {},
   "outputs": [],
   "source": [
    "df_copy = None"
   ]
  },
  {
   "cell_type": "code",
   "execution_count": 168,
   "metadata": {},
   "outputs": [
    {
     "name": "stdout",
     "output_type": "stream",
     "text": [
      "[  33.24162514 -115.73496093]\n"
     ]
    },
    {
     "name": "stderr",
     "output_type": "stream",
     "text": [
      "/var/folders/tm/g65yh1_d5f3gkpxmzywryqwc0000gn/T/ipykernel_66414/1125395041.py:39: FutureWarning: The frame.append method is deprecated and will be removed from pandas in a future version. Use pandas.concat instead.\n",
      "  df = df.append({'lng':loc[1],'lat':loc[0],'number of cities':int(city_count),'total population':int(population),'min distance':min_distance,'max distance':max_distance,\n"
     ]
    },
    {
     "name": "stdout",
     "output_type": "stream",
     "text": [
      "[  33.65226154 -117.35290271]\n"
     ]
    },
    {
     "name": "stderr",
     "output_type": "stream",
     "text": [
      "/var/folders/tm/g65yh1_d5f3gkpxmzywryqwc0000gn/T/ipykernel_66414/1125395041.py:39: FutureWarning: The frame.append method is deprecated and will be removed from pandas in a future version. Use pandas.concat instead.\n",
      "  df = df.append({'lng':loc[1],'lat':loc[0],'number of cities':int(city_count),'total population':int(population),'min distance':min_distance,'max distance':max_distance,\n"
     ]
    },
    {
     "name": "stdout",
     "output_type": "stream",
     "text": [
      "[  37.660855   -122.24987316]\n"
     ]
    },
    {
     "name": "stderr",
     "output_type": "stream",
     "text": [
      "/var/folders/tm/g65yh1_d5f3gkpxmzywryqwc0000gn/T/ipykernel_66414/1125395041.py:39: FutureWarning: The frame.append method is deprecated and will be removed from pandas in a future version. Use pandas.concat instead.\n",
      "  df = df.append({'lng':loc[1],'lat':loc[0],'number of cities':int(city_count),'total population':int(population),'min distance':min_distance,'max distance':max_distance,\n"
     ]
    },
    {
     "name": "stdout",
     "output_type": "stream",
     "text": [
      "[  34.53219669 -120.58878626]\n"
     ]
    },
    {
     "name": "stderr",
     "output_type": "stream",
     "text": [
      "/var/folders/tm/g65yh1_d5f3gkpxmzywryqwc0000gn/T/ipykernel_66414/1125395041.py:39: FutureWarning: The frame.append method is deprecated and will be removed from pandas in a future version. Use pandas.concat instead.\n",
      "  df = df.append({'lng':loc[1],'lat':loc[0],'number of cities':int(city_count),'total population':int(population),'min distance':min_distance,'max distance':max_distance,\n"
     ]
    },
    {
     "name": "stdout",
     "output_type": "stream",
     "text": [
      "[  33.3198416  -115.71338838]\n"
     ]
    },
    {
     "name": "stderr",
     "output_type": "stream",
     "text": [
      "/var/folders/tm/g65yh1_d5f3gkpxmzywryqwc0000gn/T/ipykernel_66414/1125395041.py:39: FutureWarning: The frame.append method is deprecated and will be removed from pandas in a future version. Use pandas.concat instead.\n",
      "  df = df.append({'lng':loc[1],'lat':loc[0],'number of cities':int(city_count),'total population':int(population),'min distance':min_distance,'max distance':max_distance,\n"
     ]
    },
    {
     "name": "stdout",
     "output_type": "stream",
     "text": [
      "[  37.97372083 -122.42245361]\n"
     ]
    },
    {
     "name": "stderr",
     "output_type": "stream",
     "text": [
      "/var/folders/tm/g65yh1_d5f3gkpxmzywryqwc0000gn/T/ipykernel_66414/1125395041.py:39: FutureWarning: The frame.append method is deprecated and will be removed from pandas in a future version. Use pandas.concat instead.\n",
      "  df = df.append({'lng':loc[1],'lat':loc[0],'number of cities':int(city_count),'total population':int(population),'min distance':min_distance,'max distance':max_distance,\n"
     ]
    },
    {
     "name": "stdout",
     "output_type": "stream",
     "text": [
      "[  40.75040508 -124.25612096]\n"
     ]
    },
    {
     "name": "stderr",
     "output_type": "stream",
     "text": [
      "/var/folders/tm/g65yh1_d5f3gkpxmzywryqwc0000gn/T/ipykernel_66414/1125395041.py:39: FutureWarning: The frame.append method is deprecated and will be removed from pandas in a future version. Use pandas.concat instead.\n",
      "  df = df.append({'lng':loc[1],'lat':loc[0],'number of cities':int(city_count),'total population':int(population),'min distance':min_distance,'max distance':max_distance,\n"
     ]
    },
    {
     "name": "stdout",
     "output_type": "stream",
     "text": [
      "[  38.24747843 -123.06963032]\n"
     ]
    },
    {
     "name": "stderr",
     "output_type": "stream",
     "text": [
      "/var/folders/tm/g65yh1_d5f3gkpxmzywryqwc0000gn/T/ipykernel_66414/1125395041.py:39: FutureWarning: The frame.append method is deprecated and will be removed from pandas in a future version. Use pandas.concat instead.\n",
      "  df = df.append({'lng':loc[1],'lat':loc[0],'number of cities':int(city_count),'total population':int(population),'min distance':min_distance,'max distance':max_distance,\n"
     ]
    },
    {
     "name": "stdout",
     "output_type": "stream",
     "text": [
      "[  39.75314524 -123.22063822]\n"
     ]
    },
    {
     "name": "stderr",
     "output_type": "stream",
     "text": [
      "/var/folders/tm/g65yh1_d5f3gkpxmzywryqwc0000gn/T/ipykernel_66414/1125395041.py:39: FutureWarning: The frame.append method is deprecated and will be removed from pandas in a future version. Use pandas.concat instead.\n",
      "  df = df.append({'lng':loc[1],'lat':loc[0],'number of cities':int(city_count),'total population':int(population),'min distance':min_distance,'max distance':max_distance,\n"
     ]
    },
    {
     "name": "stdout",
     "output_type": "stream",
     "text": [
      "[  36.82002808 -121.81842202]\n"
     ]
    },
    {
     "name": "stderr",
     "output_type": "stream",
     "text": [
      "/var/folders/tm/g65yh1_d5f3gkpxmzywryqwc0000gn/T/ipykernel_66414/1125395041.py:39: FutureWarning: The frame.append method is deprecated and will be removed from pandas in a future version. Use pandas.concat instead.\n",
      "  df = df.append({'lng':loc[1],'lat':loc[0],'number of cities':int(city_count),'total population':int(population),'min distance':min_distance,'max distance':max_distance,\n"
     ]
    },
    {
     "name": "stdout",
     "output_type": "stream",
     "text": [
      "[  39.04919712 -123.71680703]\n"
     ]
    },
    {
     "name": "stderr",
     "output_type": "stream",
     "text": [
      "/var/folders/tm/g65yh1_d5f3gkpxmzywryqwc0000gn/T/ipykernel_66414/1125395041.py:39: FutureWarning: The frame.append method is deprecated and will be removed from pandas in a future version. Use pandas.concat instead.\n",
      "  df = df.append({'lng':loc[1],'lat':loc[0],'number of cities':int(city_count),'total population':int(population),'min distance':min_distance,'max distance':max_distance,\n"
     ]
    },
    {
     "name": "stdout",
     "output_type": "stream",
     "text": [
      "[  35.25569893 -120.95551973]\n"
     ]
    },
    {
     "name": "stderr",
     "output_type": "stream",
     "text": [
      "/var/folders/tm/g65yh1_d5f3gkpxmzywryqwc0000gn/T/ipykernel_66414/1125395041.py:39: FutureWarning: The frame.append method is deprecated and will be removed from pandas in a future version. Use pandas.concat instead.\n",
      "  df = df.append({'lng':loc[1],'lat':loc[0],'number of cities':int(city_count),'total population':int(population),'min distance':min_distance,'max distance':max_distance,\n"
     ]
    },
    {
     "name": "stdout",
     "output_type": "stream",
     "text": [
      "[  40.69174273 -124.27769352]\n"
     ]
    },
    {
     "name": "stderr",
     "output_type": "stream",
     "text": [
      "/var/folders/tm/g65yh1_d5f3gkpxmzywryqwc0000gn/T/ipykernel_66414/1125395041.py:39: FutureWarning: The frame.append method is deprecated and will be removed from pandas in a future version. Use pandas.concat instead.\n",
      "  df = df.append({'lng':loc[1],'lat':loc[0],'number of cities':int(city_count),'total population':int(population),'min distance':min_distance,'max distance':max_distance,\n"
     ]
    },
    {
     "name": "stdout",
     "output_type": "stream",
     "text": [
      "[  33.98468149 -120.35148814]\n"
     ]
    },
    {
     "name": "stderr",
     "output_type": "stream",
     "text": [
      "/var/folders/tm/g65yh1_d5f3gkpxmzywryqwc0000gn/T/ipykernel_66414/1125395041.py:39: FutureWarning: The frame.append method is deprecated and will be removed from pandas in a future version. Use pandas.concat instead.\n",
      "  df = df.append({'lng':loc[1],'lat':loc[0],'number of cities':int(city_count),'total population':int(population),'min distance':min_distance,'max distance':max_distance,\n"
     ]
    },
    {
     "name": "stdout",
     "output_type": "stream",
     "text": [
      "[  37.9346126 -122.8323322]\n"
     ]
    },
    {
     "name": "stderr",
     "output_type": "stream",
     "text": [
      "/var/folders/tm/g65yh1_d5f3gkpxmzywryqwc0000gn/T/ipykernel_66414/1125395041.py:39: FutureWarning: The frame.append method is deprecated and will be removed from pandas in a future version. Use pandas.concat instead.\n",
      "  df = df.append({'lng':loc[1],'lat':loc[0],'number of cities':int(city_count),'total population':int(population),'min distance':min_distance,'max distance':max_distance,\n"
     ]
    },
    {
     "name": "stdout",
     "output_type": "stream",
     "text": [
      "[  33.67181566 -118.04322454]\n"
     ]
    },
    {
     "name": "stderr",
     "output_type": "stream",
     "text": [
      "/var/folders/tm/g65yh1_d5f3gkpxmzywryqwc0000gn/T/ipykernel_66414/1125395041.py:39: FutureWarning: The frame.append method is deprecated and will be removed from pandas in a future version. Use pandas.concat instead.\n",
      "  df = df.append({'lng':loc[1],'lat':loc[0],'number of cities':int(city_count),'total population':int(population),'min distance':min_distance,'max distance':max_distance,\n"
     ]
    },
    {
     "name": "stdout",
     "output_type": "stream",
     "text": [
      "[  35.33391538 -120.91237462]\n"
     ]
    },
    {
     "name": "stderr",
     "output_type": "stream",
     "text": [
      "/var/folders/tm/g65yh1_d5f3gkpxmzywryqwc0000gn/T/ipykernel_66414/1125395041.py:39: FutureWarning: The frame.append method is deprecated and will be removed from pandas in a future version. Use pandas.concat instead.\n",
      "  df = df.append({'lng':loc[1],'lat':loc[0],'number of cities':int(city_count),'total population':int(population),'min distance':min_distance,'max distance':max_distance,\n"
     ]
    },
    {
     "name": "stdout",
     "output_type": "stream",
     "text": [
      "[  39.30340061 -123.7815247 ]\n"
     ]
    },
    {
     "name": "stderr",
     "output_type": "stream",
     "text": [
      "/var/folders/tm/g65yh1_d5f3gkpxmzywryqwc0000gn/T/ipykernel_66414/1125395041.py:39: FutureWarning: The frame.append method is deprecated and will be removed from pandas in a future version. Use pandas.concat instead.\n",
      "  df = df.append({'lng':loc[1],'lat':loc[0],'number of cities':int(city_count),'total population':int(population),'min distance':min_distance,'max distance':max_distance,\n"
     ]
    },
    {
     "name": "stdout",
     "output_type": "stream",
     "text": [
      "[  40.82862153 -122.27144571]\n"
     ]
    },
    {
     "name": "stderr",
     "output_type": "stream",
     "text": [
      "/var/folders/tm/g65yh1_d5f3gkpxmzywryqwc0000gn/T/ipykernel_66414/1125395041.py:39: FutureWarning: The frame.append method is deprecated and will be removed from pandas in a future version. Use pandas.concat instead.\n",
      "  df = df.append({'lng':loc[1],'lat':loc[0],'number of cities':int(city_count),'total population':int(population),'min distance':min_distance,'max distance':max_distance,\n"
     ]
    },
    {
     "name": "stdout",
     "output_type": "stream",
     "text": [
      "[  40.76995919 -122.3793085 ]\n"
     ]
    },
    {
     "name": "stderr",
     "output_type": "stream",
     "text": [
      "/var/folders/tm/g65yh1_d5f3gkpxmzywryqwc0000gn/T/ipykernel_66414/1125395041.py:39: FutureWarning: The frame.append method is deprecated and will be removed from pandas in a future version. Use pandas.concat instead.\n",
      "  df = df.append({'lng':loc[1],'lat':loc[0],'number of cities':int(city_count),'total population':int(population),'min distance':min_distance,'max distance':max_distance,\n"
     ]
    },
    {
     "name": "stdout",
     "output_type": "stream",
     "text": [
      "[  35.6272271  -121.30068065]\n"
     ]
    },
    {
     "name": "stderr",
     "output_type": "stream",
     "text": [
      "/var/folders/tm/g65yh1_d5f3gkpxmzywryqwc0000gn/T/ipykernel_66414/1125395041.py:39: FutureWarning: The frame.append method is deprecated and will be removed from pandas in a future version. Use pandas.concat instead.\n",
      "  df = df.append({'lng':loc[1],'lat':loc[0],'number of cities':int(city_count),'total population':int(population),'min distance':min_distance,'max distance':max_distance,\n"
     ]
    },
    {
     "name": "stdout",
     "output_type": "stream",
     "text": [
      "[  39.30340061 -121.90471224]\n"
     ]
    },
    {
     "name": "stderr",
     "output_type": "stream",
     "text": [
      "/var/folders/tm/g65yh1_d5f3gkpxmzywryqwc0000gn/T/ipykernel_66414/1125395041.py:39: FutureWarning: The frame.append method is deprecated and will be removed from pandas in a future version. Use pandas.concat instead.\n",
      "  df = df.append({'lng':loc[1],'lat':loc[0],'number of cities':int(city_count),'total population':int(population),'min distance':min_distance,'max distance':max_distance,\n"
     ]
    },
    {
     "name": "stdout",
     "output_type": "stream",
     "text": [
      "[  40.53530982 -124.42870142]\n"
     ]
    },
    {
     "name": "stderr",
     "output_type": "stream",
     "text": [
      "/var/folders/tm/g65yh1_d5f3gkpxmzywryqwc0000gn/T/ipykernel_66414/1125395041.py:39: FutureWarning: The frame.append method is deprecated and will be removed from pandas in a future version. Use pandas.concat instead.\n",
      "  df = df.append({'lng':loc[1],'lat':loc[0],'number of cities':int(city_count),'total population':int(population),'min distance':min_distance,'max distance':max_distance,\n"
     ]
    },
    {
     "name": "stdout",
     "output_type": "stream",
     "text": [
      "[  33.92601915 -120.00632722]\n"
     ]
    },
    {
     "name": "stderr",
     "output_type": "stream",
     "text": [
      "/var/folders/tm/g65yh1_d5f3gkpxmzywryqwc0000gn/T/ipykernel_66414/1125395041.py:39: FutureWarning: The frame.append method is deprecated and will be removed from pandas in a future version. Use pandas.concat instead.\n",
      "  df = df.append({'lng':loc[1],'lat':loc[0],'number of cities':int(city_count),'total population':int(population),'min distance':min_distance,'max distance':max_distance,\n"
     ]
    },
    {
     "name": "stdout",
     "output_type": "stream",
     "text": [
      "[  36.01830939 -121.60269644]\n"
     ]
    },
    {
     "name": "stderr",
     "output_type": "stream",
     "text": [
      "/var/folders/tm/g65yh1_d5f3gkpxmzywryqwc0000gn/T/ipykernel_66414/1125395041.py:39: FutureWarning: The frame.append method is deprecated and will be removed from pandas in a future version. Use pandas.concat instead.\n",
      "  df = df.append({'lng':loc[1],'lat':loc[0],'number of cities':int(city_count),'total population':int(population),'min distance':min_distance,'max distance':max_distance,\n"
     ]
    },
    {
     "name": "stdout",
     "output_type": "stream",
     "text": [
      "[  35.95964704 -121.49483366]\n"
     ]
    },
    {
     "name": "stderr",
     "output_type": "stream",
     "text": [
      "/var/folders/tm/g65yh1_d5f3gkpxmzywryqwc0000gn/T/ipykernel_66414/1125395041.py:39: FutureWarning: The frame.append method is deprecated and will be removed from pandas in a future version. Use pandas.concat instead.\n",
      "  df = df.append({'lng':loc[1],'lat':loc[0],'number of cities':int(city_count),'total population':int(population),'min distance':min_distance,'max distance':max_distance,\n"
     ]
    },
    {
     "name": "stdout",
     "output_type": "stream",
     "text": [
      "[  40.96550034 -123.99725027]\n"
     ]
    },
    {
     "name": "stderr",
     "output_type": "stream",
     "text": [
      "/var/folders/tm/g65yh1_d5f3gkpxmzywryqwc0000gn/T/ipykernel_66414/1125395041.py:39: FutureWarning: The frame.append method is deprecated and will be removed from pandas in a future version. Use pandas.concat instead.\n",
      "  df = df.append({'lng':loc[1],'lat':loc[0],'number of cities':int(city_count),'total population':int(population),'min distance':min_distance,'max distance':max_distance,\n"
     ]
    },
    {
     "name": "stdout",
     "output_type": "stream",
     "text": [
      "[  39.4207253  -122.09886526]\n"
     ]
    },
    {
     "name": "stderr",
     "output_type": "stream",
     "text": [
      "/var/folders/tm/g65yh1_d5f3gkpxmzywryqwc0000gn/T/ipykernel_66414/1125395041.py:39: FutureWarning: The frame.append method is deprecated and will be removed from pandas in a future version. Use pandas.concat instead.\n",
      "  df = df.append({'lng':loc[1],'lat':loc[0],'number of cities':int(city_count),'total population':int(population),'min distance':min_distance,'max distance':max_distance,\n"
     ]
    },
    {
     "name": "stdout",
     "output_type": "stream",
     "text": [
      "[  37.60219266 -120.26519791]\n"
     ]
    },
    {
     "name": "stderr",
     "output_type": "stream",
     "text": [
      "/var/folders/tm/g65yh1_d5f3gkpxmzywryqwc0000gn/T/ipykernel_66414/1125395041.py:39: FutureWarning: The frame.append method is deprecated and will be removed from pandas in a future version. Use pandas.concat instead.\n",
      "  df = df.append({'lng':loc[1],'lat':loc[0],'number of cities':int(city_count),'total population':int(population),'min distance':min_distance,'max distance':max_distance,\n"
     ]
    },
    {
     "name": "stdout",
     "output_type": "stream",
     "text": [
      "[  38.18881609 -122.35773594]\n"
     ]
    },
    {
     "name": "stderr",
     "output_type": "stream",
     "text": [
      "/var/folders/tm/g65yh1_d5f3gkpxmzywryqwc0000gn/T/ipykernel_66414/1125395041.py:39: FutureWarning: The frame.append method is deprecated and will be removed from pandas in a future version. Use pandas.concat instead.\n",
      "  df = df.append({'lng':loc[1],'lat':loc[0],'number of cities':int(city_count),'total population':int(population),'min distance':min_distance,'max distance':max_distance,\n"
     ]
    },
    {
     "name": "stdout",
     "output_type": "stream",
     "text": [
      "[  33.02652988 -118.64725613]\n",
      "b'{\"message\":\"Impossible route between points\",\"code\":\"NoRoute\"}'\n",
      "[  39.89002404 -123.9325326 ]\n"
     ]
    },
    {
     "name": "stderr",
     "output_type": "stream",
     "text": [
      "/var/folders/tm/g65yh1_d5f3gkpxmzywryqwc0000gn/T/ipykernel_66414/1125395041.py:17: FutureWarning: The frame.append method is deprecated and will be removed from pandas in a future version. Use pandas.concat instead.\n",
      "  df = df.append({'lng':loc[1],'lat':loc[0],'number of cities':0,'total   population':0,'min distance':None,'max distance':None,\n",
      "/var/folders/tm/g65yh1_d5f3gkpxmzywryqwc0000gn/T/ipykernel_66414/1125395041.py:39: FutureWarning: The frame.append method is deprecated and will be removed from pandas in a future version. Use pandas.concat instead.\n",
      "  df = df.append({'lng':loc[1],'lat':loc[0],'number of cities':int(city_count),'total population':int(population),'min distance':min_distance,'max distance':max_distance,\n"
     ]
    },
    {
     "name": "stdout",
     "output_type": "stream",
     "text": [
      "[  33.35894983 -115.97225906]\n"
     ]
    },
    {
     "name": "stderr",
     "output_type": "stream",
     "text": [
      "/var/folders/tm/g65yh1_d5f3gkpxmzywryqwc0000gn/T/ipykernel_66414/1125395041.py:39: FutureWarning: The frame.append method is deprecated and will be removed from pandas in a future version. Use pandas.concat instead.\n",
      "  df = df.append({'lng':loc[1],'lat':loc[0],'number of cities':int(city_count),'total population':int(population),'min distance':min_distance,'max distance':max_distance,\n"
     ]
    },
    {
     "name": "stdout",
     "output_type": "stream",
     "text": [
      "[  33.02652988 -114.63476053]\n"
     ]
    },
    {
     "name": "stderr",
     "output_type": "stream",
     "text": [
      "/var/folders/tm/g65yh1_d5f3gkpxmzywryqwc0000gn/T/ipykernel_66414/1125395041.py:39: FutureWarning: The frame.append method is deprecated and will be removed from pandas in a future version. Use pandas.concat instead.\n",
      "  df = df.append({'lng':loc[1],'lat':loc[0],'number of cities':int(city_count),'total population':int(population),'min distance':min_distance,'max distance':max_distance,\n"
     ]
    },
    {
     "name": "stdout",
     "output_type": "stream",
     "text": [
      "[  33.24162514 -115.60552559]\n"
     ]
    },
    {
     "name": "stderr",
     "output_type": "stream",
     "text": [
      "/var/folders/tm/g65yh1_d5f3gkpxmzywryqwc0000gn/T/ipykernel_66414/1125395041.py:39: FutureWarning: The frame.append method is deprecated and will be removed from pandas in a future version. Use pandas.concat instead.\n",
      "  df = df.append({'lng':loc[1],'lat':loc[0],'number of cities':int(city_count),'total population':int(population),'min distance':min_distance,'max distance':max_distance,\n"
     ]
    },
    {
     "name": "stdout",
     "output_type": "stream",
     "text": [
      "[  35.02104955 -120.67507649]\n"
     ]
    },
    {
     "name": "stderr",
     "output_type": "stream",
     "text": [
      "/var/folders/tm/g65yh1_d5f3gkpxmzywryqwc0000gn/T/ipykernel_66414/1125395041.py:39: FutureWarning: The frame.append method is deprecated and will be removed from pandas in a future version. Use pandas.concat instead.\n",
      "  df = df.append({'lng':loc[1],'lat':loc[0],'number of cities':int(city_count),'total population':int(population),'min distance':min_distance,'max distance':max_distance,\n"
     ]
    },
    {
     "name": "stdout",
     "output_type": "stream",
     "text": [
      "[  37.2502186  -120.89080206]\n"
     ]
    },
    {
     "name": "stderr",
     "output_type": "stream",
     "text": [
      "/var/folders/tm/g65yh1_d5f3gkpxmzywryqwc0000gn/T/ipykernel_66414/1125395041.py:39: FutureWarning: The frame.append method is deprecated and will be removed from pandas in a future version. Use pandas.concat instead.\n",
      "  df = df.append({'lng':loc[1],'lat':loc[0],'number of cities':int(city_count),'total population':int(population),'min distance':min_distance,'max distance':max_distance,\n"
     ]
    },
    {
     "name": "stdout",
     "output_type": "stream",
     "text": [
      "[  36.13563407 -121.71055923]\n"
     ]
    },
    {
     "name": "stderr",
     "output_type": "stream",
     "text": [
      "/var/folders/tm/g65yh1_d5f3gkpxmzywryqwc0000gn/T/ipykernel_66414/1125395041.py:39: FutureWarning: The frame.append method is deprecated and will be removed from pandas in a future version. Use pandas.concat instead.\n",
      "  df = df.append({'lng':loc[1],'lat':loc[0],'number of cities':int(city_count),'total population':int(population),'min distance':min_distance,'max distance':max_distance,\n"
     ]
    },
    {
     "name": "stdout",
     "output_type": "stream",
     "text": [
      "[  40.82862153 -124.16983073]\n"
     ]
    },
    {
     "name": "stderr",
     "output_type": "stream",
     "text": [
      "/var/folders/tm/g65yh1_d5f3gkpxmzywryqwc0000gn/T/ipykernel_66414/1125395041.py:39: FutureWarning: The frame.append method is deprecated and will be removed from pandas in a future version. Use pandas.concat instead.\n",
      "  df = df.append({'lng':loc[1],'lat':loc[0],'number of cities':int(city_count),'total population':int(population),'min distance':min_distance,'max distance':max_distance,\n"
     ]
    },
    {
     "name": "stdout",
     "output_type": "stream",
     "text": [
      "[  38.13015374 -122.44402617]\n"
     ]
    },
    {
     "name": "stderr",
     "output_type": "stream",
     "text": [
      "/var/folders/tm/g65yh1_d5f3gkpxmzywryqwc0000gn/T/ipykernel_66414/1125395041.py:39: FutureWarning: The frame.append method is deprecated and will be removed from pandas in a future version. Use pandas.concat instead.\n",
      "  df = df.append({'lng':loc[1],'lat':loc[0],'number of cities':int(city_count),'total population':int(population),'min distance':min_distance,'max distance':max_distance,\n"
     ]
    },
    {
     "name": "stdout",
     "output_type": "stream",
     "text": [
      "[  34.02378972 -119.98475467]\n"
     ]
    },
    {
     "name": "stderr",
     "output_type": "stream",
     "text": [
      "/var/folders/tm/g65yh1_d5f3gkpxmzywryqwc0000gn/T/ipykernel_66414/1125395041.py:39: FutureWarning: The frame.append method is deprecated and will be removed from pandas in a future version. Use pandas.concat instead.\n",
      "  df = df.append({'lng':loc[1],'lat':loc[0],'number of cities':int(city_count),'total population':int(population),'min distance':min_distance,'max distance':max_distance,\n"
     ]
    },
    {
     "name": "stdout",
     "output_type": "stream",
     "text": [
      "[  32.92875931 -118.60411102]\n",
      "b'{\"message\":\"Impossible route between points\",\"code\":\"NoRoute\"}'\n",
      "[  37.83684203 -121.58112389]\n"
     ]
    },
    {
     "name": "stderr",
     "output_type": "stream",
     "text": [
      "/var/folders/tm/g65yh1_d5f3gkpxmzywryqwc0000gn/T/ipykernel_66414/1125395041.py:17: FutureWarning: The frame.append method is deprecated and will be removed from pandas in a future version. Use pandas.concat instead.\n",
      "  df = df.append({'lng':loc[1],'lat':loc[0],'number of cities':0,'total   population':0,'min distance':None,'max distance':None,\n",
      "/var/folders/tm/g65yh1_d5f3gkpxmzywryqwc0000gn/T/ipykernel_66414/1125395041.py:39: FutureWarning: The frame.append method is deprecated and will be removed from pandas in a future version. Use pandas.concat instead.\n",
      "  df = df.append({'lng':loc[1],'lat':loc[0],'number of cities':int(city_count),'total population':int(population),'min distance':min_distance,'max distance':max_distance,\n"
     ]
    },
    {
     "name": "stdout",
     "output_type": "stream",
     "text": [
      "[  40.63308039 -122.57346151]\n"
     ]
    },
    {
     "name": "stderr",
     "output_type": "stream",
     "text": [
      "/var/folders/tm/g65yh1_d5f3gkpxmzywryqwc0000gn/T/ipykernel_66414/1125395041.py:39: FutureWarning: The frame.append method is deprecated and will be removed from pandas in a future version. Use pandas.concat instead.\n",
      "  df = df.append({'lng':loc[1],'lat':loc[0],'number of cities':int(city_count),'total population':int(population),'min distance':min_distance,'max distance':max_distance,\n"
     ]
    },
    {
     "name": "stdout",
     "output_type": "stream",
     "text": [
      "[  33.1829628 -115.7996786]\n"
     ]
    },
    {
     "name": "stderr",
     "output_type": "stream",
     "text": [
      "/var/folders/tm/g65yh1_d5f3gkpxmzywryqwc0000gn/T/ipykernel_66414/1125395041.py:39: FutureWarning: The frame.append method is deprecated and will be removed from pandas in a future version. Use pandas.concat instead.\n",
      "  df = df.append({'lng':loc[1],'lat':loc[0],'number of cities':int(city_count),'total population':int(population),'min distance':min_distance,'max distance':max_distance,\n"
     ]
    },
    {
     "name": "stdout",
     "output_type": "stream",
     "text": [
      "[  38.11059963 -121.40854343]\n"
     ]
    },
    {
     "name": "stderr",
     "output_type": "stream",
     "text": [
      "/var/folders/tm/g65yh1_d5f3gkpxmzywryqwc0000gn/T/ipykernel_66414/1125395041.py:39: FutureWarning: The frame.append method is deprecated and will be removed from pandas in a future version. Use pandas.concat instead.\n",
      "  df = df.append({'lng':loc[1],'lat':loc[0],'number of cities':int(city_count),'total population':int(population),'min distance':min_distance,'max distance':max_distance,\n"
     ]
    },
    {
     "name": "stdout",
     "output_type": "stream",
     "text": [
      "[  38.32569489 -123.04805777]\n"
     ]
    },
    {
     "name": "stderr",
     "output_type": "stream",
     "text": [
      "/var/folders/tm/g65yh1_d5f3gkpxmzywryqwc0000gn/T/ipykernel_66414/1125395041.py:39: FutureWarning: The frame.append method is deprecated and will be removed from pandas in a future version. Use pandas.concat instead.\n",
      "  df = df.append({'lng':loc[1],'lat':loc[0],'number of cities':int(city_count),'total population':int(population),'min distance':min_distance,'max distance':max_distance,\n"
     ]
    },
    {
     "name": "stdout",
     "output_type": "stream",
     "text": [
      "[  37.95416672 -122.85390475]\n"
     ]
    },
    {
     "name": "stderr",
     "output_type": "stream",
     "text": [
      "/var/folders/tm/g65yh1_d5f3gkpxmzywryqwc0000gn/T/ipykernel_66414/1125395041.py:39: FutureWarning: The frame.append method is deprecated and will be removed from pandas in a future version. Use pandas.concat instead.\n",
      "  df = df.append({'lng':loc[1],'lat':loc[0],'number of cities':int(city_count),'total population':int(population),'min distance':min_distance,'max distance':max_distance,\n"
     ]
    },
    {
     "name": "stdout",
     "output_type": "stream",
     "text": [
      "[  38.24747843 -120.97709229]\n"
     ]
    },
    {
     "name": "stderr",
     "output_type": "stream",
     "text": [
      "/var/folders/tm/g65yh1_d5f3gkpxmzywryqwc0000gn/T/ipykernel_66414/1125395041.py:39: FutureWarning: The frame.append method is deprecated and will be removed from pandas in a future version. Use pandas.concat instead.\n",
      "  df = df.append({'lng':loc[1],'lat':loc[0],'number of cities':int(city_count),'total population':int(population),'min distance':min_distance,'max distance':max_distance,\n"
     ]
    },
    {
     "name": "stdout",
     "output_type": "stream",
     "text": [
      "[  37.50442208 -122.0772927 ]\n"
     ]
    },
    {
     "name": "stderr",
     "output_type": "stream",
     "text": [
      "/var/folders/tm/g65yh1_d5f3gkpxmzywryqwc0000gn/T/ipykernel_66414/1125395041.py:39: FutureWarning: The frame.append method is deprecated and will be removed from pandas in a future version. Use pandas.concat instead.\n",
      "  df = df.append({'lng':loc[1],'lat':loc[0],'number of cities':int(city_count),'total population':int(population),'min distance':min_distance,'max distance':max_distance,\n"
     ]
    },
    {
     "name": "stdout",
     "output_type": "stream",
     "text": [
      "[  35.7641059  -121.38697087]\n"
     ]
    },
    {
     "name": "stderr",
     "output_type": "stream",
     "text": [
      "/var/folders/tm/g65yh1_d5f3gkpxmzywryqwc0000gn/T/ipykernel_66414/1125395041.py:39: FutureWarning: The frame.append method is deprecated and will be removed from pandas in a future version. Use pandas.concat instead.\n",
      "  df = df.append({'lng':loc[1],'lat':loc[0],'number of cities':int(city_count),'total population':int(population),'min distance':min_distance,'max distance':max_distance,\n"
     ]
    },
    {
     "name": "stdout",
     "output_type": "stream",
     "text": [
      "[  37.9346126  -122.48717128]\n"
     ]
    },
    {
     "name": "stderr",
     "output_type": "stream",
     "text": [
      "/var/folders/tm/g65yh1_d5f3gkpxmzywryqwc0000gn/T/ipykernel_66414/1125395041.py:39: FutureWarning: The frame.append method is deprecated and will be removed from pandas in a future version. Use pandas.concat instead.\n",
      "  df = df.append({'lng':loc[1],'lat':loc[0],'number of cities':int(city_count),'total population':int(population),'min distance':min_distance,'max distance':max_distance,\n"
     ]
    },
    {
     "name": "stdout",
     "output_type": "stream",
     "text": [
      "[  32.83098874 -118.47467568]\n",
      "b'{\"message\":\"Impossible route between points\",\"code\":\"NoRoute\"}'\n",
      "[  39.44027941 -121.12810019]\n"
     ]
    },
    {
     "name": "stderr",
     "output_type": "stream",
     "text": [
      "/var/folders/tm/g65yh1_d5f3gkpxmzywryqwc0000gn/T/ipykernel_66414/1125395041.py:17: FutureWarning: The frame.append method is deprecated and will be removed from pandas in a future version. Use pandas.concat instead.\n",
      "  df = df.append({'lng':loc[1],'lat':loc[0],'number of cities':0,'total   population':0,'min distance':None,'max distance':None,\n",
      "/var/folders/tm/g65yh1_d5f3gkpxmzywryqwc0000gn/T/ipykernel_66414/1125395041.py:39: FutureWarning: The frame.append method is deprecated and will be removed from pandas in a future version. Use pandas.concat instead.\n",
      "  df = df.append({'lng':loc[1],'lat':loc[0],'number of cities':int(city_count),'total population':int(population),'min distance':min_distance,'max distance':max_distance,\n"
     ]
    },
    {
     "name": "stdout",
     "output_type": "stream",
     "text": [
      "[  36.13563407 -121.66741412]\n"
     ]
    },
    {
     "name": "stderr",
     "output_type": "stream",
     "text": [
      "/var/folders/tm/g65yh1_d5f3gkpxmzywryqwc0000gn/T/ipykernel_66414/1125395041.py:39: FutureWarning: The frame.append method is deprecated and will be removed from pandas in a future version. Use pandas.concat instead.\n",
      "  df = df.append({'lng':loc[1],'lat':loc[0],'number of cities':int(city_count),'total population':int(population),'min distance':min_distance,'max distance':max_distance,\n"
     ]
    },
    {
     "name": "stdout",
     "output_type": "stream",
     "text": [
      "[  36.21385053 -121.79684946]\n"
     ]
    },
    {
     "name": "stderr",
     "output_type": "stream",
     "text": [
      "/var/folders/tm/g65yh1_d5f3gkpxmzywryqwc0000gn/T/ipykernel_66414/1125395041.py:39: FutureWarning: The frame.append method is deprecated and will be removed from pandas in a future version. Use pandas.concat instead.\n",
      "  df = df.append({'lng':loc[1],'lat':loc[0],'number of cities':int(city_count),'total population':int(population),'min distance':min_distance,'max distance':max_distance,\n"
     ]
    },
    {
     "name": "stdout",
     "output_type": "stream",
     "text": [
      "[  34.86461664 -120.63193138]\n"
     ]
    },
    {
     "name": "stderr",
     "output_type": "stream",
     "text": [
      "/var/folders/tm/g65yh1_d5f3gkpxmzywryqwc0000gn/T/ipykernel_66414/1125395041.py:39: FutureWarning: The frame.append method is deprecated and will be removed from pandas in a future version. Use pandas.concat instead.\n",
      "  df = df.append({'lng':loc[1],'lat':loc[0],'number of cities':int(city_count),'total population':int(population),'min distance':min_distance,'max distance':max_distance,\n"
     ]
    },
    {
     "name": "stdout",
     "output_type": "stream",
     "text": [
      "[  33.10474634 -115.73496093]\n"
     ]
    },
    {
     "name": "stderr",
     "output_type": "stream",
     "text": [
      "/var/folders/tm/g65yh1_d5f3gkpxmzywryqwc0000gn/T/ipykernel_66414/1125395041.py:39: FutureWarning: The frame.append method is deprecated and will be removed from pandas in a future version. Use pandas.concat instead.\n",
      "  df = df.append({'lng':loc[1],'lat':loc[0],'number of cities':int(city_count),'total population':int(population),'min distance':min_distance,'max distance':max_distance,\n"
     ]
    },
    {
     "name": "stdout",
     "output_type": "stream",
     "text": [
      "[  35.27525304 -120.93394718]\n"
     ]
    },
    {
     "name": "stderr",
     "output_type": "stream",
     "text": [
      "/var/folders/tm/g65yh1_d5f3gkpxmzywryqwc0000gn/T/ipykernel_66414/1125395041.py:39: FutureWarning: The frame.append method is deprecated and will be removed from pandas in a future version. Use pandas.concat instead.\n",
      "  df = df.append({'lng':loc[1],'lat':loc[0],'number of cities':int(city_count),'total population':int(population),'min distance':min_distance,'max distance':max_distance,\n"
     ]
    },
    {
     "name": "stdout",
     "output_type": "stream",
     "text": [
      "[  36.52671636 -121.51640622]\n"
     ]
    },
    {
     "name": "stderr",
     "output_type": "stream",
     "text": [
      "/var/folders/tm/g65yh1_d5f3gkpxmzywryqwc0000gn/T/ipykernel_66414/1125395041.py:39: FutureWarning: The frame.append method is deprecated and will be removed from pandas in a future version. Use pandas.concat instead.\n",
      "  df = df.append({'lng':loc[1],'lat':loc[0],'number of cities':int(city_count),'total population':int(population),'min distance':min_distance,'max distance':max_distance,\n"
     ]
    },
    {
     "name": "stdout",
     "output_type": "stream",
     "text": [
      "[  32.88965108 -118.38838545]\n",
      "b'{\"message\":\"Impossible route between points\",\"code\":\"NoRoute\"}'\n",
      "[  39.45983353 -123.84624238]\n"
     ]
    },
    {
     "name": "stderr",
     "output_type": "stream",
     "text": [
      "/var/folders/tm/g65yh1_d5f3gkpxmzywryqwc0000gn/T/ipykernel_66414/1125395041.py:17: FutureWarning: The frame.append method is deprecated and will be removed from pandas in a future version. Use pandas.concat instead.\n",
      "  df = df.append({'lng':loc[1],'lat':loc[0],'number of cities':0,'total   population':0,'min distance':None,'max distance':None,\n",
      "/var/folders/tm/g65yh1_d5f3gkpxmzywryqwc0000gn/T/ipykernel_66414/1125395041.py:39: FutureWarning: The frame.append method is deprecated and will be removed from pandas in a future version. Use pandas.concat instead.\n",
      "  df = df.append({'lng':loc[1],'lat':loc[0],'number of cities':int(city_count),'total population':int(population),'min distance':min_distance,'max distance':max_distance,\n"
     ]
    },
    {
     "name": "stdout",
     "output_type": "stream",
     "text": [
      "[  37.15244802 -120.93394718]\n"
     ]
    },
    {
     "name": "stderr",
     "output_type": "stream",
     "text": [
      "/var/folders/tm/g65yh1_d5f3gkpxmzywryqwc0000gn/T/ipykernel_66414/1125395041.py:39: FutureWarning: The frame.append method is deprecated and will be removed from pandas in a future version. Use pandas.concat instead.\n",
      "  df = df.append({'lng':loc[1],'lat':loc[0],'number of cities':int(city_count),'total population':int(population),'min distance':min_distance,'max distance':max_distance,\n"
     ]
    },
    {
     "name": "stdout",
     "output_type": "stream",
     "text": [
      "[  33.39805806 -115.99383162]\n"
     ]
    },
    {
     "name": "stderr",
     "output_type": "stream",
     "text": [
      "/var/folders/tm/g65yh1_d5f3gkpxmzywryqwc0000gn/T/ipykernel_66414/1125395041.py:39: FutureWarning: The frame.append method is deprecated and will be removed from pandas in a future version. Use pandas.concat instead.\n",
      "  df = df.append({'lng':loc[1],'lat':loc[0],'number of cities':int(city_count),'total population':int(population),'min distance':min_distance,'max distance':max_distance,\n"
     ]
    },
    {
     "name": "stdout",
     "output_type": "stream",
     "text": [
      "[  34.92327898 -120.71822161]\n"
     ]
    },
    {
     "name": "stderr",
     "output_type": "stream",
     "text": [
      "/var/folders/tm/g65yh1_d5f3gkpxmzywryqwc0000gn/T/ipykernel_66414/1125395041.py:39: FutureWarning: The frame.append method is deprecated and will be removed from pandas in a future version. Use pandas.concat instead.\n",
      "  df = df.append({'lng':loc[1],'lat':loc[0],'number of cities':int(city_count),'total population':int(population),'min distance':min_distance,'max distance':max_distance,\n"
     ]
    },
    {
     "name": "stdout",
     "output_type": "stream",
     "text": [
      "[  38.89276421 -123.75995215]\n"
     ]
    },
    {
     "name": "stderr",
     "output_type": "stream",
     "text": [
      "/var/folders/tm/g65yh1_d5f3gkpxmzywryqwc0000gn/T/ipykernel_66414/1125395041.py:39: FutureWarning: The frame.append method is deprecated and will be removed from pandas in a future version. Use pandas.concat instead.\n",
      "  df = df.append({'lng':loc[1],'lat':loc[0],'number of cities':int(city_count),'total population':int(population),'min distance':min_distance,'max distance':max_distance,\n"
     ]
    },
    {
     "name": "stdout",
     "output_type": "stream",
     "text": [
      "[  33.84780269 -120.09261745]\n"
     ]
    },
    {
     "name": "stderr",
     "output_type": "stream",
     "text": [
      "/var/folders/tm/g65yh1_d5f3gkpxmzywryqwc0000gn/T/ipykernel_66414/1125395041.py:39: FutureWarning: The frame.append method is deprecated and will be removed from pandas in a future version. Use pandas.concat instead.\n",
      "  df = df.append({'lng':loc[1],'lat':loc[0],'number of cities':int(city_count),'total population':int(population),'min distance':min_distance,'max distance':max_distance,\n"
     ]
    },
    {
     "name": "stdout",
     "output_type": "stream",
     "text": [
      "[  40.82862153 -124.25612096]\n"
     ]
    },
    {
     "name": "stderr",
     "output_type": "stream",
     "text": [
      "/var/folders/tm/g65yh1_d5f3gkpxmzywryqwc0000gn/T/ipykernel_66414/1125395041.py:39: FutureWarning: The frame.append method is deprecated and will be removed from pandas in a future version. Use pandas.concat instead.\n",
      "  df = df.append({'lng':loc[1],'lat':loc[0],'number of cities':int(city_count),'total population':int(population),'min distance':min_distance,'max distance':max_distance,\n"
     ]
    },
    {
     "name": "stdout",
     "output_type": "stream",
     "text": [
      "[  33.94557326 -119.96318211]\n"
     ]
    },
    {
     "name": "stderr",
     "output_type": "stream",
     "text": [
      "/var/folders/tm/g65yh1_d5f3gkpxmzywryqwc0000gn/T/ipykernel_66414/1125395041.py:39: FutureWarning: The frame.append method is deprecated and will be removed from pandas in a future version. Use pandas.concat instead.\n",
      "  df = df.append({'lng':loc[1],'lat':loc[0],'number of cities':int(city_count),'total population':int(population),'min distance':min_distance,'max distance':max_distance,\n"
     ]
    },
    {
     "name": "stdout",
     "output_type": "stream",
     "text": [
      "[  37.77817969 -122.12043781]\n"
     ]
    },
    {
     "name": "stderr",
     "output_type": "stream",
     "text": [
      "/var/folders/tm/g65yh1_d5f3gkpxmzywryqwc0000gn/T/ipykernel_66414/1125395041.py:39: FutureWarning: The frame.append method is deprecated and will be removed from pandas in a future version. Use pandas.concat instead.\n",
      "  df = df.append({'lng':loc[1],'lat':loc[0],'number of cities':int(city_count),'total population':int(population),'min distance':min_distance,'max distance':max_distance,\n"
     ]
    },
    {
     "name": "stdout",
     "output_type": "stream",
     "text": [
      "[  38.50168192 -122.16358293]\n"
     ]
    },
    {
     "name": "stderr",
     "output_type": "stream",
     "text": [
      "/var/folders/tm/g65yh1_d5f3gkpxmzywryqwc0000gn/T/ipykernel_66414/1125395041.py:39: FutureWarning: The frame.append method is deprecated and will be removed from pandas in a future version. Use pandas.concat instead.\n",
      "  df = df.append({'lng':loc[1],'lat':loc[0],'number of cities':int(city_count),'total population':int(population),'min distance':min_distance,'max distance':max_distance,\n"
     ]
    },
    {
     "name": "stdout",
     "output_type": "stream",
     "text": [
      "[  37.97372083 -123.00491265]\n"
     ]
    },
    {
     "name": "stderr",
     "output_type": "stream",
     "text": [
      "/var/folders/tm/g65yh1_d5f3gkpxmzywryqwc0000gn/T/ipykernel_66414/1125395041.py:39: FutureWarning: The frame.append method is deprecated and will be removed from pandas in a future version. Use pandas.concat instead.\n",
      "  df = df.append({'lng':loc[1],'lat':loc[0],'number of cities':int(city_count),'total population':int(population),'min distance':min_distance,'max distance':max_distance,\n"
     ]
    },
    {
     "name": "stdout",
     "output_type": "stream",
     "text": [
      "[  41.04371679 -124.21297584]\n"
     ]
    },
    {
     "name": "stderr",
     "output_type": "stream",
     "text": [
      "/var/folders/tm/g65yh1_d5f3gkpxmzywryqwc0000gn/T/ipykernel_66414/1125395041.py:39: FutureWarning: The frame.append method is deprecated and will be removed from pandas in a future version. Use pandas.concat instead.\n",
      "  df = df.append({'lng':loc[1],'lat':loc[0],'number of cities':int(city_count),'total population':int(population),'min distance':min_distance,'max distance':max_distance,\n"
     ]
    },
    {
     "name": "stdout",
     "output_type": "stream",
     "text": [
      "[  41.25881205 -124.12668562]\n"
     ]
    },
    {
     "name": "stderr",
     "output_type": "stream",
     "text": [
      "/var/folders/tm/g65yh1_d5f3gkpxmzywryqwc0000gn/T/ipykernel_66414/1125395041.py:39: FutureWarning: The frame.append method is deprecated and will be removed from pandas in a future version. Use pandas.concat instead.\n",
      "  df = df.append({'lng':loc[1],'lat':loc[0],'number of cities':int(city_count),'total population':int(population),'min distance':min_distance,'max distance':max_distance,\n"
     ]
    },
    {
     "name": "stdout",
     "output_type": "stream",
     "text": [
      "[  37.19155625 -120.84765695]\n"
     ]
    },
    {
     "name": "stderr",
     "output_type": "stream",
     "text": [
      "/var/folders/tm/g65yh1_d5f3gkpxmzywryqwc0000gn/T/ipykernel_66414/1125395041.py:39: FutureWarning: The frame.append method is deprecated and will be removed from pandas in a future version. Use pandas.concat instead.\n",
      "  df = df.append({'lng':loc[1],'lat':loc[0],'number of cities':int(city_count),'total population':int(population),'min distance':min_distance,'max distance':max_distance,\n"
     ]
    },
    {
     "name": "stdout",
     "output_type": "stream",
     "text": [
      "[  33.06563811 -118.60411102]\n",
      "b'{\"message\":\"Impossible route between points\",\"code\":\"NoRoute\"}'\n",
      "[  37.46531385 -121.96942991]\n"
     ]
    },
    {
     "name": "stderr",
     "output_type": "stream",
     "text": [
      "/var/folders/tm/g65yh1_d5f3gkpxmzywryqwc0000gn/T/ipykernel_66414/1125395041.py:17: FutureWarning: The frame.append method is deprecated and will be removed from pandas in a future version. Use pandas.concat instead.\n",
      "  df = df.append({'lng':loc[1],'lat':loc[0],'number of cities':0,'total   population':0,'min distance':None,'max distance':None,\n",
      "/var/folders/tm/g65yh1_d5f3gkpxmzywryqwc0000gn/T/ipykernel_66414/1125395041.py:39: FutureWarning: The frame.append method is deprecated and will be removed from pandas in a future version. Use pandas.concat instead.\n",
      "  df = df.append({'lng':loc[1],'lat':loc[0],'number of cities':int(city_count),'total population':int(population),'min distance':min_distance,'max distance':max_distance,\n"
     ]
    },
    {
     "name": "stdout",
     "output_type": "stream",
     "text": [
      "[  36.97646099 -120.71822161]\n"
     ]
    },
    {
     "name": "stderr",
     "output_type": "stream",
     "text": [
      "/var/folders/tm/g65yh1_d5f3gkpxmzywryqwc0000gn/T/ipykernel_66414/1125395041.py:39: FutureWarning: The frame.append method is deprecated and will be removed from pandas in a future version. Use pandas.concat instead.\n",
      "  df = df.append({'lng':loc[1],'lat':loc[0],'number of cities':int(city_count),'total population':int(population),'min distance':min_distance,'max distance':max_distance,\n"
     ]
    },
    {
     "name": "stdout",
     "output_type": "stream",
     "text": [
      "[  38.52123603 -122.48717128]\n"
     ]
    },
    {
     "name": "stderr",
     "output_type": "stream",
     "text": [
      "/var/folders/tm/g65yh1_d5f3gkpxmzywryqwc0000gn/T/ipykernel_66414/1125395041.py:39: FutureWarning: The frame.append method is deprecated and will be removed from pandas in a future version. Use pandas.concat instead.\n",
      "  df = df.append({'lng':loc[1],'lat':loc[0],'number of cities':int(city_count),'total population':int(population),'min distance':min_distance,'max distance':max_distance,\n"
     ]
    },
    {
     "name": "stdout",
     "output_type": "stream",
     "text": [
      "[  37.87595026 -122.3793085 ]\n"
     ]
    },
    {
     "name": "stderr",
     "output_type": "stream",
     "text": [
      "/var/folders/tm/g65yh1_d5f3gkpxmzywryqwc0000gn/T/ipykernel_66414/1125395041.py:39: FutureWarning: The frame.append method is deprecated and will be removed from pandas in a future version. Use pandas.concat instead.\n",
      "  df = df.append({'lng':loc[1],'lat':loc[0],'number of cities':int(city_count),'total population':int(population),'min distance':min_distance,'max distance':max_distance,\n"
     ]
    },
    {
     "name": "stdout",
     "output_type": "stream",
     "text": [
      "[  34.47353435 -120.48092348]\n"
     ]
    },
    {
     "name": "stderr",
     "output_type": "stream",
     "text": [
      "/var/folders/tm/g65yh1_d5f3gkpxmzywryqwc0000gn/T/ipykernel_66414/1125395041.py:39: FutureWarning: The frame.append method is deprecated and will be removed from pandas in a future version. Use pandas.concat instead.\n",
      "  df = df.append({'lng':loc[1],'lat':loc[0],'number of cities':int(city_count),'total population':int(population),'min distance':min_distance,'max distance':max_distance,\n"
     ]
    },
    {
     "name": "stdout",
     "output_type": "stream",
     "text": [
      "[  38.77543952 -123.60894425]\n"
     ]
    },
    {
     "name": "stderr",
     "output_type": "stream",
     "text": [
      "/var/folders/tm/g65yh1_d5f3gkpxmzywryqwc0000gn/T/ipykernel_66414/1125395041.py:39: FutureWarning: The frame.append method is deprecated and will be removed from pandas in a future version. Use pandas.concat instead.\n",
      "  df = df.append({'lng':loc[1],'lat':loc[0],'number of cities':int(city_count),'total population':int(population),'min distance':min_distance,'max distance':max_distance,\n"
     ]
    },
    {
     "name": "stdout",
     "output_type": "stream",
     "text": [
      "[  41.29792028 -124.14825817]\n"
     ]
    },
    {
     "name": "stderr",
     "output_type": "stream",
     "text": [
      "/var/folders/tm/g65yh1_d5f3gkpxmzywryqwc0000gn/T/ipykernel_66414/1125395041.py:39: FutureWarning: The frame.append method is deprecated and will be removed from pandas in a future version. Use pandas.concat instead.\n",
      "  df = df.append({'lng':loc[1],'lat':loc[0],'number of cities':int(city_count),'total population':int(population),'min distance':min_distance,'max distance':max_distance,\n"
     ]
    },
    {
     "name": "stdout",
     "output_type": "stream",
     "text": [
      "[  35.82276824 -121.43011599]\n"
     ]
    },
    {
     "name": "stderr",
     "output_type": "stream",
     "text": [
      "/var/folders/tm/g65yh1_d5f3gkpxmzywryqwc0000gn/T/ipykernel_66414/1125395041.py:39: FutureWarning: The frame.append method is deprecated and will be removed from pandas in a future version. Use pandas.concat instead.\n",
      "  df = df.append({'lng':loc[1],'lat':loc[0],'number of cities':int(city_count),'total population':int(population),'min distance':min_distance,'max distance':max_distance,\n"
     ]
    },
    {
     "name": "stdout",
     "output_type": "stream",
     "text": [
      "[  35.66633533 -118.32366778]\n"
     ]
    },
    {
     "name": "stderr",
     "output_type": "stream",
     "text": [
      "/var/folders/tm/g65yh1_d5f3gkpxmzywryqwc0000gn/T/ipykernel_66414/1125395041.py:39: FutureWarning: The frame.append method is deprecated and will be removed from pandas in a future version. Use pandas.concat instead.\n",
      "  df = df.append({'lng':loc[1],'lat':loc[0],'number of cities':int(city_count),'total population':int(population),'min distance':min_distance,'max distance':max_distance,\n"
     ]
    },
    {
     "name": "stdout",
     "output_type": "stream",
     "text": [
      "[  36.78091985 -120.80451183]\n"
     ]
    },
    {
     "name": "stderr",
     "output_type": "stream",
     "text": [
      "/var/folders/tm/g65yh1_d5f3gkpxmzywryqwc0000gn/T/ipykernel_66414/1125395041.py:39: FutureWarning: The frame.append method is deprecated and will be removed from pandas in a future version. Use pandas.concat instead.\n",
      "  df = df.append({'lng':loc[1],'lat':loc[0],'number of cities':int(city_count),'total population':int(population),'min distance':min_distance,'max distance':max_distance,\n"
     ]
    },
    {
     "name": "stdout",
     "output_type": "stream",
     "text": [
      "[  36.91779865 -121.90471224]\n"
     ]
    },
    {
     "name": "stderr",
     "output_type": "stream",
     "text": [
      "/var/folders/tm/g65yh1_d5f3gkpxmzywryqwc0000gn/T/ipykernel_66414/1125395041.py:39: FutureWarning: The frame.append method is deprecated and will be removed from pandas in a future version. Use pandas.concat instead.\n",
      "  df = df.append({'lng':loc[1],'lat':loc[0],'number of cities':int(city_count),'total population':int(population),'min distance':min_distance,'max distance':max_distance,\n"
     ]
    },
    {
     "name": "stdout",
     "output_type": "stream",
     "text": [
      "[  32.92875931 -117.24503993]\n"
     ]
    },
    {
     "name": "stderr",
     "output_type": "stream",
     "text": [
      "/var/folders/tm/g65yh1_d5f3gkpxmzywryqwc0000gn/T/ipykernel_66414/1125395041.py:39: FutureWarning: The frame.append method is deprecated and will be removed from pandas in a future version. Use pandas.concat instead.\n",
      "  df = df.append({'lng':loc[1],'lat':loc[0],'number of cities':int(city_count),'total population':int(population),'min distance':min_distance,'max distance':max_distance,\n"
     ]
    },
    {
     "name": "stdout",
     "output_type": "stream",
     "text": [
      "[  36.82002808 -121.83999457]\n"
     ]
    },
    {
     "name": "stderr",
     "output_type": "stream",
     "text": [
      "/var/folders/tm/g65yh1_d5f3gkpxmzywryqwc0000gn/T/ipykernel_66414/1125395041.py:39: FutureWarning: The frame.append method is deprecated and will be removed from pandas in a future version. Use pandas.concat instead.\n",
      "  df = df.append({'lng':loc[1],'lat':loc[0],'number of cities':int(city_count),'total population':int(population),'min distance':min_distance,'max distance':max_distance,\n"
     ]
    },
    {
     "name": "stdout",
     "output_type": "stream",
     "text": [
      "[  36.66359516 -121.88313969]\n"
     ]
    },
    {
     "name": "stderr",
     "output_type": "stream",
     "text": [
      "/var/folders/tm/g65yh1_d5f3gkpxmzywryqwc0000gn/T/ipykernel_66414/1125395041.py:39: FutureWarning: The frame.append method is deprecated and will be removed from pandas in a future version. Use pandas.concat instead.\n",
      "  df = df.append({'lng':loc[1],'lat':loc[0],'number of cities':int(city_count),'total population':int(population),'min distance':min_distance,'max distance':max_distance,\n"
     ]
    },
    {
     "name": "stdout",
     "output_type": "stream",
     "text": [
      "[  40.16378164 -124.32083863]\n"
     ]
    },
    {
     "name": "stderr",
     "output_type": "stream",
     "text": [
      "/var/folders/tm/g65yh1_d5f3gkpxmzywryqwc0000gn/T/ipykernel_66414/1125395041.py:39: FutureWarning: The frame.append method is deprecated and will be removed from pandas in a future version. Use pandas.concat instead.\n",
      "  df = df.append({'lng':loc[1],'lat':loc[0],'number of cities':int(city_count),'total population':int(population),'min distance':min_distance,'max distance':max_distance,\n"
     ]
    },
    {
     "name": "stdout",
     "output_type": "stream",
     "text": [
      "[  33.1829628  -115.73496093]\n"
     ]
    },
    {
     "name": "stderr",
     "output_type": "stream",
     "text": [
      "/var/folders/tm/g65yh1_d5f3gkpxmzywryqwc0000gn/T/ipykernel_66414/1125395041.py:39: FutureWarning: The frame.append method is deprecated and will be removed from pandas in a future version. Use pandas.concat instead.\n",
      "  df = df.append({'lng':loc[1],'lat':loc[0],'number of cities':int(city_count),'total population':int(population),'min distance':min_distance,'max distance':max_distance,\n"
     ]
    },
    {
     "name": "stdout",
     "output_type": "stream",
     "text": [
      "[  37.50442208 -122.57346151]\n"
     ]
    },
    {
     "name": "stderr",
     "output_type": "stream",
     "text": [
      "/var/folders/tm/g65yh1_d5f3gkpxmzywryqwc0000gn/T/ipykernel_66414/1125395041.py:39: FutureWarning: The frame.append method is deprecated and will be removed from pandas in a future version. Use pandas.concat instead.\n",
      "  df = df.append({'lng':loc[1],'lat':loc[0],'number of cities':int(city_count),'total population':int(population),'min distance':min_distance,'max distance':max_distance,\n"
     ]
    },
    {
     "name": "stdout",
     "output_type": "stream",
     "text": [
      "[  34.0042356  -120.48092348]\n"
     ]
    },
    {
     "name": "stderr",
     "output_type": "stream",
     "text": [
      "/var/folders/tm/g65yh1_d5f3gkpxmzywryqwc0000gn/T/ipykernel_66414/1125395041.py:39: FutureWarning: The frame.append method is deprecated and will be removed from pandas in a future version. Use pandas.concat instead.\n",
      "  df = df.append({'lng':loc[1],'lat':loc[0],'number of cities':int(city_count),'total population':int(population),'min distance':min_distance,'max distance':max_distance,\n"
     ]
    },
    {
     "name": "stdout",
     "output_type": "stream",
     "text": [
      "[  41.02416268 -121.66741412]\n"
     ]
    },
    {
     "name": "stderr",
     "output_type": "stream",
     "text": [
      "/var/folders/tm/g65yh1_d5f3gkpxmzywryqwc0000gn/T/ipykernel_66414/1125395041.py:39: FutureWarning: The frame.append method is deprecated and will be removed from pandas in a future version. Use pandas.concat instead.\n",
      "  df = df.append({'lng':loc[1],'lat':loc[0],'number of cities':int(city_count),'total population':int(population),'min distance':min_distance,'max distance':max_distance,\n"
     ]
    },
    {
     "name": "stdout",
     "output_type": "stream",
     "text": [
      "[  37.2502186  -120.95551973]\n"
     ]
    },
    {
     "name": "stderr",
     "output_type": "stream",
     "text": [
      "/var/folders/tm/g65yh1_d5f3gkpxmzywryqwc0000gn/T/ipykernel_66414/1125395041.py:39: FutureWarning: The frame.append method is deprecated and will be removed from pandas in a future version. Use pandas.concat instead.\n",
      "  df = df.append({'lng':loc[1],'lat':loc[0],'number of cities':int(city_count),'total population':int(population),'min distance':min_distance,'max distance':max_distance,\n"
     ]
    },
    {
     "name": "stdout",
     "output_type": "stream",
     "text": [
      "[  36.46805402 -116.92145157]\n"
     ]
    },
    {
     "name": "stderr",
     "output_type": "stream",
     "text": [
      "/var/folders/tm/g65yh1_d5f3gkpxmzywryqwc0000gn/T/ipykernel_66414/1125395041.py:39: FutureWarning: The frame.append method is deprecated and will be removed from pandas in a future version. Use pandas.concat instead.\n",
      "  df = df.append({'lng':loc[1],'lat':loc[0],'number of cities':int(city_count),'total population':int(population),'min distance':min_distance,'max distance':max_distance,\n"
     ]
    },
    {
     "name": "stdout",
     "output_type": "stream",
     "text": [
      "[  40.98505445 -124.16983073]\n"
     ]
    },
    {
     "name": "stderr",
     "output_type": "stream",
     "text": [
      "/var/folders/tm/g65yh1_d5f3gkpxmzywryqwc0000gn/T/ipykernel_66414/1125395041.py:39: FutureWarning: The frame.append method is deprecated and will be removed from pandas in a future version. Use pandas.concat instead.\n",
      "  df = df.append({'lng':loc[1],'lat':loc[0],'number of cities':int(city_count),'total population':int(population),'min distance':min_distance,'max distance':max_distance,\n"
     ]
    },
    {
     "name": "stdout",
     "output_type": "stream",
     "text": [
      "[  33.63270743 -117.95693431]\n"
     ]
    },
    {
     "name": "stderr",
     "output_type": "stream",
     "text": [
      "/var/folders/tm/g65yh1_d5f3gkpxmzywryqwc0000gn/T/ipykernel_66414/1125395041.py:39: FutureWarning: The frame.append method is deprecated and will be removed from pandas in a future version. Use pandas.concat instead.\n",
      "  df = df.append({'lng':loc[1],'lat':loc[0],'number of cities':int(city_count),'total population':int(population),'min distance':min_distance,'max distance':max_distance,\n"
     ]
    },
    {
     "name": "stdout",
     "output_type": "stream",
     "text": [
      "[  40.02690284 -124.10511306]\n"
     ]
    },
    {
     "name": "stderr",
     "output_type": "stream",
     "text": [
      "/var/folders/tm/g65yh1_d5f3gkpxmzywryqwc0000gn/T/ipykernel_66414/1125395041.py:39: FutureWarning: The frame.append method is deprecated and will be removed from pandas in a future version. Use pandas.concat instead.\n",
      "  df = df.append({'lng':loc[1],'lat':loc[0],'number of cities':int(city_count),'total population':int(population),'min distance':min_distance,'max distance':max_distance,\n"
     ]
    },
    {
     "name": "stdout",
     "output_type": "stream",
     "text": [
      "[  33.90646503 -117.6117734 ]\n"
     ]
    },
    {
     "name": "stderr",
     "output_type": "stream",
     "text": [
      "/var/folders/tm/g65yh1_d5f3gkpxmzywryqwc0000gn/T/ipykernel_66414/1125395041.py:39: FutureWarning: The frame.append method is deprecated and will be removed from pandas in a future version. Use pandas.concat instead.\n",
      "  df = df.append({'lng':loc[1],'lat':loc[0],'number of cities':int(city_count),'total population':int(population),'min distance':min_distance,'max distance':max_distance,\n"
     ]
    },
    {
     "name": "stdout",
     "output_type": "stream",
     "text": [
      "[  33.47627451 -118.64725613]\n",
      "b'{\"message\":\"Impossible route between points\",\"code\":\"NoRoute\"}'\n",
      "[  40.94594622 -124.19140329]\n"
     ]
    },
    {
     "name": "stderr",
     "output_type": "stream",
     "text": [
      "/var/folders/tm/g65yh1_d5f3gkpxmzywryqwc0000gn/T/ipykernel_66414/1125395041.py:17: FutureWarning: The frame.append method is deprecated and will be removed from pandas in a future version. Use pandas.concat instead.\n",
      "  df = df.append({'lng':loc[1],'lat':loc[0],'number of cities':0,'total   population':0,'min distance':None,'max distance':None,\n",
      "/var/folders/tm/g65yh1_d5f3gkpxmzywryqwc0000gn/T/ipykernel_66414/1125395041.py:39: FutureWarning: The frame.append method is deprecated and will be removed from pandas in a future version. Use pandas.concat instead.\n",
      "  df = df.append({'lng':loc[1],'lat':loc[0],'number of cities':int(city_count),'total population':int(population),'min distance':min_distance,'max distance':max_distance,\n"
     ]
    },
    {
     "name": "stdout",
     "output_type": "stream",
     "text": [
      "[  33.96512737 -120.37306069]\n"
     ]
    },
    {
     "name": "stderr",
     "output_type": "stream",
     "text": [
      "/var/folders/tm/g65yh1_d5f3gkpxmzywryqwc0000gn/T/ipykernel_66414/1125395041.py:39: FutureWarning: The frame.append method is deprecated and will be removed from pandas in a future version. Use pandas.concat instead.\n",
      "  df = df.append({'lng':loc[1],'lat':loc[0],'number of cities':int(city_count),'total population':int(population),'min distance':min_distance,'max distance':max_distance,\n"
     ]
    },
    {
     "name": "stdout",
     "output_type": "stream",
     "text": [
      "[  38.79499363 -123.63051681]\n"
     ]
    },
    {
     "name": "stderr",
     "output_type": "stream",
     "text": [
      "/var/folders/tm/g65yh1_d5f3gkpxmzywryqwc0000gn/T/ipykernel_66414/1125395041.py:39: FutureWarning: The frame.append method is deprecated and will be removed from pandas in a future version. Use pandas.concat instead.\n",
      "  df = df.append({'lng':loc[1],'lat':loc[0],'number of cities':int(city_count),'total population':int(population),'min distance':min_distance,'max distance':max_distance,\n"
     ]
    },
    {
     "name": "stdout",
     "output_type": "stream",
     "text": [
      "[  41.74766491 -124.19140329]\n"
     ]
    },
    {
     "name": "stderr",
     "output_type": "stream",
     "text": [
      "/var/folders/tm/g65yh1_d5f3gkpxmzywryqwc0000gn/T/ipykernel_66414/1125395041.py:39: FutureWarning: The frame.append method is deprecated and will be removed from pandas in a future version. Use pandas.concat instead.\n",
      "  df = df.append({'lng':loc[1],'lat':loc[0],'number of cities':int(city_count),'total population':int(population),'min distance':min_distance,'max distance':max_distance,\n"
     ]
    },
    {
     "name": "stdout",
     "output_type": "stream",
     "text": [
      "[  33.20251691 -115.7996786 ]\n"
     ]
    },
    {
     "name": "stderr",
     "output_type": "stream",
     "text": [
      "/var/folders/tm/g65yh1_d5f3gkpxmzywryqwc0000gn/T/ipykernel_66414/1125395041.py:39: FutureWarning: The frame.append method is deprecated and will be removed from pandas in a future version. Use pandas.concat instead.\n",
      "  df = df.append({'lng':loc[1],'lat':loc[0],'number of cities':int(city_count),'total population':int(population),'min distance':min_distance,'max distance':max_distance,\n"
     ]
    },
    {
     "name": "stdout",
     "output_type": "stream",
     "text": [
      "[  40.5157557  -122.35773594]\n"
     ]
    },
    {
     "name": "stderr",
     "output_type": "stream",
     "text": [
      "/var/folders/tm/g65yh1_d5f3gkpxmzywryqwc0000gn/T/ipykernel_66414/1125395041.py:39: FutureWarning: The frame.append method is deprecated and will be removed from pandas in a future version. Use pandas.concat instead.\n",
      "  df = df.append({'lng':loc[1],'lat':loc[0],'number of cities':int(city_count),'total population':int(population),'min distance':min_distance,'max distance':max_distance,\n"
     ]
    },
    {
     "name": "stdout",
     "output_type": "stream",
     "text": [
      "[  38.01282906 -122.89704987]\n"
     ]
    },
    {
     "name": "stderr",
     "output_type": "stream",
     "text": [
      "/var/folders/tm/g65yh1_d5f3gkpxmzywryqwc0000gn/T/ipykernel_66414/1125395041.py:39: FutureWarning: The frame.append method is deprecated and will be removed from pandas in a future version. Use pandas.concat instead.\n",
      "  df = df.append({'lng':loc[1],'lat':loc[0],'number of cities':int(city_count),'total population':int(population),'min distance':min_distance,'max distance':max_distance,\n"
     ]
    },
    {
     "name": "stdout",
     "output_type": "stream",
     "text": [
      "[  35.31436127 -120.89080206]\n"
     ]
    },
    {
     "name": "stderr",
     "output_type": "stream",
     "text": [
      "/var/folders/tm/g65yh1_d5f3gkpxmzywryqwc0000gn/T/ipykernel_66414/1125395041.py:39: FutureWarning: The frame.append method is deprecated and will be removed from pandas in a future version. Use pandas.concat instead.\n",
      "  df = df.append({'lng':loc[1],'lat':loc[0],'number of cities':int(city_count),'total population':int(population),'min distance':min_distance,'max distance':max_distance,\n"
     ]
    },
    {
     "name": "stdout",
     "output_type": "stream",
     "text": [
      "[  40.86772976 -124.16983073]\n"
     ]
    },
    {
     "name": "stderr",
     "output_type": "stream",
     "text": [
      "/var/folders/tm/g65yh1_d5f3gkpxmzywryqwc0000gn/T/ipykernel_66414/1125395041.py:39: FutureWarning: The frame.append method is deprecated and will be removed from pandas in a future version. Use pandas.concat instead.\n",
      "  df = df.append({'lng':loc[1],'lat':loc[0],'number of cities':int(city_count),'total population':int(population),'min distance':min_distance,'max distance':max_distance,\n"
     ]
    },
    {
     "name": "stdout",
     "output_type": "stream",
     "text": [
      "[  37.73907146 -122.20672804]\n"
     ]
    },
    {
     "name": "stderr",
     "output_type": "stream",
     "text": [
      "/var/folders/tm/g65yh1_d5f3gkpxmzywryqwc0000gn/T/ipykernel_66414/1125395041.py:39: FutureWarning: The frame.append method is deprecated and will be removed from pandas in a future version. Use pandas.concat instead.\n",
      "  df = df.append({'lng':loc[1],'lat':loc[0],'number of cities':int(city_count),'total population':int(population),'min distance':min_distance,'max distance':max_distance,\n"
     ]
    },
    {
     "name": "stdout",
     "output_type": "stream",
     "text": [
      "[  37.83684203 -122.63817918]\n"
     ]
    },
    {
     "name": "stderr",
     "output_type": "stream",
     "text": [
      "/var/folders/tm/g65yh1_d5f3gkpxmzywryqwc0000gn/T/ipykernel_66414/1125395041.py:39: FutureWarning: The frame.append method is deprecated and will be removed from pandas in a future version. Use pandas.concat instead.\n",
      "  df = df.append({'lng':loc[1],'lat':loc[0],'number of cities':int(city_count),'total population':int(population),'min distance':min_distance,'max distance':max_distance,\n"
     ]
    },
    {
     "name": "stdout",
     "output_type": "stream",
     "text": [
      "[  41.55212377 -124.12668562]\n"
     ]
    },
    {
     "name": "stderr",
     "output_type": "stream",
     "text": [
      "/var/folders/tm/g65yh1_d5f3gkpxmzywryqwc0000gn/T/ipykernel_66414/1125395041.py:39: FutureWarning: The frame.append method is deprecated and will be removed from pandas in a future version. Use pandas.concat instead.\n",
      "  df = df.append({'lng':loc[1],'lat':loc[0],'number of cities':int(city_count),'total population':int(population),'min distance':min_distance,'max distance':max_distance,\n"
     ]
    },
    {
     "name": "stdout",
     "output_type": "stream",
     "text": [
      "[  33.49582863 -115.9506865 ]\n"
     ]
    },
    {
     "name": "stderr",
     "output_type": "stream",
     "text": [
      "/var/folders/tm/g65yh1_d5f3gkpxmzywryqwc0000gn/T/ipykernel_66414/1125395041.py:39: FutureWarning: The frame.append method is deprecated and will be removed from pandas in a future version. Use pandas.concat instead.\n",
      "  df = df.append({'lng':loc[1],'lat':loc[0],'number of cities':int(city_count),'total population':int(population),'min distance':min_distance,'max distance':max_distance,\n"
     ]
    },
    {
     "name": "stdout",
     "output_type": "stream",
     "text": [
      "[  37.97372083 -121.4732611 ]\n"
     ]
    },
    {
     "name": "stderr",
     "output_type": "stream",
     "text": [
      "/var/folders/tm/g65yh1_d5f3gkpxmzywryqwc0000gn/T/ipykernel_66414/1125395041.py:39: FutureWarning: The frame.append method is deprecated and will be removed from pandas in a future version. Use pandas.concat instead.\n",
      "  df = df.append({'lng':loc[1],'lat':loc[0],'number of cities':int(city_count),'total population':int(population),'min distance':min_distance,'max distance':max_distance,\n"
     ]
    },
    {
     "name": "stdout",
     "output_type": "stream",
     "text": [
      "[  39.10785947 -121.90471224]\n"
     ]
    },
    {
     "name": "stderr",
     "output_type": "stream",
     "text": [
      "/var/folders/tm/g65yh1_d5f3gkpxmzywryqwc0000gn/T/ipykernel_66414/1125395041.py:39: FutureWarning: The frame.append method is deprecated and will be removed from pandas in a future version. Use pandas.concat instead.\n",
      "  df = df.append({'lng':loc[1],'lat':loc[0],'number of cities':int(city_count),'total population':int(population),'min distance':min_distance,'max distance':max_distance,\n"
     ]
    },
    {
     "name": "stdout",
     "output_type": "stream",
     "text": [
      "[  38.13015374 -122.3793085 ]\n"
     ]
    },
    {
     "name": "stderr",
     "output_type": "stream",
     "text": [
      "/var/folders/tm/g65yh1_d5f3gkpxmzywryqwc0000gn/T/ipykernel_66414/1125395041.py:39: FutureWarning: The frame.append method is deprecated and will be removed from pandas in a future version. Use pandas.concat instead.\n",
      "  df = df.append({'lng':loc[1],'lat':loc[0],'number of cities':int(city_count),'total population':int(population),'min distance':min_distance,'max distance':max_distance,\n"
     ]
    },
    {
     "name": "stdout",
     "output_type": "stream",
     "text": [
      "[  37.40665151 -120.93394718]\n"
     ]
    },
    {
     "name": "stderr",
     "output_type": "stream",
     "text": [
      "/var/folders/tm/g65yh1_d5f3gkpxmzywryqwc0000gn/T/ipykernel_66414/1125395041.py:39: FutureWarning: The frame.append method is deprecated and will be removed from pandas in a future version. Use pandas.concat instead.\n",
      "  df = df.append({'lng':loc[1],'lat':loc[0],'number of cities':int(city_count),'total population':int(population),'min distance':min_distance,'max distance':max_distance,\n"
     ]
    },
    {
     "name": "stdout",
     "output_type": "stream",
     "text": [
      "[  37.13289391 -120.91237462]\n"
     ]
    },
    {
     "name": "stderr",
     "output_type": "stream",
     "text": [
      "/var/folders/tm/g65yh1_d5f3gkpxmzywryqwc0000gn/T/ipykernel_66414/1125395041.py:39: FutureWarning: The frame.append method is deprecated and will be removed from pandas in a future version. Use pandas.concat instead.\n",
      "  df = df.append({'lng':loc[1],'lat':loc[0],'number of cities':int(city_count),'total population':int(population),'min distance':min_distance,'max distance':max_distance,\n"
     ]
    },
    {
     "name": "stdout",
     "output_type": "stream",
     "text": [
      "[  40.20288987 -124.36398374]\n"
     ]
    },
    {
     "name": "stderr",
     "output_type": "stream",
     "text": [
      "/var/folders/tm/g65yh1_d5f3gkpxmzywryqwc0000gn/T/ipykernel_66414/1125395041.py:39: FutureWarning: The frame.append method is deprecated and will be removed from pandas in a future version. Use pandas.concat instead.\n",
      "  df = df.append({'lng':loc[1],'lat':loc[0],'number of cities':int(city_count),'total population':int(population),'min distance':min_distance,'max distance':max_distance,\n"
     ]
    },
    {
     "name": "stdout",
     "output_type": "stream",
     "text": [
      "[  36.23340465 -121.88313969]\n"
     ]
    },
    {
     "name": "stderr",
     "output_type": "stream",
     "text": [
      "/var/folders/tm/g65yh1_d5f3gkpxmzywryqwc0000gn/T/ipykernel_66414/1125395041.py:39: FutureWarning: The frame.append method is deprecated and will be removed from pandas in a future version. Use pandas.concat instead.\n",
      "  df = df.append({'lng':loc[1],'lat':loc[0],'number of cities':int(city_count),'total population':int(population),'min distance':min_distance,'max distance':max_distance,\n"
     ]
    },
    {
     "name": "stdout",
     "output_type": "stream",
     "text": [
      "[  35.86187647 -121.51640622]\n"
     ]
    },
    {
     "name": "stderr",
     "output_type": "stream",
     "text": [
      "/var/folders/tm/g65yh1_d5f3gkpxmzywryqwc0000gn/T/ipykernel_66414/1125395041.py:39: FutureWarning: The frame.append method is deprecated and will be removed from pandas in a future version. Use pandas.concat instead.\n",
      "  df = df.append({'lng':loc[1],'lat':loc[0],'number of cities':int(city_count),'total population':int(population),'min distance':min_distance,'max distance':max_distance,\n"
     ]
    },
    {
     "name": "stdout",
     "output_type": "stream",
     "text": [
      "[  38.13015374 -122.27144571]\n"
     ]
    },
    {
     "name": "stderr",
     "output_type": "stream",
     "text": [
      "/var/folders/tm/g65yh1_d5f3gkpxmzywryqwc0000gn/T/ipykernel_66414/1125395041.py:39: FutureWarning: The frame.append method is deprecated and will be removed from pandas in a future version. Use pandas.concat instead.\n",
      "  df = df.append({'lng':loc[1],'lat':loc[0],'number of cities':int(city_count),'total population':int(population),'min distance':min_distance,'max distance':max_distance,\n"
     ]
    },
    {
     "name": "stdout",
     "output_type": "stream",
     "text": [
      "[  37.60219266 -122.18515548]\n"
     ]
    },
    {
     "name": "stderr",
     "output_type": "stream",
     "text": [
      "/var/folders/tm/g65yh1_d5f3gkpxmzywryqwc0000gn/T/ipykernel_66414/1125395041.py:39: FutureWarning: The frame.append method is deprecated and will be removed from pandas in a future version. Use pandas.concat instead.\n",
      "  df = df.append({'lng':loc[1],'lat':loc[0],'number of cities':int(city_count),'total population':int(population),'min distance':min_distance,'max distance':max_distance,\n"
     ]
    },
    {
     "name": "stdout",
     "output_type": "stream",
     "text": [
      "[  32.53767702 -117.1587497 ]\n"
     ]
    },
    {
     "name": "stderr",
     "output_type": "stream",
     "text": [
      "/var/folders/tm/g65yh1_d5f3gkpxmzywryqwc0000gn/T/ipykernel_66414/1125395041.py:39: FutureWarning: The frame.append method is deprecated and will be removed from pandas in a future version. Use pandas.concat instead.\n",
      "  df = df.append({'lng':loc[1],'lat':loc[0],'number of cities':int(city_count),'total population':int(population),'min distance':min_distance,'max distance':max_distance,\n"
     ]
    },
    {
     "name": "stdout",
     "output_type": "stream",
     "text": [
      "[  37.56308443 -122.55188895]\n"
     ]
    },
    {
     "name": "stderr",
     "output_type": "stream",
     "text": [
      "/var/folders/tm/g65yh1_d5f3gkpxmzywryqwc0000gn/T/ipykernel_66414/1125395041.py:39: FutureWarning: The frame.append method is deprecated and will be removed from pandas in a future version. Use pandas.concat instead.\n",
      "  df = df.append({'lng':loc[1],'lat':loc[0],'number of cities':int(city_count),'total population':int(population),'min distance':min_distance,'max distance':max_distance,\n"
     ]
    },
    {
     "name": "stdout",
     "output_type": "stream",
     "text": [
      "[  40.00734873 -124.04039539]\n"
     ]
    },
    {
     "name": "stderr",
     "output_type": "stream",
     "text": [
      "/var/folders/tm/g65yh1_d5f3gkpxmzywryqwc0000gn/T/ipykernel_66414/1125395041.py:39: FutureWarning: The frame.append method is deprecated and will be removed from pandas in a future version. Use pandas.concat instead.\n",
      "  df = df.append({'lng':loc[1],'lat':loc[0],'number of cities':int(city_count),'total population':int(population),'min distance':min_distance,'max distance':max_distance,\n"
     ]
    },
    {
     "name": "stdout",
     "output_type": "stream",
     "text": [
      "[  40.18333576 -124.27769352]\n"
     ]
    },
    {
     "name": "stderr",
     "output_type": "stream",
     "text": [
      "/var/folders/tm/g65yh1_d5f3gkpxmzywryqwc0000gn/T/ipykernel_66414/1125395041.py:39: FutureWarning: The frame.append method is deprecated and will be removed from pandas in a future version. Use pandas.concat instead.\n",
      "  df = df.append({'lng':loc[1],'lat':loc[0],'number of cities':int(city_count),'total population':int(population),'min distance':min_distance,'max distance':max_distance,\n"
     ]
    },
    {
     "name": "stdout",
     "output_type": "stream",
     "text": [
      "[  37.77817969 -122.35773594]\n"
     ]
    },
    {
     "name": "stderr",
     "output_type": "stream",
     "text": [
      "/var/folders/tm/g65yh1_d5f3gkpxmzywryqwc0000gn/T/ipykernel_66414/1125395041.py:39: FutureWarning: The frame.append method is deprecated and will be removed from pandas in a future version. Use pandas.concat instead.\n",
      "  df = df.append({'lng':loc[1],'lat':loc[0],'number of cities':int(city_count),'total population':int(population),'min distance':min_distance,'max distance':max_distance,\n"
     ]
    },
    {
     "name": "stdout",
     "output_type": "stream",
     "text": [
      "[  37.73907146 -122.27144571]\n"
     ]
    },
    {
     "name": "stderr",
     "output_type": "stream",
     "text": [
      "/var/folders/tm/g65yh1_d5f3gkpxmzywryqwc0000gn/T/ipykernel_66414/1125395041.py:39: FutureWarning: The frame.append method is deprecated and will be removed from pandas in a future version. Use pandas.concat instead.\n",
      "  df = df.append({'lng':loc[1],'lat':loc[0],'number of cities':int(city_count),'total population':int(population),'min distance':min_distance,'max distance':max_distance,\n"
     ]
    },
    {
     "name": "stdout",
     "output_type": "stream",
     "text": [
      "[  33.88691092 -118.45310312]\n"
     ]
    },
    {
     "name": "stderr",
     "output_type": "stream",
     "text": [
      "/var/folders/tm/g65yh1_d5f3gkpxmzywryqwc0000gn/T/ipykernel_66414/1125395041.py:39: FutureWarning: The frame.append method is deprecated and will be removed from pandas in a future version. Use pandas.concat instead.\n",
      "  df = df.append({'lng':loc[1],'lat':loc[0],'number of cities':int(city_count),'total population':int(population),'min distance':min_distance,'max distance':max_distance,\n"
     ]
    },
    {
     "name": "stdout",
     "output_type": "stream",
     "text": [
      "[  38.97098066 -122.72446941]\n"
     ]
    },
    {
     "name": "stderr",
     "output_type": "stream",
     "text": [
      "/var/folders/tm/g65yh1_d5f3gkpxmzywryqwc0000gn/T/ipykernel_66414/1125395041.py:39: FutureWarning: The frame.append method is deprecated and will be removed from pandas in a future version. Use pandas.concat instead.\n",
      "  df = df.append({'lng':loc[1],'lat':loc[0],'number of cities':int(city_count),'total population':int(population),'min distance':min_distance,'max distance':max_distance,\n"
     ]
    },
    {
     "name": "stdout",
     "output_type": "stream",
     "text": [
      "[  38.97098066 -123.41479123]\n"
     ]
    },
    {
     "name": "stderr",
     "output_type": "stream",
     "text": [
      "/var/folders/tm/g65yh1_d5f3gkpxmzywryqwc0000gn/T/ipykernel_66414/1125395041.py:39: FutureWarning: The frame.append method is deprecated and will be removed from pandas in a future version. Use pandas.concat instead.\n",
      "  df = df.append({'lng':loc[1],'lat':loc[0],'number of cities':int(city_count),'total population':int(population),'min distance':min_distance,'max distance':max_distance,\n"
     ]
    },
    {
     "name": "stdout",
     "output_type": "stream",
     "text": [
      "[  38.24747843 -122.98334009]\n"
     ]
    },
    {
     "name": "stderr",
     "output_type": "stream",
     "text": [
      "/var/folders/tm/g65yh1_d5f3gkpxmzywryqwc0000gn/T/ipykernel_66414/1125395041.py:39: FutureWarning: The frame.append method is deprecated and will be removed from pandas in a future version. Use pandas.concat instead.\n",
      "  df = df.append({'lng':loc[1],'lat':loc[0],'number of cities':int(city_count),'total population':int(population),'min distance':min_distance,'max distance':max_distance,\n"
     ]
    },
    {
     "name": "stdout",
     "output_type": "stream",
     "text": [
      "[  40.59397216 -122.42245361]\n"
     ]
    },
    {
     "name": "stderr",
     "output_type": "stream",
     "text": [
      "/var/folders/tm/g65yh1_d5f3gkpxmzywryqwc0000gn/T/ipykernel_66414/1125395041.py:39: FutureWarning: The frame.append method is deprecated and will be removed from pandas in a future version. Use pandas.concat instead.\n",
      "  df = df.append({'lng':loc[1],'lat':loc[0],'number of cities':int(city_count),'total population':int(population),'min distance':min_distance,'max distance':max_distance,\n"
     ]
    },
    {
     "name": "stdout",
     "output_type": "stream",
     "text": [
      "[  32.67455582 -115.36822746]\n"
     ]
    },
    {
     "name": "stderr",
     "output_type": "stream",
     "text": [
      "/var/folders/tm/g65yh1_d5f3gkpxmzywryqwc0000gn/T/ipykernel_66414/1125395041.py:39: FutureWarning: The frame.append method is deprecated and will be removed from pandas in a future version. Use pandas.concat instead.\n",
      "  df = df.append({'lng':loc[1],'lat':loc[0],'number of cities':int(city_count),'total population':int(population),'min distance':min_distance,'max distance':max_distance,\n"
     ]
    },
    {
     "name": "stdout",
     "output_type": "stream",
     "text": [
      "[  34.0042356  -118.77669147]\n"
     ]
    },
    {
     "name": "stderr",
     "output_type": "stream",
     "text": [
      "/var/folders/tm/g65yh1_d5f3gkpxmzywryqwc0000gn/T/ipykernel_66414/1125395041.py:39: FutureWarning: The frame.append method is deprecated and will be removed from pandas in a future version. Use pandas.concat instead.\n",
      "  df = df.append({'lng':loc[1],'lat':loc[0],'number of cities':int(city_count),'total population':int(population),'min distance':min_distance,'max distance':max_distance,\n"
     ]
    },
    {
     "name": "stdout",
     "output_type": "stream",
     "text": [
      "[  35.66633533 -118.43153056]\n"
     ]
    },
    {
     "name": "stderr",
     "output_type": "stream",
     "text": [
      "/var/folders/tm/g65yh1_d5f3gkpxmzywryqwc0000gn/T/ipykernel_66414/1125395041.py:39: FutureWarning: The frame.append method is deprecated and will be removed from pandas in a future version. Use pandas.concat instead.\n",
      "  df = df.append({'lng':loc[1],'lat':loc[0],'number of cities':int(city_count),'total population':int(population),'min distance':min_distance,'max distance':max_distance,\n"
     ]
    },
    {
     "name": "stdout",
     "output_type": "stream",
     "text": [
      "[  34.04334383 -120.20048024]\n"
     ]
    },
    {
     "name": "stderr",
     "output_type": "stream",
     "text": [
      "/var/folders/tm/g65yh1_d5f3gkpxmzywryqwc0000gn/T/ipykernel_66414/1125395041.py:39: FutureWarning: The frame.append method is deprecated and will be removed from pandas in a future version. Use pandas.concat instead.\n",
      "  df = df.append({'lng':loc[1],'lat':loc[0],'number of cities':int(city_count),'total population':int(population),'min distance':min_distance,'max distance':max_distance,\n"
     ]
    },
    {
     "name": "stdout",
     "output_type": "stream",
     "text": [
      "[  33.75003212 -114.50532518]\n"
     ]
    },
    {
     "name": "stderr",
     "output_type": "stream",
     "text": [
      "/var/folders/tm/g65yh1_d5f3gkpxmzywryqwc0000gn/T/ipykernel_66414/1125395041.py:39: FutureWarning: The frame.append method is deprecated and will be removed from pandas in a future version. Use pandas.concat instead.\n",
      "  df = df.append({'lng':loc[1],'lat':loc[0],'number of cities':int(city_count),'total population':int(population),'min distance':min_distance,'max distance':max_distance,\n"
     ]
    },
    {
     "name": "stdout",
     "output_type": "stream",
     "text": [
      "[  40.06601107 -124.0835405 ]\n"
     ]
    },
    {
     "name": "stderr",
     "output_type": "stream",
     "text": [
      "/var/folders/tm/g65yh1_d5f3gkpxmzywryqwc0000gn/T/ipykernel_66414/1125395041.py:39: FutureWarning: The frame.append method is deprecated and will be removed from pandas in a future version. Use pandas.concat instead.\n",
      "  df = df.append({'lng':loc[1],'lat':loc[0],'number of cities':int(city_count),'total population':int(population),'min distance':min_distance,'max distance':max_distance,\n"
     ]
    },
    {
     "name": "stdout",
     "output_type": "stream",
     "text": [
      "[  33.96512737 -120.28677047]\n"
     ]
    },
    {
     "name": "stderr",
     "output_type": "stream",
     "text": [
      "/var/folders/tm/g65yh1_d5f3gkpxmzywryqwc0000gn/T/ipykernel_66414/1125395041.py:39: FutureWarning: The frame.append method is deprecated and will be removed from pandas in a future version. Use pandas.concat instead.\n",
      "  df = df.append({'lng':loc[1],'lat':loc[0],'number of cities':int(city_count),'total population':int(population),'min distance':min_distance,'max distance':max_distance,\n"
     ]
    },
    {
     "name": "stdout",
     "output_type": "stream",
     "text": [
      "[  35.66633533 -118.45310312]\n"
     ]
    },
    {
     "name": "stderr",
     "output_type": "stream",
     "text": [
      "/var/folders/tm/g65yh1_d5f3gkpxmzywryqwc0000gn/T/ipykernel_66414/1125395041.py:39: FutureWarning: The frame.append method is deprecated and will be removed from pandas in a future version. Use pandas.concat instead.\n",
      "  df = df.append({'lng':loc[1],'lat':loc[0],'number of cities':int(city_count),'total population':int(population),'min distance':min_distance,'max distance':max_distance,\n"
     ]
    },
    {
     "name": "stdout",
     "output_type": "stream",
     "text": [
      "[  32.9092052 -117.3097576]\n"
     ]
    },
    {
     "name": "stderr",
     "output_type": "stream",
     "text": [
      "/var/folders/tm/g65yh1_d5f3gkpxmzywryqwc0000gn/T/ipykernel_66414/1125395041.py:39: FutureWarning: The frame.append method is deprecated and will be removed from pandas in a future version. Use pandas.concat instead.\n",
      "  df = df.append({'lng':loc[1],'lat':loc[0],'number of cities':int(city_count),'total population':int(population),'min distance':min_distance,'max distance':max_distance,\n"
     ]
    },
    {
     "name": "stdout",
     "output_type": "stream",
     "text": [
      "[  33.92601915 -117.59020084]\n"
     ]
    },
    {
     "name": "stderr",
     "output_type": "stream",
     "text": [
      "/var/folders/tm/g65yh1_d5f3gkpxmzywryqwc0000gn/T/ipykernel_66414/1125395041.py:39: FutureWarning: The frame.append method is deprecated and will be removed from pandas in a future version. Use pandas.concat instead.\n",
      "  df = df.append({'lng':loc[1],'lat':loc[0],'number of cities':int(city_count),'total population':int(population),'min distance':min_distance,'max distance':max_distance,\n"
     ]
    },
    {
     "name": "stdout",
     "output_type": "stream",
     "text": [
      "[  33.37850394 -115.92911395]\n"
     ]
    },
    {
     "name": "stderr",
     "output_type": "stream",
     "text": [
      "/var/folders/tm/g65yh1_d5f3gkpxmzywryqwc0000gn/T/ipykernel_66414/1125395041.py:39: FutureWarning: The frame.append method is deprecated and will be removed from pandas in a future version. Use pandas.concat instead.\n",
      "  df = df.append({'lng':loc[1],'lat':loc[0],'number of cities':int(city_count),'total population':int(population),'min distance':min_distance,'max distance':max_distance,\n"
     ]
    },
    {
     "name": "stdout",
     "output_type": "stream",
     "text": [
      "[  40.67218862 -124.29926607]\n"
     ]
    },
    {
     "name": "stderr",
     "output_type": "stream",
     "text": [
      "/var/folders/tm/g65yh1_d5f3gkpxmzywryqwc0000gn/T/ipykernel_66414/1125395041.py:39: FutureWarning: The frame.append method is deprecated and will be removed from pandas in a future version. Use pandas.concat instead.\n",
      "  df = df.append({'lng':loc[1],'lat':loc[0],'number of cities':int(city_count),'total population':int(population),'min distance':min_distance,'max distance':max_distance,\n"
     ]
    },
    {
     "name": "stdout",
     "output_type": "stream",
     "text": [
      "[  38.36480312 -123.13434799]\n"
     ]
    },
    {
     "name": "stderr",
     "output_type": "stream",
     "text": [
      "/var/folders/tm/g65yh1_d5f3gkpxmzywryqwc0000gn/T/ipykernel_66414/1125395041.py:39: FutureWarning: The frame.append method is deprecated and will be removed from pandas in a future version. Use pandas.concat instead.\n",
      "  df = df.append({'lng':loc[1],'lat':loc[0],'number of cities':int(city_count),'total population':int(population),'min distance':min_distance,'max distance':max_distance,\n"
     ]
    },
    {
     "name": "stdout",
     "output_type": "stream",
     "text": [
      "[  39.16652181 -123.82466982]\n"
     ]
    },
    {
     "name": "stderr",
     "output_type": "stream",
     "text": [
      "/var/folders/tm/g65yh1_d5f3gkpxmzywryqwc0000gn/T/ipykernel_66414/1125395041.py:39: FutureWarning: The frame.append method is deprecated and will be removed from pandas in a future version. Use pandas.concat instead.\n",
      "  df = df.append({'lng':loc[1],'lat':loc[0],'number of cities':int(city_count),'total population':int(population),'min distance':min_distance,'max distance':max_distance,\n"
     ]
    },
    {
     "name": "stdout",
     "output_type": "stream",
     "text": [
      "[  41.7281108  -124.27769352]\n"
     ]
    },
    {
     "name": "stderr",
     "output_type": "stream",
     "text": [
      "/var/folders/tm/g65yh1_d5f3gkpxmzywryqwc0000gn/T/ipykernel_66414/1125395041.py:39: FutureWarning: The frame.append method is deprecated and will be removed from pandas in a future version. Use pandas.concat instead.\n",
      "  df = df.append({'lng':loc[1],'lat':loc[0],'number of cities':int(city_count),'total population':int(population),'min distance':min_distance,'max distance':max_distance,\n"
     ]
    },
    {
     "name": "stdout",
     "output_type": "stream",
     "text": [
      "[  39.45983353 -121.66741412]\n"
     ]
    },
    {
     "name": "stderr",
     "output_type": "stream",
     "text": [
      "/var/folders/tm/g65yh1_d5f3gkpxmzywryqwc0000gn/T/ipykernel_66414/1125395041.py:39: FutureWarning: The frame.append method is deprecated and will be removed from pandas in a future version. Use pandas.concat instead.\n",
      "  df = df.append({'lng':loc[1],'lat':loc[0],'number of cities':int(city_count),'total population':int(population),'min distance':min_distance,'max distance':max_distance,\n"
     ]
    },
    {
     "name": "stdout",
     "output_type": "stream",
     "text": [
      "[  33.39805806 -115.90754139]\n"
     ]
    },
    {
     "name": "stderr",
     "output_type": "stream",
     "text": [
      "/var/folders/tm/g65yh1_d5f3gkpxmzywryqwc0000gn/T/ipykernel_66414/1125395041.py:39: FutureWarning: The frame.append method is deprecated and will be removed from pandas in a future version. Use pandas.concat instead.\n",
      "  df = df.append({'lng':loc[1],'lat':loc[0],'number of cities':int(city_count),'total population':int(population),'min distance':min_distance,'max distance':max_distance,\n"
     ]
    },
    {
     "name": "stdout",
     "output_type": "stream",
     "text": [
      "[  39.71403701 -123.88938749]\n"
     ]
    },
    {
     "name": "stderr",
     "output_type": "stream",
     "text": [
      "/var/folders/tm/g65yh1_d5f3gkpxmzywryqwc0000gn/T/ipykernel_66414/1125395041.py:39: FutureWarning: The frame.append method is deprecated and will be removed from pandas in a future version. Use pandas.concat instead.\n",
      "  df = df.append({'lng':loc[1],'lat':loc[0],'number of cities':int(city_count),'total population':int(population),'min distance':min_distance,'max distance':max_distance,\n"
     ]
    },
    {
     "name": "stdout",
     "output_type": "stream",
     "text": [
      "[  37.23066448 -120.84765695]\n"
     ]
    },
    {
     "name": "stderr",
     "output_type": "stream",
     "text": [
      "/var/folders/tm/g65yh1_d5f3gkpxmzywryqwc0000gn/T/ipykernel_66414/1125395041.py:39: FutureWarning: The frame.append method is deprecated and will be removed from pandas in a future version. Use pandas.concat instead.\n",
      "  df = df.append({'lng':loc[1],'lat':loc[0],'number of cities':int(city_count),'total population':int(population),'min distance':min_distance,'max distance':max_distance,\n"
     ]
    },
    {
     "name": "stdout",
     "output_type": "stream",
     "text": [
      "[  35.02104955 -117.3097576 ]\n"
     ]
    },
    {
     "name": "stderr",
     "output_type": "stream",
     "text": [
      "/var/folders/tm/g65yh1_d5f3gkpxmzywryqwc0000gn/T/ipykernel_66414/1125395041.py:39: FutureWarning: The frame.append method is deprecated and will be removed from pandas in a future version. Use pandas.concat instead.\n",
      "  df = df.append({'lng':loc[1],'lat':loc[0],'number of cities':int(city_count),'total population':int(population),'min distance':min_distance,'max distance':max_distance,\n"
     ]
    },
    {
     "name": "stdout",
     "output_type": "stream",
     "text": [
      "[  40.59397216 -124.3855563 ]\n"
     ]
    },
    {
     "name": "stderr",
     "output_type": "stream",
     "text": [
      "/var/folders/tm/g65yh1_d5f3gkpxmzywryqwc0000gn/T/ipykernel_66414/1125395041.py:39: FutureWarning: The frame.append method is deprecated and will be removed from pandas in a future version. Use pandas.concat instead.\n",
      "  df = df.append({'lng':loc[1],'lat':loc[0],'number of cities':int(city_count),'total population':int(population),'min distance':min_distance,'max distance':max_distance,\n"
     ]
    },
    {
     "name": "stdout",
     "output_type": "stream",
     "text": [
      "[  34.62996726 -120.69664905]\n"
     ]
    },
    {
     "name": "stderr",
     "output_type": "stream",
     "text": [
      "/var/folders/tm/g65yh1_d5f3gkpxmzywryqwc0000gn/T/ipykernel_66414/1125395041.py:39: FutureWarning: The frame.append method is deprecated and will be removed from pandas in a future version. Use pandas.concat instead.\n",
      "  df = df.append({'lng':loc[1],'lat':loc[0],'number of cities':int(city_count),'total population':int(population),'min distance':min_distance,'max distance':max_distance,\n"
     ]
    },
    {
     "name": "stdout",
     "output_type": "stream",
     "text": [
      "[  33.3198416  -115.75653349]\n"
     ]
    },
    {
     "name": "stderr",
     "output_type": "stream",
     "text": [
      "/var/folders/tm/g65yh1_d5f3gkpxmzywryqwc0000gn/T/ipykernel_66414/1125395041.py:39: FutureWarning: The frame.append method is deprecated and will be removed from pandas in a future version. Use pandas.concat instead.\n",
      "  df = df.append({'lng':loc[1],'lat':loc[0],'number of cities':int(city_count),'total population':int(population),'min distance':min_distance,'max distance':max_distance,\n"
     ]
    },
    {
     "name": "stdout",
     "output_type": "stream",
     "text": [
      "[  38.30614077 -121.66741412]\n"
     ]
    },
    {
     "name": "stderr",
     "output_type": "stream",
     "text": [
      "/var/folders/tm/g65yh1_d5f3gkpxmzywryqwc0000gn/T/ipykernel_66414/1125395041.py:39: FutureWarning: The frame.append method is deprecated and will be removed from pandas in a future version. Use pandas.concat instead.\n",
      "  df = df.append({'lng':loc[1],'lat':loc[0],'number of cities':int(city_count),'total population':int(population),'min distance':min_distance,'max distance':max_distance,\n"
     ]
    },
    {
     "name": "stdout",
     "output_type": "stream",
     "text": [
      "[  35.80321413 -121.36539832]\n"
     ]
    },
    {
     "name": "stderr",
     "output_type": "stream",
     "text": [
      "/var/folders/tm/g65yh1_d5f3gkpxmzywryqwc0000gn/T/ipykernel_66414/1125395041.py:39: FutureWarning: The frame.append method is deprecated and will be removed from pandas in a future version. Use pandas.concat instead.\n",
      "  df = df.append({'lng':loc[1],'lat':loc[0],'number of cities':int(city_count),'total population':int(population),'min distance':min_distance,'max distance':max_distance,\n"
     ]
    },
    {
     "name": "stdout",
     "output_type": "stream",
     "text": [
      "[  38.24747843 -120.50249604]\n"
     ]
    },
    {
     "name": "stderr",
     "output_type": "stream",
     "text": [
      "/var/folders/tm/g65yh1_d5f3gkpxmzywryqwc0000gn/T/ipykernel_66414/1125395041.py:39: FutureWarning: The frame.append method is deprecated and will be removed from pandas in a future version. Use pandas.concat instead.\n",
      "  df = df.append({'lng':loc[1],'lat':loc[0],'number of cities':int(city_count),'total population':int(population),'min distance':min_distance,'max distance':max_distance,\n"
     ]
    },
    {
     "name": "stdout",
     "output_type": "stream",
     "text": [
      "[  37.40665151 -122.44402617]\n"
     ]
    },
    {
     "name": "stderr",
     "output_type": "stream",
     "text": [
      "/var/folders/tm/g65yh1_d5f3gkpxmzywryqwc0000gn/T/ipykernel_66414/1125395041.py:39: FutureWarning: The frame.append method is deprecated and will be removed from pandas in a future version. Use pandas.concat instead.\n",
      "  df = df.append({'lng':loc[1],'lat':loc[0],'number of cities':int(city_count),'total population':int(population),'min distance':min_distance,'max distance':max_distance,\n"
     ]
    },
    {
     "name": "stdout",
     "output_type": "stream",
     "text": [
      "[  38.0714914  -122.72446941]\n"
     ]
    },
    {
     "name": "stderr",
     "output_type": "stream",
     "text": [
      "/var/folders/tm/g65yh1_d5f3gkpxmzywryqwc0000gn/T/ipykernel_66414/1125395041.py:39: FutureWarning: The frame.append method is deprecated and will be removed from pandas in a future version. Use pandas.concat instead.\n",
      "  df = df.append({'lng':loc[1],'lat':loc[0],'number of cities':int(city_count),'total population':int(population),'min distance':min_distance,'max distance':max_distance,\n"
     ]
    },
    {
     "name": "stdout",
     "output_type": "stream",
     "text": [
      "[  41.53256965 -124.10511306]\n"
     ]
    },
    {
     "name": "stderr",
     "output_type": "stream",
     "text": [
      "/var/folders/tm/g65yh1_d5f3gkpxmzywryqwc0000gn/T/ipykernel_66414/1125395041.py:39: FutureWarning: The frame.append method is deprecated and will be removed from pandas in a future version. Use pandas.concat instead.\n",
      "  df = df.append({'lng':loc[1],'lat':loc[0],'number of cities':int(city_count),'total population':int(population),'min distance':min_distance,'max distance':max_distance,\n"
     ]
    },
    {
     "name": "stdout",
     "output_type": "stream",
     "text": [
      "[  39.24473827 -121.94785736]\n"
     ]
    },
    {
     "name": "stderr",
     "output_type": "stream",
     "text": [
      "/var/folders/tm/g65yh1_d5f3gkpxmzywryqwc0000gn/T/ipykernel_66414/1125395041.py:39: FutureWarning: The frame.append method is deprecated and will be removed from pandas in a future version. Use pandas.concat instead.\n",
      "  df = df.append({'lng':loc[1],'lat':loc[0],'number of cities':int(city_count),'total population':int(population),'min distance':min_distance,'max distance':max_distance,\n"
     ]
    },
    {
     "name": "stdout",
     "output_type": "stream",
     "text": [
      "[  40.59397216 -124.34241119]\n"
     ]
    },
    {
     "name": "stderr",
     "output_type": "stream",
     "text": [
      "/var/folders/tm/g65yh1_d5f3gkpxmzywryqwc0000gn/T/ipykernel_66414/1125395041.py:39: FutureWarning: The frame.append method is deprecated and will be removed from pandas in a future version. Use pandas.concat instead.\n",
      "  df = df.append({'lng':loc[1],'lat':loc[0],'number of cities':int(city_count),'total population':int(population),'min distance':min_distance,'max distance':max_distance,\n"
     ]
    },
    {
     "name": "stdout",
     "output_type": "stream",
     "text": [
      "[  33.3198416 -115.7996786]\n"
     ]
    },
    {
     "name": "stderr",
     "output_type": "stream",
     "text": [
      "/var/folders/tm/g65yh1_d5f3gkpxmzywryqwc0000gn/T/ipykernel_66414/1125395041.py:39: FutureWarning: The frame.append method is deprecated and will be removed from pandas in a future version. Use pandas.concat instead.\n",
      "  df = df.append({'lng':loc[1],'lat':loc[0],'number of cities':int(city_count),'total population':int(population),'min distance':min_distance,'max distance':max_distance,\n"
     ]
    },
    {
     "name": "stdout",
     "output_type": "stream",
     "text": [
      "[  41.82588137 -124.29926607]\n"
     ]
    },
    {
     "name": "stderr",
     "output_type": "stream",
     "text": [
      "/var/folders/tm/g65yh1_d5f3gkpxmzywryqwc0000gn/T/ipykernel_66414/1125395041.py:39: FutureWarning: The frame.append method is deprecated and will be removed from pandas in a future version. Use pandas.concat instead.\n",
      "  df = df.append({'lng':loc[1],'lat':loc[0],'number of cities':int(city_count),'total population':int(population),'min distance':min_distance,'max distance':max_distance,\n"
     ]
    },
    {
     "name": "stdout",
     "output_type": "stream",
     "text": [
      "[  39.12741358 -122.03414759]\n"
     ]
    },
    {
     "name": "stderr",
     "output_type": "stream",
     "text": [
      "/var/folders/tm/g65yh1_d5f3gkpxmzywryqwc0000gn/T/ipykernel_66414/1125395041.py:39: FutureWarning: The frame.append method is deprecated and will be removed from pandas in a future version. Use pandas.concat instead.\n",
      "  df = df.append({'lng':loc[1],'lat':loc[0],'number of cities':int(city_count),'total population':int(population),'min distance':min_distance,'max distance':max_distance,\n"
     ]
    },
    {
     "name": "stdout",
     "output_type": "stream",
     "text": [
      "[  33.1829628  -115.71338838]\n"
     ]
    },
    {
     "name": "stderr",
     "output_type": "stream",
     "text": [
      "/var/folders/tm/g65yh1_d5f3gkpxmzywryqwc0000gn/T/ipykernel_66414/1125395041.py:39: FutureWarning: The frame.append method is deprecated and will be removed from pandas in a future version. Use pandas.concat instead.\n",
      "  df = df.append({'lng':loc[1],'lat':loc[0],'number of cities':int(city_count),'total population':int(population),'min distance':min_distance,'max distance':max_distance,\n"
     ]
    },
    {
     "name": "stdout",
     "output_type": "stream",
     "text": [
      "[  38.01282906 -122.94019498]\n"
     ]
    },
    {
     "name": "stderr",
     "output_type": "stream",
     "text": [
      "/var/folders/tm/g65yh1_d5f3gkpxmzywryqwc0000gn/T/ipykernel_66414/1125395041.py:39: FutureWarning: The frame.append method is deprecated and will be removed from pandas in a future version. Use pandas.concat instead.\n",
      "  df = df.append({'lng':loc[1],'lat':loc[0],'number of cities':int(city_count),'total population':int(population),'min distance':min_distance,'max distance':max_distance,\n"
     ]
    },
    {
     "name": "stdout",
     "output_type": "stream",
     "text": [
      "[  36.95690688 -121.7752769 ]\n"
     ]
    },
    {
     "name": "stderr",
     "output_type": "stream",
     "text": [
      "/var/folders/tm/g65yh1_d5f3gkpxmzywryqwc0000gn/T/ipykernel_66414/1125395041.py:39: FutureWarning: The frame.append method is deprecated and will be removed from pandas in a future version. Use pandas.concat instead.\n",
      "  df = df.append({'lng':loc[1],'lat':loc[0],'number of cities':int(city_count),'total population':int(population),'min distance':min_distance,'max distance':max_distance,\n"
     ]
    },
    {
     "name": "stdout",
     "output_type": "stream",
     "text": [
      "[  36.1747423  -121.71055923]\n"
     ]
    },
    {
     "name": "stderr",
     "output_type": "stream",
     "text": [
      "/var/folders/tm/g65yh1_d5f3gkpxmzywryqwc0000gn/T/ipykernel_66414/1125395041.py:39: FutureWarning: The frame.append method is deprecated and will be removed from pandas in a future version. Use pandas.concat instead.\n",
      "  df = df.append({'lng':loc[1],'lat':loc[0],'number of cities':int(city_count),'total population':int(population),'min distance':min_distance,'max distance':max_distance,\n"
     ]
    },
    {
     "name": "stdout",
     "output_type": "stream",
     "text": [
      "[  37.54353031 -122.20672804]\n"
     ]
    },
    {
     "name": "stderr",
     "output_type": "stream",
     "text": [
      "/var/folders/tm/g65yh1_d5f3gkpxmzywryqwc0000gn/T/ipykernel_66414/1125395041.py:39: FutureWarning: The frame.append method is deprecated and will be removed from pandas in a future version. Use pandas.concat instead.\n",
      "  df = df.append({'lng':loc[1],'lat':loc[0],'number of cities':int(city_count),'total population':int(population),'min distance':min_distance,'max distance':max_distance,\n"
     ]
    },
    {
     "name": "stdout",
     "output_type": "stream",
     "text": [
      "[  36.91779865 -122.09886526]\n"
     ]
    },
    {
     "name": "stderr",
     "output_type": "stream",
     "text": [
      "/var/folders/tm/g65yh1_d5f3gkpxmzywryqwc0000gn/T/ipykernel_66414/1125395041.py:39: FutureWarning: The frame.append method is deprecated and will be removed from pandas in a future version. Use pandas.concat instead.\n",
      "  df = df.append({'lng':loc[1],'lat':loc[0],'number of cities':int(city_count),'total population':int(population),'min distance':min_distance,'max distance':max_distance,\n"
     ]
    },
    {
     "name": "stdout",
     "output_type": "stream",
     "text": [
      "[  38.30614077 -121.1712453 ]\n"
     ]
    },
    {
     "name": "stderr",
     "output_type": "stream",
     "text": [
      "/var/folders/tm/g65yh1_d5f3gkpxmzywryqwc0000gn/T/ipykernel_66414/1125395041.py:39: FutureWarning: The frame.append method is deprecated and will be removed from pandas in a future version. Use pandas.concat instead.\n",
      "  df = df.append({'lng':loc[1],'lat':loc[0],'number of cities':int(city_count),'total population':int(population),'min distance':min_distance,'max distance':max_distance,\n"
     ]
    },
    {
     "name": "stdout",
     "output_type": "stream",
     "text": [
      "[  38.01282906 -123.02648521]\n"
     ]
    },
    {
     "name": "stderr",
     "output_type": "stream",
     "text": [
      "/var/folders/tm/g65yh1_d5f3gkpxmzywryqwc0000gn/T/ipykernel_66414/1125395041.py:39: FutureWarning: The frame.append method is deprecated and will be removed from pandas in a future version. Use pandas.concat instead.\n",
      "  df = df.append({'lng':loc[1],'lat':loc[0],'number of cities':int(city_count),'total population':int(population),'min distance':min_distance,'max distance':max_distance,\n"
     ]
    },
    {
     "name": "stdout",
     "output_type": "stream",
     "text": [
      "[  41.4543532  -124.10511306]\n"
     ]
    },
    {
     "name": "stderr",
     "output_type": "stream",
     "text": [
      "/var/folders/tm/g65yh1_d5f3gkpxmzywryqwc0000gn/T/ipykernel_66414/1125395041.py:39: FutureWarning: The frame.append method is deprecated and will be removed from pandas in a future version. Use pandas.concat instead.\n",
      "  df = df.append({'lng':loc[1],'lat':loc[0],'number of cities':int(city_count),'total population':int(population),'min distance':min_distance,'max distance':max_distance,\n"
     ]
    },
    {
     "name": "stdout",
     "output_type": "stream",
     "text": [
      "[  34.06289795 -120.09261745]\n"
     ]
    },
    {
     "name": "stderr",
     "output_type": "stream",
     "text": [
      "/var/folders/tm/g65yh1_d5f3gkpxmzywryqwc0000gn/T/ipykernel_66414/1125395041.py:39: FutureWarning: The frame.append method is deprecated and will be removed from pandas in a future version. Use pandas.concat instead.\n",
      "  df = df.append({'lng':loc[1],'lat':loc[0],'number of cities':int(city_count),'total population':int(population),'min distance':min_distance,'max distance':max_distance,\n"
     ]
    },
    {
     "name": "stdout",
     "output_type": "stream",
     "text": [
      "[  33.30028748 -115.90754139]\n"
     ]
    },
    {
     "name": "stderr",
     "output_type": "stream",
     "text": [
      "/var/folders/tm/g65yh1_d5f3gkpxmzywryqwc0000gn/T/ipykernel_66414/1125395041.py:39: FutureWarning: The frame.append method is deprecated and will be removed from pandas in a future version. Use pandas.concat instead.\n",
      "  df = df.append({'lng':loc[1],'lat':loc[0],'number of cities':int(city_count),'total population':int(population),'min distance':min_distance,'max distance':max_distance,\n"
     ]
    },
    {
     "name": "stdout",
     "output_type": "stream",
     "text": [
      "[  41.7281108  -124.19140329]\n"
     ]
    },
    {
     "name": "stderr",
     "output_type": "stream",
     "text": [
      "/var/folders/tm/g65yh1_d5f3gkpxmzywryqwc0000gn/T/ipykernel_66414/1125395041.py:39: FutureWarning: The frame.append method is deprecated and will be removed from pandas in a future version. Use pandas.concat instead.\n",
      "  df = df.append({'lng':loc[1],'lat':loc[0],'number of cities':int(city_count),'total population':int(population),'min distance':min_distance,'max distance':max_distance,\n"
     ]
    },
    {
     "name": "stdout",
     "output_type": "stream",
     "text": [
      "[  33.28073337 -115.69181582]\n"
     ]
    },
    {
     "name": "stderr",
     "output_type": "stream",
     "text": [
      "/var/folders/tm/g65yh1_d5f3gkpxmzywryqwc0000gn/T/ipykernel_66414/1125395041.py:39: FutureWarning: The frame.append method is deprecated and will be removed from pandas in a future version. Use pandas.concat instead.\n",
      "  df = df.append({'lng':loc[1],'lat':loc[0],'number of cities':int(city_count),'total population':int(population),'min distance':min_distance,'max distance':max_distance,\n"
     ]
    },
    {
     "name": "stdout",
     "output_type": "stream",
     "text": [
      "[  33.730478   -118.15108732]\n"
     ]
    },
    {
     "name": "stderr",
     "output_type": "stream",
     "text": [
      "/var/folders/tm/g65yh1_d5f3gkpxmzywryqwc0000gn/T/ipykernel_66414/1125395041.py:39: FutureWarning: The frame.append method is deprecated and will be removed from pandas in a future version. Use pandas.concat instead.\n",
      "  df = df.append({'lng':loc[1],'lat':loc[0],'number of cities':int(city_count),'total population':int(population),'min distance':min_distance,'max distance':max_distance,\n"
     ]
    },
    {
     "name": "stdout",
     "output_type": "stream",
     "text": [
      "[  32.85054285 -117.1587497 ]\n"
     ]
    },
    {
     "name": "stderr",
     "output_type": "stream",
     "text": [
      "/var/folders/tm/g65yh1_d5f3gkpxmzywryqwc0000gn/T/ipykernel_66414/1125395041.py:39: FutureWarning: The frame.append method is deprecated and will be removed from pandas in a future version. Use pandas.concat instead.\n",
      "  df = df.append({'lng':loc[1],'lat':loc[0],'number of cities':int(city_count),'total population':int(population),'min distance':min_distance,'max distance':max_distance,\n"
     ]
    },
    {
     "name": "stdout",
     "output_type": "stream",
     "text": [
      "[  41.53256965 -122.87547731]\n"
     ]
    },
    {
     "name": "stderr",
     "output_type": "stream",
     "text": [
      "/var/folders/tm/g65yh1_d5f3gkpxmzywryqwc0000gn/T/ipykernel_66414/1125395041.py:39: FutureWarning: The frame.append method is deprecated and will be removed from pandas in a future version. Use pandas.concat instead.\n",
      "  df = df.append({'lng':loc[1],'lat':loc[0],'number of cities':int(city_count),'total population':int(population),'min distance':min_distance,'max distance':max_distance,\n"
     ]
    },
    {
     "name": "stdout",
     "output_type": "stream",
     "text": [
      "[  33.1829628  -115.82125116]\n"
     ]
    },
    {
     "name": "stderr",
     "output_type": "stream",
     "text": [
      "/var/folders/tm/g65yh1_d5f3gkpxmzywryqwc0000gn/T/ipykernel_66414/1125395041.py:39: FutureWarning: The frame.append method is deprecated and will be removed from pandas in a future version. Use pandas.concat instead.\n",
      "  df = df.append({'lng':loc[1],'lat':loc[0],'number of cities':int(city_count),'total population':int(population),'min distance':min_distance,'max distance':max_distance,\n"
     ]
    },
    {
     "name": "stdout",
     "output_type": "stream",
     "text": [
      "[  33.26117926 -117.4607655 ]\n"
     ]
    },
    {
     "name": "stderr",
     "output_type": "stream",
     "text": [
      "/var/folders/tm/g65yh1_d5f3gkpxmzywryqwc0000gn/T/ipykernel_66414/1125395041.py:39: FutureWarning: The frame.append method is deprecated and will be removed from pandas in a future version. Use pandas.concat instead.\n",
      "  df = df.append({'lng':loc[1],'lat':loc[0],'number of cities':int(city_count),'total population':int(population),'min distance':min_distance,'max distance':max_distance,\n"
     ]
    },
    {
     "name": "stdout",
     "output_type": "stream",
     "text": [
      "[  33.33939571 -117.6117734 ]\n"
     ]
    },
    {
     "name": "stderr",
     "output_type": "stream",
     "text": [
      "/var/folders/tm/g65yh1_d5f3gkpxmzywryqwc0000gn/T/ipykernel_66414/1125395041.py:39: FutureWarning: The frame.append method is deprecated and will be removed from pandas in a future version. Use pandas.concat instead.\n",
      "  df = df.append({'lng':loc[1],'lat':loc[0],'number of cities':int(city_count),'total population':int(population),'min distance':min_distance,'max distance':max_distance,\n"
     ]
    },
    {
     "name": "stdout",
     "output_type": "stream",
     "text": [
      "[  33.26117926 -118.28052266]\n",
      "b'{\"message\":\"Impossible route between points\",\"code\":\"NoRoute\"}'\n",
      "[  33.00697577 -117.28818504]\n"
     ]
    },
    {
     "name": "stderr",
     "output_type": "stream",
     "text": [
      "/var/folders/tm/g65yh1_d5f3gkpxmzywryqwc0000gn/T/ipykernel_66414/1125395041.py:17: FutureWarning: The frame.append method is deprecated and will be removed from pandas in a future version. Use pandas.concat instead.\n",
      "  df = df.append({'lng':loc[1],'lat':loc[0],'number of cities':0,'total   population':0,'min distance':None,'max distance':None,\n",
      "/var/folders/tm/g65yh1_d5f3gkpxmzywryqwc0000gn/T/ipykernel_66414/1125395041.py:39: FutureWarning: The frame.append method is deprecated and will be removed from pandas in a future version. Use pandas.concat instead.\n",
      "  df = df.append({'lng':loc[1],'lat':loc[0],'number of cities':int(city_count),'total population':int(population),'min distance':min_distance,'max distance':max_distance,\n"
     ]
    },
    {
     "name": "stdout",
     "output_type": "stream",
     "text": [
      "[  36.19429642 -121.81842202]\n"
     ]
    },
    {
     "name": "stderr",
     "output_type": "stream",
     "text": [
      "/var/folders/tm/g65yh1_d5f3gkpxmzywryqwc0000gn/T/ipykernel_66414/1125395041.py:39: FutureWarning: The frame.append method is deprecated and will be removed from pandas in a future version. Use pandas.concat instead.\n",
      "  df = df.append({'lng':loc[1],'lat':loc[0],'number of cities':int(city_count),'total population':int(population),'min distance':min_distance,'max distance':max_distance,\n"
     ]
    },
    {
     "name": "stdout",
     "output_type": "stream",
     "text": [
      "[  40.63308039 -124.27769352]\n"
     ]
    },
    {
     "name": "stderr",
     "output_type": "stream",
     "text": [
      "/var/folders/tm/g65yh1_d5f3gkpxmzywryqwc0000gn/T/ipykernel_66414/1125395041.py:39: FutureWarning: The frame.append method is deprecated and will be removed from pandas in a future version. Use pandas.concat instead.\n",
      "  df = df.append({'lng':loc[1],'lat':loc[0],'number of cities':int(city_count),'total population':int(population),'min distance':min_distance,'max distance':max_distance,\n"
     ]
    },
    {
     "name": "stdout",
     "output_type": "stream",
     "text": [
      "[  34.84506252 -120.67507649]\n"
     ]
    },
    {
     "name": "stderr",
     "output_type": "stream",
     "text": [
      "/var/folders/tm/g65yh1_d5f3gkpxmzywryqwc0000gn/T/ipykernel_66414/1125395041.py:39: FutureWarning: The frame.append method is deprecated and will be removed from pandas in a future version. Use pandas.concat instead.\n",
      "  df = df.append({'lng':loc[1],'lat':loc[0],'number of cities':int(city_count),'total population':int(population),'min distance':min_distance,'max distance':max_distance,\n"
     ]
    },
    {
     "name": "stdout",
     "output_type": "stream",
     "text": [
      "[  34.43442612 -120.13576257]\n"
     ]
    },
    {
     "name": "stderr",
     "output_type": "stream",
     "text": [
      "/var/folders/tm/g65yh1_d5f3gkpxmzywryqwc0000gn/T/ipykernel_66414/1125395041.py:39: FutureWarning: The frame.append method is deprecated and will be removed from pandas in a future version. Use pandas.concat instead.\n",
      "  df = df.append({'lng':loc[1],'lat':loc[0],'number of cities':int(city_count),'total population':int(population),'min distance':min_distance,'max distance':max_distance,\n"
     ]
    },
    {
     "name": "stdout",
     "output_type": "stream",
     "text": [
      "[  32.88965108 -115.51923536]\n"
     ]
    },
    {
     "name": "stderr",
     "output_type": "stream",
     "text": [
      "/var/folders/tm/g65yh1_d5f3gkpxmzywryqwc0000gn/T/ipykernel_66414/1125395041.py:39: FutureWarning: The frame.append method is deprecated and will be removed from pandas in a future version. Use pandas.concat instead.\n",
      "  df = df.append({'lng':loc[1],'lat':loc[0],'number of cities':int(city_count),'total population':int(population),'min distance':min_distance,'max distance':max_distance,\n"
     ]
    },
    {
     "name": "stdout",
     "output_type": "stream",
     "text": [
      "[  39.67492878 -121.94785736]\n"
     ]
    },
    {
     "name": "stderr",
     "output_type": "stream",
     "text": [
      "/var/folders/tm/g65yh1_d5f3gkpxmzywryqwc0000gn/T/ipykernel_66414/1125395041.py:39: FutureWarning: The frame.append method is deprecated and will be removed from pandas in a future version. Use pandas.concat instead.\n",
      "  df = df.append({'lng':loc[1],'lat':loc[0],'number of cities':int(city_count),'total population':int(population),'min distance':min_distance,'max distance':max_distance,\n"
     ]
    },
    {
     "name": "stdout",
     "output_type": "stream",
     "text": [
      "[  38.59945249 -123.43636379]\n"
     ]
    },
    {
     "name": "stderr",
     "output_type": "stream",
     "text": [
      "/var/folders/tm/g65yh1_d5f3gkpxmzywryqwc0000gn/T/ipykernel_66414/1125395041.py:39: FutureWarning: The frame.append method is deprecated and will be removed from pandas in a future version. Use pandas.concat instead.\n",
      "  df = df.append({'lng':loc[1],'lat':loc[0],'number of cities':int(city_count),'total population':int(population),'min distance':min_distance,'max distance':max_distance,\n"
     ]
    },
    {
     "name": "stdout",
     "output_type": "stream",
     "text": [
      "[  37.99327494 -121.624269  ]\n"
     ]
    },
    {
     "name": "stderr",
     "output_type": "stream",
     "text": [
      "/var/folders/tm/g65yh1_d5f3gkpxmzywryqwc0000gn/T/ipykernel_66414/1125395041.py:39: FutureWarning: The frame.append method is deprecated and will be removed from pandas in a future version. Use pandas.concat instead.\n",
      "  df = df.append({'lng':loc[1],'lat':loc[0],'number of cities':int(city_count),'total population':int(population),'min distance':min_distance,'max distance':max_distance,\n"
     ]
    },
    {
     "name": "stdout",
     "output_type": "stream",
     "text": [
      "[  33.4567204  -117.33133015]\n"
     ]
    },
    {
     "name": "stderr",
     "output_type": "stream",
     "text": [
      "/var/folders/tm/g65yh1_d5f3gkpxmzywryqwc0000gn/T/ipykernel_66414/1125395041.py:39: FutureWarning: The frame.append method is deprecated and will be removed from pandas in a future version. Use pandas.concat instead.\n",
      "  df = df.append({'lng':loc[1],'lat':loc[0],'number of cities':int(city_count),'total population':int(population),'min distance':min_distance,'max distance':max_distance,\n"
     ]
    },
    {
     "name": "stdout",
     "output_type": "stream",
     "text": [
      "[  32.98742165 -118.53939335]\n",
      "b'{\"message\":\"Impossible route between points\",\"code\":\"NoRoute\"}'\n",
      "[  39.32295472 -121.83999457]\n"
     ]
    },
    {
     "name": "stderr",
     "output_type": "stream",
     "text": [
      "/var/folders/tm/g65yh1_d5f3gkpxmzywryqwc0000gn/T/ipykernel_66414/1125395041.py:17: FutureWarning: The frame.append method is deprecated and will be removed from pandas in a future version. Use pandas.concat instead.\n",
      "  df = df.append({'lng':loc[1],'lat':loc[0],'number of cities':0,'total   population':0,'min distance':None,'max distance':None,\n",
      "/var/folders/tm/g65yh1_d5f3gkpxmzywryqwc0000gn/T/ipykernel_66414/1125395041.py:39: FutureWarning: The frame.append method is deprecated and will be removed from pandas in a future version. Use pandas.concat instead.\n",
      "  df = df.append({'lng':loc[1],'lat':loc[0],'number of cities':int(city_count),'total population':int(population),'min distance':min_distance,'max distance':max_distance,\n"
     ]
    },
    {
     "name": "stdout",
     "output_type": "stream",
     "text": [
      "[  35.6272271  -121.19281786]\n"
     ]
    },
    {
     "name": "stderr",
     "output_type": "stream",
     "text": [
      "/var/folders/tm/g65yh1_d5f3gkpxmzywryqwc0000gn/T/ipykernel_66414/1125395041.py:39: FutureWarning: The frame.append method is deprecated and will be removed from pandas in a future version. Use pandas.concat instead.\n",
      "  df = df.append({'lng':loc[1],'lat':loc[0],'number of cities':int(city_count),'total population':int(population),'min distance':min_distance,'max distance':max_distance,\n"
     ]
    },
    {
     "name": "stdout",
     "output_type": "stream",
     "text": [
      "[  33.16340868 -117.41762038]\n"
     ]
    },
    {
     "name": "stderr",
     "output_type": "stream",
     "text": [
      "/var/folders/tm/g65yh1_d5f3gkpxmzywryqwc0000gn/T/ipykernel_66414/1125395041.py:39: FutureWarning: The frame.append method is deprecated and will be removed from pandas in a future version. Use pandas.concat instead.\n",
      "  df = df.append({'lng':loc[1],'lat':loc[0],'number of cities':int(city_count),'total population':int(population),'min distance':min_distance,'max distance':max_distance,\n"
     ]
    },
    {
     "name": "stdout",
     "output_type": "stream",
     "text": [
      "[  38.24747843 -121.71055923]\n"
     ]
    },
    {
     "name": "stderr",
     "output_type": "stream",
     "text": [
      "/var/folders/tm/g65yh1_d5f3gkpxmzywryqwc0000gn/T/ipykernel_66414/1125395041.py:39: FutureWarning: The frame.append method is deprecated and will be removed from pandas in a future version. Use pandas.concat instead.\n",
      "  df = df.append({'lng':loc[1],'lat':loc[0],'number of cities':int(city_count),'total population':int(population),'min distance':min_distance,'max distance':max_distance,\n"
     ]
    },
    {
     "name": "stdout",
     "output_type": "stream",
     "text": [
      "[  32.77232639 -118.34524033]\n",
      "b'{\"message\":\"Impossible route between points\",\"code\":\"NoRoute\"}'\n",
      "[  38.71677718 -123.50108146]\n"
     ]
    },
    {
     "name": "stderr",
     "output_type": "stream",
     "text": [
      "/var/folders/tm/g65yh1_d5f3gkpxmzywryqwc0000gn/T/ipykernel_66414/1125395041.py:17: FutureWarning: The frame.append method is deprecated and will be removed from pandas in a future version. Use pandas.concat instead.\n",
      "  df = df.append({'lng':loc[1],'lat':loc[0],'number of cities':0,'total   population':0,'min distance':None,'max distance':None,\n",
      "/var/folders/tm/g65yh1_d5f3gkpxmzywryqwc0000gn/T/ipykernel_66414/1125395041.py:39: FutureWarning: The frame.append method is deprecated and will be removed from pandas in a future version. Use pandas.concat instead.\n",
      "  df = df.append({'lng':loc[1],'lat':loc[0],'number of cities':int(city_count),'total population':int(population),'min distance':min_distance,'max distance':max_distance,\n"
     ]
    },
    {
     "name": "stdout",
     "output_type": "stream",
     "text": [
      "[  39.6944829  -123.84624238]\n"
     ]
    },
    {
     "name": "stderr",
     "output_type": "stream",
     "text": [
      "/var/folders/tm/g65yh1_d5f3gkpxmzywryqwc0000gn/T/ipykernel_66414/1125395041.py:39: FutureWarning: The frame.append method is deprecated and will be removed from pandas in a future version. Use pandas.concat instead.\n",
      "  df = df.append({'lng':loc[1],'lat':loc[0],'number of cities':int(city_count),'total population':int(population),'min distance':min_distance,'max distance':max_distance,\n"
     ]
    },
    {
     "name": "stdout",
     "output_type": "stream",
     "text": [
      "[  38.18881609 -122.98334009]\n"
     ]
    },
    {
     "name": "stderr",
     "output_type": "stream",
     "text": [
      "/var/folders/tm/g65yh1_d5f3gkpxmzywryqwc0000gn/T/ipykernel_66414/1125395041.py:39: FutureWarning: The frame.append method is deprecated and will be removed from pandas in a future version. Use pandas.concat instead.\n",
      "  df = df.append({'lng':loc[1],'lat':loc[0],'number of cities':int(city_count),'total population':int(population),'min distance':min_distance,'max distance':max_distance,\n"
     ]
    },
    {
     "name": "stdout",
     "output_type": "stream",
     "text": [
      "[  37.83684203 -122.59503407]\n"
     ]
    },
    {
     "name": "stderr",
     "output_type": "stream",
     "text": [
      "/var/folders/tm/g65yh1_d5f3gkpxmzywryqwc0000gn/T/ipykernel_66414/1125395041.py:39: FutureWarning: The frame.append method is deprecated and will be removed from pandas in a future version. Use pandas.concat instead.\n",
      "  df = df.append({'lng':loc[1],'lat':loc[0],'number of cities':int(city_count),'total population':int(population),'min distance':min_distance,'max distance':max_distance,\n"
     ]
    },
    {
     "name": "stdout",
     "output_type": "stream",
     "text": [
      "[  38.52123603 -121.36539832]\n"
     ]
    },
    {
     "name": "stderr",
     "output_type": "stream",
     "text": [
      "/var/folders/tm/g65yh1_d5f3gkpxmzywryqwc0000gn/T/ipykernel_66414/1125395041.py:39: FutureWarning: The frame.append method is deprecated and will be removed from pandas in a future version. Use pandas.concat instead.\n",
      "  df = df.append({'lng':loc[1],'lat':loc[0],'number of cities':int(city_count),'total population':int(population),'min distance':min_distance,'max distance':max_distance,\n"
     ]
    },
    {
     "name": "stdout",
     "output_type": "stream",
     "text": [
      "[  32.79188051 -118.409958  ]\n",
      "b'{\"message\":\"Impossible route between points\",\"code\":\"NoRoute\"}'\n",
      "[  41.76721903 -124.32083863]\n"
     ]
    },
    {
     "name": "stderr",
     "output_type": "stream",
     "text": [
      "/var/folders/tm/g65yh1_d5f3gkpxmzywryqwc0000gn/T/ipykernel_66414/1125395041.py:17: FutureWarning: The frame.append method is deprecated and will be removed from pandas in a future version. Use pandas.concat instead.\n",
      "  df = df.append({'lng':loc[1],'lat':loc[0],'number of cities':0,'total   population':0,'min distance':None,'max distance':None,\n",
      "/var/folders/tm/g65yh1_d5f3gkpxmzywryqwc0000gn/T/ipykernel_66414/1125395041.py:39: FutureWarning: The frame.append method is deprecated and will be removed from pandas in a future version. Use pandas.concat instead.\n",
      "  df = df.append({'lng':loc[1],'lat':loc[0],'number of cities':int(city_count),'total population':int(population),'min distance':min_distance,'max distance':max_distance,\n"
     ]
    },
    {
     "name": "stdout",
     "output_type": "stream",
     "text": [
      "[  33.94557326 -120.24362535]\n"
     ]
    },
    {
     "name": "stderr",
     "output_type": "stream",
     "text": [
      "/var/folders/tm/g65yh1_d5f3gkpxmzywryqwc0000gn/T/ipykernel_66414/1125395041.py:39: FutureWarning: The frame.append method is deprecated and will be removed from pandas in a future version. Use pandas.concat instead.\n",
      "  df = df.append({'lng':loc[1],'lat':loc[0],'number of cities':int(city_count),'total population':int(population),'min distance':min_distance,'max distance':max_distance,\n"
     ]
    },
    {
     "name": "stdout",
     "output_type": "stream",
     "text": [
      "[  34.06289795 -119.920037  ]\n"
     ]
    },
    {
     "name": "stderr",
     "output_type": "stream",
     "text": [
      "/var/folders/tm/g65yh1_d5f3gkpxmzywryqwc0000gn/T/ipykernel_66414/1125395041.py:39: FutureWarning: The frame.append method is deprecated and will be removed from pandas in a future version. Use pandas.concat instead.\n",
      "  df = df.append({'lng':loc[1],'lat':loc[0],'number of cities':int(city_count),'total population':int(population),'min distance':min_distance,'max distance':max_distance,\n"
     ]
    },
    {
     "name": "stdout",
     "output_type": "stream",
     "text": [
      "[  33.51538274 -117.76278129]\n"
     ]
    },
    {
     "name": "stderr",
     "output_type": "stream",
     "text": [
      "/var/folders/tm/g65yh1_d5f3gkpxmzywryqwc0000gn/T/ipykernel_66414/1125395041.py:39: FutureWarning: The frame.append method is deprecated and will be removed from pandas in a future version. Use pandas.concat instead.\n",
      "  df = df.append({'lng':loc[1],'lat':loc[0],'number of cities':int(city_count),'total population':int(population),'min distance':min_distance,'max distance':max_distance,\n"
     ]
    },
    {
     "name": "stdout",
     "output_type": "stream",
     "text": [
      "[  41.61078611 -124.19140329]\n"
     ]
    },
    {
     "name": "stderr",
     "output_type": "stream",
     "text": [
      "/var/folders/tm/g65yh1_d5f3gkpxmzywryqwc0000gn/T/ipykernel_66414/1125395041.py:39: FutureWarning: The frame.append method is deprecated and will be removed from pandas in a future version. Use pandas.concat instead.\n",
      "  df = df.append({'lng':loc[1],'lat':loc[0],'number of cities':int(city_count),'total population':int(population),'min distance':min_distance,'max distance':max_distance,\n"
     ]
    },
    {
     "name": "stdout",
     "output_type": "stream",
     "text": [
      "[  37.97372083 -122.81075964]\n"
     ]
    },
    {
     "name": "stderr",
     "output_type": "stream",
     "text": [
      "/var/folders/tm/g65yh1_d5f3gkpxmzywryqwc0000gn/T/ipykernel_66414/1125395041.py:39: FutureWarning: The frame.append method is deprecated and will be removed from pandas in a future version. Use pandas.concat instead.\n",
      "  df = df.append({'lng':loc[1],'lat':loc[0],'number of cities':int(city_count),'total population':int(population),'min distance':min_distance,'max distance':max_distance,\n"
     ]
    },
    {
     "name": "stdout",
     "output_type": "stream",
     "text": [
      "[  38.0714914  -121.99100247]\n"
     ]
    },
    {
     "name": "stderr",
     "output_type": "stream",
     "text": [
      "/var/folders/tm/g65yh1_d5f3gkpxmzywryqwc0000gn/T/ipykernel_66414/1125395041.py:39: FutureWarning: The frame.append method is deprecated and will be removed from pandas in a future version. Use pandas.concat instead.\n",
      "  df = df.append({'lng':loc[1],'lat':loc[0],'number of cities':int(city_count),'total population':int(population),'min distance':min_distance,'max distance':max_distance,\n"
     ]
    },
    {
     "name": "stdout",
     "output_type": "stream",
     "text": [
      "[  39.85091581 -123.88938749]\n"
     ]
    },
    {
     "name": "stderr",
     "output_type": "stream",
     "text": [
      "/var/folders/tm/g65yh1_d5f3gkpxmzywryqwc0000gn/T/ipykernel_66414/1125395041.py:39: FutureWarning: The frame.append method is deprecated and will be removed from pandas in a future version. Use pandas.concat instead.\n",
      "  df = df.append({'lng':loc[1],'lat':loc[0],'number of cities':int(city_count),'total population':int(population),'min distance':min_distance,'max distance':max_distance,\n"
     ]
    },
    {
     "name": "stdout",
     "output_type": "stream",
     "text": [
      "[  37.50442208 -122.5303164 ]\n"
     ]
    },
    {
     "name": "stderr",
     "output_type": "stream",
     "text": [
      "/var/folders/tm/g65yh1_d5f3gkpxmzywryqwc0000gn/T/ipykernel_66414/1125395041.py:39: FutureWarning: The frame.append method is deprecated and will be removed from pandas in a future version. Use pandas.concat instead.\n",
      "  df = df.append({'lng':loc[1],'lat':loc[0],'number of cities':int(city_count),'total population':int(population),'min distance':min_distance,'max distance':max_distance,\n"
     ]
    },
    {
     "name": "stdout",
     "output_type": "stream",
     "text": [
      "[  37.97372083 -122.8323322 ]\n"
     ]
    },
    {
     "name": "stderr",
     "output_type": "stream",
     "text": [
      "/var/folders/tm/g65yh1_d5f3gkpxmzywryqwc0000gn/T/ipykernel_66414/1125395041.py:39: FutureWarning: The frame.append method is deprecated and will be removed from pandas in a future version. Use pandas.concat instead.\n",
      "  df = df.append({'lng':loc[1],'lat':loc[0],'number of cities':int(city_count),'total population':int(population),'min distance':min_distance,'max distance':max_distance,\n"
     ]
    },
    {
     "name": "stdout",
     "output_type": "stream",
     "text": [
      "[  37.99327494 -122.40088105]\n"
     ]
    },
    {
     "name": "stderr",
     "output_type": "stream",
     "text": [
      "/var/folders/tm/g65yh1_d5f3gkpxmzywryqwc0000gn/T/ipykernel_66414/1125395041.py:39: FutureWarning: The frame.append method is deprecated and will be removed from pandas in a future version. Use pandas.concat instead.\n",
      "  df = df.append({'lng':loc[1],'lat':loc[0],'number of cities':int(city_count),'total population':int(population),'min distance':min_distance,'max distance':max_distance,\n"
     ]
    },
    {
     "name": "stdout",
     "output_type": "stream",
     "text": [
      "[  34.06289795 -119.94160955]\n"
     ]
    },
    {
     "name": "stderr",
     "output_type": "stream",
     "text": [
      "/var/folders/tm/g65yh1_d5f3gkpxmzywryqwc0000gn/T/ipykernel_66414/1125395041.py:39: FutureWarning: The frame.append method is deprecated and will be removed from pandas in a future version. Use pandas.concat instead.\n",
      "  df = df.append({'lng':loc[1],'lat':loc[0],'number of cities':int(city_count),'total population':int(population),'min distance':min_distance,'max distance':max_distance,\n"
     ]
    },
    {
     "name": "stdout",
     "output_type": "stream",
     "text": [
      "[  35.15792835 -120.69664905]\n"
     ]
    },
    {
     "name": "stderr",
     "output_type": "stream",
     "text": [
      "/var/folders/tm/g65yh1_d5f3gkpxmzywryqwc0000gn/T/ipykernel_66414/1125395041.py:39: FutureWarning: The frame.append method is deprecated and will be removed from pandas in a future version. Use pandas.concat instead.\n",
      "  df = df.append({'lng':loc[1],'lat':loc[0],'number of cities':int(city_count),'total population':int(population),'min distance':min_distance,'max distance':max_distance,\n"
     ]
    },
    {
     "name": "stdout",
     "output_type": "stream",
     "text": [
      "[  40.43753925 -121.88313969]\n"
     ]
    },
    {
     "name": "stderr",
     "output_type": "stream",
     "text": [
      "/var/folders/tm/g65yh1_d5f3gkpxmzywryqwc0000gn/T/ipykernel_66414/1125395041.py:39: FutureWarning: The frame.append method is deprecated and will be removed from pandas in a future version. Use pandas.concat instead.\n",
      "  df = df.append({'lng':loc[1],'lat':loc[0],'number of cities':int(city_count),'total population':int(population),'min distance':min_distance,'max distance':max_distance,\n"
     ]
    },
    {
     "name": "stdout",
     "output_type": "stream",
     "text": [
      "[  34.70818372 -120.67507649]\n"
     ]
    },
    {
     "name": "stderr",
     "output_type": "stream",
     "text": [
      "/var/folders/tm/g65yh1_d5f3gkpxmzywryqwc0000gn/T/ipykernel_66414/1125395041.py:39: FutureWarning: The frame.append method is deprecated and will be removed from pandas in a future version. Use pandas.concat instead.\n",
      "  df = df.append({'lng':loc[1],'lat':loc[0],'number of cities':int(city_count),'total population':int(population),'min distance':min_distance,'max distance':max_distance,\n"
     ]
    },
    {
     "name": "stdout",
     "output_type": "stream",
     "text": [
      "[  37.1133398  -122.35773594]\n"
     ]
    },
    {
     "name": "stderr",
     "output_type": "stream",
     "text": [
      "/var/folders/tm/g65yh1_d5f3gkpxmzywryqwc0000gn/T/ipykernel_66414/1125395041.py:39: FutureWarning: The frame.append method is deprecated and will be removed from pandas in a future version. Use pandas.concat instead.\n",
      "  df = df.append({'lng':loc[1],'lat':loc[0],'number of cities':int(city_count),'total population':int(population),'min distance':min_distance,'max distance':max_distance,\n"
     ]
    },
    {
     "name": "stdout",
     "output_type": "stream",
     "text": [
      "[  32.87009697 -117.28818504]\n"
     ]
    },
    {
     "name": "stderr",
     "output_type": "stream",
     "text": [
      "/var/folders/tm/g65yh1_d5f3gkpxmzywryqwc0000gn/T/ipykernel_66414/1125395041.py:39: FutureWarning: The frame.append method is deprecated and will be removed from pandas in a future version. Use pandas.concat instead.\n",
      "  df = df.append({'lng':loc[1],'lat':loc[0],'number of cities':int(city_count),'total population':int(population),'min distance':min_distance,'max distance':max_distance,\n"
     ]
    },
    {
     "name": "stdout",
     "output_type": "stream",
     "text": [
      "[  37.46531385 -122.55188895]\n"
     ]
    },
    {
     "name": "stderr",
     "output_type": "stream",
     "text": [
      "/var/folders/tm/g65yh1_d5f3gkpxmzywryqwc0000gn/T/ipykernel_66414/1125395041.py:39: FutureWarning: The frame.append method is deprecated and will be removed from pandas in a future version. Use pandas.concat instead.\n",
      "  df = df.append({'lng':loc[1],'lat':loc[0],'number of cities':int(city_count),'total population':int(population),'min distance':min_distance,'max distance':max_distance,\n"
     ]
    },
    {
     "name": "stdout",
     "output_type": "stream",
     "text": [
      "[  32.85054285 -117.28818504]\n"
     ]
    },
    {
     "name": "stderr",
     "output_type": "stream",
     "text": [
      "/var/folders/tm/g65yh1_d5f3gkpxmzywryqwc0000gn/T/ipykernel_66414/1125395041.py:39: FutureWarning: The frame.append method is deprecated and will be removed from pandas in a future version. Use pandas.concat instead.\n",
      "  df = df.append({'lng':loc[1],'lat':loc[0],'number of cities':int(city_count),'total population':int(population),'min distance':min_distance,'max distance':max_distance,\n"
     ]
    },
    {
     "name": "stdout",
     "output_type": "stream",
     "text": [
      "[  33.046084   -117.33133015]\n"
     ]
    },
    {
     "name": "stderr",
     "output_type": "stream",
     "text": [
      "/var/folders/tm/g65yh1_d5f3gkpxmzywryqwc0000gn/T/ipykernel_66414/1125395041.py:39: FutureWarning: The frame.append method is deprecated and will be removed from pandas in a future version. Use pandas.concat instead.\n",
      "  df = df.append({'lng':loc[1],'lat':loc[0],'number of cities':int(city_count),'total population':int(population),'min distance':min_distance,'max distance':max_distance,\n"
     ]
    },
    {
     "name": "stdout",
     "output_type": "stream",
     "text": [
      "[  38.2083702  -122.42245361]\n"
     ]
    },
    {
     "name": "stderr",
     "output_type": "stream",
     "text": [
      "/var/folders/tm/g65yh1_d5f3gkpxmzywryqwc0000gn/T/ipykernel_66414/1125395041.py:39: FutureWarning: The frame.append method is deprecated and will be removed from pandas in a future version. Use pandas.concat instead.\n",
      "  df = df.append({'lng':loc[1],'lat':loc[0],'number of cities':int(city_count),'total population':int(population),'min distance':min_distance,'max distance':max_distance,\n"
     ]
    },
    {
     "name": "stdout",
     "output_type": "stream",
     "text": [
      "[  37.62174677 -122.50874384]\n"
     ]
    },
    {
     "name": "stderr",
     "output_type": "stream",
     "text": [
      "/var/folders/tm/g65yh1_d5f3gkpxmzywryqwc0000gn/T/ipykernel_66414/1125395041.py:39: FutureWarning: The frame.append method is deprecated and will be removed from pandas in a future version. Use pandas.concat instead.\n",
      "  df = df.append({'lng':loc[1],'lat':loc[0],'number of cities':int(city_count),'total population':int(population),'min distance':min_distance,'max distance':max_distance,\n"
     ]
    },
    {
     "name": "stdout",
     "output_type": "stream",
     "text": [
      "[  41.33702851 -124.19140329]\n"
     ]
    },
    {
     "name": "stderr",
     "output_type": "stream",
     "text": [
      "/var/folders/tm/g65yh1_d5f3gkpxmzywryqwc0000gn/T/ipykernel_66414/1125395041.py:39: FutureWarning: The frame.append method is deprecated and will be removed from pandas in a future version. Use pandas.concat instead.\n",
      "  df = df.append({'lng':loc[1],'lat':loc[0],'number of cities':int(city_count),'total population':int(population),'min distance':min_distance,'max distance':max_distance,\n"
     ]
    },
    {
     "name": "stdout",
     "output_type": "stream",
     "text": [
      "[  32.9092052  -118.43153056]\n",
      "b'{\"message\":\"Impossible route between points\",\"code\":\"NoRoute\"}'\n",
      "[  37.46531385 -122.12043781]\n"
     ]
    },
    {
     "name": "stderr",
     "output_type": "stream",
     "text": [
      "/var/folders/tm/g65yh1_d5f3gkpxmzywryqwc0000gn/T/ipykernel_66414/1125395041.py:17: FutureWarning: The frame.append method is deprecated and will be removed from pandas in a future version. Use pandas.concat instead.\n",
      "  df = df.append({'lng':loc[1],'lat':loc[0],'number of cities':0,'total   population':0,'min distance':None,'max distance':None,\n",
      "/var/folders/tm/g65yh1_d5f3gkpxmzywryqwc0000gn/T/ipykernel_66414/1125395041.py:39: FutureWarning: The frame.append method is deprecated and will be removed from pandas in a future version. Use pandas.concat instead.\n",
      "  df = df.append({'lng':loc[1],'lat':loc[0],'number of cities':int(city_count),'total population':int(population),'min distance':min_distance,'max distance':max_distance,\n"
     ]
    },
    {
     "name": "stdout",
     "output_type": "stream",
     "text": [
      "[  38.61900661 -123.39321868]\n"
     ]
    },
    {
     "name": "stderr",
     "output_type": "stream",
     "text": [
      "/var/folders/tm/g65yh1_d5f3gkpxmzywryqwc0000gn/T/ipykernel_66414/1125395041.py:39: FutureWarning: The frame.append method is deprecated and will be removed from pandas in a future version. Use pandas.concat instead.\n",
      "  df = df.append({'lng':loc[1],'lat':loc[0],'number of cities':int(city_count),'total population':int(population),'min distance':min_distance,'max distance':max_distance,\n"
     ]
    },
    {
     "name": "stdout",
     "output_type": "stream",
     "text": [
      "[  36.11607996 -121.71055923]\n"
     ]
    },
    {
     "name": "stderr",
     "output_type": "stream",
     "text": [
      "/var/folders/tm/g65yh1_d5f3gkpxmzywryqwc0000gn/T/ipykernel_66414/1125395041.py:39: FutureWarning: The frame.append method is deprecated and will be removed from pandas in a future version. Use pandas.concat instead.\n",
      "  df = df.append({'lng':loc[1],'lat':loc[0],'number of cities':int(city_count),'total population':int(population),'min distance':min_distance,'max distance':max_distance,\n"
     ]
    },
    {
     "name": "stdout",
     "output_type": "stream",
     "text": [
      "[  33.24162514 -115.77810605]\n"
     ]
    },
    {
     "name": "stderr",
     "output_type": "stream",
     "text": [
      "/var/folders/tm/g65yh1_d5f3gkpxmzywryqwc0000gn/T/ipykernel_66414/1125395041.py:39: FutureWarning: The frame.append method is deprecated and will be removed from pandas in a future version. Use pandas.concat instead.\n",
      "  df = df.append({'lng':loc[1],'lat':loc[0],'number of cities':int(city_count),'total population':int(population),'min distance':min_distance,'max distance':max_distance,\n"
     ]
    },
    {
     "name": "stdout",
     "output_type": "stream",
     "text": [
      "[  39.51849587 -123.80309726]\n"
     ]
    },
    {
     "name": "stderr",
     "output_type": "stream",
     "text": [
      "/var/folders/tm/g65yh1_d5f3gkpxmzywryqwc0000gn/T/ipykernel_66414/1125395041.py:39: FutureWarning: The frame.append method is deprecated and will be removed from pandas in a future version. Use pandas.concat instead.\n",
      "  df = df.append({'lng':loc[1],'lat':loc[0],'number of cities':int(city_count),'total population':int(population),'min distance':min_distance,'max distance':max_distance,\n"
     ]
    },
    {
     "name": "stdout",
     "output_type": "stream",
     "text": [
      "[  36.89824454 -120.41620581]\n"
     ]
    },
    {
     "name": "stderr",
     "output_type": "stream",
     "text": [
      "/var/folders/tm/g65yh1_d5f3gkpxmzywryqwc0000gn/T/ipykernel_66414/1125395041.py:39: FutureWarning: The frame.append method is deprecated and will be removed from pandas in a future version. Use pandas.concat instead.\n",
      "  df = df.append({'lng':loc[1],'lat':loc[0],'number of cities':int(city_count),'total population':int(population),'min distance':min_distance,'max distance':max_distance,\n"
     ]
    },
    {
     "name": "stdout",
     "output_type": "stream",
     "text": [
      "[  40.59397216 -123.58737169]\n"
     ]
    },
    {
     "name": "stderr",
     "output_type": "stream",
     "text": [
      "/var/folders/tm/g65yh1_d5f3gkpxmzywryqwc0000gn/T/ipykernel_66414/1125395041.py:39: FutureWarning: The frame.append method is deprecated and will be removed from pandas in a future version. Use pandas.concat instead.\n",
      "  df = df.append({'lng':loc[1],'lat':loc[0],'number of cities':int(city_count),'total population':int(population),'min distance':min_distance,'max distance':max_distance,\n"
     ]
    },
    {
     "name": "stdout",
     "output_type": "stream",
     "text": [
      "[  41.57167788 -124.10511306]\n"
     ]
    },
    {
     "name": "stderr",
     "output_type": "stream",
     "text": [
      "/var/folders/tm/g65yh1_d5f3gkpxmzywryqwc0000gn/T/ipykernel_66414/1125395041.py:39: FutureWarning: The frame.append method is deprecated and will be removed from pandas in a future version. Use pandas.concat instead.\n",
      "  df = df.append({'lng':loc[1],'lat':loc[0],'number of cities':int(city_count),'total population':int(population),'min distance':min_distance,'max distance':max_distance,\n"
     ]
    },
    {
     "name": "stdout",
     "output_type": "stream",
     "text": [
      "[  32.83098874 -118.34524033]\n",
      "b'{\"message\":\"Impossible route between points\",\"code\":\"NoRoute\"}'\n",
      "[  40.33976867 -123.91096005]\n"
     ]
    },
    {
     "name": "stderr",
     "output_type": "stream",
     "text": [
      "/var/folders/tm/g65yh1_d5f3gkpxmzywryqwc0000gn/T/ipykernel_66414/1125395041.py:17: FutureWarning: The frame.append method is deprecated and will be removed from pandas in a future version. Use pandas.concat instead.\n",
      "  df = df.append({'lng':loc[1],'lat':loc[0],'number of cities':0,'total   population':0,'min distance':None,'max distance':None,\n",
      "/var/folders/tm/g65yh1_d5f3gkpxmzywryqwc0000gn/T/ipykernel_66414/1125395041.py:39: FutureWarning: The frame.append method is deprecated and will be removed from pandas in a future version. Use pandas.concat instead.\n",
      "  df = df.append({'lng':loc[1],'lat':loc[0],'number of cities':int(city_count),'total population':int(population),'min distance':min_distance,'max distance':max_distance,\n"
     ]
    },
    {
     "name": "stdout",
     "output_type": "stream",
     "text": [
      "[  41.20014971 -124.14825817]\n"
     ]
    },
    {
     "name": "stderr",
     "output_type": "stream",
     "text": [
      "/var/folders/tm/g65yh1_d5f3gkpxmzywryqwc0000gn/T/ipykernel_66414/1125395041.py:39: FutureWarning: The frame.append method is deprecated and will be removed from pandas in a future version. Use pandas.concat instead.\n",
      "  df = df.append({'lng':loc[1],'lat':loc[0],'number of cities':int(city_count),'total population':int(population),'min distance':min_distance,'max distance':max_distance,\n"
     ]
    },
    {
     "name": "stdout",
     "output_type": "stream",
     "text": [
      "[  41.18059559 -122.14201037]\n"
     ]
    },
    {
     "name": "stderr",
     "output_type": "stream",
     "text": [
      "/var/folders/tm/g65yh1_d5f3gkpxmzywryqwc0000gn/T/ipykernel_66414/1125395041.py:39: FutureWarning: The frame.append method is deprecated and will be removed from pandas in a future version. Use pandas.concat instead.\n",
      "  df = df.append({'lng':loc[1],'lat':loc[0],'number of cities':int(city_count),'total population':int(population),'min distance':min_distance,'max distance':max_distance,\n"
     ]
    },
    {
     "name": "stdout",
     "output_type": "stream",
     "text": [
      "[  34.45398023 -120.39463325]\n"
     ]
    },
    {
     "name": "stderr",
     "output_type": "stream",
     "text": [
      "/var/folders/tm/g65yh1_d5f3gkpxmzywryqwc0000gn/T/ipykernel_66414/1125395041.py:39: FutureWarning: The frame.append method is deprecated and will be removed from pandas in a future version. Use pandas.concat instead.\n",
      "  df = df.append({'lng':loc[1],'lat':loc[0],'number of cities':int(city_count),'total population':int(population),'min distance':min_distance,'max distance':max_distance,\n"
     ]
    },
    {
     "name": "stdout",
     "output_type": "stream",
     "text": [
      "[  37.73907146 -120.37306069]\n"
     ]
    },
    {
     "name": "stderr",
     "output_type": "stream",
     "text": [
      "/var/folders/tm/g65yh1_d5f3gkpxmzywryqwc0000gn/T/ipykernel_66414/1125395041.py:39: FutureWarning: The frame.append method is deprecated and will be removed from pandas in a future version. Use pandas.concat instead.\n",
      "  df = df.append({'lng':loc[1],'lat':loc[0],'number of cities':int(city_count),'total population':int(population),'min distance':min_distance,'max distance':max_distance,\n"
     ]
    },
    {
     "name": "stdout",
     "output_type": "stream",
     "text": [
      "[  41.04371679 -124.16983073]\n"
     ]
    },
    {
     "name": "stderr",
     "output_type": "stream",
     "text": [
      "/var/folders/tm/g65yh1_d5f3gkpxmzywryqwc0000gn/T/ipykernel_66414/1125395041.py:39: FutureWarning: The frame.append method is deprecated and will be removed from pandas in a future version. Use pandas.concat instead.\n",
      "  df = df.append({'lng':loc[1],'lat':loc[0],'number of cities':int(city_count),'total population':int(population),'min distance':min_distance,'max distance':max_distance,\n"
     ]
    },
    {
     "name": "stdout",
     "output_type": "stream",
     "text": [
      "[  36.19429642 -121.79684946]\n"
     ]
    },
    {
     "name": "stderr",
     "output_type": "stream",
     "text": [
      "/var/folders/tm/g65yh1_d5f3gkpxmzywryqwc0000gn/T/ipykernel_66414/1125395041.py:39: FutureWarning: The frame.append method is deprecated and will be removed from pandas in a future version. Use pandas.concat instead.\n",
      "  df = df.append({'lng':loc[1],'lat':loc[0],'number of cities':int(city_count),'total population':int(population),'min distance':min_distance,'max distance':max_distance,\n"
     ]
    },
    {
     "name": "stdout",
     "output_type": "stream",
     "text": [
      "[  40.32021456 -124.3855563 ]\n"
     ]
    },
    {
     "name": "stderr",
     "output_type": "stream",
     "text": [
      "/var/folders/tm/g65yh1_d5f3gkpxmzywryqwc0000gn/T/ipykernel_66414/1125395041.py:39: FutureWarning: The frame.append method is deprecated and will be removed from pandas in a future version. Use pandas.concat instead.\n",
      "  df = df.append({'lng':loc[1],'lat':loc[0],'number of cities':int(city_count),'total population':int(population),'min distance':min_distance,'max distance':max_distance,\n"
     ]
    },
    {
     "name": "stdout",
     "output_type": "stream",
     "text": [
      "[  35.88143059 -121.4732611 ]\n"
     ]
    },
    {
     "name": "stderr",
     "output_type": "stream",
     "text": [
      "/var/folders/tm/g65yh1_d5f3gkpxmzywryqwc0000gn/T/ipykernel_66414/1125395041.py:39: FutureWarning: The frame.append method is deprecated and will be removed from pandas in a future version. Use pandas.concat instead.\n",
      "  df = df.append({'lng':loc[1],'lat':loc[0],'number of cities':int(city_count),'total population':int(population),'min distance':min_distance,'max distance':max_distance,\n"
     ]
    },
    {
     "name": "stdout",
     "output_type": "stream",
     "text": [
      "[  33.4567204  -118.38838545]\n",
      "b'{\"message\":\"Impossible route between points\",\"code\":\"NoRoute\"}'\n",
      "[  38.63856072 -123.45793635]\n"
     ]
    },
    {
     "name": "stderr",
     "output_type": "stream",
     "text": [
      "/var/folders/tm/g65yh1_d5f3gkpxmzywryqwc0000gn/T/ipykernel_66414/1125395041.py:17: FutureWarning: The frame.append method is deprecated and will be removed from pandas in a future version. Use pandas.concat instead.\n",
      "  df = df.append({'lng':loc[1],'lat':loc[0],'number of cities':0,'total   population':0,'min distance':None,'max distance':None,\n",
      "/var/folders/tm/g65yh1_d5f3gkpxmzywryqwc0000gn/T/ipykernel_66414/1125395041.py:39: FutureWarning: The frame.append method is deprecated and will be removed from pandas in a future version. Use pandas.concat instead.\n",
      "  df = df.append({'lng':loc[1],'lat':loc[0],'number of cities':int(city_count),'total population':int(population),'min distance':min_distance,'max distance':max_distance,\n"
     ]
    },
    {
     "name": "stdout",
     "output_type": "stream",
     "text": [
      "[  37.48486797 -122.48717128]\n"
     ]
    },
    {
     "name": "stderr",
     "output_type": "stream",
     "text": [
      "/var/folders/tm/g65yh1_d5f3gkpxmzywryqwc0000gn/T/ipykernel_66414/1125395041.py:39: FutureWarning: The frame.append method is deprecated and will be removed from pandas in a future version. Use pandas.concat instead.\n",
      "  df = df.append({'lng':loc[1],'lat':loc[0],'number of cities':int(city_count),'total population':int(population),'min distance':min_distance,'max distance':max_distance,\n"
     ]
    },
    {
     "name": "stdout",
     "output_type": "stream",
     "text": [
      "[  41.4543532  -122.85390475]\n"
     ]
    },
    {
     "name": "stderr",
     "output_type": "stream",
     "text": [
      "/var/folders/tm/g65yh1_d5f3gkpxmzywryqwc0000gn/T/ipykernel_66414/1125395041.py:39: FutureWarning: The frame.append method is deprecated and will be removed from pandas in a future version. Use pandas.concat instead.\n",
      "  df = df.append({'lng':loc[1],'lat':loc[0],'number of cities':int(city_count),'total population':int(population),'min distance':min_distance,'max distance':max_distance,\n"
     ]
    },
    {
     "name": "stdout",
     "output_type": "stream",
     "text": [
      "[  33.26117926 -114.6994782 ]\n"
     ]
    },
    {
     "name": "stderr",
     "output_type": "stream",
     "text": [
      "/var/folders/tm/g65yh1_d5f3gkpxmzywryqwc0000gn/T/ipykernel_66414/1125395041.py:39: FutureWarning: The frame.append method is deprecated and will be removed from pandas in a future version. Use pandas.concat instead.\n",
      "  df = df.append({'lng':loc[1],'lat':loc[0],'number of cities':int(city_count),'total population':int(population),'min distance':min_distance,'max distance':max_distance,\n"
     ]
    },
    {
     "name": "stdout",
     "output_type": "stream",
     "text": [
      "[  34.02378972 -120.09261745]\n"
     ]
    },
    {
     "name": "stderr",
     "output_type": "stream",
     "text": [
      "/var/folders/tm/g65yh1_d5f3gkpxmzywryqwc0000gn/T/ipykernel_66414/1125395041.py:39: FutureWarning: The frame.append method is deprecated and will be removed from pandas in a future version. Use pandas.concat instead.\n",
      "  df = df.append({'lng':loc[1],'lat':loc[0],'number of cities':int(city_count),'total population':int(population),'min distance':min_distance,'max distance':max_distance,\n"
     ]
    },
    {
     "name": "stdout",
     "output_type": "stream",
     "text": [
      "[  37.54353031 -122.18515548]\n"
     ]
    },
    {
     "name": "stderr",
     "output_type": "stream",
     "text": [
      "/var/folders/tm/g65yh1_d5f3gkpxmzywryqwc0000gn/T/ipykernel_66414/1125395041.py:39: FutureWarning: The frame.append method is deprecated and will be removed from pandas in a future version. Use pandas.concat instead.\n",
      "  df = df.append({'lng':loc[1],'lat':loc[0],'number of cities':int(city_count),'total population':int(population),'min distance':min_distance,'max distance':max_distance,\n"
     ]
    },
    {
     "name": "stdout",
     "output_type": "stream",
     "text": [
      "[  34.25843909 -114.13859171]\n"
     ]
    },
    {
     "name": "stderr",
     "output_type": "stream",
     "text": [
      "/var/folders/tm/g65yh1_d5f3gkpxmzywryqwc0000gn/T/ipykernel_66414/1125395041.py:39: FutureWarning: The frame.append method is deprecated and will be removed from pandas in a future version. Use pandas.concat instead.\n",
      "  df = df.append({'lng':loc[1],'lat':loc[0],'number of cities':int(city_count),'total population':int(population),'min distance':min_distance,'max distance':max_distance,\n"
     ]
    },
    {
     "name": "stdout",
     "output_type": "stream",
     "text": [
      "[  41.92365194 -124.27769352]\n"
     ]
    },
    {
     "name": "stderr",
     "output_type": "stream",
     "text": [
      "/var/folders/tm/g65yh1_d5f3gkpxmzywryqwc0000gn/T/ipykernel_66414/1125395041.py:39: FutureWarning: The frame.append method is deprecated and will be removed from pandas in a future version. Use pandas.concat instead.\n",
      "  df = df.append({'lng':loc[1],'lat':loc[0],'number of cities':int(city_count),'total population':int(population),'min distance':min_distance,'max distance':max_distance,\n"
     ]
    },
    {
     "name": "stdout",
     "output_type": "stream",
     "text": [
      "[  32.65500171 -117.1587497 ]\n"
     ]
    },
    {
     "name": "stderr",
     "output_type": "stream",
     "text": [
      "/var/folders/tm/g65yh1_d5f3gkpxmzywryqwc0000gn/T/ipykernel_66414/1125395041.py:39: FutureWarning: The frame.append method is deprecated and will be removed from pandas in a future version. Use pandas.concat instead.\n",
      "  df = df.append({'lng':loc[1],'lat':loc[0],'number of cities':int(city_count),'total population':int(population),'min distance':min_distance,'max distance':max_distance,\n"
     ]
    },
    {
     "name": "stdout",
     "output_type": "stream",
     "text": [
      "[  37.50442208 -122.18515548]\n"
     ]
    },
    {
     "name": "stderr",
     "output_type": "stream",
     "text": [
      "/var/folders/tm/g65yh1_d5f3gkpxmzywryqwc0000gn/T/ipykernel_66414/1125395041.py:39: FutureWarning: The frame.append method is deprecated and will be removed from pandas in a future version. Use pandas.concat instead.\n",
      "  df = df.append({'lng':loc[1],'lat':loc[0],'number of cities':int(city_count),'total population':int(population),'min distance':min_distance,'max distance':max_distance,\n"
     ]
    },
    {
     "name": "stdout",
     "output_type": "stream",
     "text": [
      "[  34.41487201 -120.43777837]\n"
     ]
    },
    {
     "name": "stderr",
     "output_type": "stream",
     "text": [
      "/var/folders/tm/g65yh1_d5f3gkpxmzywryqwc0000gn/T/ipykernel_66414/1125395041.py:39: FutureWarning: The frame.append method is deprecated and will be removed from pandas in a future version. Use pandas.concat instead.\n",
      "  df = df.append({'lng':loc[1],'lat':loc[0],'number of cities':int(city_count),'total population':int(population),'min distance':min_distance,'max distance':max_distance,\n"
     ]
    },
    {
     "name": "stdout",
     "output_type": "stream",
     "text": [
      "[  40.75040508 -122.20672804]\n"
     ]
    },
    {
     "name": "stderr",
     "output_type": "stream",
     "text": [
      "/var/folders/tm/g65yh1_d5f3gkpxmzywryqwc0000gn/T/ipykernel_66414/1125395041.py:39: FutureWarning: The frame.append method is deprecated and will be removed from pandas in a future version. Use pandas.concat instead.\n",
      "  df = df.append({'lng':loc[1],'lat':loc[0],'number of cities':int(city_count),'total population':int(population),'min distance':min_distance,'max distance':max_distance,\n"
     ]
    },
    {
     "name": "stdout",
     "output_type": "stream",
     "text": [
      "[  40.22244399 -122.5303164 ]\n"
     ]
    },
    {
     "name": "stderr",
     "output_type": "stream",
     "text": [
      "/var/folders/tm/g65yh1_d5f3gkpxmzywryqwc0000gn/T/ipykernel_66414/1125395041.py:39: FutureWarning: The frame.append method is deprecated and will be removed from pandas in a future version. Use pandas.concat instead.\n",
      "  df = df.append({'lng':loc[1],'lat':loc[0],'number of cities':int(city_count),'total population':int(population),'min distance':min_distance,'max distance':max_distance,\n"
     ]
    },
    {
     "name": "stdout",
     "output_type": "stream",
     "text": [
      "[  33.90646503 -120.00632722]\n"
     ]
    },
    {
     "name": "stderr",
     "output_type": "stream",
     "text": [
      "/var/folders/tm/g65yh1_d5f3gkpxmzywryqwc0000gn/T/ipykernel_66414/1125395041.py:39: FutureWarning: The frame.append method is deprecated and will be removed from pandas in a future version. Use pandas.concat instead.\n",
      "  df = df.append({'lng':loc[1],'lat':loc[0],'number of cities':int(city_count),'total population':int(population),'min distance':min_distance,'max distance':max_distance,\n"
     ]
    },
    {
     "name": "stdout",
     "output_type": "stream",
     "text": [
      "[  40.90683799 -122.70289685]\n"
     ]
    },
    {
     "name": "stderr",
     "output_type": "stream",
     "text": [
      "/var/folders/tm/g65yh1_d5f3gkpxmzywryqwc0000gn/T/ipykernel_66414/1125395041.py:39: FutureWarning: The frame.append method is deprecated and will be removed from pandas in a future version. Use pandas.concat instead.\n",
      "  df = df.append({'lng':loc[1],'lat':loc[0],'number of cities':int(city_count),'total population':int(population),'min distance':min_distance,'max distance':max_distance,\n"
     ]
    },
    {
     "name": "stdout",
     "output_type": "stream",
     "text": [
      "[  39.34250884 -121.81842202]\n"
     ]
    },
    {
     "name": "stderr",
     "output_type": "stream",
     "text": [
      "/var/folders/tm/g65yh1_d5f3gkpxmzywryqwc0000gn/T/ipykernel_66414/1125395041.py:39: FutureWarning: The frame.append method is deprecated and will be removed from pandas in a future version. Use pandas.concat instead.\n",
      "  df = df.append({'lng':loc[1],'lat':loc[0],'number of cities':int(city_count),'total population':int(population),'min distance':min_distance,'max distance':max_distance,\n"
     ]
    },
    {
     "name": "stdout",
     "output_type": "stream",
     "text": [
      "[  33.24162514 -117.43919294]\n"
     ]
    },
    {
     "name": "stderr",
     "output_type": "stream",
     "text": [
      "/var/folders/tm/g65yh1_d5f3gkpxmzywryqwc0000gn/T/ipykernel_66414/1125395041.py:39: FutureWarning: The frame.append method is deprecated and will be removed from pandas in a future version. Use pandas.concat instead.\n",
      "  df = df.append({'lng':loc[1],'lat':loc[0],'number of cities':int(city_count),'total population':int(population),'min distance':min_distance,'max distance':max_distance,\n"
     ]
    },
    {
     "name": "stdout",
     "output_type": "stream",
     "text": [
      "[  32.85054285 -118.32366778]\n",
      "b'{\"message\":\"Impossible route between points\",\"code\":\"NoRoute\"}'\n",
      "[  34.68862961 -120.65350394]\n"
     ]
    },
    {
     "name": "stderr",
     "output_type": "stream",
     "text": [
      "/var/folders/tm/g65yh1_d5f3gkpxmzywryqwc0000gn/T/ipykernel_66414/1125395041.py:17: FutureWarning: The frame.append method is deprecated and will be removed from pandas in a future version. Use pandas.concat instead.\n",
      "  df = df.append({'lng':loc[1],'lat':loc[0],'number of cities':0,'total   population':0,'min distance':None,'max distance':None,\n",
      "/var/folders/tm/g65yh1_d5f3gkpxmzywryqwc0000gn/T/ipykernel_66414/1125395041.py:39: FutureWarning: The frame.append method is deprecated and will be removed from pandas in a future version. Use pandas.concat instead.\n",
      "  df = df.append({'lng':loc[1],'lat':loc[0],'number of cities':int(city_count),'total population':int(population),'min distance':min_distance,'max distance':max_distance,\n"
     ]
    },
    {
     "name": "stdout",
     "output_type": "stream",
     "text": [
      "[  37.44575974 -121.94785736]\n"
     ]
    },
    {
     "name": "stderr",
     "output_type": "stream",
     "text": [
      "/var/folders/tm/g65yh1_d5f3gkpxmzywryqwc0000gn/T/ipykernel_66414/1125395041.py:39: FutureWarning: The frame.append method is deprecated and will be removed from pandas in a future version. Use pandas.concat instead.\n",
      "  df = df.append({'lng':loc[1],'lat':loc[0],'number of cities':int(city_count),'total population':int(population),'min distance':min_distance,'max distance':max_distance,\n"
     ]
    },
    {
     "name": "stdout",
     "output_type": "stream",
     "text": [
      "[  33.8673568  -120.11419001]\n"
     ]
    },
    {
     "name": "stderr",
     "output_type": "stream",
     "text": [
      "/var/folders/tm/g65yh1_d5f3gkpxmzywryqwc0000gn/T/ipykernel_66414/1125395041.py:39: FutureWarning: The frame.append method is deprecated and will be removed from pandas in a future version. Use pandas.concat instead.\n",
      "  df = df.append({'lng':loc[1],'lat':loc[0],'number of cities':int(city_count),'total population':int(population),'min distance':min_distance,'max distance':max_distance,\n"
     ]
    },
    {
     "name": "stdout",
     "output_type": "stream",
     "text": [
      "[  40.71129685 -124.27769352]\n"
     ]
    },
    {
     "name": "stderr",
     "output_type": "stream",
     "text": [
      "/var/folders/tm/g65yh1_d5f3gkpxmzywryqwc0000gn/T/ipykernel_66414/1125395041.py:39: FutureWarning: The frame.append method is deprecated and will be removed from pandas in a future version. Use pandas.concat instead.\n",
      "  df = df.append({'lng':loc[1],'lat':loc[0],'number of cities':int(city_count),'total population':int(population),'min distance':min_distance,'max distance':max_distance,\n"
     ]
    },
    {
     "name": "stdout",
     "output_type": "stream",
     "text": [
      "[  37.1133398  -119.87689188]\n"
     ]
    },
    {
     "name": "stderr",
     "output_type": "stream",
     "text": [
      "/var/folders/tm/g65yh1_d5f3gkpxmzywryqwc0000gn/T/ipykernel_66414/1125395041.py:39: FutureWarning: The frame.append method is deprecated and will be removed from pandas in a future version. Use pandas.concat instead.\n",
      "  df = df.append({'lng':loc[1],'lat':loc[0],'number of cities':int(city_count),'total population':int(population),'min distance':min_distance,'max distance':max_distance,\n"
     ]
    },
    {
     "name": "stdout",
     "output_type": "stream",
     "text": [
      "[  35.60767299 -121.25753553]\n"
     ]
    },
    {
     "name": "stderr",
     "output_type": "stream",
     "text": [
      "/var/folders/tm/g65yh1_d5f3gkpxmzywryqwc0000gn/T/ipykernel_66414/1125395041.py:39: FutureWarning: The frame.append method is deprecated and will be removed from pandas in a future version. Use pandas.concat instead.\n",
      "  df = df.append({'lng':loc[1],'lat':loc[0],'number of cities':int(city_count),'total population':int(population),'min distance':min_distance,'max distance':max_distance,\n"
     ]
    },
    {
     "name": "stdout",
     "output_type": "stream",
     "text": [
      "[  32.77232639 -118.409958  ]\n",
      "b'{\"message\":\"Impossible route between points\",\"code\":\"NoRoute\"}'\n",
      "[  37.75862557 -123.13434799]\n"
     ]
    },
    {
     "name": "stderr",
     "output_type": "stream",
     "text": [
      "/var/folders/tm/g65yh1_d5f3gkpxmzywryqwc0000gn/T/ipykernel_66414/1125395041.py:17: FutureWarning: The frame.append method is deprecated and will be removed from pandas in a future version. Use pandas.concat instead.\n",
      "  df = df.append({'lng':loc[1],'lat':loc[0],'number of cities':0,'total   population':0,'min distance':None,'max distance':None,\n",
      "/var/folders/tm/g65yh1_d5f3gkpxmzywryqwc0000gn/T/ipykernel_66414/1125395041.py:39: FutureWarning: The frame.append method is deprecated and will be removed from pandas in a future version. Use pandas.concat instead.\n",
      "  df = df.append({'lng':loc[1],'lat':loc[0],'number of cities':int(city_count),'total population':int(population),'min distance':min_distance,'max distance':max_distance,\n"
     ]
    },
    {
     "name": "stdout",
     "output_type": "stream",
     "text": [
      "[  33.90646503 -118.47467568]\n"
     ]
    },
    {
     "name": "stderr",
     "output_type": "stream",
     "text": [
      "/var/folders/tm/g65yh1_d5f3gkpxmzywryqwc0000gn/T/ipykernel_66414/1125395041.py:39: FutureWarning: The frame.append method is deprecated and will be removed from pandas in a future version. Use pandas.concat instead.\n",
      "  df = df.append({'lng':loc[1],'lat':loc[0],'number of cities':int(city_count),'total population':int(population),'min distance':min_distance,'max distance':max_distance,\n"
     ]
    },
    {
     "name": "stdout",
     "output_type": "stream",
     "text": [
      "[  34.12156029 -120.43777837]\n"
     ]
    },
    {
     "name": "stderr",
     "output_type": "stream",
     "text": [
      "/var/folders/tm/g65yh1_d5f3gkpxmzywryqwc0000gn/T/ipykernel_66414/1125395041.py:39: FutureWarning: The frame.append method is deprecated and will be removed from pandas in a future version. Use pandas.concat instead.\n",
      "  df = df.append({'lng':loc[1],'lat':loc[0],'number of cities':int(city_count),'total population':int(population),'min distance':min_distance,'max distance':max_distance,\n"
     ]
    },
    {
     "name": "stdout",
     "output_type": "stream",
     "text": [
      "[  40.5157557  -124.45027397]\n"
     ]
    },
    {
     "name": "stderr",
     "output_type": "stream",
     "text": [
      "/var/folders/tm/g65yh1_d5f3gkpxmzywryqwc0000gn/T/ipykernel_66414/1125395041.py:39: FutureWarning: The frame.append method is deprecated and will be removed from pandas in a future version. Use pandas.concat instead.\n",
      "  df = df.append({'lng':loc[1],'lat':loc[0],'number of cities':int(city_count),'total population':int(population),'min distance':min_distance,'max distance':max_distance,\n"
     ]
    },
    {
     "name": "stdout",
     "output_type": "stream",
     "text": [
      "[  38.22792432 -121.73213179]\n"
     ]
    },
    {
     "name": "stderr",
     "output_type": "stream",
     "text": [
      "/var/folders/tm/g65yh1_d5f3gkpxmzywryqwc0000gn/T/ipykernel_66414/1125395041.py:39: FutureWarning: The frame.append method is deprecated and will be removed from pandas in a future version. Use pandas.concat instead.\n",
      "  df = df.append({'lng':loc[1],'lat':loc[0],'number of cities':int(city_count),'total population':int(population),'min distance':min_distance,'max distance':max_distance,\n"
     ]
    },
    {
     "name": "stdout",
     "output_type": "stream",
     "text": [
      "[  37.77817969 -123.11277544]\n"
     ]
    },
    {
     "name": "stderr",
     "output_type": "stream",
     "text": [
      "/var/folders/tm/g65yh1_d5f3gkpxmzywryqwc0000gn/T/ipykernel_66414/1125395041.py:39: FutureWarning: The frame.append method is deprecated and will be removed from pandas in a future version. Use pandas.concat instead.\n",
      "  df = df.append({'lng':loc[1],'lat':loc[0],'number of cities':int(city_count),'total population':int(population),'min distance':min_distance,'max distance':max_distance,\n"
     ]
    },
    {
     "name": "stdout",
     "output_type": "stream",
     "text": [
      "[  33.67181566 -118.06479709]\n"
     ]
    },
    {
     "name": "stderr",
     "output_type": "stream",
     "text": [
      "/var/folders/tm/g65yh1_d5f3gkpxmzywryqwc0000gn/T/ipykernel_66414/1125395041.py:39: FutureWarning: The frame.append method is deprecated and will be removed from pandas in a future version. Use pandas.concat instead.\n",
      "  df = df.append({'lng':loc[1],'lat':loc[0],'number of cities':int(city_count),'total population':int(population),'min distance':min_distance,'max distance':max_distance,\n"
     ]
    },
    {
     "name": "stdout",
     "output_type": "stream",
     "text": [
      "[  37.87595026 -122.33616338]\n"
     ]
    },
    {
     "name": "stderr",
     "output_type": "stream",
     "text": [
      "/var/folders/tm/g65yh1_d5f3gkpxmzywryqwc0000gn/T/ipykernel_66414/1125395041.py:39: FutureWarning: The frame.append method is deprecated and will be removed from pandas in a future version. Use pandas.concat instead.\n",
      "  df = df.append({'lng':loc[1],'lat':loc[0],'number of cities':int(city_count),'total population':int(population),'min distance':min_distance,'max distance':max_distance,\n"
     ]
    },
    {
     "name": "stdout",
     "output_type": "stream",
     "text": [
      "[  36.62448693 -121.94785736]\n"
     ]
    },
    {
     "name": "stderr",
     "output_type": "stream",
     "text": [
      "/var/folders/tm/g65yh1_d5f3gkpxmzywryqwc0000gn/T/ipykernel_66414/1125395041.py:39: FutureWarning: The frame.append method is deprecated and will be removed from pandas in a future version. Use pandas.concat instead.\n",
      "  df = df.append({'lng':loc[1],'lat':loc[0],'number of cities':int(city_count),'total population':int(population),'min distance':min_distance,'max distance':max_distance,\n"
     ]
    },
    {
     "name": "stdout",
     "output_type": "stream",
     "text": [
      "[  33.49582863 -116.94302413]\n"
     ]
    },
    {
     "name": "stderr",
     "output_type": "stream",
     "text": [
      "/var/folders/tm/g65yh1_d5f3gkpxmzywryqwc0000gn/T/ipykernel_66414/1125395041.py:39: FutureWarning: The frame.append method is deprecated and will be removed from pandas in a future version. Use pandas.concat instead.\n",
      "  df = df.append({'lng':loc[1],'lat':loc[0],'number of cities':int(city_count),'total population':int(population),'min distance':min_distance,'max distance':max_distance,\n"
     ]
    },
    {
     "name": "stdout",
     "output_type": "stream",
     "text": [
      "[  41.04371679 -124.0835405 ]\n"
     ]
    },
    {
     "name": "stderr",
     "output_type": "stream",
     "text": [
      "/var/folders/tm/g65yh1_d5f3gkpxmzywryqwc0000gn/T/ipykernel_66414/1125395041.py:39: FutureWarning: The frame.append method is deprecated and will be removed from pandas in a future version. Use pandas.concat instead.\n",
      "  df = df.append({'lng':loc[1],'lat':loc[0],'number of cities':int(city_count),'total population':int(population),'min distance':min_distance,'max distance':max_distance,\n"
     ]
    },
    {
     "name": "stdout",
     "output_type": "stream",
     "text": [
      "[  39.89002404 -123.99725027]\n"
     ]
    },
    {
     "name": "stderr",
     "output_type": "stream",
     "text": [
      "/var/folders/tm/g65yh1_d5f3gkpxmzywryqwc0000gn/T/ipykernel_66414/1125395041.py:39: FutureWarning: The frame.append method is deprecated and will be removed from pandas in a future version. Use pandas.concat instead.\n",
      "  df = df.append({'lng':loc[1],'lat':loc[0],'number of cities':int(city_count),'total population':int(population),'min distance':min_distance,'max distance':max_distance,\n"
     ]
    },
    {
     "name": "stdout",
     "output_type": "stream",
     "text": [
      "[  34.41487201 -119.83374677]\n"
     ]
    },
    {
     "name": "stderr",
     "output_type": "stream",
     "text": [
      "/var/folders/tm/g65yh1_d5f3gkpxmzywryqwc0000gn/T/ipykernel_66414/1125395041.py:39: FutureWarning: The frame.append method is deprecated and will be removed from pandas in a future version. Use pandas.concat instead.\n",
      "  df = df.append({'lng':loc[1],'lat':loc[0],'number of cities':int(city_count),'total population':int(population),'min distance':min_distance,'max distance':max_distance,\n"
     ]
    },
    {
     "name": "stdout",
     "output_type": "stream",
     "text": [
      "[  38.24747843 -122.29301827]\n"
     ]
    },
    {
     "name": "stderr",
     "output_type": "stream",
     "text": [
      "/var/folders/tm/g65yh1_d5f3gkpxmzywryqwc0000gn/T/ipykernel_66414/1125395041.py:39: FutureWarning: The frame.append method is deprecated and will be removed from pandas in a future version. Use pandas.concat instead.\n",
      "  df = df.append({'lng':loc[1],'lat':loc[0],'number of cities':int(city_count),'total population':int(population),'min distance':min_distance,'max distance':max_distance,\n"
     ]
    },
    {
     "name": "stdout",
     "output_type": "stream",
     "text": [
      "[  37.13289391 -122.3793085 ]\n"
     ]
    },
    {
     "name": "stderr",
     "output_type": "stream",
     "text": [
      "/var/folders/tm/g65yh1_d5f3gkpxmzywryqwc0000gn/T/ipykernel_66414/1125395041.py:39: FutureWarning: The frame.append method is deprecated and will be removed from pandas in a future version. Use pandas.concat instead.\n",
      "  df = df.append({'lng':loc[1],'lat':loc[0],'number of cities':int(city_count),'total population':int(population),'min distance':min_distance,'max distance':max_distance,\n"
     ]
    },
    {
     "name": "stdout",
     "output_type": "stream",
     "text": [
      "[  35.68588944 -118.28052266]\n"
     ]
    },
    {
     "name": "stderr",
     "output_type": "stream",
     "text": [
      "/var/folders/tm/g65yh1_d5f3gkpxmzywryqwc0000gn/T/ipykernel_66414/1125395041.py:39: FutureWarning: The frame.append method is deprecated and will be removed from pandas in a future version. Use pandas.concat instead.\n",
      "  df = df.append({'lng':loc[1],'lat':loc[0],'number of cities':int(city_count),'total population':int(population),'min distance':min_distance,'max distance':max_distance,\n"
     ]
    },
    {
     "name": "stdout",
     "output_type": "stream",
     "text": [
      "[  33.92601915 -120.24362535]\n"
     ]
    },
    {
     "name": "stderr",
     "output_type": "stream",
     "text": [
      "/var/folders/tm/g65yh1_d5f3gkpxmzywryqwc0000gn/T/ipykernel_66414/1125395041.py:39: FutureWarning: The frame.append method is deprecated and will be removed from pandas in a future version. Use pandas.concat instead.\n",
      "  df = df.append({'lng':loc[1],'lat':loc[0],'number of cities':int(city_count),'total population':int(population),'min distance':min_distance,'max distance':max_distance,\n"
     ]
    },
    {
     "name": "stdout",
     "output_type": "stream",
     "text": [
      "[  35.47079418 -121.02023741]\n"
     ]
    },
    {
     "name": "stderr",
     "output_type": "stream",
     "text": [
      "/var/folders/tm/g65yh1_d5f3gkpxmzywryqwc0000gn/T/ipykernel_66414/1125395041.py:39: FutureWarning: The frame.append method is deprecated and will be removed from pandas in a future version. Use pandas.concat instead.\n",
      "  df = df.append({'lng':loc[1],'lat':loc[0],'number of cities':int(city_count),'total population':int(population),'min distance':min_distance,'max distance':max_distance,\n"
     ]
    },
    {
     "name": "stdout",
     "output_type": "stream",
     "text": [
      "[  38.05193729 -122.12043781]\n"
     ]
    },
    {
     "name": "stderr",
     "output_type": "stream",
     "text": [
      "/var/folders/tm/g65yh1_d5f3gkpxmzywryqwc0000gn/T/ipykernel_66414/1125395041.py:39: FutureWarning: The frame.append method is deprecated and will be removed from pandas in a future version. Use pandas.concat instead.\n",
      "  df = df.append({'lng':loc[1],'lat':loc[0],'number of cities':int(city_count),'total population':int(population),'min distance':min_distance,'max distance':max_distance,\n"
     ]
    },
    {
     "name": "stdout",
     "output_type": "stream",
     "text": [
      "[  33.84780269 -117.43919294]\n"
     ]
    },
    {
     "name": "stderr",
     "output_type": "stream",
     "text": [
      "/var/folders/tm/g65yh1_d5f3gkpxmzywryqwc0000gn/T/ipykernel_66414/1125395041.py:39: FutureWarning: The frame.append method is deprecated and will be removed from pandas in a future version. Use pandas.concat instead.\n",
      "  df = df.append({'lng':loc[1],'lat':loc[0],'number of cities':int(city_count),'total population':int(population),'min distance':min_distance,'max distance':max_distance,\n"
     ]
    },
    {
     "name": "stdout",
     "output_type": "stream",
     "text": [
      "[  41.78677314 -124.25612096]\n"
     ]
    },
    {
     "name": "stderr",
     "output_type": "stream",
     "text": [
      "/var/folders/tm/g65yh1_d5f3gkpxmzywryqwc0000gn/T/ipykernel_66414/1125395041.py:39: FutureWarning: The frame.append method is deprecated and will be removed from pandas in a future version. Use pandas.concat instead.\n",
      "  df = df.append({'lng':loc[1],'lat':loc[0],'number of cities':int(city_count),'total population':int(population),'min distance':min_distance,'max distance':max_distance,\n"
     ]
    },
    {
     "name": "stdout",
     "output_type": "stream",
     "text": [
      "[  36.95690688 -120.71822161]\n"
     ]
    },
    {
     "name": "stderr",
     "output_type": "stream",
     "text": [
      "/var/folders/tm/g65yh1_d5f3gkpxmzywryqwc0000gn/T/ipykernel_66414/1125395041.py:39: FutureWarning: The frame.append method is deprecated and will be removed from pandas in a future version. Use pandas.concat instead.\n",
      "  df = df.append({'lng':loc[1],'lat':loc[0],'number of cities':int(city_count),'total population':int(population),'min distance':min_distance,'max distance':max_distance,\n"
     ]
    },
    {
     "name": "stdout",
     "output_type": "stream",
     "text": [
      "[  37.7977338  -122.57346151]\n"
     ]
    },
    {
     "name": "stderr",
     "output_type": "stream",
     "text": [
      "/var/folders/tm/g65yh1_d5f3gkpxmzywryqwc0000gn/T/ipykernel_66414/1125395041.py:39: FutureWarning: The frame.append method is deprecated and will be removed from pandas in a future version. Use pandas.concat instead.\n",
      "  df = df.append({'lng':loc[1],'lat':loc[0],'number of cities':int(city_count),'total population':int(population),'min distance':min_distance,'max distance':max_distance,\n"
     ]
    },
    {
     "name": "stdout",
     "output_type": "stream",
     "text": [
      "[  39.34250884 -123.86781493]\n"
     ]
    },
    {
     "name": "stderr",
     "output_type": "stream",
     "text": [
      "/var/folders/tm/g65yh1_d5f3gkpxmzywryqwc0000gn/T/ipykernel_66414/1125395041.py:39: FutureWarning: The frame.append method is deprecated and will be removed from pandas in a future version. Use pandas.concat instead.\n",
      "  df = df.append({'lng':loc[1],'lat':loc[0],'number of cities':int(city_count),'total population':int(population),'min distance':min_distance,'max distance':max_distance,\n"
     ]
    },
    {
     "name": "stdout",
     "output_type": "stream",
     "text": [
      "[  36.76136574 -122.01257503]\n"
     ]
    },
    {
     "name": "stderr",
     "output_type": "stream",
     "text": [
      "/var/folders/tm/g65yh1_d5f3gkpxmzywryqwc0000gn/T/ipykernel_66414/1125395041.py:39: FutureWarning: The frame.append method is deprecated and will be removed from pandas in a future version. Use pandas.concat instead.\n",
      "  df = df.append({'lng':loc[1],'lat':loc[0],'number of cities':int(city_count),'total population':int(population),'min distance':min_distance,'max distance':max_distance,\n"
     ]
    },
    {
     "name": "stdout",
     "output_type": "stream",
     "text": [
      "[  33.49582863 -116.01540418]\n"
     ]
    },
    {
     "name": "stderr",
     "output_type": "stream",
     "text": [
      "/var/folders/tm/g65yh1_d5f3gkpxmzywryqwc0000gn/T/ipykernel_66414/1125395041.py:39: FutureWarning: The frame.append method is deprecated and will be removed from pandas in a future version. Use pandas.concat instead.\n",
      "  df = df.append({'lng':loc[1],'lat':loc[0],'number of cities':int(city_count),'total population':int(population),'min distance':min_distance,'max distance':max_distance,\n"
     ]
    },
    {
     "name": "stdout",
     "output_type": "stream",
     "text": [
      "[  40.57441805 -124.16983073]\n"
     ]
    },
    {
     "name": "stderr",
     "output_type": "stream",
     "text": [
      "/var/folders/tm/g65yh1_d5f3gkpxmzywryqwc0000gn/T/ipykernel_66414/1125395041.py:39: FutureWarning: The frame.append method is deprecated and will be removed from pandas in a future version. Use pandas.concat instead.\n",
      "  df = df.append({'lng':loc[1],'lat':loc[0],'number of cities':int(city_count),'total population':int(population),'min distance':min_distance,'max distance':max_distance,\n"
     ]
    },
    {
     "name": "stdout",
     "output_type": "stream",
     "text": [
      "[  35.86187647 -121.45168855]\n"
     ]
    },
    {
     "name": "stderr",
     "output_type": "stream",
     "text": [
      "/var/folders/tm/g65yh1_d5f3gkpxmzywryqwc0000gn/T/ipykernel_66414/1125395041.py:39: FutureWarning: The frame.append method is deprecated and will be removed from pandas in a future version. Use pandas.concat instead.\n",
      "  df = df.append({'lng':loc[1],'lat':loc[0],'number of cities':int(city_count),'total population':int(population),'min distance':min_distance,'max distance':max_distance,\n"
     ]
    },
    {
     "name": "stdout",
     "output_type": "stream",
     "text": [
      "[  40.90683799 -124.21297584]\n"
     ]
    },
    {
     "name": "stderr",
     "output_type": "stream",
     "text": [
      "/var/folders/tm/g65yh1_d5f3gkpxmzywryqwc0000gn/T/ipykernel_66414/1125395041.py:39: FutureWarning: The frame.append method is deprecated and will be removed from pandas in a future version. Use pandas.concat instead.\n",
      "  df = df.append({'lng':loc[1],'lat':loc[0],'number of cities':int(city_count),'total population':int(population),'min distance':min_distance,'max distance':max_distance,\n"
     ]
    },
    {
     "name": "stdout",
     "output_type": "stream",
     "text": [
      "[  37.660855   -120.67507649]\n"
     ]
    },
    {
     "name": "stderr",
     "output_type": "stream",
     "text": [
      "/var/folders/tm/g65yh1_d5f3gkpxmzywryqwc0000gn/T/ipykernel_66414/1125395041.py:39: FutureWarning: The frame.append method is deprecated and will be removed from pandas in a future version. Use pandas.concat instead.\n",
      "  df = df.append({'lng':loc[1],'lat':loc[0],'number of cities':int(city_count),'total population':int(population),'min distance':min_distance,'max distance':max_distance,\n"
     ]
    },
    {
     "name": "stdout",
     "output_type": "stream",
     "text": [
      "[  33.71092389 -118.34524033]\n"
     ]
    },
    {
     "name": "stderr",
     "output_type": "stream",
     "text": [
      "/var/folders/tm/g65yh1_d5f3gkpxmzywryqwc0000gn/T/ipykernel_66414/1125395041.py:39: FutureWarning: The frame.append method is deprecated and will be removed from pandas in a future version. Use pandas.concat instead.\n",
      "  df = df.append({'lng':loc[1],'lat':loc[0],'number of cities':int(city_count),'total population':int(population),'min distance':min_distance,'max distance':max_distance,\n"
     ]
    },
    {
     "name": "stdout",
     "output_type": "stream",
     "text": [
      "[  32.79188051 -118.34524033]\n",
      "b'{\"message\":\"Impossible route between points\",\"code\":\"NoRoute\"}'\n",
      "[  33.98468149 -119.87689188]\n"
     ]
    },
    {
     "name": "stderr",
     "output_type": "stream",
     "text": [
      "/var/folders/tm/g65yh1_d5f3gkpxmzywryqwc0000gn/T/ipykernel_66414/1125395041.py:17: FutureWarning: The frame.append method is deprecated and will be removed from pandas in a future version. Use pandas.concat instead.\n",
      "  df = df.append({'lng':loc[1],'lat':loc[0],'number of cities':0,'total   population':0,'min distance':None,'max distance':None,\n",
      "/var/folders/tm/g65yh1_d5f3gkpxmzywryqwc0000gn/T/ipykernel_66414/1125395041.py:39: FutureWarning: The frame.append method is deprecated and will be removed from pandas in a future version. Use pandas.concat instead.\n",
      "  df = df.append({'lng':loc[1],'lat':loc[0],'number of cities':int(city_count),'total population':int(population),'min distance':min_distance,'max distance':max_distance,\n"
     ]
    },
    {
     "name": "stdout",
     "output_type": "stream",
     "text": [
      "[  41.31747439 -124.2345484 ]\n"
     ]
    },
    {
     "name": "stderr",
     "output_type": "stream",
     "text": [
      "/var/folders/tm/g65yh1_d5f3gkpxmzywryqwc0000gn/T/ipykernel_66414/1125395041.py:39: FutureWarning: The frame.append method is deprecated and will be removed from pandas in a future version. Use pandas.concat instead.\n",
      "  df = df.append({'lng':loc[1],'lat':loc[0],'number of cities':int(city_count),'total population':int(population),'min distance':min_distance,'max distance':max_distance,\n"
     ]
    },
    {
     "name": "stdout",
     "output_type": "stream",
     "text": [
      "[  40.67218862 -124.36398374]\n"
     ]
    },
    {
     "name": "stderr",
     "output_type": "stream",
     "text": [
      "/var/folders/tm/g65yh1_d5f3gkpxmzywryqwc0000gn/T/ipykernel_66414/1125395041.py:39: FutureWarning: The frame.append method is deprecated and will be removed from pandas in a future version. Use pandas.concat instead.\n",
      "  df = df.append({'lng':loc[1],'lat':loc[0],'number of cities':int(city_count),'total population':int(population),'min distance':min_distance,'max distance':max_distance,\n"
     ]
    },
    {
     "name": "stdout",
     "output_type": "stream",
     "text": [
      "[  37.54353031 -122.57346151]\n"
     ]
    },
    {
     "name": "stderr",
     "output_type": "stream",
     "text": [
      "/var/folders/tm/g65yh1_d5f3gkpxmzywryqwc0000gn/T/ipykernel_66414/1125395041.py:39: FutureWarning: The frame.append method is deprecated and will be removed from pandas in a future version. Use pandas.concat instead.\n",
      "  df = df.append({'lng':loc[1],'lat':loc[0],'number of cities':int(city_count),'total population':int(population),'min distance':min_distance,'max distance':max_distance,\n"
     ]
    },
    {
     "name": "stdout",
     "output_type": "stream",
     "text": [
      "[  34.70818372 -120.63193138]\n"
     ]
    },
    {
     "name": "stderr",
     "output_type": "stream",
     "text": [
      "/var/folders/tm/g65yh1_d5f3gkpxmzywryqwc0000gn/T/ipykernel_66414/1125395041.py:39: FutureWarning: The frame.append method is deprecated and will be removed from pandas in a future version. Use pandas.concat instead.\n",
      "  df = df.append({'lng':loc[1],'lat':loc[0],'number of cities':int(city_count),'total population':int(population),'min distance':min_distance,'max distance':max_distance,\n"
     ]
    },
    {
     "name": "stdout",
     "output_type": "stream",
     "text": [
      "[  38.09104552 -122.01257503]\n"
     ]
    },
    {
     "name": "stderr",
     "output_type": "stream",
     "text": [
      "/var/folders/tm/g65yh1_d5f3gkpxmzywryqwc0000gn/T/ipykernel_66414/1125395041.py:39: FutureWarning: The frame.append method is deprecated and will be removed from pandas in a future version. Use pandas.concat instead.\n",
      "  df = df.append({'lng':loc[1],'lat':loc[0],'number of cities':int(city_count),'total population':int(population),'min distance':min_distance,'max distance':max_distance,\n"
     ]
    },
    {
     "name": "stdout",
     "output_type": "stream",
     "text": [
      "[  32.87009697 -117.3097576 ]\n"
     ]
    },
    {
     "name": "stderr",
     "output_type": "stream",
     "text": [
      "/var/folders/tm/g65yh1_d5f3gkpxmzywryqwc0000gn/T/ipykernel_66414/1125395041.py:39: FutureWarning: The frame.append method is deprecated and will be removed from pandas in a future version. Use pandas.concat instead.\n",
      "  df = df.append({'lng':loc[1],'lat':loc[0],'number of cities':int(city_count),'total population':int(population),'min distance':min_distance,'max distance':max_distance,\n"
     ]
    },
    {
     "name": "stdout",
     "output_type": "stream",
     "text": [
      "[  33.65226154 -118.06479709]\n"
     ]
    },
    {
     "name": "stderr",
     "output_type": "stream",
     "text": [
      "/var/folders/tm/g65yh1_d5f3gkpxmzywryqwc0000gn/T/ipykernel_66414/1125395041.py:39: FutureWarning: The frame.append method is deprecated and will be removed from pandas in a future version. Use pandas.concat instead.\n",
      "  df = df.append({'lng':loc[1],'lat':loc[0],'number of cities':int(city_count),'total population':int(population),'min distance':min_distance,'max distance':max_distance,\n"
     ]
    },
    {
     "name": "stdout",
     "output_type": "stream",
     "text": [
      "[  39.77269936 -123.84624238]\n"
     ]
    },
    {
     "name": "stderr",
     "output_type": "stream",
     "text": [
      "/var/folders/tm/g65yh1_d5f3gkpxmzywryqwc0000gn/T/ipykernel_66414/1125395041.py:39: FutureWarning: The frame.append method is deprecated and will be removed from pandas in a future version. Use pandas.concat instead.\n",
      "  df = df.append({'lng':loc[1],'lat':loc[0],'number of cities':int(city_count),'total population':int(population),'min distance':min_distance,'max distance':max_distance,\n"
     ]
    },
    {
     "name": "stdout",
     "output_type": "stream",
     "text": [
      "[  33.98468149 -118.53939335]\n"
     ]
    },
    {
     "name": "stderr",
     "output_type": "stream",
     "text": [
      "/var/folders/tm/g65yh1_d5f3gkpxmzywryqwc0000gn/T/ipykernel_66414/1125395041.py:39: FutureWarning: The frame.append method is deprecated and will be removed from pandas in a future version. Use pandas.concat instead.\n",
      "  df = df.append({'lng':loc[1],'lat':loc[0],'number of cities':int(city_count),'total population':int(population),'min distance':min_distance,'max distance':max_distance,\n"
     ]
    },
    {
     "name": "stdout",
     "output_type": "stream",
     "text": [
      "[  33.26117926 -114.67790564]\n"
     ]
    },
    {
     "name": "stderr",
     "output_type": "stream",
     "text": [
      "/var/folders/tm/g65yh1_d5f3gkpxmzywryqwc0000gn/T/ipykernel_66414/1125395041.py:39: FutureWarning: The frame.append method is deprecated and will be removed from pandas in a future version. Use pandas.concat instead.\n",
      "  df = df.append({'lng':loc[1],'lat':loc[0],'number of cities':int(city_count),'total population':int(population),'min distance':min_distance,'max distance':max_distance,\n"
     ]
    },
    {
     "name": "stdout",
     "output_type": "stream",
     "text": [
      "[  33.16340868 -115.64867071]\n"
     ]
    },
    {
     "name": "stderr",
     "output_type": "stream",
     "text": [
      "/var/folders/tm/g65yh1_d5f3gkpxmzywryqwc0000gn/T/ipykernel_66414/1125395041.py:39: FutureWarning: The frame.append method is deprecated and will be removed from pandas in a future version. Use pandas.concat instead.\n",
      "  df = df.append({'lng':loc[1],'lat':loc[0],'number of cities':int(city_count),'total population':int(population),'min distance':min_distance,'max distance':max_distance,\n"
     ]
    },
    {
     "name": "stdout",
     "output_type": "stream",
     "text": [
      "[  33.90646503 -120.20048024]\n"
     ]
    },
    {
     "name": "stderr",
     "output_type": "stream",
     "text": [
      "/var/folders/tm/g65yh1_d5f3gkpxmzywryqwc0000gn/T/ipykernel_66414/1125395041.py:39: FutureWarning: The frame.append method is deprecated and will be removed from pandas in a future version. Use pandas.concat instead.\n",
      "  df = df.append({'lng':loc[1],'lat':loc[0],'number of cities':int(city_count),'total population':int(population),'min distance':min_distance,'max distance':max_distance,\n"
     ]
    },
    {
     "name": "stdout",
     "output_type": "stream",
     "text": [
      "[  33.51538274 -116.01540418]\n"
     ]
    },
    {
     "name": "stderr",
     "output_type": "stream",
     "text": [
      "/var/folders/tm/g65yh1_d5f3gkpxmzywryqwc0000gn/T/ipykernel_66414/1125395041.py:39: FutureWarning: The frame.append method is deprecated and will be removed from pandas in a future version. Use pandas.concat instead.\n",
      "  df = df.append({'lng':loc[1],'lat':loc[0],'number of cities':int(city_count),'total population':int(population),'min distance':min_distance,'max distance':max_distance,\n"
     ]
    },
    {
     "name": "stdout",
     "output_type": "stream",
     "text": [
      "[  36.40939168 -121.96942991]\n"
     ]
    },
    {
     "name": "stderr",
     "output_type": "stream",
     "text": [
      "/var/folders/tm/g65yh1_d5f3gkpxmzywryqwc0000gn/T/ipykernel_66414/1125395041.py:39: FutureWarning: The frame.append method is deprecated and will be removed from pandas in a future version. Use pandas.concat instead.\n",
      "  df = df.append({'lng':loc[1],'lat':loc[0],'number of cities':int(city_count),'total population':int(population),'min distance':min_distance,'max distance':max_distance,\n"
     ]
    },
    {
     "name": "stdout",
     "output_type": "stream",
     "text": [
      "[  38.38435723 -121.624269  ]\n"
     ]
    },
    {
     "name": "stderr",
     "output_type": "stream",
     "text": [
      "/var/folders/tm/g65yh1_d5f3gkpxmzywryqwc0000gn/T/ipykernel_66414/1125395041.py:39: FutureWarning: The frame.append method is deprecated and will be removed from pandas in a future version. Use pandas.concat instead.\n",
      "  df = df.append({'lng':loc[1],'lat':loc[0],'number of cities':int(city_count),'total population':int(population),'min distance':min_distance,'max distance':max_distance,\n"
     ]
    },
    {
     "name": "stdout",
     "output_type": "stream",
     "text": [
      "[  39.49894175 -123.80309726]\n"
     ]
    },
    {
     "name": "stderr",
     "output_type": "stream",
     "text": [
      "/var/folders/tm/g65yh1_d5f3gkpxmzywryqwc0000gn/T/ipykernel_66414/1125395041.py:39: FutureWarning: The frame.append method is deprecated and will be removed from pandas in a future version. Use pandas.concat instead.\n",
      "  df = df.append({'lng':loc[1],'lat':loc[0],'number of cities':int(city_count),'total population':int(population),'min distance':min_distance,'max distance':max_distance,\n"
     ]
    },
    {
     "name": "stdout",
     "output_type": "stream",
     "text": [
      "[  33.00697577 -118.51782079]\n",
      "b'{\"message\":\"Impossible route between points\",\"code\":\"NoRoute\"}'\n",
      "[  36.50716225 -121.94785736]\n"
     ]
    },
    {
     "name": "stderr",
     "output_type": "stream",
     "text": [
      "/var/folders/tm/g65yh1_d5f3gkpxmzywryqwc0000gn/T/ipykernel_66414/1125395041.py:17: FutureWarning: The frame.append method is deprecated and will be removed from pandas in a future version. Use pandas.concat instead.\n",
      "  df = df.append({'lng':loc[1],'lat':loc[0],'number of cities':0,'total   population':0,'min distance':None,'max distance':None,\n",
      "/var/folders/tm/g65yh1_d5f3gkpxmzywryqwc0000gn/T/ipykernel_66414/1125395041.py:39: FutureWarning: The frame.append method is deprecated and will be removed from pandas in a future version. Use pandas.concat instead.\n",
      "  df = df.append({'lng':loc[1],'lat':loc[0],'number of cities':int(city_count),'total population':int(population),'min distance':min_distance,'max distance':max_distance,\n"
     ]
    },
    {
     "name": "stdout",
     "output_type": "stream",
     "text": [
      "[  33.43716628 -116.03697673]\n"
     ]
    },
    {
     "name": "stderr",
     "output_type": "stream",
     "text": [
      "/var/folders/tm/g65yh1_d5f3gkpxmzywryqwc0000gn/T/ipykernel_66414/1125395041.py:39: FutureWarning: The frame.append method is deprecated and will be removed from pandas in a future version. Use pandas.concat instead.\n",
      "  df = df.append({'lng':loc[1],'lat':loc[0],'number of cities':int(city_count),'total population':int(population),'min distance':min_distance,'max distance':max_distance,\n"
     ]
    },
    {
     "name": "stdout",
     "output_type": "stream",
     "text": [
      "[  38.05193729 -122.42245361]\n"
     ]
    },
    {
     "name": "stderr",
     "output_type": "stream",
     "text": [
      "/var/folders/tm/g65yh1_d5f3gkpxmzywryqwc0000gn/T/ipykernel_66414/1125395041.py:39: FutureWarning: The frame.append method is deprecated and will be removed from pandas in a future version. Use pandas.concat instead.\n",
      "  df = df.append({'lng':loc[1],'lat':loc[0],'number of cities':int(city_count),'total population':int(population),'min distance':min_distance,'max distance':max_distance,\n"
     ]
    },
    {
     "name": "stdout",
     "output_type": "stream",
     "text": [
      "[  34.90372487 -116.72729856]\n"
     ]
    },
    {
     "name": "stderr",
     "output_type": "stream",
     "text": [
      "/var/folders/tm/g65yh1_d5f3gkpxmzywryqwc0000gn/T/ipykernel_66414/1125395041.py:39: FutureWarning: The frame.append method is deprecated and will be removed from pandas in a future version. Use pandas.concat instead.\n",
      "  df = df.append({'lng':loc[1],'lat':loc[0],'number of cities':int(city_count),'total population':int(population),'min distance':min_distance,'max distance':max_distance,\n"
     ]
    },
    {
     "name": "stdout",
     "output_type": "stream",
     "text": [
      "[  37.42620563 -119.94160955]\n"
     ]
    },
    {
     "name": "stderr",
     "output_type": "stream",
     "text": [
      "/var/folders/tm/g65yh1_d5f3gkpxmzywryqwc0000gn/T/ipykernel_66414/1125395041.py:39: FutureWarning: The frame.append method is deprecated and will be removed from pandas in a future version. Use pandas.concat instead.\n",
      "  df = df.append({'lng':loc[1],'lat':loc[0],'number of cities':int(city_count),'total population':int(population),'min distance':min_distance,'max distance':max_distance,\n"
     ]
    },
    {
     "name": "stdout",
     "output_type": "stream",
     "text": [
      "[  37.89550437 -122.33616338]\n"
     ]
    },
    {
     "name": "stderr",
     "output_type": "stream",
     "text": [
      "/var/folders/tm/g65yh1_d5f3gkpxmzywryqwc0000gn/T/ipykernel_66414/1125395041.py:39: FutureWarning: The frame.append method is deprecated and will be removed from pandas in a future version. Use pandas.concat instead.\n",
      "  df = df.append({'lng':loc[1],'lat':loc[0],'number of cities':int(city_count),'total population':int(population),'min distance':min_distance,'max distance':max_distance,\n"
     ]
    },
    {
     "name": "stdout",
     "output_type": "stream",
     "text": [
      "[  40.2419981  -124.40712886]\n"
     ]
    },
    {
     "name": "stderr",
     "output_type": "stream",
     "text": [
      "/var/folders/tm/g65yh1_d5f3gkpxmzywryqwc0000gn/T/ipykernel_66414/1125395041.py:39: FutureWarning: The frame.append method is deprecated and will be removed from pandas in a future version. Use pandas.concat instead.\n",
      "  df = df.append({'lng':loc[1],'lat':loc[0],'number of cities':int(city_count),'total population':int(population),'min distance':min_distance,'max distance':max_distance,\n"
     ]
    },
    {
     "name": "stdout",
     "output_type": "stream",
     "text": [
      "[  37.5239762  -122.57346151]\n"
     ]
    },
    {
     "name": "stderr",
     "output_type": "stream",
     "text": [
      "/var/folders/tm/g65yh1_d5f3gkpxmzywryqwc0000gn/T/ipykernel_66414/1125395041.py:39: FutureWarning: The frame.append method is deprecated and will be removed from pandas in a future version. Use pandas.concat instead.\n",
      "  df = df.append({'lng':loc[1],'lat':loc[0],'number of cities':int(city_count),'total population':int(population),'min distance':min_distance,'max distance':max_distance,\n"
     ]
    },
    {
     "name": "stdout",
     "output_type": "stream",
     "text": [
      "[  41.8649896  -124.25612096]\n"
     ]
    },
    {
     "name": "stderr",
     "output_type": "stream",
     "text": [
      "/var/folders/tm/g65yh1_d5f3gkpxmzywryqwc0000gn/T/ipykernel_66414/1125395041.py:39: FutureWarning: The frame.append method is deprecated and will be removed from pandas in a future version. Use pandas.concat instead.\n",
      "  df = df.append({'lng':loc[1],'lat':loc[0],'number of cities':int(city_count),'total population':int(population),'min distance':min_distance,'max distance':max_distance,\n"
     ]
    },
    {
     "name": "stdout",
     "output_type": "stream",
     "text": [
      "[  37.15244802 -122.2283006 ]\n"
     ]
    },
    {
     "name": "stderr",
     "output_type": "stream",
     "text": [
      "/var/folders/tm/g65yh1_d5f3gkpxmzywryqwc0000gn/T/ipykernel_66414/1125395041.py:39: FutureWarning: The frame.append method is deprecated and will be removed from pandas in a future version. Use pandas.concat instead.\n",
      "  df = df.append({'lng':loc[1],'lat':loc[0],'number of cities':int(city_count),'total population':int(population),'min distance':min_distance,'max distance':max_distance,\n"
     ]
    },
    {
     "name": "stdout",
     "output_type": "stream",
     "text": [
      "[  33.82824857 -117.87064408]\n"
     ]
    },
    {
     "name": "stderr",
     "output_type": "stream",
     "text": [
      "/var/folders/tm/g65yh1_d5f3gkpxmzywryqwc0000gn/T/ipykernel_66414/1125395041.py:39: FutureWarning: The frame.append method is deprecated and will be removed from pandas in a future version. Use pandas.concat instead.\n",
      "  df = df.append({'lng':loc[1],'lat':loc[0],'number of cities':int(city_count),'total population':int(population),'min distance':min_distance,'max distance':max_distance,\n"
     ]
    },
    {
     "name": "stdout",
     "output_type": "stream",
     "text": [
      "[  37.77817969 -122.55188895]\n"
     ]
    },
    {
     "name": "stderr",
     "output_type": "stream",
     "text": [
      "/var/folders/tm/g65yh1_d5f3gkpxmzywryqwc0000gn/T/ipykernel_66414/1125395041.py:39: FutureWarning: The frame.append method is deprecated and will be removed from pandas in a future version. Use pandas.concat instead.\n",
      "  df = df.append({'lng':loc[1],'lat':loc[0],'number of cities':int(city_count),'total population':int(population),'min distance':min_distance,'max distance':max_distance,\n"
     ]
    },
    {
     "name": "stdout",
     "output_type": "stream",
     "text": [
      "[  38.2083702  -121.34382576]\n"
     ]
    },
    {
     "name": "stderr",
     "output_type": "stream",
     "text": [
      "/var/folders/tm/g65yh1_d5f3gkpxmzywryqwc0000gn/T/ipykernel_66414/1125395041.py:39: FutureWarning: The frame.append method is deprecated and will be removed from pandas in a future version. Use pandas.concat instead.\n",
      "  df = df.append({'lng':loc[1],'lat':loc[0],'number of cities':int(city_count),'total population':int(population),'min distance':min_distance,'max distance':max_distance,\n"
     ]
    },
    {
     "name": "stdout",
     "output_type": "stream",
     "text": [
      "[  40.86772976 -124.19140329]\n"
     ]
    },
    {
     "name": "stderr",
     "output_type": "stream",
     "text": [
      "/var/folders/tm/g65yh1_d5f3gkpxmzywryqwc0000gn/T/ipykernel_66414/1125395041.py:39: FutureWarning: The frame.append method is deprecated and will be removed from pandas in a future version. Use pandas.concat instead.\n",
      "  df = df.append({'lng':loc[1],'lat':loc[0],'number of cities':int(city_count),'total population':int(population),'min distance':min_distance,'max distance':max_distance,\n"
     ]
    },
    {
     "name": "stdout",
     "output_type": "stream",
     "text": [
      "[  35.56856476 -121.12810019]\n"
     ]
    },
    {
     "name": "stderr",
     "output_type": "stream",
     "text": [
      "/var/folders/tm/g65yh1_d5f3gkpxmzywryqwc0000gn/T/ipykernel_66414/1125395041.py:39: FutureWarning: The frame.append method is deprecated and will be removed from pandas in a future version. Use pandas.concat instead.\n",
      "  df = df.append({'lng':loc[1],'lat':loc[0],'number of cities':int(city_count),'total population':int(population),'min distance':min_distance,'max distance':max_distance,\n"
     ]
    },
    {
     "name": "stdout",
     "output_type": "stream",
     "text": [
      "[  41.8649896  -124.40712886]\n"
     ]
    },
    {
     "name": "stderr",
     "output_type": "stream",
     "text": [
      "/var/folders/tm/g65yh1_d5f3gkpxmzywryqwc0000gn/T/ipykernel_66414/1125395041.py:39: FutureWarning: The frame.append method is deprecated and will be removed from pandas in a future version. Use pandas.concat instead.\n",
      "  df = df.append({'lng':loc[1],'lat':loc[0],'number of cities':int(city_count),'total population':int(population),'min distance':min_distance,'max distance':max_distance,\n"
     ]
    },
    {
     "name": "stdout",
     "output_type": "stream",
     "text": [
      "[  37.87595026 -122.72446941]\n"
     ]
    },
    {
     "name": "stderr",
     "output_type": "stream",
     "text": [
      "/var/folders/tm/g65yh1_d5f3gkpxmzywryqwc0000gn/T/ipykernel_66414/1125395041.py:39: FutureWarning: The frame.append method is deprecated and will be removed from pandas in a future version. Use pandas.concat instead.\n",
      "  df = df.append({'lng':loc[1],'lat':loc[0],'number of cities':int(city_count),'total population':int(population),'min distance':min_distance,'max distance':max_distance,\n"
     ]
    },
    {
     "name": "stdout",
     "output_type": "stream",
     "text": [
      "[  36.19429642 -121.83999457]\n"
     ]
    },
    {
     "name": "stderr",
     "output_type": "stream",
     "text": [
      "/var/folders/tm/g65yh1_d5f3gkpxmzywryqwc0000gn/T/ipykernel_66414/1125395041.py:39: FutureWarning: The frame.append method is deprecated and will be removed from pandas in a future version. Use pandas.concat instead.\n",
      "  df = df.append({'lng':loc[1],'lat':loc[0],'number of cities':int(city_count),'total population':int(population),'min distance':min_distance,'max distance':max_distance,\n"
     ]
    },
    {
     "name": "stdout",
     "output_type": "stream",
     "text": [
      "[  38.30614077 -123.11277544]\n"
     ]
    },
    {
     "name": "stderr",
     "output_type": "stream",
     "text": [
      "/var/folders/tm/g65yh1_d5f3gkpxmzywryqwc0000gn/T/ipykernel_66414/1125395041.py:39: FutureWarning: The frame.append method is deprecated and will be removed from pandas in a future version. Use pandas.concat instead.\n",
      "  df = df.append({'lng':loc[1],'lat':loc[0],'number of cities':int(city_count),'total population':int(population),'min distance':min_distance,'max distance':max_distance,\n"
     ]
    },
    {
     "name": "stdout",
     "output_type": "stream",
     "text": [
      "[  33.43716628 -115.9506865 ]\n"
     ]
    },
    {
     "name": "stderr",
     "output_type": "stream",
     "text": [
      "/var/folders/tm/g65yh1_d5f3gkpxmzywryqwc0000gn/T/ipykernel_66414/1125395041.py:39: FutureWarning: The frame.append method is deprecated and will be removed from pandas in a future version. Use pandas.concat instead.\n",
      "  df = df.append({'lng':loc[1],'lat':loc[0],'number of cities':int(city_count),'total population':int(population),'min distance':min_distance,'max distance':max_distance,\n"
     ]
    },
    {
     "name": "stdout",
     "output_type": "stream",
     "text": [
      "[  41.82588137 -122.96176754]\n"
     ]
    },
    {
     "name": "stderr",
     "output_type": "stream",
     "text": [
      "/var/folders/tm/g65yh1_d5f3gkpxmzywryqwc0000gn/T/ipykernel_66414/1125395041.py:39: FutureWarning: The frame.append method is deprecated and will be removed from pandas in a future version. Use pandas.concat instead.\n",
      "  df = df.append({'lng':loc[1],'lat':loc[0],'number of cities':int(city_count),'total population':int(population),'min distance':min_distance,'max distance':max_distance,\n"
     ]
    },
    {
     "name": "stdout",
     "output_type": "stream",
     "text": [
      "[  41.76721903 -124.14825817]\n"
     ]
    },
    {
     "name": "stderr",
     "output_type": "stream",
     "text": [
      "/var/folders/tm/g65yh1_d5f3gkpxmzywryqwc0000gn/T/ipykernel_66414/1125395041.py:39: FutureWarning: The frame.append method is deprecated and will be removed from pandas in a future version. Use pandas.concat instead.\n",
      "  df = df.append({'lng':loc[1],'lat':loc[0],'number of cities':int(city_count),'total population':int(population),'min distance':min_distance,'max distance':max_distance,\n"
     ]
    },
    {
     "name": "stdout",
     "output_type": "stream",
     "text": [
      "[  36.72225751 -121.99100247]\n"
     ]
    },
    {
     "name": "stderr",
     "output_type": "stream",
     "text": [
      "/var/folders/tm/g65yh1_d5f3gkpxmzywryqwc0000gn/T/ipykernel_66414/1125395041.py:39: FutureWarning: The frame.append method is deprecated and will be removed from pandas in a future version. Use pandas.concat instead.\n",
      "  df = df.append({'lng':loc[1],'lat':loc[0],'number of cities':int(city_count),'total population':int(population),'min distance':min_distance,'max distance':max_distance,\n"
     ]
    },
    {
     "name": "stdout",
     "output_type": "stream",
     "text": [
      "[  37.7977338  -123.06963032]\n"
     ]
    },
    {
     "name": "stderr",
     "output_type": "stream",
     "text": [
      "/var/folders/tm/g65yh1_d5f3gkpxmzywryqwc0000gn/T/ipykernel_66414/1125395041.py:39: FutureWarning: The frame.append method is deprecated and will be removed from pandas in a future version. Use pandas.concat instead.\n",
      "  df = df.append({'lng':loc[1],'lat':loc[0],'number of cities':int(city_count),'total population':int(population),'min distance':min_distance,'max distance':max_distance,\n"
     ]
    },
    {
     "name": "stdout",
     "output_type": "stream",
     "text": [
      "[  36.83958219 -121.90471224]\n"
     ]
    },
    {
     "name": "stderr",
     "output_type": "stream",
     "text": [
      "/var/folders/tm/g65yh1_d5f3gkpxmzywryqwc0000gn/T/ipykernel_66414/1125395041.py:39: FutureWarning: The frame.append method is deprecated and will be removed from pandas in a future version. Use pandas.concat instead.\n",
      "  df = df.append({'lng':loc[1],'lat':loc[0],'number of cities':int(city_count),'total population':int(population),'min distance':min_distance,'max distance':max_distance,\n"
     ]
    },
    {
     "name": "stdout",
     "output_type": "stream",
     "text": [
      "[  40.69174273 -122.46559873]\n"
     ]
    },
    {
     "name": "stderr",
     "output_type": "stream",
     "text": [
      "/var/folders/tm/g65yh1_d5f3gkpxmzywryqwc0000gn/T/ipykernel_66414/1125395041.py:39: FutureWarning: The frame.append method is deprecated and will be removed from pandas in a future version. Use pandas.concat instead.\n",
      "  df = df.append({'lng':loc[1],'lat':loc[0],'number of cities':int(city_count),'total population':int(population),'min distance':min_distance,'max distance':max_distance,\n"
     ]
    },
    {
     "name": "stdout",
     "output_type": "stream",
     "text": [
      "[  37.07423157 -122.33616338]\n"
     ]
    },
    {
     "name": "stderr",
     "output_type": "stream",
     "text": [
      "/var/folders/tm/g65yh1_d5f3gkpxmzywryqwc0000gn/T/ipykernel_66414/1125395041.py:39: FutureWarning: The frame.append method is deprecated and will be removed from pandas in a future version. Use pandas.concat instead.\n",
      "  df = df.append({'lng':loc[1],'lat':loc[0],'number of cities':int(city_count),'total population':int(population),'min distance':min_distance,'max distance':max_distance,\n"
     ]
    },
    {
     "name": "stdout",
     "output_type": "stream",
     "text": [
      "[  40.63308039 -124.29926607]\n"
     ]
    },
    {
     "name": "stderr",
     "output_type": "stream",
     "text": [
      "/var/folders/tm/g65yh1_d5f3gkpxmzywryqwc0000gn/T/ipykernel_66414/1125395041.py:39: FutureWarning: The frame.append method is deprecated and will be removed from pandas in a future version. Use pandas.concat instead.\n",
      "  df = df.append({'lng':loc[1],'lat':loc[0],'number of cities':int(city_count),'total population':int(population),'min distance':min_distance,'max distance':max_distance,\n"
     ]
    },
    {
     "name": "stdout",
     "output_type": "stream",
     "text": [
      "[  36.0378635  -121.64584156]\n"
     ]
    },
    {
     "name": "stderr",
     "output_type": "stream",
     "text": [
      "/var/folders/tm/g65yh1_d5f3gkpxmzywryqwc0000gn/T/ipykernel_66414/1125395041.py:39: FutureWarning: The frame.append method is deprecated and will be removed from pandas in a future version. Use pandas.concat instead.\n",
      "  df = df.append({'lng':loc[1],'lat':loc[0],'number of cities':int(city_count),'total population':int(population),'min distance':min_distance,'max distance':max_distance,\n"
     ]
    },
    {
     "name": "stdout",
     "output_type": "stream",
     "text": [
      "[  37.09378568 -120.80451183]\n"
     ]
    },
    {
     "name": "stderr",
     "output_type": "stream",
     "text": [
      "/var/folders/tm/g65yh1_d5f3gkpxmzywryqwc0000gn/T/ipykernel_66414/1125395041.py:39: FutureWarning: The frame.append method is deprecated and will be removed from pandas in a future version. Use pandas.concat instead.\n",
      "  df = df.append({'lng':loc[1],'lat':loc[0],'number of cities':int(city_count),'total population':int(population),'min distance':min_distance,'max distance':max_distance,\n"
     ]
    },
    {
     "name": "stdout",
     "output_type": "stream",
     "text": [
      "[  36.64404105 -121.83999457]\n"
     ]
    },
    {
     "name": "stderr",
     "output_type": "stream",
     "text": [
      "/var/folders/tm/g65yh1_d5f3gkpxmzywryqwc0000gn/T/ipykernel_66414/1125395041.py:39: FutureWarning: The frame.append method is deprecated and will be removed from pandas in a future version. Use pandas.concat instead.\n",
      "  df = df.append({'lng':loc[1],'lat':loc[0],'number of cities':int(city_count),'total population':int(population),'min distance':min_distance,'max distance':max_distance,\n"
     ]
    },
    {
     "name": "stdout",
     "output_type": "stream",
     "text": [
      "[  33.69136977 -118.21580499]\n"
     ]
    },
    {
     "name": "stderr",
     "output_type": "stream",
     "text": [
      "/var/folders/tm/g65yh1_d5f3gkpxmzywryqwc0000gn/T/ipykernel_66414/1125395041.py:39: FutureWarning: The frame.append method is deprecated and will be removed from pandas in a future version. Use pandas.concat instead.\n",
      "  df = df.append({'lng':loc[1],'lat':loc[0],'number of cities':int(city_count),'total population':int(population),'min distance':min_distance,'max distance':max_distance,\n"
     ]
    },
    {
     "name": "stdout",
     "output_type": "stream",
     "text": [
      "[  38.11059963 -122.85390475]\n"
     ]
    },
    {
     "name": "stderr",
     "output_type": "stream",
     "text": [
      "/var/folders/tm/g65yh1_d5f3gkpxmzywryqwc0000gn/T/ipykernel_66414/1125395041.py:39: FutureWarning: The frame.append method is deprecated and will be removed from pandas in a future version. Use pandas.concat instead.\n",
      "  df = df.append({'lng':loc[1],'lat':loc[0],'number of cities':int(city_count),'total population':int(population),'min distance':min_distance,'max distance':max_distance,\n"
     ]
    },
    {
     "name": "stdout",
     "output_type": "stream",
     "text": [
      "[  39.53804998 -123.82466982]\n"
     ]
    },
    {
     "name": "stderr",
     "output_type": "stream",
     "text": [
      "/var/folders/tm/g65yh1_d5f3gkpxmzywryqwc0000gn/T/ipykernel_66414/1125395041.py:39: FutureWarning: The frame.append method is deprecated and will be removed from pandas in a future version. Use pandas.concat instead.\n",
      "  df = df.append({'lng':loc[1],'lat':loc[0],'number of cities':int(city_count),'total population':int(population),'min distance':min_distance,'max distance':max_distance,\n"
     ]
    },
    {
     "name": "stdout",
     "output_type": "stream",
     "text": [
      "[  33.30028748 -115.84282372]\n"
     ]
    },
    {
     "name": "stderr",
     "output_type": "stream",
     "text": [
      "/var/folders/tm/g65yh1_d5f3gkpxmzywryqwc0000gn/T/ipykernel_66414/1125395041.py:39: FutureWarning: The frame.append method is deprecated and will be removed from pandas in a future version. Use pandas.concat instead.\n",
      "  df = df.append({'lng':loc[1],'lat':loc[0],'number of cities':int(city_count),'total population':int(population),'min distance':min_distance,'max distance':max_distance,\n"
     ]
    },
    {
     "name": "stdout",
     "output_type": "stream",
     "text": [
      "[  39.51849587 -121.624269  ]\n"
     ]
    },
    {
     "name": "stderr",
     "output_type": "stream",
     "text": [
      "/var/folders/tm/g65yh1_d5f3gkpxmzywryqwc0000gn/T/ipykernel_66414/1125395041.py:39: FutureWarning: The frame.append method is deprecated and will be removed from pandas in a future version. Use pandas.concat instead.\n",
      "  df = df.append({'lng':loc[1],'lat':loc[0],'number of cities':int(city_count),'total population':int(population),'min distance':min_distance,'max distance':max_distance,\n"
     ]
    },
    {
     "name": "stdout",
     "output_type": "stream",
     "text": [
      "[  37.40665151 -120.99866485]\n"
     ]
    },
    {
     "name": "stderr",
     "output_type": "stream",
     "text": [
      "/var/folders/tm/g65yh1_d5f3gkpxmzywryqwc0000gn/T/ipykernel_66414/1125395041.py:39: FutureWarning: The frame.append method is deprecated and will be removed from pandas in a future version. Use pandas.concat instead.\n",
      "  df = df.append({'lng':loc[1],'lat':loc[0],'number of cities':int(city_count),'total population':int(population),'min distance':min_distance,'max distance':max_distance,\n"
     ]
    },
    {
     "name": "stdout",
     "output_type": "stream",
     "text": [
      "[  37.68040911 -122.3793085 ]\n"
     ]
    },
    {
     "name": "stderr",
     "output_type": "stream",
     "text": [
      "/var/folders/tm/g65yh1_d5f3gkpxmzywryqwc0000gn/T/ipykernel_66414/1125395041.py:39: FutureWarning: The frame.append method is deprecated and will be removed from pandas in a future version. Use pandas.concat instead.\n",
      "  df = df.append({'lng':loc[1],'lat':loc[0],'number of cities':int(city_count),'total population':int(population),'min distance':min_distance,'max distance':max_distance,\n"
     ]
    },
    {
     "name": "stdout",
     "output_type": "stream",
     "text": [
      "[  38.4821278  -123.26378334]\n"
     ]
    },
    {
     "name": "stderr",
     "output_type": "stream",
     "text": [
      "/var/folders/tm/g65yh1_d5f3gkpxmzywryqwc0000gn/T/ipykernel_66414/1125395041.py:39: FutureWarning: The frame.append method is deprecated and will be removed from pandas in a future version. Use pandas.concat instead.\n",
      "  df = df.append({'lng':loc[1],'lat':loc[0],'number of cities':int(city_count),'total population':int(population),'min distance':min_distance,'max distance':max_distance,\n"
     ]
    },
    {
     "name": "stdout",
     "output_type": "stream",
     "text": [
      "[  37.01556922 -120.71822161]\n"
     ]
    },
    {
     "name": "stderr",
     "output_type": "stream",
     "text": [
      "/var/folders/tm/g65yh1_d5f3gkpxmzywryqwc0000gn/T/ipykernel_66414/1125395041.py:39: FutureWarning: The frame.append method is deprecated and will be removed from pandas in a future version. Use pandas.concat instead.\n",
      "  df = df.append({'lng':loc[1],'lat':loc[0],'number of cities':int(city_count),'total population':int(population),'min distance':min_distance,'max distance':max_distance,\n"
     ]
    },
    {
     "name": "stdout",
     "output_type": "stream",
     "text": [
      "[  39.94868639 -124.04039539]\n"
     ]
    },
    {
     "name": "stderr",
     "output_type": "stream",
     "text": [
      "/var/folders/tm/g65yh1_d5f3gkpxmzywryqwc0000gn/T/ipykernel_66414/1125395041.py:39: FutureWarning: The frame.append method is deprecated and will be removed from pandas in a future version. Use pandas.concat instead.\n",
      "  df = df.append({'lng':loc[1],'lat':loc[0],'number of cities':int(city_count),'total population':int(population),'min distance':min_distance,'max distance':max_distance,\n"
     ]
    },
    {
     "name": "stdout",
     "output_type": "stream",
     "text": [
      "[  33.43716628 -118.58253846]\n",
      "b'{\"message\":\"Impossible route between points\",\"code\":\"NoRoute\"}'\n",
      "[  40.12467342 -124.2345484 ]\n"
     ]
    },
    {
     "name": "stderr",
     "output_type": "stream",
     "text": [
      "/var/folders/tm/g65yh1_d5f3gkpxmzywryqwc0000gn/T/ipykernel_66414/1125395041.py:17: FutureWarning: The frame.append method is deprecated and will be removed from pandas in a future version. Use pandas.concat instead.\n",
      "  df = df.append({'lng':loc[1],'lat':loc[0],'number of cities':0,'total   population':0,'min distance':None,'max distance':None,\n",
      "/var/folders/tm/g65yh1_d5f3gkpxmzywryqwc0000gn/T/ipykernel_66414/1125395041.py:39: FutureWarning: The frame.append method is deprecated and will be removed from pandas in a future version. Use pandas.concat instead.\n",
      "  df = df.append({'lng':loc[1],'lat':loc[0],'number of cities':int(city_count),'total population':int(population),'min distance':min_distance,'max distance':max_distance,\n"
     ]
    },
    {
     "name": "stdout",
     "output_type": "stream",
     "text": [
      "[  38.2083702  -122.57346151]\n"
     ]
    },
    {
     "name": "stderr",
     "output_type": "stream",
     "text": [
      "/var/folders/tm/g65yh1_d5f3gkpxmzywryqwc0000gn/T/ipykernel_66414/1125395041.py:39: FutureWarning: The frame.append method is deprecated and will be removed from pandas in a future version. Use pandas.concat instead.\n",
      "  df = df.append({'lng':loc[1],'lat':loc[0],'number of cities':int(city_count),'total population':int(population),'min distance':min_distance,'max distance':max_distance,\n"
     ]
    },
    {
     "name": "stdout",
     "output_type": "stream",
     "text": [
      "[  41.88454371 -124.2345484 ]\n"
     ]
    },
    {
     "name": "stderr",
     "output_type": "stream",
     "text": [
      "/var/folders/tm/g65yh1_d5f3gkpxmzywryqwc0000gn/T/ipykernel_66414/1125395041.py:39: FutureWarning: The frame.append method is deprecated and will be removed from pandas in a future version. Use pandas.concat instead.\n",
      "  df = df.append({'lng':loc[1],'lat':loc[0],'number of cities':int(city_count),'total population':int(population),'min distance':min_distance,'max distance':max_distance,\n"
     ]
    },
    {
     "name": "stdout",
     "output_type": "stream",
     "text": [
      "[  33.49582863 -118.5609659 ]\n",
      "b'{\"message\":\"Impossible route between points\",\"code\":\"NoRoute\"}'\n",
      "[  36.33117522 -121.90471224]\n"
     ]
    },
    {
     "name": "stderr",
     "output_type": "stream",
     "text": [
      "/var/folders/tm/g65yh1_d5f3gkpxmzywryqwc0000gn/T/ipykernel_66414/1125395041.py:17: FutureWarning: The frame.append method is deprecated and will be removed from pandas in a future version. Use pandas.concat instead.\n",
      "  df = df.append({'lng':loc[1],'lat':loc[0],'number of cities':0,'total   population':0,'min distance':None,'max distance':None,\n",
      "/var/folders/tm/g65yh1_d5f3gkpxmzywryqwc0000gn/T/ipykernel_66414/1125395041.py:39: FutureWarning: The frame.append method is deprecated and will be removed from pandas in a future version. Use pandas.concat instead.\n",
      "  df = df.append({'lng':loc[1],'lat':loc[0],'number of cities':int(city_count),'total population':int(population),'min distance':min_distance,'max distance':max_distance,\n"
     ]
    },
    {
     "name": "stdout",
     "output_type": "stream",
     "text": [
      "[  41.61078611 -124.12668562]\n"
     ]
    },
    {
     "name": "stderr",
     "output_type": "stream",
     "text": [
      "/var/folders/tm/g65yh1_d5f3gkpxmzywryqwc0000gn/T/ipykernel_66414/1125395041.py:39: FutureWarning: The frame.append method is deprecated and will be removed from pandas in a future version. Use pandas.concat instead.\n",
      "  df = df.append({'lng':loc[1],'lat':loc[0],'number of cities':int(city_count),'total population':int(population),'min distance':min_distance,'max distance':max_distance,\n"
     ]
    },
    {
     "name": "stdout",
     "output_type": "stream",
     "text": [
      "[  41.94320606 -124.25612096]\n"
     ]
    },
    {
     "name": "stderr",
     "output_type": "stream",
     "text": [
      "/var/folders/tm/g65yh1_d5f3gkpxmzywryqwc0000gn/T/ipykernel_66414/1125395041.py:39: FutureWarning: The frame.append method is deprecated and will be removed from pandas in a future version. Use pandas.concat instead.\n",
      "  df = df.append({'lng':loc[1],'lat':loc[0],'number of cities':int(city_count),'total population':int(population),'min distance':min_distance,'max distance':max_distance,\n"
     ]
    },
    {
     "name": "stdout",
     "output_type": "stream",
     "text": [
      "[  35.15792835 -120.71822161]\n"
     ]
    },
    {
     "name": "stderr",
     "output_type": "stream",
     "text": [
      "/var/folders/tm/g65yh1_d5f3gkpxmzywryqwc0000gn/T/ipykernel_66414/1125395041.py:39: FutureWarning: The frame.append method is deprecated and will be removed from pandas in a future version. Use pandas.concat instead.\n",
      "  df = df.append({'lng':loc[1],'lat':loc[0],'number of cities':int(city_count),'total population':int(population),'min distance':min_distance,'max distance':max_distance,\n"
     ]
    },
    {
     "name": "stdout",
     "output_type": "stream",
     "text": [
      "[  38.44301958 -122.78918708]\n"
     ]
    },
    {
     "name": "stderr",
     "output_type": "stream",
     "text": [
      "/var/folders/tm/g65yh1_d5f3gkpxmzywryqwc0000gn/T/ipykernel_66414/1125395041.py:39: FutureWarning: The frame.append method is deprecated and will be removed from pandas in a future version. Use pandas.concat instead.\n",
      "  df = df.append({'lng':loc[1],'lat':loc[0],'number of cities':int(city_count),'total population':int(population),'min distance':min_distance,'max distance':max_distance,\n"
     ]
    },
    {
     "name": "stdout",
     "output_type": "stream",
     "text": [
      "[  34.0042356  -119.89846444]\n"
     ]
    },
    {
     "name": "stderr",
     "output_type": "stream",
     "text": [
      "/var/folders/tm/g65yh1_d5f3gkpxmzywryqwc0000gn/T/ipykernel_66414/1125395041.py:39: FutureWarning: The frame.append method is deprecated and will be removed from pandas in a future version. Use pandas.concat instead.\n",
      "  df = df.append({'lng':loc[1],'lat':loc[0],'number of cities':int(city_count),'total population':int(population),'min distance':min_distance,'max distance':max_distance,\n"
     ]
    },
    {
     "name": "stdout",
     "output_type": "stream",
     "text": [
      "[  37.660855   -122.14201037]\n"
     ]
    },
    {
     "name": "stderr",
     "output_type": "stream",
     "text": [
      "/var/folders/tm/g65yh1_d5f3gkpxmzywryqwc0000gn/T/ipykernel_66414/1125395041.py:39: FutureWarning: The frame.append method is deprecated and will be removed from pandas in a future version. Use pandas.concat instead.\n",
      "  df = df.append({'lng':loc[1],'lat':loc[0],'number of cities':int(city_count),'total population':int(population),'min distance':min_distance,'max distance':max_distance,\n"
     ]
    },
    {
     "name": "stdout",
     "output_type": "stream",
     "text": [
      "[  40.96550034 -124.16983073]\n"
     ]
    },
    {
     "name": "stderr",
     "output_type": "stream",
     "text": [
      "/var/folders/tm/g65yh1_d5f3gkpxmzywryqwc0000gn/T/ipykernel_66414/1125395041.py:39: FutureWarning: The frame.append method is deprecated and will be removed from pandas in a future version. Use pandas.concat instead.\n",
      "  df = df.append({'lng':loc[1],'lat':loc[0],'number of cities':int(city_count),'total population':int(population),'min distance':min_distance,'max distance':max_distance,\n"
     ]
    },
    {
     "name": "stdout",
     "output_type": "stream",
     "text": [
      "[  34.37576378 -119.920037  ]\n"
     ]
    },
    {
     "name": "stderr",
     "output_type": "stream",
     "text": [
      "/var/folders/tm/g65yh1_d5f3gkpxmzywryqwc0000gn/T/ipykernel_66414/1125395041.py:39: FutureWarning: The frame.append method is deprecated and will be removed from pandas in a future version. Use pandas.concat instead.\n",
      "  df = df.append({'lng':loc[1],'lat':loc[0],'number of cities':int(city_count),'total population':int(population),'min distance':min_distance,'max distance':max_distance,\n"
     ]
    },
    {
     "name": "stdout",
     "output_type": "stream",
     "text": [
      "[  38.40391135 -123.13434799]\n"
     ]
    },
    {
     "name": "stderr",
     "output_type": "stream",
     "text": [
      "/var/folders/tm/g65yh1_d5f3gkpxmzywryqwc0000gn/T/ipykernel_66414/1125395041.py:39: FutureWarning: The frame.append method is deprecated and will be removed from pandas in a future version. Use pandas.concat instead.\n",
      "  df = df.append({'lng':loc[1],'lat':loc[0],'number of cities':int(city_count),'total population':int(population),'min distance':min_distance,'max distance':max_distance,\n"
     ]
    },
    {
     "name": "stdout",
     "output_type": "stream",
     "text": [
      "[  34.94283309 -116.59786321]\n"
     ]
    },
    {
     "name": "stderr",
     "output_type": "stream",
     "text": [
      "/var/folders/tm/g65yh1_d5f3gkpxmzywryqwc0000gn/T/ipykernel_66414/1125395041.py:39: FutureWarning: The frame.append method is deprecated and will be removed from pandas in a future version. Use pandas.concat instead.\n",
      "  df = df.append({'lng':loc[1],'lat':loc[0],'number of cities':int(city_count),'total population':int(population),'min distance':min_distance,'max distance':max_distance,\n"
     ]
    },
    {
     "name": "stdout",
     "output_type": "stream",
     "text": [
      "[  35.56856476 -121.14967275]\n"
     ]
    },
    {
     "name": "stderr",
     "output_type": "stream",
     "text": [
      "/var/folders/tm/g65yh1_d5f3gkpxmzywryqwc0000gn/T/ipykernel_66414/1125395041.py:39: FutureWarning: The frame.append method is deprecated and will be removed from pandas in a future version. Use pandas.concat instead.\n",
      "  df = df.append({'lng':loc[1],'lat':loc[0],'number of cities':int(city_count),'total population':int(population),'min distance':min_distance,'max distance':max_distance,\n"
     ]
    },
    {
     "name": "stdout",
     "output_type": "stream",
     "text": [
      "[  37.5239762  -121.08495508]\n"
     ]
    },
    {
     "name": "stderr",
     "output_type": "stream",
     "text": [
      "/var/folders/tm/g65yh1_d5f3gkpxmzywryqwc0000gn/T/ipykernel_66414/1125395041.py:39: FutureWarning: The frame.append method is deprecated and will be removed from pandas in a future version. Use pandas.concat instead.\n",
      "  df = df.append({'lng':loc[1],'lat':loc[0],'number of cities':int(city_count),'total population':int(population),'min distance':min_distance,'max distance':max_distance,\n"
     ]
    },
    {
     "name": "stdout",
     "output_type": "stream",
     "text": [
      "[  40.82862153 -122.40088105]\n"
     ]
    },
    {
     "name": "stderr",
     "output_type": "stream",
     "text": [
      "/var/folders/tm/g65yh1_d5f3gkpxmzywryqwc0000gn/T/ipykernel_66414/1125395041.py:39: FutureWarning: The frame.append method is deprecated and will be removed from pandas in a future version. Use pandas.concat instead.\n",
      "  df = df.append({'lng':loc[1],'lat':loc[0],'number of cities':int(city_count),'total population':int(population),'min distance':min_distance,'max distance':max_distance,\n"
     ]
    },
    {
     "name": "stdout",
     "output_type": "stream",
     "text": [
      "[  34.74729195 -120.69664905]\n"
     ]
    },
    {
     "name": "stderr",
     "output_type": "stream",
     "text": [
      "/var/folders/tm/g65yh1_d5f3gkpxmzywryqwc0000gn/T/ipykernel_66414/1125395041.py:39: FutureWarning: The frame.append method is deprecated and will be removed from pandas in a future version. Use pandas.concat instead.\n",
      "  df = df.append({'lng':loc[1],'lat':loc[0],'number of cities':int(city_count),'total population':int(population),'min distance':min_distance,'max distance':max_distance,\n"
     ]
    },
    {
     "name": "stdout",
     "output_type": "stream",
     "text": [
      "[  37.50442208 -122.2283006 ]\n"
     ]
    },
    {
     "name": "stderr",
     "output_type": "stream",
     "text": [
      "/var/folders/tm/g65yh1_d5f3gkpxmzywryqwc0000gn/T/ipykernel_66414/1125395041.py:39: FutureWarning: The frame.append method is deprecated and will be removed from pandas in a future version. Use pandas.concat instead.\n",
      "  df = df.append({'lng':loc[1],'lat':loc[0],'number of cities':int(city_count),'total population':int(population),'min distance':min_distance,'max distance':max_distance,\n"
     ]
    },
    {
     "name": "stdout",
     "output_type": "stream",
     "text": [
      "[  38.69722306 -121.12810019]\n"
     ]
    },
    {
     "name": "stderr",
     "output_type": "stream",
     "text": [
      "/var/folders/tm/g65yh1_d5f3gkpxmzywryqwc0000gn/T/ipykernel_66414/1125395041.py:39: FutureWarning: The frame.append method is deprecated and will be removed from pandas in a future version. Use pandas.concat instead.\n",
      "  df = df.append({'lng':loc[1],'lat':loc[0],'number of cities':int(city_count),'total population':int(population),'min distance':min_distance,'max distance':max_distance,\n"
     ]
    },
    {
     "name": "stdout",
     "output_type": "stream",
     "text": [
      "[  33.30028748 -115.73496093]\n"
     ]
    },
    {
     "name": "stderr",
     "output_type": "stream",
     "text": [
      "/var/folders/tm/g65yh1_d5f3gkpxmzywryqwc0000gn/T/ipykernel_66414/1125395041.py:39: FutureWarning: The frame.append method is deprecated and will be removed from pandas in a future version. Use pandas.concat instead.\n",
      "  df = df.append({'lng':loc[1],'lat':loc[0],'number of cities':int(city_count),'total population':int(population),'min distance':min_distance,'max distance':max_distance,\n"
     ]
    },
    {
     "name": "stdout",
     "output_type": "stream",
     "text": [
      "[  41.18059559 -124.12668562]\n"
     ]
    },
    {
     "name": "stderr",
     "output_type": "stream",
     "text": [
      "/var/folders/tm/g65yh1_d5f3gkpxmzywryqwc0000gn/T/ipykernel_66414/1125395041.py:39: FutureWarning: The frame.append method is deprecated and will be removed from pandas in a future version. Use pandas.concat instead.\n",
      "  df = df.append({'lng':loc[1],'lat':loc[0],'number of cities':int(city_count),'total population':int(population),'min distance':min_distance,'max distance':max_distance,\n"
     ]
    },
    {
     "name": "stdout",
     "output_type": "stream",
     "text": [
      "[  41.70855668 -124.25612096]\n"
     ]
    },
    {
     "name": "stderr",
     "output_type": "stream",
     "text": [
      "/var/folders/tm/g65yh1_d5f3gkpxmzywryqwc0000gn/T/ipykernel_66414/1125395041.py:39: FutureWarning: The frame.append method is deprecated and will be removed from pandas in a future version. Use pandas.concat instead.\n",
      "  df = df.append({'lng':loc[1],'lat':loc[0],'number of cities':int(city_count),'total population':int(population),'min distance':min_distance,'max distance':max_distance,\n"
     ]
    },
    {
     "name": "stdout",
     "output_type": "stream",
     "text": [
      "[  34.10200618 -120.43777837]\n"
     ]
    },
    {
     "name": "stderr",
     "output_type": "stream",
     "text": [
      "/var/folders/tm/g65yh1_d5f3gkpxmzywryqwc0000gn/T/ipykernel_66414/1125395041.py:39: FutureWarning: The frame.append method is deprecated and will be removed from pandas in a future version. Use pandas.concat instead.\n",
      "  df = df.append({'lng':loc[1],'lat':loc[0],'number of cities':int(city_count),'total population':int(population),'min distance':min_distance,'max distance':max_distance,\n"
     ]
    },
    {
     "name": "stdout",
     "output_type": "stream",
     "text": [
      "[  37.71951734 -123.09120288]\n"
     ]
    },
    {
     "name": "stderr",
     "output_type": "stream",
     "text": [
      "/var/folders/tm/g65yh1_d5f3gkpxmzywryqwc0000gn/T/ipykernel_66414/1125395041.py:39: FutureWarning: The frame.append method is deprecated and will be removed from pandas in a future version. Use pandas.concat instead.\n",
      "  df = df.append({'lng':loc[1],'lat':loc[0],'number of cities':int(city_count),'total population':int(population),'min distance':min_distance,'max distance':max_distance,\n"
     ]
    },
    {
     "name": "stdout",
     "output_type": "stream",
     "text": [
      "[  40.84817565 -124.10511306]\n"
     ]
    },
    {
     "name": "stderr",
     "output_type": "stream",
     "text": [
      "/var/folders/tm/g65yh1_d5f3gkpxmzywryqwc0000gn/T/ipykernel_66414/1125395041.py:39: FutureWarning: The frame.append method is deprecated and will be removed from pandas in a future version. Use pandas.concat instead.\n",
      "  df = df.append({'lng':loc[1],'lat':loc[0],'number of cities':int(city_count),'total population':int(population),'min distance':min_distance,'max distance':max_distance,\n"
     ]
    },
    {
     "name": "stdout",
     "output_type": "stream",
     "text": [
      "[  33.30028748 -118.45310312]\n",
      "b'{\"message\":\"Impossible route between points\",\"code\":\"NoRoute\"}'\n",
      "[  33.90646503 -119.96318211]\n"
     ]
    },
    {
     "name": "stderr",
     "output_type": "stream",
     "text": [
      "/var/folders/tm/g65yh1_d5f3gkpxmzywryqwc0000gn/T/ipykernel_66414/1125395041.py:17: FutureWarning: The frame.append method is deprecated and will be removed from pandas in a future version. Use pandas.concat instead.\n",
      "  df = df.append({'lng':loc[1],'lat':loc[0],'number of cities':0,'total   population':0,'min distance':None,'max distance':None,\n",
      "/var/folders/tm/g65yh1_d5f3gkpxmzywryqwc0000gn/T/ipykernel_66414/1125395041.py:39: FutureWarning: The frame.append method is deprecated and will be removed from pandas in a future version. Use pandas.concat instead.\n",
      "  df = df.append({'lng':loc[1],'lat':loc[0],'number of cities':int(city_count),'total population':int(population),'min distance':min_distance,'max distance':max_distance,\n"
     ]
    },
    {
     "name": "stdout",
     "output_type": "stream",
     "text": [
      "[  40.84817565 -124.2345484 ]\n"
     ]
    },
    {
     "name": "stderr",
     "output_type": "stream",
     "text": [
      "/var/folders/tm/g65yh1_d5f3gkpxmzywryqwc0000gn/T/ipykernel_66414/1125395041.py:39: FutureWarning: The frame.append method is deprecated and will be removed from pandas in a future version. Use pandas.concat instead.\n",
      "  df = df.append({'lng':loc[1],'lat':loc[0],'number of cities':int(city_count),'total population':int(population),'min distance':min_distance,'max distance':max_distance,\n"
     ]
    },
    {
     "name": "stdout",
     "output_type": "stream",
     "text": [
      "[  33.30028748 -118.47467568]\n",
      "b'{\"message\":\"Impossible route between points\",\"code\":\"NoRoute\"}'\n",
      "[  39.77269936 -123.86781493]\n"
     ]
    },
    {
     "name": "stderr",
     "output_type": "stream",
     "text": [
      "/var/folders/tm/g65yh1_d5f3gkpxmzywryqwc0000gn/T/ipykernel_66414/1125395041.py:17: FutureWarning: The frame.append method is deprecated and will be removed from pandas in a future version. Use pandas.concat instead.\n",
      "  df = df.append({'lng':loc[1],'lat':loc[0],'number of cities':0,'total   population':0,'min distance':None,'max distance':None,\n",
      "/var/folders/tm/g65yh1_d5f3gkpxmzywryqwc0000gn/T/ipykernel_66414/1125395041.py:39: FutureWarning: The frame.append method is deprecated and will be removed from pandas in a future version. Use pandas.concat instead.\n",
      "  df = df.append({'lng':loc[1],'lat':loc[0],'number of cities':int(city_count),'total population':int(population),'min distance':min_distance,'max distance':max_distance,\n"
     ]
    },
    {
     "name": "stdout",
     "output_type": "stream",
     "text": [
      "[  38.14970786 -121.94785736]\n"
     ]
    },
    {
     "name": "stderr",
     "output_type": "stream",
     "text": [
      "/var/folders/tm/g65yh1_d5f3gkpxmzywryqwc0000gn/T/ipykernel_66414/1125395041.py:39: FutureWarning: The frame.append method is deprecated and will be removed from pandas in a future version. Use pandas.concat instead.\n",
      "  df = df.append({'lng':loc[1],'lat':loc[0],'number of cities':int(city_count),'total population':int(population),'min distance':min_distance,'max distance':max_distance,\n"
     ]
    },
    {
     "name": "stdout",
     "output_type": "stream",
     "text": [
      "[  38.46257369 -123.19906566]\n"
     ]
    },
    {
     "name": "stderr",
     "output_type": "stream",
     "text": [
      "/var/folders/tm/g65yh1_d5f3gkpxmzywryqwc0000gn/T/ipykernel_66414/1125395041.py:39: FutureWarning: The frame.append method is deprecated and will be removed from pandas in a future version. Use pandas.concat instead.\n",
      "  df = df.append({'lng':loc[1],'lat':loc[0],'number of cities':int(city_count),'total population':int(population),'min distance':min_distance,'max distance':max_distance,\n"
     ]
    },
    {
     "name": "stdout",
     "output_type": "stream",
     "text": [
      "[  34.08245206 -120.39463325]\n"
     ]
    },
    {
     "name": "stderr",
     "output_type": "stream",
     "text": [
      "/var/folders/tm/g65yh1_d5f3gkpxmzywryqwc0000gn/T/ipykernel_66414/1125395041.py:39: FutureWarning: The frame.append method is deprecated and will be removed from pandas in a future version. Use pandas.concat instead.\n",
      "  df = df.append({'lng':loc[1],'lat':loc[0],'number of cities':int(city_count),'total population':int(population),'min distance':min_distance,'max distance':max_distance,\n"
     ]
    },
    {
     "name": "stdout",
     "output_type": "stream",
     "text": [
      "[  37.81728791 -122.48717128]\n"
     ]
    },
    {
     "name": "stderr",
     "output_type": "stream",
     "text": [
      "/var/folders/tm/g65yh1_d5f3gkpxmzywryqwc0000gn/T/ipykernel_66414/1125395041.py:39: FutureWarning: The frame.append method is deprecated and will be removed from pandas in a future version. Use pandas.concat instead.\n",
      "  df = df.append({'lng':loc[1],'lat':loc[0],'number of cities':int(city_count),'total population':int(population),'min distance':min_distance,'max distance':max_distance,\n"
     ]
    },
    {
     "name": "stdout",
     "output_type": "stream",
     "text": [
      "[  36.74181162 -121.83999457]\n"
     ]
    },
    {
     "name": "stderr",
     "output_type": "stream",
     "text": [
      "/var/folders/tm/g65yh1_d5f3gkpxmzywryqwc0000gn/T/ipykernel_66414/1125395041.py:39: FutureWarning: The frame.append method is deprecated and will be removed from pandas in a future version. Use pandas.concat instead.\n",
      "  df = df.append({'lng':loc[1],'lat':loc[0],'number of cities':int(city_count),'total population':int(population),'min distance':min_distance,'max distance':max_distance,\n"
     ]
    },
    {
     "name": "stdout",
     "output_type": "stream",
     "text": [
      "[  33.98468149 -120.48092348]\n"
     ]
    },
    {
     "name": "stderr",
     "output_type": "stream",
     "text": [
      "/var/folders/tm/g65yh1_d5f3gkpxmzywryqwc0000gn/T/ipykernel_66414/1125395041.py:39: FutureWarning: The frame.append method is deprecated and will be removed from pandas in a future version. Use pandas.concat instead.\n",
      "  df = df.append({'lng':loc[1],'lat':loc[0],'number of cities':int(city_count),'total population':int(population),'min distance':min_distance,'max distance':max_distance,\n"
     ]
    },
    {
     "name": "stdout",
     "output_type": "stream",
     "text": [
      "[  38.18881609 -122.29301827]\n"
     ]
    },
    {
     "name": "stderr",
     "output_type": "stream",
     "text": [
      "/var/folders/tm/g65yh1_d5f3gkpxmzywryqwc0000gn/T/ipykernel_66414/1125395041.py:39: FutureWarning: The frame.append method is deprecated and will be removed from pandas in a future version. Use pandas.concat instead.\n",
      "  df = df.append({'lng':loc[1],'lat':loc[0],'number of cities':int(city_count),'total population':int(population),'min distance':min_distance,'max distance':max_distance,\n"
     ]
    },
    {
     "name": "stdout",
     "output_type": "stream",
     "text": [
      "[  33.24162514 -115.67024326]\n"
     ]
    },
    {
     "name": "stderr",
     "output_type": "stream",
     "text": [
      "/var/folders/tm/g65yh1_d5f3gkpxmzywryqwc0000gn/T/ipykernel_66414/1125395041.py:39: FutureWarning: The frame.append method is deprecated and will be removed from pandas in a future version. Use pandas.concat instead.\n",
      "  df = df.append({'lng':loc[1],'lat':loc[0],'number of cities':int(city_count),'total population':int(population),'min distance':min_distance,'max distance':max_distance,\n"
     ]
    },
    {
     "name": "stdout",
     "output_type": "stream",
     "text": [
      "[  37.99327494 -122.3793085 ]\n"
     ]
    },
    {
     "name": "stderr",
     "output_type": "stream",
     "text": [
      "/var/folders/tm/g65yh1_d5f3gkpxmzywryqwc0000gn/T/ipykernel_66414/1125395041.py:39: FutureWarning: The frame.append method is deprecated and will be removed from pandas in a future version. Use pandas.concat instead.\n",
      "  df = df.append({'lng':loc[1],'lat':loc[0],'number of cities':int(city_count),'total population':int(population),'min distance':min_distance,'max distance':max_distance,\n"
     ]
    },
    {
     "name": "stdout",
     "output_type": "stream",
     "text": [
      "[  38.14970786 -122.3793085 ]\n"
     ]
    },
    {
     "name": "stderr",
     "output_type": "stream",
     "text": [
      "/var/folders/tm/g65yh1_d5f3gkpxmzywryqwc0000gn/T/ipykernel_66414/1125395041.py:39: FutureWarning: The frame.append method is deprecated and will be removed from pandas in a future version. Use pandas.concat instead.\n",
      "  df = df.append({'lng':loc[1],'lat':loc[0],'number of cities':int(city_count),'total population':int(population),'min distance':min_distance,'max distance':max_distance,\n"
     ]
    },
    {
     "name": "stdout",
     "output_type": "stream",
     "text": [
      "[  38.2083702  -121.36539832]\n"
     ]
    },
    {
     "name": "stderr",
     "output_type": "stream",
     "text": [
      "/var/folders/tm/g65yh1_d5f3gkpxmzywryqwc0000gn/T/ipykernel_66414/1125395041.py:39: FutureWarning: The frame.append method is deprecated and will be removed from pandas in a future version. Use pandas.concat instead.\n",
      "  df = df.append({'lng':loc[1],'lat':loc[0],'number of cities':int(city_count),'total population':int(population),'min distance':min_distance,'max distance':max_distance,\n"
     ]
    },
    {
     "name": "stdout",
     "output_type": "stream",
     "text": [
      "[  36.66359516 -121.83999457]\n"
     ]
    },
    {
     "name": "stderr",
     "output_type": "stream",
     "text": [
      "/var/folders/tm/g65yh1_d5f3gkpxmzywryqwc0000gn/T/ipykernel_66414/1125395041.py:39: FutureWarning: The frame.append method is deprecated and will be removed from pandas in a future version. Use pandas.concat instead.\n",
      "  df = df.append({'lng':loc[1],'lat':loc[0],'number of cities':int(city_count),'total population':int(population),'min distance':min_distance,'max distance':max_distance,\n"
     ]
    },
    {
     "name": "stdout",
     "output_type": "stream",
     "text": [
      "[  39.59671233 -123.84624238]\n"
     ]
    },
    {
     "name": "stderr",
     "output_type": "stream",
     "text": [
      "/var/folders/tm/g65yh1_d5f3gkpxmzywryqwc0000gn/T/ipykernel_66414/1125395041.py:39: FutureWarning: The frame.append method is deprecated and will be removed from pandas in a future version. Use pandas.concat instead.\n",
      "  df = df.append({'lng':loc[1],'lat':loc[0],'number of cities':int(city_count),'total population':int(population),'min distance':min_distance,'max distance':max_distance,\n"
     ]
    },
    {
     "name": "stdout",
     "output_type": "stream",
     "text": [
      "[  35.74455179 -121.36539832]\n"
     ]
    },
    {
     "name": "stderr",
     "output_type": "stream",
     "text": [
      "/var/folders/tm/g65yh1_d5f3gkpxmzywryqwc0000gn/T/ipykernel_66414/1125395041.py:39: FutureWarning: The frame.append method is deprecated and will be removed from pandas in a future version. Use pandas.concat instead.\n",
      "  df = df.append({'lng':loc[1],'lat':loc[0],'number of cities':int(city_count),'total population':int(population),'min distance':min_distance,'max distance':max_distance,\n"
     ]
    },
    {
     "name": "stdout",
     "output_type": "stream",
     "text": [
      "[  40.45709336 -124.40712886]\n"
     ]
    },
    {
     "name": "stderr",
     "output_type": "stream",
     "text": [
      "/var/folders/tm/g65yh1_d5f3gkpxmzywryqwc0000gn/T/ipykernel_66414/1125395041.py:39: FutureWarning: The frame.append method is deprecated and will be removed from pandas in a future version. Use pandas.concat instead.\n",
      "  df = df.append({'lng':loc[1],'lat':loc[0],'number of cities':int(city_count),'total population':int(population),'min distance':min_distance,'max distance':max_distance,\n"
     ]
    },
    {
     "name": "stdout",
     "output_type": "stream",
     "text": [
      "[  39.04919712 -123.75995215]\n"
     ]
    },
    {
     "name": "stderr",
     "output_type": "stream",
     "text": [
      "/var/folders/tm/g65yh1_d5f3gkpxmzywryqwc0000gn/T/ipykernel_66414/1125395041.py:39: FutureWarning: The frame.append method is deprecated and will be removed from pandas in a future version. Use pandas.concat instead.\n",
      "  df = df.append({'lng':loc[1],'lat':loc[0],'number of cities':int(city_count),'total population':int(population),'min distance':min_distance,'max distance':max_distance,\n"
     ]
    },
    {
     "name": "stdout",
     "output_type": "stream",
     "text": [
      "[  40.00734873 -124.0835405 ]\n"
     ]
    },
    {
     "name": "stderr",
     "output_type": "stream",
     "text": [
      "/var/folders/tm/g65yh1_d5f3gkpxmzywryqwc0000gn/T/ipykernel_66414/1125395041.py:39: FutureWarning: The frame.append method is deprecated and will be removed from pandas in a future version. Use pandas.concat instead.\n",
      "  df = df.append({'lng':loc[1],'lat':loc[0],'number of cities':int(city_count),'total population':int(population),'min distance':min_distance,'max distance':max_distance,\n"
     ]
    },
    {
     "name": "stdout",
     "output_type": "stream",
     "text": [
      "[  37.5239762  -122.14201037]\n"
     ]
    },
    {
     "name": "stderr",
     "output_type": "stream",
     "text": [
      "/var/folders/tm/g65yh1_d5f3gkpxmzywryqwc0000gn/T/ipykernel_66414/1125395041.py:39: FutureWarning: The frame.append method is deprecated and will be removed from pandas in a future version. Use pandas.concat instead.\n",
      "  df = df.append({'lng':loc[1],'lat':loc[0],'number of cities':int(city_count),'total population':int(population),'min distance':min_distance,'max distance':max_distance,\n"
     ]
    },
    {
     "name": "stdout",
     "output_type": "stream",
     "text": [
      "[  38.56034426 -123.32850101]\n"
     ]
    },
    {
     "name": "stderr",
     "output_type": "stream",
     "text": [
      "/var/folders/tm/g65yh1_d5f3gkpxmzywryqwc0000gn/T/ipykernel_66414/1125395041.py:39: FutureWarning: The frame.append method is deprecated and will be removed from pandas in a future version. Use pandas.concat instead.\n",
      "  df = df.append({'lng':loc[1],'lat':loc[0],'number of cities':int(city_count),'total population':int(population),'min distance':min_distance,'max distance':max_distance,\n"
     ]
    },
    {
     "name": "stdout",
     "output_type": "stream",
     "text": [
      "[  37.660855   -122.35773594]\n"
     ]
    },
    {
     "name": "stderr",
     "output_type": "stream",
     "text": [
      "/var/folders/tm/g65yh1_d5f3gkpxmzywryqwc0000gn/T/ipykernel_66414/1125395041.py:39: FutureWarning: The frame.append method is deprecated and will be removed from pandas in a future version. Use pandas.concat instead.\n",
      "  df = df.append({'lng':loc[1],'lat':loc[0],'number of cities':int(city_count),'total population':int(population),'min distance':min_distance,'max distance':max_distance,\n"
     ]
    },
    {
     "name": "stdout",
     "output_type": "stream",
     "text": [
      "[  37.97372083 -121.51640622]\n"
     ]
    },
    {
     "name": "stderr",
     "output_type": "stream",
     "text": [
      "/var/folders/tm/g65yh1_d5f3gkpxmzywryqwc0000gn/T/ipykernel_66414/1125395041.py:39: FutureWarning: The frame.append method is deprecated and will be removed from pandas in a future version. Use pandas.concat instead.\n",
      "  df = df.append({'lng':loc[1],'lat':loc[0],'number of cities':int(city_count),'total population':int(population),'min distance':min_distance,'max distance':max_distance,\n"
     ]
    },
    {
     "name": "stdout",
     "output_type": "stream",
     "text": [
      "[  38.11059963 -122.31459083]\n"
     ]
    },
    {
     "name": "stderr",
     "output_type": "stream",
     "text": [
      "/var/folders/tm/g65yh1_d5f3gkpxmzywryqwc0000gn/T/ipykernel_66414/1125395041.py:39: FutureWarning: The frame.append method is deprecated and will be removed from pandas in a future version. Use pandas.concat instead.\n",
      "  df = df.append({'lng':loc[1],'lat':loc[0],'number of cities':int(city_count),'total population':int(population),'min distance':min_distance,'max distance':max_distance,\n"
     ]
    },
    {
     "name": "stdout",
     "output_type": "stream",
     "text": [
      "[  38.22792432 -121.60269644]\n"
     ]
    },
    {
     "name": "stderr",
     "output_type": "stream",
     "text": [
      "/var/folders/tm/g65yh1_d5f3gkpxmzywryqwc0000gn/T/ipykernel_66414/1125395041.py:39: FutureWarning: The frame.append method is deprecated and will be removed from pandas in a future version. Use pandas.concat instead.\n",
      "  df = df.append({'lng':loc[1],'lat':loc[0],'number of cities':int(city_count),'total population':int(population),'min distance':min_distance,'max distance':max_distance,\n"
     ]
    },
    {
     "name": "stdout",
     "output_type": "stream",
     "text": [
      "[  34.04334383 -120.24362535]\n"
     ]
    },
    {
     "name": "stderr",
     "output_type": "stream",
     "text": [
      "/var/folders/tm/g65yh1_d5f3gkpxmzywryqwc0000gn/T/ipykernel_66414/1125395041.py:39: FutureWarning: The frame.append method is deprecated and will be removed from pandas in a future version. Use pandas.concat instead.\n",
      "  df = df.append({'lng':loc[1],'lat':loc[0],'number of cities':int(city_count),'total population':int(population),'min distance':min_distance,'max distance':max_distance,\n"
     ]
    },
    {
     "name": "stdout",
     "output_type": "stream",
     "text": [
      "[  36.50716225 -121.99100247]\n"
     ]
    },
    {
     "name": "stderr",
     "output_type": "stream",
     "text": [
      "/var/folders/tm/g65yh1_d5f3gkpxmzywryqwc0000gn/T/ipykernel_66414/1125395041.py:39: FutureWarning: The frame.append method is deprecated and will be removed from pandas in a future version. Use pandas.concat instead.\n",
      "  df = df.append({'lng':loc[1],'lat':loc[0],'number of cities':int(city_count),'total population':int(population),'min distance':min_distance,'max distance':max_distance,\n"
     ]
    },
    {
     "name": "stdout",
     "output_type": "stream",
     "text": [
      "[  41.51301554 -124.14825817]\n"
     ]
    },
    {
     "name": "stderr",
     "output_type": "stream",
     "text": [
      "/var/folders/tm/g65yh1_d5f3gkpxmzywryqwc0000gn/T/ipykernel_66414/1125395041.py:39: FutureWarning: The frame.append method is deprecated and will be removed from pandas in a future version. Use pandas.concat instead.\n",
      "  df = df.append({'lng':loc[1],'lat':loc[0],'number of cities':int(city_count),'total population':int(population),'min distance':min_distance,'max distance':max_distance,\n"
     ]
    },
    {
     "name": "stdout",
     "output_type": "stream",
     "text": [
      "[  36.46805402 -121.96942991]\n"
     ]
    },
    {
     "name": "stderr",
     "output_type": "stream",
     "text": [
      "/var/folders/tm/g65yh1_d5f3gkpxmzywryqwc0000gn/T/ipykernel_66414/1125395041.py:39: FutureWarning: The frame.append method is deprecated and will be removed from pandas in a future version. Use pandas.concat instead.\n",
      "  df = df.append({'lng':loc[1],'lat':loc[0],'number of cities':int(city_count),'total population':int(population),'min distance':min_distance,'max distance':max_distance,\n"
     ]
    },
    {
     "name": "stdout",
     "output_type": "stream",
     "text": [
      "[  38.14970786 -122.35773594]\n"
     ]
    },
    {
     "name": "stderr",
     "output_type": "stream",
     "text": [
      "/var/folders/tm/g65yh1_d5f3gkpxmzywryqwc0000gn/T/ipykernel_66414/1125395041.py:39: FutureWarning: The frame.append method is deprecated and will be removed from pandas in a future version. Use pandas.concat instead.\n",
      "  df = df.append({'lng':loc[1],'lat':loc[0],'number of cities':int(city_count),'total population':int(population),'min distance':min_distance,'max distance':max_distance,\n"
     ]
    },
    {
     "name": "stdout",
     "output_type": "stream",
     "text": [
      "[  37.69996323 -122.55188895]\n"
     ]
    },
    {
     "name": "stderr",
     "output_type": "stream",
     "text": [
      "/var/folders/tm/g65yh1_d5f3gkpxmzywryqwc0000gn/T/ipykernel_66414/1125395041.py:39: FutureWarning: The frame.append method is deprecated and will be removed from pandas in a future version. Use pandas.concat instead.\n",
      "  df = df.append({'lng':loc[1],'lat':loc[0],'number of cities':int(city_count),'total population':int(population),'min distance':min_distance,'max distance':max_distance,\n"
     ]
    },
    {
     "name": "stdout",
     "output_type": "stream",
     "text": [
      "[  33.84780269 -118.409958  ]\n"
     ]
    },
    {
     "name": "stderr",
     "output_type": "stream",
     "text": [
      "/var/folders/tm/g65yh1_d5f3gkpxmzywryqwc0000gn/T/ipykernel_66414/1125395041.py:39: FutureWarning: The frame.append method is deprecated and will be removed from pandas in a future version. Use pandas.concat instead.\n",
      "  df = df.append({'lng':loc[1],'lat':loc[0],'number of cities':int(city_count),'total population':int(population),'min distance':min_distance,'max distance':max_distance,\n"
     ]
    },
    {
     "name": "stdout",
     "output_type": "stream",
     "text": [
      "[  38.18881609 -122.55188895]\n"
     ]
    },
    {
     "name": "stderr",
     "output_type": "stream",
     "text": [
      "/var/folders/tm/g65yh1_d5f3gkpxmzywryqwc0000gn/T/ipykernel_66414/1125395041.py:39: FutureWarning: The frame.append method is deprecated and will be removed from pandas in a future version. Use pandas.concat instead.\n",
      "  df = df.append({'lng':loc[1],'lat':loc[0],'number of cities':int(city_count),'total population':int(population),'min distance':min_distance,'max distance':max_distance,\n"
     ]
    },
    {
     "name": "stdout",
     "output_type": "stream",
     "text": [
      "[  39.79225347 -123.84624238]\n"
     ]
    },
    {
     "name": "stderr",
     "output_type": "stream",
     "text": [
      "/var/folders/tm/g65yh1_d5f3gkpxmzywryqwc0000gn/T/ipykernel_66414/1125395041.py:39: FutureWarning: The frame.append method is deprecated and will be removed from pandas in a future version. Use pandas.concat instead.\n",
      "  df = df.append({'lng':loc[1],'lat':loc[0],'number of cities':int(city_count),'total population':int(population),'min distance':min_distance,'max distance':max_distance,\n"
     ]
    },
    {
     "name": "stdout",
     "output_type": "stream",
     "text": [
      "[  37.48486797 -122.09886526]\n"
     ]
    },
    {
     "name": "stderr",
     "output_type": "stream",
     "text": [
      "/var/folders/tm/g65yh1_d5f3gkpxmzywryqwc0000gn/T/ipykernel_66414/1125395041.py:39: FutureWarning: The frame.append method is deprecated and will be removed from pandas in a future version. Use pandas.concat instead.\n",
      "  df = df.append({'lng':loc[1],'lat':loc[0],'number of cities':int(city_count),'total population':int(population),'min distance':min_distance,'max distance':max_distance,\n"
     ]
    },
    {
     "name": "stdout",
     "output_type": "stream",
     "text": [
      "[  38.09104552 -121.96942991]\n"
     ]
    },
    {
     "name": "stderr",
     "output_type": "stream",
     "text": [
      "/var/folders/tm/g65yh1_d5f3gkpxmzywryqwc0000gn/T/ipykernel_66414/1125395041.py:39: FutureWarning: The frame.append method is deprecated and will be removed from pandas in a future version. Use pandas.concat instead.\n",
      "  df = df.append({'lng':loc[1],'lat':loc[0],'number of cities':int(city_count),'total population':int(population),'min distance':min_distance,'max distance':max_distance,\n"
     ]
    },
    {
     "name": "stdout",
     "output_type": "stream",
     "text": [
      "[  34.06289795 -120.13576257]\n"
     ]
    },
    {
     "name": "stderr",
     "output_type": "stream",
     "text": [
      "/var/folders/tm/g65yh1_d5f3gkpxmzywryqwc0000gn/T/ipykernel_66414/1125395041.py:39: FutureWarning: The frame.append method is deprecated and will be removed from pandas in a future version. Use pandas.concat instead.\n",
      "  df = df.append({'lng':loc[1],'lat':loc[0],'number of cities':int(city_count),'total population':int(population),'min distance':min_distance,'max distance':max_distance,\n"
     ]
    },
    {
     "name": "stdout",
     "output_type": "stream",
     "text": [
      "[  38.13015374 -122.94019498]\n"
     ]
    },
    {
     "name": "stderr",
     "output_type": "stream",
     "text": [
      "/var/folders/tm/g65yh1_d5f3gkpxmzywryqwc0000gn/T/ipykernel_66414/1125395041.py:39: FutureWarning: The frame.append method is deprecated and will be removed from pandas in a future version. Use pandas.concat instead.\n",
      "  df = df.append({'lng':loc[1],'lat':loc[0],'number of cities':int(city_count),'total population':int(population),'min distance':min_distance,'max distance':max_distance,\n"
     ]
    },
    {
     "name": "stdout",
     "output_type": "stream",
     "text": [
      "[  37.7977338  -122.33616338]\n"
     ]
    },
    {
     "name": "stderr",
     "output_type": "stream",
     "text": [
      "/var/folders/tm/g65yh1_d5f3gkpxmzywryqwc0000gn/T/ipykernel_66414/1125395041.py:39: FutureWarning: The frame.append method is deprecated and will be removed from pandas in a future version. Use pandas.concat instead.\n",
      "  df = df.append({'lng':loc[1],'lat':loc[0],'number of cities':int(city_count),'total population':int(population),'min distance':min_distance,'max distance':max_distance,\n"
     ]
    },
    {
     "name": "stdout",
     "output_type": "stream",
     "text": [
      "[  33.90646503 -117.63334595]\n"
     ]
    },
    {
     "name": "stderr",
     "output_type": "stream",
     "text": [
      "/var/folders/tm/g65yh1_d5f3gkpxmzywryqwc0000gn/T/ipykernel_66414/1125395041.py:39: FutureWarning: The frame.append method is deprecated and will be removed from pandas in a future version. Use pandas.concat instead.\n",
      "  df = df.append({'lng':loc[1],'lat':loc[0],'number of cities':int(city_count),'total population':int(population),'min distance':min_distance,'max distance':max_distance,\n"
     ]
    },
    {
     "name": "stdout",
     "output_type": "stream",
     "text": [
      "[  41.78677314 -124.21297584]\n"
     ]
    },
    {
     "name": "stderr",
     "output_type": "stream",
     "text": [
      "/var/folders/tm/g65yh1_d5f3gkpxmzywryqwc0000gn/T/ipykernel_66414/1125395041.py:39: FutureWarning: The frame.append method is deprecated and will be removed from pandas in a future version. Use pandas.concat instead.\n",
      "  df = df.append({'lng':loc[1],'lat':loc[0],'number of cities':int(city_count),'total population':int(population),'min distance':min_distance,'max distance':max_distance,\n"
     ]
    },
    {
     "name": "stdout",
     "output_type": "stream",
     "text": [
      "[  37.19155625 -120.95551973]\n"
     ]
    },
    {
     "name": "stderr",
     "output_type": "stream",
     "text": [
      "/var/folders/tm/g65yh1_d5f3gkpxmzywryqwc0000gn/T/ipykernel_66414/1125395041.py:39: FutureWarning: The frame.append method is deprecated and will be removed from pandas in a future version. Use pandas.concat instead.\n",
      "  df = df.append({'lng':loc[1],'lat':loc[0],'number of cities':int(city_count),'total population':int(population),'min distance':min_distance,'max distance':max_distance,\n"
     ]
    },
    {
     "name": "stdout",
     "output_type": "stream",
     "text": [
      "[  36.56582459 -121.99100247]\n"
     ]
    },
    {
     "name": "stderr",
     "output_type": "stream",
     "text": [
      "/var/folders/tm/g65yh1_d5f3gkpxmzywryqwc0000gn/T/ipykernel_66414/1125395041.py:39: FutureWarning: The frame.append method is deprecated and will be removed from pandas in a future version. Use pandas.concat instead.\n",
      "  df = df.append({'lng':loc[1],'lat':loc[0],'number of cities':int(city_count),'total population':int(population),'min distance':min_distance,'max distance':max_distance,\n"
     ]
    },
    {
     "name": "stdout",
     "output_type": "stream",
     "text": [
      "[  33.26117926 -115.73496093]\n"
     ]
    },
    {
     "name": "stderr",
     "output_type": "stream",
     "text": [
      "/var/folders/tm/g65yh1_d5f3gkpxmzywryqwc0000gn/T/ipykernel_66414/1125395041.py:39: FutureWarning: The frame.append method is deprecated and will be removed from pandas in a future version. Use pandas.concat instead.\n",
      "  df = df.append({'lng':loc[1],'lat':loc[0],'number of cities':int(city_count),'total population':int(population),'min distance':min_distance,'max distance':max_distance,\n"
     ]
    },
    {
     "name": "stdout",
     "output_type": "stream",
     "text": [
      "[  34.04334383 -120.09261745]\n"
     ]
    },
    {
     "name": "stderr",
     "output_type": "stream",
     "text": [
      "/var/folders/tm/g65yh1_d5f3gkpxmzywryqwc0000gn/T/ipykernel_66414/1125395041.py:39: FutureWarning: The frame.append method is deprecated and will be removed from pandas in a future version. Use pandas.concat instead.\n",
      "  df = df.append({'lng':loc[1],'lat':loc[0],'number of cities':int(city_count),'total population':int(population),'min distance':min_distance,'max distance':max_distance,\n"
     ]
    },
    {
     "name": "stdout",
     "output_type": "stream",
     "text": [
      "[  38.73633129 -123.58737169]\n"
     ]
    },
    {
     "name": "stderr",
     "output_type": "stream",
     "text": [
      "/var/folders/tm/g65yh1_d5f3gkpxmzywryqwc0000gn/T/ipykernel_66414/1125395041.py:39: FutureWarning: The frame.append method is deprecated and will be removed from pandas in a future version. Use pandas.concat instead.\n",
      "  df = df.append({'lng':loc[1],'lat':loc[0],'number of cities':int(city_count),'total population':int(population),'min distance':min_distance,'max distance':max_distance,\n"
     ]
    },
    {
     "name": "stdout",
     "output_type": "stream",
     "text": [
      "[  37.71951734 -122.3793085 ]\n"
     ]
    },
    {
     "name": "stderr",
     "output_type": "stream",
     "text": [
      "/var/folders/tm/g65yh1_d5f3gkpxmzywryqwc0000gn/T/ipykernel_66414/1125395041.py:39: FutureWarning: The frame.append method is deprecated and will be removed from pandas in a future version. Use pandas.concat instead.\n",
      "  df = df.append({'lng':loc[1],'lat':loc[0],'number of cities':int(city_count),'total population':int(population),'min distance':min_distance,'max distance':max_distance,\n"
     ]
    },
    {
     "name": "stdout",
     "output_type": "stream",
     "text": [
      "[  35.50990241 -121.08495508]\n"
     ]
    },
    {
     "name": "stderr",
     "output_type": "stream",
     "text": [
      "/var/folders/tm/g65yh1_d5f3gkpxmzywryqwc0000gn/T/ipykernel_66414/1125395041.py:39: FutureWarning: The frame.append method is deprecated and will be removed from pandas in a future version. Use pandas.concat instead.\n",
      "  df = df.append({'lng':loc[1],'lat':loc[0],'number of cities':int(city_count),'total population':int(population),'min distance':min_distance,'max distance':max_distance,\n"
     ]
    },
    {
     "name": "stdout",
     "output_type": "stream",
     "text": [
      "[  35.60767299 -121.1712453 ]\n"
     ]
    },
    {
     "name": "stderr",
     "output_type": "stream",
     "text": [
      "/var/folders/tm/g65yh1_d5f3gkpxmzywryqwc0000gn/T/ipykernel_66414/1125395041.py:39: FutureWarning: The frame.append method is deprecated and will be removed from pandas in a future version. Use pandas.concat instead.\n",
      "  df = df.append({'lng':loc[1],'lat':loc[0],'number of cities':int(city_count),'total population':int(population),'min distance':min_distance,'max distance':max_distance,\n"
     ]
    },
    {
     "name": "stdout",
     "output_type": "stream",
     "text": [
      "[  38.42346546 -121.66741412]\n"
     ]
    },
    {
     "name": "stderr",
     "output_type": "stream",
     "text": [
      "/var/folders/tm/g65yh1_d5f3gkpxmzywryqwc0000gn/T/ipykernel_66414/1125395041.py:39: FutureWarning: The frame.append method is deprecated and will be removed from pandas in a future version. Use pandas.concat instead.\n",
      "  df = df.append({'lng':loc[1],'lat':loc[0],'number of cities':int(city_count),'total population':int(population),'min distance':min_distance,'max distance':max_distance,\n"
     ]
    },
    {
     "name": "stdout",
     "output_type": "stream",
     "text": [
      "[  36.52671636 -122.01257503]\n"
     ]
    },
    {
     "name": "stderr",
     "output_type": "stream",
     "text": [
      "/var/folders/tm/g65yh1_d5f3gkpxmzywryqwc0000gn/T/ipykernel_66414/1125395041.py:39: FutureWarning: The frame.append method is deprecated and will be removed from pandas in a future version. Use pandas.concat instead.\n",
      "  df = df.append({'lng':loc[1],'lat':loc[0],'number of cities':int(city_count),'total population':int(population),'min distance':min_distance,'max distance':max_distance,\n"
     ]
    },
    {
     "name": "stdout",
     "output_type": "stream",
     "text": [
      "[  33.98468149 -120.26519791]\n"
     ]
    },
    {
     "name": "stderr",
     "output_type": "stream",
     "text": [
      "/var/folders/tm/g65yh1_d5f3gkpxmzywryqwc0000gn/T/ipykernel_66414/1125395041.py:39: FutureWarning: The frame.append method is deprecated and will be removed from pandas in a future version. Use pandas.concat instead.\n",
      "  df = df.append({'lng':loc[1],'lat':loc[0],'number of cities':int(city_count),'total population':int(population),'min distance':min_distance,'max distance':max_distance,\n"
     ]
    },
    {
     "name": "stdout",
     "output_type": "stream",
     "text": [
      "[  33.67181566 -117.05088691]\n"
     ]
    },
    {
     "name": "stderr",
     "output_type": "stream",
     "text": [
      "/var/folders/tm/g65yh1_d5f3gkpxmzywryqwc0000gn/T/ipykernel_66414/1125395041.py:39: FutureWarning: The frame.append method is deprecated and will be removed from pandas in a future version. Use pandas.concat instead.\n",
      "  df = df.append({'lng':loc[1],'lat':loc[0],'number of cities':int(city_count),'total population':int(population),'min distance':min_distance,'max distance':max_distance,\n"
     ]
    },
    {
     "name": "stdout",
     "output_type": "stream",
     "text": [
      "[  39.01008889 -123.71680703]\n"
     ]
    },
    {
     "name": "stderr",
     "output_type": "stream",
     "text": [
      "/var/folders/tm/g65yh1_d5f3gkpxmzywryqwc0000gn/T/ipykernel_66414/1125395041.py:39: FutureWarning: The frame.append method is deprecated and will be removed from pandas in a future version. Use pandas.concat instead.\n",
      "  df = df.append({'lng':loc[1],'lat':loc[0],'number of cities':int(city_count),'total population':int(population),'min distance':min_distance,'max distance':max_distance,\n"
     ]
    },
    {
     "name": "stdout",
     "output_type": "stream",
     "text": [
      "[  34.04334383 -120.04947234]\n"
     ]
    },
    {
     "name": "stderr",
     "output_type": "stream",
     "text": [
      "/var/folders/tm/g65yh1_d5f3gkpxmzywryqwc0000gn/T/ipykernel_66414/1125395041.py:39: FutureWarning: The frame.append method is deprecated and will be removed from pandas in a future version. Use pandas.concat instead.\n",
      "  df = df.append({'lng':loc[1],'lat':loc[0],'number of cities':int(city_count),'total population':int(population),'min distance':min_distance,'max distance':max_distance,\n"
     ]
    },
    {
     "name": "stdout",
     "output_type": "stream",
     "text": [
      "[  33.43716628 -115.90754139]\n"
     ]
    },
    {
     "name": "stderr",
     "output_type": "stream",
     "text": [
      "/var/folders/tm/g65yh1_d5f3gkpxmzywryqwc0000gn/T/ipykernel_66414/1125395041.py:39: FutureWarning: The frame.append method is deprecated and will be removed from pandas in a future version. Use pandas.concat instead.\n",
      "  df = df.append({'lng':loc[1],'lat':loc[0],'number of cities':int(city_count),'total population':int(population),'min distance':min_distance,'max distance':max_distance,\n"
     ]
    },
    {
     "name": "stdout",
     "output_type": "stream",
     "text": [
      "[  40.59397216 -124.36398374]\n"
     ]
    },
    {
     "name": "stderr",
     "output_type": "stream",
     "text": [
      "/var/folders/tm/g65yh1_d5f3gkpxmzywryqwc0000gn/T/ipykernel_66414/1125395041.py:39: FutureWarning: The frame.append method is deprecated and will be removed from pandas in a future version. Use pandas.concat instead.\n",
      "  df = df.append({'lng':loc[1],'lat':loc[0],'number of cities':int(city_count),'total population':int(population),'min distance':min_distance,'max distance':max_distance,\n"
     ]
    },
    {
     "name": "stdout",
     "output_type": "stream",
     "text": [
      "[  39.5576041 -121.4732611]\n"
     ]
    },
    {
     "name": "stderr",
     "output_type": "stream",
     "text": [
      "/var/folders/tm/g65yh1_d5f3gkpxmzywryqwc0000gn/T/ipykernel_66414/1125395041.py:39: FutureWarning: The frame.append method is deprecated and will be removed from pandas in a future version. Use pandas.concat instead.\n",
      "  df = df.append({'lng':loc[1],'lat':loc[0],'number of cities':int(city_count),'total population':int(population),'min distance':min_distance,'max distance':max_distance,\n"
     ]
    },
    {
     "name": "stdout",
     "output_type": "stream",
     "text": [
      "[  41.49346142 -124.12668562]\n"
     ]
    },
    {
     "name": "stderr",
     "output_type": "stream",
     "text": [
      "/var/folders/tm/g65yh1_d5f3gkpxmzywryqwc0000gn/T/ipykernel_66414/1125395041.py:39: FutureWarning: The frame.append method is deprecated and will be removed from pandas in a future version. Use pandas.concat instead.\n",
      "  df = df.append({'lng':loc[1],'lat':loc[0],'number of cities':int(city_count),'total population':int(population),'min distance':min_distance,'max distance':max_distance,\n"
     ]
    },
    {
     "name": "stdout",
     "output_type": "stream",
     "text": [
      "[  33.12430045 -117.39604782]\n"
     ]
    },
    {
     "name": "stderr",
     "output_type": "stream",
     "text": [
      "/var/folders/tm/g65yh1_d5f3gkpxmzywryqwc0000gn/T/ipykernel_66414/1125395041.py:39: FutureWarning: The frame.append method is deprecated and will be removed from pandas in a future version. Use pandas.concat instead.\n",
      "  df = df.append({'lng':loc[1],'lat':loc[0],'number of cities':int(city_count),'total population':int(population),'min distance':min_distance,'max distance':max_distance,\n"
     ]
    },
    {
     "name": "stdout",
     "output_type": "stream",
     "text": [
      "[  40.20288987 -124.34241119]\n"
     ]
    },
    {
     "name": "stderr",
     "output_type": "stream",
     "text": [
      "/var/folders/tm/g65yh1_d5f3gkpxmzywryqwc0000gn/T/ipykernel_66414/1125395041.py:39: FutureWarning: The frame.append method is deprecated and will be removed from pandas in a future version. Use pandas.concat instead.\n",
      "  df = df.append({'lng':loc[1],'lat':loc[0],'number of cities':int(city_count),'total population':int(population),'min distance':min_distance,'max distance':max_distance,\n"
     ]
    },
    {
     "name": "stdout",
     "output_type": "stream",
     "text": [
      "[  40.80906742 -124.14825817]\n"
     ]
    },
    {
     "name": "stderr",
     "output_type": "stream",
     "text": [
      "/var/folders/tm/g65yh1_d5f3gkpxmzywryqwc0000gn/T/ipykernel_66414/1125395041.py:39: FutureWarning: The frame.append method is deprecated and will be removed from pandas in a future version. Use pandas.concat instead.\n",
      "  df = df.append({'lng':loc[1],'lat':loc[0],'number of cities':int(city_count),'total population':int(population),'min distance':min_distance,'max distance':max_distance,\n"
     ]
    },
    {
     "name": "stdout",
     "output_type": "stream",
     "text": [
      "[  33.41761217 -115.90754139]\n"
     ]
    },
    {
     "name": "stderr",
     "output_type": "stream",
     "text": [
      "/var/folders/tm/g65yh1_d5f3gkpxmzywryqwc0000gn/T/ipykernel_66414/1125395041.py:39: FutureWarning: The frame.append method is deprecated and will be removed from pandas in a future version. Use pandas.concat instead.\n",
      "  df = df.append({'lng':loc[1],'lat':loc[0],'number of cities':int(city_count),'total population':int(population),'min distance':min_distance,'max distance':max_distance,\n"
     ]
    },
    {
     "name": "stdout",
     "output_type": "stream",
     "text": [
      "[  38.61900661 -122.24987316]\n"
     ]
    },
    {
     "name": "stderr",
     "output_type": "stream",
     "text": [
      "/var/folders/tm/g65yh1_d5f3gkpxmzywryqwc0000gn/T/ipykernel_66414/1125395041.py:39: FutureWarning: The frame.append method is deprecated and will be removed from pandas in a future version. Use pandas.concat instead.\n",
      "  df = df.append({'lng':loc[1],'lat':loc[0],'number of cities':int(city_count),'total population':int(population),'min distance':min_distance,'max distance':max_distance,\n"
     ]
    },
    {
     "name": "stdout",
     "output_type": "stream",
     "text": [
      "[  37.99327494 -122.70289685]\n"
     ]
    },
    {
     "name": "stderr",
     "output_type": "stream",
     "text": [
      "/var/folders/tm/g65yh1_d5f3gkpxmzywryqwc0000gn/T/ipykernel_66414/1125395041.py:39: FutureWarning: The frame.append method is deprecated and will be removed from pandas in a future version. Use pandas.concat instead.\n",
      "  df = df.append({'lng':loc[1],'lat':loc[0],'number of cities':int(city_count),'total population':int(population),'min distance':min_distance,'max distance':max_distance,\n"
     ]
    },
    {
     "name": "stdout",
     "output_type": "stream",
     "text": [
      "[  36.09652585 -116.83516134]\n"
     ]
    },
    {
     "name": "stderr",
     "output_type": "stream",
     "text": [
      "/var/folders/tm/g65yh1_d5f3gkpxmzywryqwc0000gn/T/ipykernel_66414/1125395041.py:39: FutureWarning: The frame.append method is deprecated and will be removed from pandas in a future version. Use pandas.concat instead.\n",
      "  df = df.append({'lng':loc[1],'lat':loc[0],'number of cities':int(city_count),'total population':int(population),'min distance':min_distance,'max distance':max_distance,\n"
     ]
    },
    {
     "name": "stdout",
     "output_type": "stream",
     "text": [
      "[  33.49582863 -115.82125116]\n"
     ]
    },
    {
     "name": "stderr",
     "output_type": "stream",
     "text": [
      "/var/folders/tm/g65yh1_d5f3gkpxmzywryqwc0000gn/T/ipykernel_66414/1125395041.py:39: FutureWarning: The frame.append method is deprecated and will be removed from pandas in a future version. Use pandas.concat instead.\n",
      "  df = df.append({'lng':loc[1],'lat':loc[0],'number of cities':int(city_count),'total population':int(population),'min distance':min_distance,'max distance':max_distance,\n"
     ]
    },
    {
     "name": "stdout",
     "output_type": "stream",
     "text": [
      "[  33.80869446 -118.47467568]\n"
     ]
    },
    {
     "name": "stderr",
     "output_type": "stream",
     "text": [
      "/var/folders/tm/g65yh1_d5f3gkpxmzywryqwc0000gn/T/ipykernel_66414/1125395041.py:39: FutureWarning: The frame.append method is deprecated and will be removed from pandas in a future version. Use pandas.concat instead.\n",
      "  df = df.append({'lng':loc[1],'lat':loc[0],'number of cities':int(city_count),'total population':int(population),'min distance':min_distance,'max distance':max_distance,\n"
     ]
    },
    {
     "name": "stdout",
     "output_type": "stream",
     "text": [
      "[  36.78091985 -122.01257503]\n"
     ]
    },
    {
     "name": "stderr",
     "output_type": "stream",
     "text": [
      "/var/folders/tm/g65yh1_d5f3gkpxmzywryqwc0000gn/T/ipykernel_66414/1125395041.py:39: FutureWarning: The frame.append method is deprecated and will be removed from pandas in a future version. Use pandas.concat instead.\n",
      "  df = df.append({'lng':loc[1],'lat':loc[0],'number of cities':int(city_count),'total population':int(population),'min distance':min_distance,'max distance':max_distance,\n"
     ]
    },
    {
     "name": "stdout",
     "output_type": "stream",
     "text": [
      "[  37.68040911 -122.24987316]\n"
     ]
    },
    {
     "name": "stderr",
     "output_type": "stream",
     "text": [
      "/var/folders/tm/g65yh1_d5f3gkpxmzywryqwc0000gn/T/ipykernel_66414/1125395041.py:39: FutureWarning: The frame.append method is deprecated and will be removed from pandas in a future version. Use pandas.concat instead.\n",
      "  df = df.append({'lng':loc[1],'lat':loc[0],'number of cities':int(city_count),'total population':int(population),'min distance':min_distance,'max distance':max_distance,\n"
     ]
    },
    {
     "name": "stdout",
     "output_type": "stream",
     "text": [
      "[  38.01282906 -122.91862242]\n"
     ]
    },
    {
     "name": "stderr",
     "output_type": "stream",
     "text": [
      "/var/folders/tm/g65yh1_d5f3gkpxmzywryqwc0000gn/T/ipykernel_66414/1125395041.py:39: FutureWarning: The frame.append method is deprecated and will be removed from pandas in a future version. Use pandas.concat instead.\n",
      "  df = df.append({'lng':loc[1],'lat':loc[0],'number of cities':int(city_count),'total population':int(population),'min distance':min_distance,'max distance':max_distance,\n"
     ]
    },
    {
     "name": "stdout",
     "output_type": "stream",
     "text": [
      "[  41.80632726 -124.19140329]\n"
     ]
    },
    {
     "name": "stderr",
     "output_type": "stream",
     "text": [
      "/var/folders/tm/g65yh1_d5f3gkpxmzywryqwc0000gn/T/ipykernel_66414/1125395041.py:39: FutureWarning: The frame.append method is deprecated and will be removed from pandas in a future version. Use pandas.concat instead.\n",
      "  df = df.append({'lng':loc[1],'lat':loc[0],'number of cities':int(city_count),'total population':int(population),'min distance':min_distance,'max distance':max_distance,\n"
     ]
    },
    {
     "name": "stdout",
     "output_type": "stream",
     "text": [
      "[  33.08519223 -118.62568358]\n",
      "b'{\"message\":\"Impossible route between points\",\"code\":\"NoRoute\"}'\n",
      "[  32.98742165 -118.49624823]\n"
     ]
    },
    {
     "name": "stderr",
     "output_type": "stream",
     "text": [
      "/var/folders/tm/g65yh1_d5f3gkpxmzywryqwc0000gn/T/ipykernel_66414/1125395041.py:17: FutureWarning: The frame.append method is deprecated and will be removed from pandas in a future version. Use pandas.concat instead.\n",
      "  df = df.append({'lng':loc[1],'lat':loc[0],'number of cities':0,'total   population':0,'min distance':None,'max distance':None,\n"
     ]
    },
    {
     "name": "stdout",
     "output_type": "stream",
     "text": [
      "b'{\"message\":\"Impossible route between points\",\"code\":\"NoRoute\"}'\n",
      "[  39.04919712 -123.69523448]\n"
     ]
    },
    {
     "name": "stderr",
     "output_type": "stream",
     "text": [
      "/var/folders/tm/g65yh1_d5f3gkpxmzywryqwc0000gn/T/ipykernel_66414/1125395041.py:17: FutureWarning: The frame.append method is deprecated and will be removed from pandas in a future version. Use pandas.concat instead.\n",
      "  df = df.append({'lng':loc[1],'lat':loc[0],'number of cities':0,'total   population':0,'min distance':None,'max distance':None,\n",
      "/var/folders/tm/g65yh1_d5f3gkpxmzywryqwc0000gn/T/ipykernel_66414/1125395041.py:39: FutureWarning: The frame.append method is deprecated and will be removed from pandas in a future version. Use pandas.concat instead.\n",
      "  df = df.append({'lng':loc[1],'lat':loc[0],'number of cities':int(city_count),'total population':int(population),'min distance':min_distance,'max distance':max_distance,\n"
     ]
    },
    {
     "name": "stdout",
     "output_type": "stream",
     "text": [
      "[  34.43442612 -118.60411102]\n"
     ]
    },
    {
     "name": "stderr",
     "output_type": "stream",
     "text": [
      "/var/folders/tm/g65yh1_d5f3gkpxmzywryqwc0000gn/T/ipykernel_66414/1125395041.py:39: FutureWarning: The frame.append method is deprecated and will be removed from pandas in a future version. Use pandas.concat instead.\n",
      "  df = df.append({'lng':loc[1],'lat':loc[0],'number of cities':int(city_count),'total population':int(population),'min distance':min_distance,'max distance':max_distance,\n"
     ]
    },
    {
     "name": "stdout",
     "output_type": "stream",
     "text": [
      "[  37.9346126  -122.24987316]\n"
     ]
    },
    {
     "name": "stderr",
     "output_type": "stream",
     "text": [
      "/var/folders/tm/g65yh1_d5f3gkpxmzywryqwc0000gn/T/ipykernel_66414/1125395041.py:39: FutureWarning: The frame.append method is deprecated and will be removed from pandas in a future version. Use pandas.concat instead.\n",
      "  df = df.append({'lng':loc[1],'lat':loc[0],'number of cities':int(city_count),'total population':int(population),'min distance':min_distance,'max distance':max_distance,\n"
     ]
    },
    {
     "name": "stdout",
     "output_type": "stream",
     "text": [
      "[  37.07423157 -121.06338252]\n"
     ]
    },
    {
     "name": "stderr",
     "output_type": "stream",
     "text": [
      "/var/folders/tm/g65yh1_d5f3gkpxmzywryqwc0000gn/T/ipykernel_66414/1125395041.py:39: FutureWarning: The frame.append method is deprecated and will be removed from pandas in a future version. Use pandas.concat instead.\n",
      "  df = df.append({'lng':loc[1],'lat':loc[0],'number of cities':int(city_count),'total population':int(population),'min distance':min_distance,'max distance':max_distance,\n"
     ]
    },
    {
     "name": "stdout",
     "output_type": "stream",
     "text": [
      "[  32.83098874 -117.3097576 ]\n"
     ]
    },
    {
     "name": "stderr",
     "output_type": "stream",
     "text": [
      "/var/folders/tm/g65yh1_d5f3gkpxmzywryqwc0000gn/T/ipykernel_66414/1125395041.py:39: FutureWarning: The frame.append method is deprecated and will be removed from pandas in a future version. Use pandas.concat instead.\n",
      "  df = df.append({'lng':loc[1],'lat':loc[0],'number of cities':int(city_count),'total population':int(population),'min distance':min_distance,'max distance':max_distance,\n"
     ]
    },
    {
     "name": "stdout",
     "output_type": "stream",
     "text": [
      "[  33.26117926 -115.71338838]\n"
     ]
    },
    {
     "name": "stderr",
     "output_type": "stream",
     "text": [
      "/var/folders/tm/g65yh1_d5f3gkpxmzywryqwc0000gn/T/ipykernel_66414/1125395041.py:39: FutureWarning: The frame.append method is deprecated and will be removed from pandas in a future version. Use pandas.concat instead.\n",
      "  df = df.append({'lng':loc[1],'lat':loc[0],'number of cities':int(city_count),'total population':int(population),'min distance':min_distance,'max distance':max_distance,\n"
     ]
    },
    {
     "name": "stdout",
     "output_type": "stream",
     "text": [
      "[  39.30340061 -122.0772927 ]\n"
     ]
    },
    {
     "name": "stderr",
     "output_type": "stream",
     "text": [
      "/var/folders/tm/g65yh1_d5f3gkpxmzywryqwc0000gn/T/ipykernel_66414/1125395041.py:39: FutureWarning: The frame.append method is deprecated and will be removed from pandas in a future version. Use pandas.concat instead.\n",
      "  df = df.append({'lng':loc[1],'lat':loc[0],'number of cities':int(city_count),'total population':int(population),'min distance':min_distance,'max distance':max_distance,\n"
     ]
    },
    {
     "name": "stdout",
     "output_type": "stream",
     "text": [
      "[  39.73359113 -123.84624238]\n"
     ]
    },
    {
     "name": "stderr",
     "output_type": "stream",
     "text": [
      "/var/folders/tm/g65yh1_d5f3gkpxmzywryqwc0000gn/T/ipykernel_66414/1125395041.py:39: FutureWarning: The frame.append method is deprecated and will be removed from pandas in a future version. Use pandas.concat instead.\n",
      "  df = df.append({'lng':loc[1],'lat':loc[0],'number of cities':int(city_count),'total population':int(population),'min distance':min_distance,'max distance':max_distance,\n"
     ]
    },
    {
     "name": "stdout",
     "output_type": "stream",
     "text": [
      "[  37.9346126  -122.46559873]\n"
     ]
    },
    {
     "name": "stderr",
     "output_type": "stream",
     "text": [
      "/var/folders/tm/g65yh1_d5f3gkpxmzywryqwc0000gn/T/ipykernel_66414/1125395041.py:39: FutureWarning: The frame.append method is deprecated and will be removed from pandas in a future version. Use pandas.concat instead.\n",
      "  df = df.append({'lng':loc[1],'lat':loc[0],'number of cities':int(city_count),'total population':int(population),'min distance':min_distance,'max distance':max_distance,\n"
     ]
    },
    {
     "name": "stdout",
     "output_type": "stream",
     "text": [
      "[  38.83410186 -120.73979416]\n"
     ]
    },
    {
     "name": "stderr",
     "output_type": "stream",
     "text": [
      "/var/folders/tm/g65yh1_d5f3gkpxmzywryqwc0000gn/T/ipykernel_66414/1125395041.py:39: FutureWarning: The frame.append method is deprecated and will be removed from pandas in a future version. Use pandas.concat instead.\n",
      "  df = df.append({'lng':loc[1],'lat':loc[0],'number of cities':int(city_count),'total population':int(population),'min distance':min_distance,'max distance':max_distance,\n"
     ]
    },
    {
     "name": "stdout",
     "output_type": "stream",
     "text": [
      "[  37.23066448 -120.80451183]\n"
     ]
    },
    {
     "name": "stderr",
     "output_type": "stream",
     "text": [
      "/var/folders/tm/g65yh1_d5f3gkpxmzywryqwc0000gn/T/ipykernel_66414/1125395041.py:39: FutureWarning: The frame.append method is deprecated and will be removed from pandas in a future version. Use pandas.concat instead.\n",
      "  df = df.append({'lng':loc[1],'lat':loc[0],'number of cities':int(city_count),'total population':int(population),'min distance':min_distance,'max distance':max_distance,\n"
     ]
    },
    {
     "name": "stdout",
     "output_type": "stream",
     "text": [
      "[  34.08245206 -119.89846444]\n"
     ]
    },
    {
     "name": "stderr",
     "output_type": "stream",
     "text": [
      "/var/folders/tm/g65yh1_d5f3gkpxmzywryqwc0000gn/T/ipykernel_66414/1125395041.py:39: FutureWarning: The frame.append method is deprecated and will be removed from pandas in a future version. Use pandas.concat instead.\n",
      "  df = df.append({'lng':loc[1],'lat':loc[0],'number of cities':int(city_count),'total population':int(population),'min distance':min_distance,'max distance':max_distance,\n"
     ]
    },
    {
     "name": "stdout",
     "output_type": "stream",
     "text": [
      "[  32.81143462 -118.43153056]\n",
      "b'{\"message\":\"Impossible route between points\",\"code\":\"NoRoute\"}'\n",
      "[  33.4567204  -117.71963618]\n"
     ]
    },
    {
     "name": "stderr",
     "output_type": "stream",
     "text": [
      "/var/folders/tm/g65yh1_d5f3gkpxmzywryqwc0000gn/T/ipykernel_66414/1125395041.py:17: FutureWarning: The frame.append method is deprecated and will be removed from pandas in a future version. Use pandas.concat instead.\n",
      "  df = df.append({'lng':loc[1],'lat':loc[0],'number of cities':0,'total   population':0,'min distance':None,'max distance':None,\n",
      "/var/folders/tm/g65yh1_d5f3gkpxmzywryqwc0000gn/T/ipykernel_66414/1125395041.py:39: FutureWarning: The frame.append method is deprecated and will be removed from pandas in a future version. Use pandas.concat instead.\n",
      "  df = df.append({'lng':loc[1],'lat':loc[0],'number of cities':int(city_count),'total population':int(population),'min distance':min_distance,'max distance':max_distance,\n"
     ]
    },
    {
     "name": "stdout",
     "output_type": "stream",
     "text": [
      "[  38.13015374 -122.33616338]\n"
     ]
    },
    {
     "name": "stderr",
     "output_type": "stream",
     "text": [
      "/var/folders/tm/g65yh1_d5f3gkpxmzywryqwc0000gn/T/ipykernel_66414/1125395041.py:39: FutureWarning: The frame.append method is deprecated and will be removed from pandas in a future version. Use pandas.concat instead.\n",
      "  df = df.append({'lng':loc[1],'lat':loc[0],'number of cities':int(city_count),'total population':int(population),'min distance':min_distance,'max distance':max_distance,\n"
     ]
    },
    {
     "name": "stdout",
     "output_type": "stream",
     "text": [
      "[  38.40391135 -123.15592055]\n"
     ]
    },
    {
     "name": "stderr",
     "output_type": "stream",
     "text": [
      "/var/folders/tm/g65yh1_d5f3gkpxmzywryqwc0000gn/T/ipykernel_66414/1125395041.py:39: FutureWarning: The frame.append method is deprecated and will be removed from pandas in a future version. Use pandas.concat instead.\n",
      "  df = df.append({'lng':loc[1],'lat':loc[0],'number of cities':int(city_count),'total population':int(population),'min distance':min_distance,'max distance':max_distance,\n"
     ]
    },
    {
     "name": "stdout",
     "output_type": "stream",
     "text": [
      "[  34.0042356  -118.79826403]\n"
     ]
    },
    {
     "name": "stderr",
     "output_type": "stream",
     "text": [
      "/var/folders/tm/g65yh1_d5f3gkpxmzywryqwc0000gn/T/ipykernel_66414/1125395041.py:39: FutureWarning: The frame.append method is deprecated and will be removed from pandas in a future version. Use pandas.concat instead.\n",
      "  df = df.append({'lng':loc[1],'lat':loc[0],'number of cities':int(city_count),'total population':int(population),'min distance':min_distance,'max distance':max_distance,\n"
     ]
    },
    {
     "name": "stdout",
     "output_type": "stream",
     "text": [
      "[  33.046084   -117.35290271]\n"
     ]
    },
    {
     "name": "stderr",
     "output_type": "stream",
     "text": [
      "/var/folders/tm/g65yh1_d5f3gkpxmzywryqwc0000gn/T/ipykernel_66414/1125395041.py:39: FutureWarning: The frame.append method is deprecated and will be removed from pandas in a future version. Use pandas.concat instead.\n",
      "  df = df.append({'lng':loc[1],'lat':loc[0],'number of cities':int(city_count),'total population':int(population),'min distance':min_distance,'max distance':max_distance,\n"
     ]
    },
    {
     "name": "stdout",
     "output_type": "stream",
     "text": [
      "[  34.45398023 -120.52406859]\n"
     ]
    },
    {
     "name": "stderr",
     "output_type": "stream",
     "text": [
      "/var/folders/tm/g65yh1_d5f3gkpxmzywryqwc0000gn/T/ipykernel_66414/1125395041.py:39: FutureWarning: The frame.append method is deprecated and will be removed from pandas in a future version. Use pandas.concat instead.\n",
      "  df = df.append({'lng':loc[1],'lat':loc[0],'number of cities':int(city_count),'total population':int(population),'min distance':min_distance,'max distance':max_distance,\n"
     ]
    },
    {
     "name": "stdout",
     "output_type": "stream",
     "text": [
      "[  35.64678121 -121.3222532 ]\n"
     ]
    },
    {
     "name": "stderr",
     "output_type": "stream",
     "text": [
      "/var/folders/tm/g65yh1_d5f3gkpxmzywryqwc0000gn/T/ipykernel_66414/1125395041.py:39: FutureWarning: The frame.append method is deprecated and will be removed from pandas in a future version. Use pandas.concat instead.\n",
      "  df = df.append({'lng':loc[1],'lat':loc[0],'number of cities':int(city_count),'total population':int(population),'min distance':min_distance,'max distance':max_distance,\n"
     ]
    },
    {
     "name": "stdout",
     "output_type": "stream",
     "text": [
      "[  35.47079418 -115.34665491]\n"
     ]
    },
    {
     "name": "stderr",
     "output_type": "stream",
     "text": [
      "/var/folders/tm/g65yh1_d5f3gkpxmzywryqwc0000gn/T/ipykernel_66414/1125395041.py:39: FutureWarning: The frame.append method is deprecated and will be removed from pandas in a future version. Use pandas.concat instead.\n",
      "  df = df.append({'lng':loc[1],'lat':loc[0],'number of cities':int(city_count),'total population':int(population),'min distance':min_distance,'max distance':max_distance,\n"
     ]
    },
    {
     "name": "stdout",
     "output_type": "stream",
     "text": [
      "[  39.45983353 -123.86781493]\n"
     ]
    },
    {
     "name": "stderr",
     "output_type": "stream",
     "text": [
      "/var/folders/tm/g65yh1_d5f3gkpxmzywryqwc0000gn/T/ipykernel_66414/1125395041.py:39: FutureWarning: The frame.append method is deprecated and will be removed from pandas in a future version. Use pandas.concat instead.\n",
      "  df = df.append({'lng':loc[1],'lat':loc[0],'number of cities':int(city_count),'total population':int(population),'min distance':min_distance,'max distance':max_distance,\n"
     ]
    },
    {
     "name": "stdout",
     "output_type": "stream",
     "text": [
      "[  38.2083702  -120.56721371]\n"
     ]
    },
    {
     "name": "stderr",
     "output_type": "stream",
     "text": [
      "/var/folders/tm/g65yh1_d5f3gkpxmzywryqwc0000gn/T/ipykernel_66414/1125395041.py:39: FutureWarning: The frame.append method is deprecated and will be removed from pandas in a future version. Use pandas.concat instead.\n",
      "  df = df.append({'lng':loc[1],'lat':loc[0],'number of cities':int(city_count),'total population':int(population),'min distance':min_distance,'max distance':max_distance,\n"
     ]
    },
    {
     "name": "stdout",
     "output_type": "stream",
     "text": [
      "[  38.01282906 -122.46559873]\n"
     ]
    },
    {
     "name": "stderr",
     "output_type": "stream",
     "text": [
      "/var/folders/tm/g65yh1_d5f3gkpxmzywryqwc0000gn/T/ipykernel_66414/1125395041.py:39: FutureWarning: The frame.append method is deprecated and will be removed from pandas in a future version. Use pandas.concat instead.\n",
      "  df = df.append({'lng':loc[1],'lat':loc[0],'number of cities':int(city_count),'total population':int(population),'min distance':min_distance,'max distance':max_distance,\n"
     ]
    },
    {
     "name": "stdout",
     "output_type": "stream",
     "text": [
      "[  37.99327494 -122.94019498]\n"
     ]
    },
    {
     "name": "stderr",
     "output_type": "stream",
     "text": [
      "/var/folders/tm/g65yh1_d5f3gkpxmzywryqwc0000gn/T/ipykernel_66414/1125395041.py:39: FutureWarning: The frame.append method is deprecated and will be removed from pandas in a future version. Use pandas.concat instead.\n",
      "  df = df.append({'lng':loc[1],'lat':loc[0],'number of cities':int(city_count),'total population':int(population),'min distance':min_distance,'max distance':max_distance,\n"
     ]
    },
    {
     "name": "stdout",
     "output_type": "stream",
     "text": [
      "[  37.91505849 -122.46559873]\n"
     ]
    },
    {
     "name": "stderr",
     "output_type": "stream",
     "text": [
      "/var/folders/tm/g65yh1_d5f3gkpxmzywryqwc0000gn/T/ipykernel_66414/1125395041.py:39: FutureWarning: The frame.append method is deprecated and will be removed from pandas in a future version. Use pandas.concat instead.\n",
      "  df = df.append({'lng':loc[1],'lat':loc[0],'number of cities':int(city_count),'total population':int(population),'min distance':min_distance,'max distance':max_distance,\n"
     ]
    },
    {
     "name": "stdout",
     "output_type": "stream",
     "text": [
      "[  33.47627451 -115.9506865 ]\n"
     ]
    },
    {
     "name": "stderr",
     "output_type": "stream",
     "text": [
      "/var/folders/tm/g65yh1_d5f3gkpxmzywryqwc0000gn/T/ipykernel_66414/1125395041.py:39: FutureWarning: The frame.append method is deprecated and will be removed from pandas in a future version. Use pandas.concat instead.\n",
      "  df = df.append({'lng':loc[1],'lat':loc[0],'number of cities':int(city_count),'total population':int(population),'min distance':min_distance,'max distance':max_distance,\n"
     ]
    },
    {
     "name": "stdout",
     "output_type": "stream",
     "text": [
      "[  36.78091985 -121.88313969]\n"
     ]
    },
    {
     "name": "stderr",
     "output_type": "stream",
     "text": [
      "/var/folders/tm/g65yh1_d5f3gkpxmzywryqwc0000gn/T/ipykernel_66414/1125395041.py:39: FutureWarning: The frame.append method is deprecated and will be removed from pandas in a future version. Use pandas.concat instead.\n",
      "  df = df.append({'lng':loc[1],'lat':loc[0],'number of cities':int(city_count),'total population':int(population),'min distance':min_distance,'max distance':max_distance,\n"
     ]
    },
    {
     "name": "stdout",
     "output_type": "stream",
     "text": [
      "[  34.0042356  -120.50249604]\n"
     ]
    },
    {
     "name": "stderr",
     "output_type": "stream",
     "text": [
      "/var/folders/tm/g65yh1_d5f3gkpxmzywryqwc0000gn/T/ipykernel_66414/1125395041.py:39: FutureWarning: The frame.append method is deprecated and will be removed from pandas in a future version. Use pandas.concat instead.\n",
      "  df = df.append({'lng':loc[1],'lat':loc[0],'number of cities':int(city_count),'total population':int(population),'min distance':min_distance,'max distance':max_distance,\n"
     ]
    },
    {
     "name": "stdout",
     "output_type": "stream",
     "text": [
      "[  33.8673568  -117.09403203]\n"
     ]
    },
    {
     "name": "stderr",
     "output_type": "stream",
     "text": [
      "/var/folders/tm/g65yh1_d5f3gkpxmzywryqwc0000gn/T/ipykernel_66414/1125395041.py:39: FutureWarning: The frame.append method is deprecated and will be removed from pandas in a future version. Use pandas.concat instead.\n",
      "  df = df.append({'lng':loc[1],'lat':loc[0],'number of cities':int(city_count),'total population':int(population),'min distance':min_distance,'max distance':max_distance,\n"
     ]
    },
    {
     "name": "stdout",
     "output_type": "stream",
     "text": [
      "[  38.11059963 -122.0772927 ]\n"
     ]
    },
    {
     "name": "stderr",
     "output_type": "stream",
     "text": [
      "/var/folders/tm/g65yh1_d5f3gkpxmzywryqwc0000gn/T/ipykernel_66414/1125395041.py:39: FutureWarning: The frame.append method is deprecated and will be removed from pandas in a future version. Use pandas.concat instead.\n",
      "  df = df.append({'lng':loc[1],'lat':loc[0],'number of cities':int(city_count),'total population':int(population),'min distance':min_distance,'max distance':max_distance,\n"
     ]
    },
    {
     "name": "stdout",
     "output_type": "stream",
     "text": [
      "[  41.88454371 -124.3855563 ]\n"
     ]
    },
    {
     "name": "stderr",
     "output_type": "stream",
     "text": [
      "/var/folders/tm/g65yh1_d5f3gkpxmzywryqwc0000gn/T/ipykernel_66414/1125395041.py:39: FutureWarning: The frame.append method is deprecated and will be removed from pandas in a future version. Use pandas.concat instead.\n",
      "  df = df.append({'lng':loc[1],'lat':loc[0],'number of cities':int(city_count),'total population':int(population),'min distance':min_distance,'max distance':max_distance,\n"
     ]
    },
    {
     "name": "stdout",
     "output_type": "stream",
     "text": [
      "[  38.09104552 -121.88313969]\n"
     ]
    },
    {
     "name": "stderr",
     "output_type": "stream",
     "text": [
      "/var/folders/tm/g65yh1_d5f3gkpxmzywryqwc0000gn/T/ipykernel_66414/1125395041.py:39: FutureWarning: The frame.append method is deprecated and will be removed from pandas in a future version. Use pandas.concat instead.\n",
      "  df = df.append({'lng':loc[1],'lat':loc[0],'number of cities':int(city_count),'total population':int(population),'min distance':min_distance,'max distance':max_distance,\n"
     ]
    },
    {
     "name": "stdout",
     "output_type": "stream",
     "text": [
      "[  37.44575974 -122.46559873]\n"
     ]
    },
    {
     "name": "stderr",
     "output_type": "stream",
     "text": [
      "/var/folders/tm/g65yh1_d5f3gkpxmzywryqwc0000gn/T/ipykernel_66414/1125395041.py:39: FutureWarning: The frame.append method is deprecated and will be removed from pandas in a future version. Use pandas.concat instead.\n",
      "  df = df.append({'lng':loc[1],'lat':loc[0],'number of cities':int(city_count),'total population':int(population),'min distance':min_distance,'max distance':max_distance,\n"
     ]
    },
    {
     "name": "stdout",
     "output_type": "stream",
     "text": [
      "[  39.32295472 -122.09886526]\n"
     ]
    },
    {
     "name": "stderr",
     "output_type": "stream",
     "text": [
      "/var/folders/tm/g65yh1_d5f3gkpxmzywryqwc0000gn/T/ipykernel_66414/1125395041.py:39: FutureWarning: The frame.append method is deprecated and will be removed from pandas in a future version. Use pandas.concat instead.\n",
      "  df = df.append({'lng':loc[1],'lat':loc[0],'number of cities':int(city_count),'total population':int(population),'min distance':min_distance,'max distance':max_distance,\n"
     ]
    },
    {
     "name": "stdout",
     "output_type": "stream",
     "text": [
      "[  34.1411144  -120.52406859]\n"
     ]
    },
    {
     "name": "stderr",
     "output_type": "stream",
     "text": [
      "/var/folders/tm/g65yh1_d5f3gkpxmzywryqwc0000gn/T/ipykernel_66414/1125395041.py:39: FutureWarning: The frame.append method is deprecated and will be removed from pandas in a future version. Use pandas.concat instead.\n",
      "  df = df.append({'lng':loc[1],'lat':loc[0],'number of cities':int(city_count),'total population':int(population),'min distance':min_distance,'max distance':max_distance,\n"
     ]
    },
    {
     "name": "stdout",
     "output_type": "stream",
     "text": [
      "[  37.58263854 -122.29301827]\n"
     ]
    },
    {
     "name": "stderr",
     "output_type": "stream",
     "text": [
      "/var/folders/tm/g65yh1_d5f3gkpxmzywryqwc0000gn/T/ipykernel_66414/1125395041.py:39: FutureWarning: The frame.append method is deprecated and will be removed from pandas in a future version. Use pandas.concat instead.\n",
      "  df = df.append({'lng':loc[1],'lat':loc[0],'number of cities':int(city_count),'total population':int(population),'min distance':min_distance,'max distance':max_distance,\n"
     ]
    },
    {
     "name": "stdout",
     "output_type": "stream",
     "text": [
      "[  41.33702851 -124.16983073]\n"
     ]
    },
    {
     "name": "stderr",
     "output_type": "stream",
     "text": [
      "/var/folders/tm/g65yh1_d5f3gkpxmzywryqwc0000gn/T/ipykernel_66414/1125395041.py:39: FutureWarning: The frame.append method is deprecated and will be removed from pandas in a future version. Use pandas.concat instead.\n",
      "  df = df.append({'lng':loc[1],'lat':loc[0],'number of cities':int(city_count),'total population':int(population),'min distance':min_distance,'max distance':max_distance,\n"
     ]
    },
    {
     "name": "stdout",
     "output_type": "stream",
     "text": [
      "[  33.53493686 -117.84907152]\n"
     ]
    },
    {
     "name": "stderr",
     "output_type": "stream",
     "text": [
      "/var/folders/tm/g65yh1_d5f3gkpxmzywryqwc0000gn/T/ipykernel_66414/1125395041.py:39: FutureWarning: The frame.append method is deprecated and will be removed from pandas in a future version. Use pandas.concat instead.\n",
      "  df = df.append({'lng':loc[1],'lat':loc[0],'number of cities':int(city_count),'total population':int(population),'min distance':min_distance,'max distance':max_distance,\n"
     ]
    },
    {
     "name": "stdout",
     "output_type": "stream",
     "text": [
      "[  39.32295472 -121.90471224]\n"
     ]
    },
    {
     "name": "stderr",
     "output_type": "stream",
     "text": [
      "/var/folders/tm/g65yh1_d5f3gkpxmzywryqwc0000gn/T/ipykernel_66414/1125395041.py:39: FutureWarning: The frame.append method is deprecated and will be removed from pandas in a future version. Use pandas.concat instead.\n",
      "  df = df.append({'lng':loc[1],'lat':loc[0],'number of cities':int(city_count),'total population':int(population),'min distance':min_distance,'max distance':max_distance,\n"
     ]
    },
    {
     "name": "stdout",
     "output_type": "stream",
     "text": [
      "[  33.33939571 -115.71338838]\n"
     ]
    },
    {
     "name": "stderr",
     "output_type": "stream",
     "text": [
      "/var/folders/tm/g65yh1_d5f3gkpxmzywryqwc0000gn/T/ipykernel_66414/1125395041.py:39: FutureWarning: The frame.append method is deprecated and will be removed from pandas in a future version. Use pandas.concat instead.\n",
      "  df = df.append({'lng':loc[1],'lat':loc[0],'number of cities':int(city_count),'total population':int(population),'min distance':min_distance,'max distance':max_distance,\n"
     ]
    },
    {
     "name": "stdout",
     "output_type": "stream",
     "text": [
      "[  36.91779865 -121.99100247]\n"
     ]
    },
    {
     "name": "stderr",
     "output_type": "stream",
     "text": [
      "/var/folders/tm/g65yh1_d5f3gkpxmzywryqwc0000gn/T/ipykernel_66414/1125395041.py:39: FutureWarning: The frame.append method is deprecated and will be removed from pandas in a future version. Use pandas.concat instead.\n",
      "  df = df.append({'lng':loc[1],'lat':loc[0],'number of cities':int(city_count),'total population':int(population),'min distance':min_distance,'max distance':max_distance,\n"
     ]
    },
    {
     "name": "stdout",
     "output_type": "stream",
     "text": [
      "[  37.60219266 -120.54564115]\n"
     ]
    },
    {
     "name": "stderr",
     "output_type": "stream",
     "text": [
      "/var/folders/tm/g65yh1_d5f3gkpxmzywryqwc0000gn/T/ipykernel_66414/1125395041.py:39: FutureWarning: The frame.append method is deprecated and will be removed from pandas in a future version. Use pandas.concat instead.\n",
      "  df = df.append({'lng':loc[1],'lat':loc[0],'number of cities':int(city_count),'total population':int(population),'min distance':min_distance,'max distance':max_distance,\n"
     ]
    },
    {
     "name": "stdout",
     "output_type": "stream",
     "text": [
      "[  38.30614077 -121.38697087]\n"
     ]
    },
    {
     "name": "stderr",
     "output_type": "stream",
     "text": [
      "/var/folders/tm/g65yh1_d5f3gkpxmzywryqwc0000gn/T/ipykernel_66414/1125395041.py:39: FutureWarning: The frame.append method is deprecated and will be removed from pandas in a future version. Use pandas.concat instead.\n",
      "  df = df.append({'lng':loc[1],'lat':loc[0],'number of cities':int(city_count),'total population':int(population),'min distance':min_distance,'max distance':max_distance,\n"
     ]
    },
    {
     "name": "stdout",
     "output_type": "stream",
     "text": [
      "[  33.28073337 -115.82125116]\n"
     ]
    },
    {
     "name": "stderr",
     "output_type": "stream",
     "text": [
      "/var/folders/tm/g65yh1_d5f3gkpxmzywryqwc0000gn/T/ipykernel_66414/1125395041.py:39: FutureWarning: The frame.append method is deprecated and will be removed from pandas in a future version. Use pandas.concat instead.\n",
      "  df = df.append({'lng':loc[1],'lat':loc[0],'number of cities':int(city_count),'total population':int(population),'min distance':min_distance,'max distance':max_distance,\n"
     ]
    },
    {
     "name": "stdout",
     "output_type": "stream",
     "text": [
      "[  35.7641059 -121.3222532]\n"
     ]
    },
    {
     "name": "stderr",
     "output_type": "stream",
     "text": [
      "/var/folders/tm/g65yh1_d5f3gkpxmzywryqwc0000gn/T/ipykernel_66414/1125395041.py:39: FutureWarning: The frame.append method is deprecated and will be removed from pandas in a future version. Use pandas.concat instead.\n",
      "  df = df.append({'lng':loc[1],'lat':loc[0],'number of cities':int(city_count),'total population':int(population),'min distance':min_distance,'max distance':max_distance,\n"
     ]
    },
    {
     "name": "stdout",
     "output_type": "stream",
     "text": [
      "[  37.99327494 -122.8323322 ]\n"
     ]
    },
    {
     "name": "stderr",
     "output_type": "stream",
     "text": [
      "/var/folders/tm/g65yh1_d5f3gkpxmzywryqwc0000gn/T/ipykernel_66414/1125395041.py:39: FutureWarning: The frame.append method is deprecated and will be removed from pandas in a future version. Use pandas.concat instead.\n",
      "  df = df.append({'lng':loc[1],'lat':loc[0],'number of cities':int(city_count),'total population':int(population),'min distance':min_distance,'max distance':max_distance,\n"
     ]
    },
    {
     "name": "stdout",
     "output_type": "stream",
     "text": [
      "[  40.33976867 -122.20672804]\n"
     ]
    },
    {
     "name": "stderr",
     "output_type": "stream",
     "text": [
      "/var/folders/tm/g65yh1_d5f3gkpxmzywryqwc0000gn/T/ipykernel_66414/1125395041.py:39: FutureWarning: The frame.append method is deprecated and will be removed from pandas in a future version. Use pandas.concat instead.\n",
      "  df = df.append({'lng':loc[1],'lat':loc[0],'number of cities':int(city_count),'total population':int(population),'min distance':min_distance,'max distance':max_distance,\n"
     ]
    },
    {
     "name": "stdout",
     "output_type": "stream",
     "text": [
      "[  33.16340868 -117.39604782]\n"
     ]
    },
    {
     "name": "stderr",
     "output_type": "stream",
     "text": [
      "/var/folders/tm/g65yh1_d5f3gkpxmzywryqwc0000gn/T/ipykernel_66414/1125395041.py:39: FutureWarning: The frame.append method is deprecated and will be removed from pandas in a future version. Use pandas.concat instead.\n",
      "  df = df.append({'lng':loc[1],'lat':loc[0],'number of cities':int(city_count),'total population':int(population),'min distance':min_distance,'max distance':max_distance,\n"
     ]
    },
    {
     "name": "stdout",
     "output_type": "stream",
     "text": [
      "[  36.70270339 -121.86156713]\n"
     ]
    },
    {
     "name": "stderr",
     "output_type": "stream",
     "text": [
      "/var/folders/tm/g65yh1_d5f3gkpxmzywryqwc0000gn/T/ipykernel_66414/1125395041.py:39: FutureWarning: The frame.append method is deprecated and will be removed from pandas in a future version. Use pandas.concat instead.\n",
      "  df = df.append({'lng':loc[1],'lat':loc[0],'number of cities':int(city_count),'total population':int(population),'min distance':min_distance,'max distance':max_distance,\n"
     ]
    },
    {
     "name": "stdout",
     "output_type": "stream",
     "text": [
      "[  39.06875124 -123.71680703]\n"
     ]
    },
    {
     "name": "stderr",
     "output_type": "stream",
     "text": [
      "/var/folders/tm/g65yh1_d5f3gkpxmzywryqwc0000gn/T/ipykernel_66414/1125395041.py:39: FutureWarning: The frame.append method is deprecated and will be removed from pandas in a future version. Use pandas.concat instead.\n",
      "  df = df.append({'lng':loc[1],'lat':loc[0],'number of cities':int(city_count),'total population':int(population),'min distance':min_distance,'max distance':max_distance,\n"
     ]
    },
    {
     "name": "stdout",
     "output_type": "stream",
     "text": [
      "[  33.61315331 -117.91378919]\n"
     ]
    },
    {
     "name": "stderr",
     "output_type": "stream",
     "text": [
      "/var/folders/tm/g65yh1_d5f3gkpxmzywryqwc0000gn/T/ipykernel_66414/1125395041.py:39: FutureWarning: The frame.append method is deprecated and will be removed from pandas in a future version. Use pandas.concat instead.\n",
      "  df = df.append({'lng':loc[1],'lat':loc[0],'number of cities':int(city_count),'total population':int(population),'min distance':min_distance,'max distance':max_distance,\n"
     ]
    },
    {
     "name": "stdout",
     "output_type": "stream",
     "text": [
      "[  32.83098874 -117.33133015]\n"
     ]
    },
    {
     "name": "stderr",
     "output_type": "stream",
     "text": [
      "/var/folders/tm/g65yh1_d5f3gkpxmzywryqwc0000gn/T/ipykernel_66414/1125395041.py:39: FutureWarning: The frame.append method is deprecated and will be removed from pandas in a future version. Use pandas.concat instead.\n",
      "  df = df.append({'lng':loc[1],'lat':loc[0],'number of cities':int(city_count),'total population':int(population),'min distance':min_distance,'max distance':max_distance,\n"
     ]
    },
    {
     "name": "stdout",
     "output_type": "stream",
     "text": [
      "[  39.10785947 -121.34382576]\n"
     ]
    },
    {
     "name": "stderr",
     "output_type": "stream",
     "text": [
      "/var/folders/tm/g65yh1_d5f3gkpxmzywryqwc0000gn/T/ipykernel_66414/1125395041.py:39: FutureWarning: The frame.append method is deprecated and will be removed from pandas in a future version. Use pandas.concat instead.\n",
      "  df = df.append({'lng':loc[1],'lat':loc[0],'number of cities':int(city_count),'total population':int(population),'min distance':min_distance,'max distance':max_distance,\n"
     ]
    },
    {
     "name": "stdout",
     "output_type": "stream",
     "text": [
      "[  40.6526345  -122.94019498]\n"
     ]
    },
    {
     "name": "stderr",
     "output_type": "stream",
     "text": [
      "/var/folders/tm/g65yh1_d5f3gkpxmzywryqwc0000gn/T/ipykernel_66414/1125395041.py:39: FutureWarning: The frame.append method is deprecated and will be removed from pandas in a future version. Use pandas.concat instead.\n",
      "  df = df.append({'lng':loc[1],'lat':loc[0],'number of cities':int(city_count),'total population':int(population),'min distance':min_distance,'max distance':max_distance,\n"
     ]
    },
    {
     "name": "stdout",
     "output_type": "stream",
     "text": [
      "[  40.47664747 -124.42870142]\n"
     ]
    },
    {
     "name": "stderr",
     "output_type": "stream",
     "text": [
      "/var/folders/tm/g65yh1_d5f3gkpxmzywryqwc0000gn/T/ipykernel_66414/1125395041.py:39: FutureWarning: The frame.append method is deprecated and will be removed from pandas in a future version. Use pandas.concat instead.\n",
      "  df = df.append({'lng':loc[1],'lat':loc[0],'number of cities':int(city_count),'total population':int(population),'min distance':min_distance,'max distance':max_distance,\n"
     ]
    },
    {
     "name": "stdout",
     "output_type": "stream",
     "text": [
      "[  35.72499767 -121.3222532 ]\n"
     ]
    },
    {
     "name": "stderr",
     "output_type": "stream",
     "text": [
      "/var/folders/tm/g65yh1_d5f3gkpxmzywryqwc0000gn/T/ipykernel_66414/1125395041.py:39: FutureWarning: The frame.append method is deprecated and will be removed from pandas in a future version. Use pandas.concat instead.\n",
      "  df = df.append({'lng':loc[1],'lat':loc[0],'number of cities':int(city_count),'total population':int(population),'min distance':min_distance,'max distance':max_distance,\n"
     ]
    },
    {
     "name": "stdout",
     "output_type": "stream",
     "text": [
      "[  38.30614077 -122.44402617]\n"
     ]
    },
    {
     "name": "stderr",
     "output_type": "stream",
     "text": [
      "/var/folders/tm/g65yh1_d5f3gkpxmzywryqwc0000gn/T/ipykernel_66414/1125395041.py:39: FutureWarning: The frame.append method is deprecated and will be removed from pandas in a future version. Use pandas.concat instead.\n",
      "  df = df.append({'lng':loc[1],'lat':loc[0],'number of cities':int(city_count),'total population':int(population),'min distance':min_distance,'max distance':max_distance,\n"
     ]
    },
    {
     "name": "stdout",
     "output_type": "stream",
     "text": [
      "[  39.38161707 -123.7815247 ]\n"
     ]
    },
    {
     "name": "stderr",
     "output_type": "stream",
     "text": [
      "/var/folders/tm/g65yh1_d5f3gkpxmzywryqwc0000gn/T/ipykernel_66414/1125395041.py:39: FutureWarning: The frame.append method is deprecated and will be removed from pandas in a future version. Use pandas.concat instead.\n",
      "  df = df.append({'lng':loc[1],'lat':loc[0],'number of cities':int(city_count),'total population':int(population),'min distance':min_distance,'max distance':max_distance,\n"
     ]
    },
    {
     "name": "stdout",
     "output_type": "stream",
     "text": [
      "[  41.00460856 -124.14825817]\n"
     ]
    },
    {
     "name": "stderr",
     "output_type": "stream",
     "text": [
      "/var/folders/tm/g65yh1_d5f3gkpxmzywryqwc0000gn/T/ipykernel_66414/1125395041.py:39: FutureWarning: The frame.append method is deprecated and will be removed from pandas in a future version. Use pandas.concat instead.\n",
      "  df = df.append({'lng':loc[1],'lat':loc[0],'number of cities':int(city_count),'total population':int(population),'min distance':min_distance,'max distance':max_distance,\n"
     ]
    },
    {
     "name": "stdout",
     "output_type": "stream",
     "text": [
      "[  34.51264258 -117.26661248]\n"
     ]
    },
    {
     "name": "stderr",
     "output_type": "stream",
     "text": [
      "/var/folders/tm/g65yh1_d5f3gkpxmzywryqwc0000gn/T/ipykernel_66414/1125395041.py:39: FutureWarning: The frame.append method is deprecated and will be removed from pandas in a future version. Use pandas.concat instead.\n",
      "  df = df.append({'lng':loc[1],'lat':loc[0],'number of cities':int(city_count),'total population':int(population),'min distance':min_distance,'max distance':max_distance,\n"
     ]
    },
    {
     "name": "stdout",
     "output_type": "stream",
     "text": [
      "[  36.11607996 -121.66741412]\n"
     ]
    },
    {
     "name": "stderr",
     "output_type": "stream",
     "text": [
      "/var/folders/tm/g65yh1_d5f3gkpxmzywryqwc0000gn/T/ipykernel_66414/1125395041.py:39: FutureWarning: The frame.append method is deprecated and will be removed from pandas in a future version. Use pandas.concat instead.\n",
      "  df = df.append({'lng':loc[1],'lat':loc[0],'number of cities':int(city_count),'total population':int(population),'min distance':min_distance,'max distance':max_distance,\n"
     ]
    },
    {
     "name": "stdout",
     "output_type": "stream",
     "text": [
      "[  34.12156029 -119.87689188]\n"
     ]
    },
    {
     "name": "stderr",
     "output_type": "stream",
     "text": [
      "/var/folders/tm/g65yh1_d5f3gkpxmzywryqwc0000gn/T/ipykernel_66414/1125395041.py:39: FutureWarning: The frame.append method is deprecated and will be removed from pandas in a future version. Use pandas.concat instead.\n",
      "  df = df.append({'lng':loc[1],'lat':loc[0],'number of cities':int(city_count),'total population':int(population),'min distance':min_distance,'max distance':max_distance,\n"
     ]
    },
    {
     "name": "stdout",
     "output_type": "stream",
     "text": [
      "[  37.01556922 -122.24987316]\n"
     ]
    },
    {
     "name": "stderr",
     "output_type": "stream",
     "text": [
      "/var/folders/tm/g65yh1_d5f3gkpxmzywryqwc0000gn/T/ipykernel_66414/1125395041.py:39: FutureWarning: The frame.append method is deprecated and will be removed from pandas in a future version. Use pandas.concat instead.\n",
      "  df = df.append({'lng':loc[1],'lat':loc[0],'number of cities':int(city_count),'total population':int(population),'min distance':min_distance,'max distance':max_distance,\n"
     ]
    },
    {
     "name": "stdout",
     "output_type": "stream",
     "text": [
      "[  38.24747843 -122.31459083]\n"
     ]
    },
    {
     "name": "stderr",
     "output_type": "stream",
     "text": [
      "/var/folders/tm/g65yh1_d5f3gkpxmzywryqwc0000gn/T/ipykernel_66414/1125395041.py:39: FutureWarning: The frame.append method is deprecated and will be removed from pandas in a future version. Use pandas.concat instead.\n",
      "  df = df.append({'lng':loc[1],'lat':loc[0],'number of cities':int(city_count),'total population':int(population),'min distance':min_distance,'max distance':max_distance,\n"
     ]
    },
    {
     "name": "stdout",
     "output_type": "stream",
     "text": [
      "[  38.09104552 -121.71055923]\n"
     ]
    },
    {
     "name": "stderr",
     "output_type": "stream",
     "text": [
      "/var/folders/tm/g65yh1_d5f3gkpxmzywryqwc0000gn/T/ipykernel_66414/1125395041.py:39: FutureWarning: The frame.append method is deprecated and will be removed from pandas in a future version. Use pandas.concat instead.\n",
      "  df = df.append({'lng':loc[1],'lat':loc[0],'number of cities':int(city_count),'total population':int(population),'min distance':min_distance,'max distance':max_distance,\n"
     ]
    },
    {
     "name": "stdout",
     "output_type": "stream",
     "text": [
      "[  39.63582055 -123.82466982]\n"
     ]
    },
    {
     "name": "stderr",
     "output_type": "stream",
     "text": [
      "/var/folders/tm/g65yh1_d5f3gkpxmzywryqwc0000gn/T/ipykernel_66414/1125395041.py:39: FutureWarning: The frame.append method is deprecated and will be removed from pandas in a future version. Use pandas.concat instead.\n",
      "  df = df.append({'lng':loc[1],'lat':loc[0],'number of cities':int(city_count),'total population':int(population),'min distance':min_distance,'max distance':max_distance,\n"
     ]
    },
    {
     "name": "stdout",
     "output_type": "stream",
     "text": [
      "[  32.67455582 -117.26661248]\n"
     ]
    },
    {
     "name": "stderr",
     "output_type": "stream",
     "text": [
      "/var/folders/tm/g65yh1_d5f3gkpxmzywryqwc0000gn/T/ipykernel_66414/1125395041.py:39: FutureWarning: The frame.append method is deprecated and will be removed from pandas in a future version. Use pandas.concat instead.\n",
      "  df = df.append({'lng':loc[1],'lat':loc[0],'number of cities':int(city_count),'total population':int(population),'min distance':min_distance,'max distance':max_distance,\n"
     ]
    },
    {
     "name": "stdout",
     "output_type": "stream",
     "text": [
      "[  39.9682405  -124.06196795]\n"
     ]
    },
    {
     "name": "stderr",
     "output_type": "stream",
     "text": [
      "/var/folders/tm/g65yh1_d5f3gkpxmzywryqwc0000gn/T/ipykernel_66414/1125395041.py:39: FutureWarning: The frame.append method is deprecated and will be removed from pandas in a future version. Use pandas.concat instead.\n",
      "  df = df.append({'lng':loc[1],'lat':loc[0],'number of cities':int(city_count),'total population':int(population),'min distance':min_distance,'max distance':max_distance,\n"
     ]
    },
    {
     "name": "stdout",
     "output_type": "stream",
     "text": [
      "[  33.41761217 -118.51782079]\n",
      "b'{\"message\":\"Impossible route between points\",\"code\":\"NoRoute\"}'\n",
      "[  33.06563811 -117.11560458]\n"
     ]
    },
    {
     "name": "stderr",
     "output_type": "stream",
     "text": [
      "/var/folders/tm/g65yh1_d5f3gkpxmzywryqwc0000gn/T/ipykernel_66414/1125395041.py:17: FutureWarning: The frame.append method is deprecated and will be removed from pandas in a future version. Use pandas.concat instead.\n",
      "  df = df.append({'lng':loc[1],'lat':loc[0],'number of cities':0,'total   population':0,'min distance':None,'max distance':None,\n",
      "/var/folders/tm/g65yh1_d5f3gkpxmzywryqwc0000gn/T/ipykernel_66414/1125395041.py:39: FutureWarning: The frame.append method is deprecated and will be removed from pandas in a future version. Use pandas.concat instead.\n",
      "  df = df.append({'lng':loc[1],'lat':loc[0],'number of cities':int(city_count),'total population':int(population),'min distance':min_distance,'max distance':max_distance,\n"
     ]
    },
    {
     "name": "stdout",
     "output_type": "stream",
     "text": [
      "[  33.84780269 -120.11419001]\n"
     ]
    },
    {
     "name": "stderr",
     "output_type": "stream",
     "text": [
      "/var/folders/tm/g65yh1_d5f3gkpxmzywryqwc0000gn/T/ipykernel_66414/1125395041.py:39: FutureWarning: The frame.append method is deprecated and will be removed from pandas in a future version. Use pandas.concat instead.\n",
      "  df = df.append({'lng':loc[1],'lat':loc[0],'number of cities':int(city_count),'total population':int(population),'min distance':min_distance,'max distance':max_distance,\n"
     ]
    },
    {
     "name": "stdout",
     "output_type": "stream",
     "text": [
      "[  35.50990241 -121.12810019]\n"
     ]
    },
    {
     "name": "stderr",
     "output_type": "stream",
     "text": [
      "/var/folders/tm/g65yh1_d5f3gkpxmzywryqwc0000gn/T/ipykernel_66414/1125395041.py:39: FutureWarning: The frame.append method is deprecated and will be removed from pandas in a future version. Use pandas.concat instead.\n",
      "  df = df.append({'lng':loc[1],'lat':loc[0],'number of cities':int(city_count),'total population':int(population),'min distance':min_distance,'max distance':max_distance,\n"
     ]
    },
    {
     "name": "stdout",
     "output_type": "stream",
     "text": [
      "[  37.44575974 -122.0772927 ]\n"
     ]
    },
    {
     "name": "stderr",
     "output_type": "stream",
     "text": [
      "/var/folders/tm/g65yh1_d5f3gkpxmzywryqwc0000gn/T/ipykernel_66414/1125395041.py:39: FutureWarning: The frame.append method is deprecated and will be removed from pandas in a future version. Use pandas.concat instead.\n",
      "  df = df.append({'lng':loc[1],'lat':loc[0],'number of cities':int(city_count),'total population':int(population),'min distance':min_distance,'max distance':max_distance,\n"
     ]
    },
    {
     "name": "stdout",
     "output_type": "stream",
     "text": [
      "[  33.43716628 -118.45310312]\n",
      "b'{\"message\":\"Impossible route between points\",\"code\":\"NoRoute\"}'\n",
      "[  34.59085904 -120.67507649]\n"
     ]
    },
    {
     "name": "stderr",
     "output_type": "stream",
     "text": [
      "/var/folders/tm/g65yh1_d5f3gkpxmzywryqwc0000gn/T/ipykernel_66414/1125395041.py:17: FutureWarning: The frame.append method is deprecated and will be removed from pandas in a future version. Use pandas.concat instead.\n",
      "  df = df.append({'lng':loc[1],'lat':loc[0],'number of cities':0,'total   population':0,'min distance':None,'max distance':None,\n",
      "/var/folders/tm/g65yh1_d5f3gkpxmzywryqwc0000gn/T/ipykernel_66414/1125395041.py:39: FutureWarning: The frame.append method is deprecated and will be removed from pandas in a future version. Use pandas.concat instead.\n",
      "  df = df.append({'lng':loc[1],'lat':loc[0],'number of cities':int(city_count),'total population':int(population),'min distance':min_distance,'max distance':max_distance,\n"
     ]
    },
    {
     "name": "stdout",
     "output_type": "stream",
     "text": [
      "[  38.11059963 -121.58112389]\n"
     ]
    },
    {
     "name": "stderr",
     "output_type": "stream",
     "text": [
      "/var/folders/tm/g65yh1_d5f3gkpxmzywryqwc0000gn/T/ipykernel_66414/1125395041.py:39: FutureWarning: The frame.append method is deprecated and will be removed from pandas in a future version. Use pandas.concat instead.\n",
      "  df = df.append({'lng':loc[1],'lat':loc[0],'number of cities':int(city_count),'total population':int(population),'min distance':min_distance,'max distance':max_distance,\n"
     ]
    },
    {
     "name": "stdout",
     "output_type": "stream",
     "text": [
      "[  39.90957816 -123.99725027]\n"
     ]
    },
    {
     "name": "stderr",
     "output_type": "stream",
     "text": [
      "/var/folders/tm/g65yh1_d5f3gkpxmzywryqwc0000gn/T/ipykernel_66414/1125395041.py:39: FutureWarning: The frame.append method is deprecated and will be removed from pandas in a future version. Use pandas.concat instead.\n",
      "  df = df.append({'lng':loc[1],'lat':loc[0],'number of cities':int(city_count),'total population':int(population),'min distance':min_distance,'max distance':max_distance,\n"
     ]
    },
    {
     "name": "stdout",
     "output_type": "stream",
     "text": [
      "[  40.06601107 -124.12668562]\n"
     ]
    },
    {
     "name": "stderr",
     "output_type": "stream",
     "text": [
      "/var/folders/tm/g65yh1_d5f3gkpxmzywryqwc0000gn/T/ipykernel_66414/1125395041.py:39: FutureWarning: The frame.append method is deprecated and will be removed from pandas in a future version. Use pandas.concat instead.\n",
      "  df = df.append({'lng':loc[1],'lat':loc[0],'number of cities':int(city_count),'total population':int(population),'min distance':min_distance,'max distance':max_distance,\n"
     ]
    },
    {
     "name": "stdout",
     "output_type": "stream",
     "text": [
      "[  37.81728791 -122.44402617]\n"
     ]
    },
    {
     "name": "stderr",
     "output_type": "stream",
     "text": [
      "/var/folders/tm/g65yh1_d5f3gkpxmzywryqwc0000gn/T/ipykernel_66414/1125395041.py:39: FutureWarning: The frame.append method is deprecated and will be removed from pandas in a future version. Use pandas.concat instead.\n",
      "  df = df.append({'lng':loc[1],'lat':loc[0],'number of cities':int(city_count),'total population':int(population),'min distance':min_distance,'max distance':max_distance,\n"
     ]
    },
    {
     "name": "stdout",
     "output_type": "stream",
     "text": [
      "[  39.5576041  -121.96942991]\n"
     ]
    },
    {
     "name": "stderr",
     "output_type": "stream",
     "text": [
      "/var/folders/tm/g65yh1_d5f3gkpxmzywryqwc0000gn/T/ipykernel_66414/1125395041.py:39: FutureWarning: The frame.append method is deprecated and will be removed from pandas in a future version. Use pandas.concat instead.\n",
      "  df = df.append({'lng':loc[1],'lat':loc[0],'number of cities':int(city_count),'total population':int(population),'min distance':min_distance,'max distance':max_distance,\n"
     ]
    },
    {
     "name": "stdout",
     "output_type": "stream",
     "text": [
      "[  37.46531385 -122.50874384]\n"
     ]
    },
    {
     "name": "stderr",
     "output_type": "stream",
     "text": [
      "/var/folders/tm/g65yh1_d5f3gkpxmzywryqwc0000gn/T/ipykernel_66414/1125395041.py:39: FutureWarning: The frame.append method is deprecated and will be removed from pandas in a future version. Use pandas.concat instead.\n",
      "  df = df.append({'lng':loc[1],'lat':loc[0],'number of cities':int(city_count),'total population':int(population),'min distance':min_distance,'max distance':max_distance,\n"
     ]
    },
    {
     "name": "stdout",
     "output_type": "stream",
     "text": [
      "[  33.28073337 -115.73496093]\n"
     ]
    },
    {
     "name": "stderr",
     "output_type": "stream",
     "text": [
      "/var/folders/tm/g65yh1_d5f3gkpxmzywryqwc0000gn/T/ipykernel_66414/1125395041.py:39: FutureWarning: The frame.append method is deprecated and will be removed from pandas in a future version. Use pandas.concat instead.\n",
      "  df = df.append({'lng':loc[1],'lat':loc[0],'number of cities':int(city_count),'total population':int(population),'min distance':min_distance,'max distance':max_distance,\n"
     ]
    },
    {
     "name": "stdout",
     "output_type": "stream",
     "text": [
      "[  40.53530982 -122.35773594]\n"
     ]
    },
    {
     "name": "stderr",
     "output_type": "stream",
     "text": [
      "/var/folders/tm/g65yh1_d5f3gkpxmzywryqwc0000gn/T/ipykernel_66414/1125395041.py:39: FutureWarning: The frame.append method is deprecated and will be removed from pandas in a future version. Use pandas.concat instead.\n",
      "  df = df.append({'lng':loc[1],'lat':loc[0],'number of cities':int(city_count),'total population':int(population),'min distance':min_distance,'max distance':max_distance,\n"
     ]
    },
    {
     "name": "stdout",
     "output_type": "stream",
     "text": [
      "[  33.98468149 -120.45935092]\n"
     ]
    },
    {
     "name": "stderr",
     "output_type": "stream",
     "text": [
      "/var/folders/tm/g65yh1_d5f3gkpxmzywryqwc0000gn/T/ipykernel_66414/1125395041.py:39: FutureWarning: The frame.append method is deprecated and will be removed from pandas in a future version. Use pandas.concat instead.\n",
      "  df = df.append({'lng':loc[1],'lat':loc[0],'number of cities':int(city_count),'total population':int(population),'min distance':min_distance,'max distance':max_distance,\n"
     ]
    },
    {
     "name": "stdout",
     "output_type": "stream",
     "text": [
      "[  37.60219266 -121.34382576]\n"
     ]
    },
    {
     "name": "stderr",
     "output_type": "stream",
     "text": [
      "/var/folders/tm/g65yh1_d5f3gkpxmzywryqwc0000gn/T/ipykernel_66414/1125395041.py:39: FutureWarning: The frame.append method is deprecated and will be removed from pandas in a future version. Use pandas.concat instead.\n",
      "  df = df.append({'lng':loc[1],'lat':loc[0],'number of cities':int(city_count),'total population':int(population),'min distance':min_distance,'max distance':max_distance,\n"
     ]
    },
    {
     "name": "stdout",
     "output_type": "stream",
     "text": [
      "[  37.71951734 -122.27144571]\n"
     ]
    },
    {
     "name": "stderr",
     "output_type": "stream",
     "text": [
      "/var/folders/tm/g65yh1_d5f3gkpxmzywryqwc0000gn/T/ipykernel_66414/1125395041.py:39: FutureWarning: The frame.append method is deprecated and will be removed from pandas in a future version. Use pandas.concat instead.\n",
      "  df = df.append({'lng':loc[1],'lat':loc[0],'number of cities':int(city_count),'total population':int(population),'min distance':min_distance,'max distance':max_distance,\n"
     ]
    },
    {
     "name": "stdout",
     "output_type": "stream",
     "text": [
      "[  36.72225751 -121.90471224]\n"
     ]
    },
    {
     "name": "stderr",
     "output_type": "stream",
     "text": [
      "/var/folders/tm/g65yh1_d5f3gkpxmzywryqwc0000gn/T/ipykernel_66414/1125395041.py:39: FutureWarning: The frame.append method is deprecated and will be removed from pandas in a future version. Use pandas.concat instead.\n",
      "  df = df.append({'lng':loc[1],'lat':loc[0],'number of cities':int(city_count),'total population':int(population),'min distance':min_distance,'max distance':max_distance,\n"
     ]
    },
    {
     "name": "stdout",
     "output_type": "stream",
     "text": [
      "[  39.53804998 -121.36539832]\n"
     ]
    },
    {
     "name": "stderr",
     "output_type": "stream",
     "text": [
      "/var/folders/tm/g65yh1_d5f3gkpxmzywryqwc0000gn/T/ipykernel_66414/1125395041.py:39: FutureWarning: The frame.append method is deprecated and will be removed from pandas in a future version. Use pandas.concat instead.\n",
      "  df = df.append({'lng':loc[1],'lat':loc[0],'number of cities':int(city_count),'total population':int(population),'min distance':min_distance,'max distance':max_distance,\n"
     ]
    },
    {
     "name": "stdout",
     "output_type": "stream",
     "text": [
      "[  39.02964301 -122.89704987]\n"
     ]
    },
    {
     "name": "stderr",
     "output_type": "stream",
     "text": [
      "/var/folders/tm/g65yh1_d5f3gkpxmzywryqwc0000gn/T/ipykernel_66414/1125395041.py:39: FutureWarning: The frame.append method is deprecated and will be removed from pandas in a future version. Use pandas.concat instead.\n",
      "  df = df.append({'lng':loc[1],'lat':loc[0],'number of cities':int(city_count),'total population':int(population),'min distance':min_distance,'max distance':max_distance,\n"
     ]
    },
    {
     "name": "stdout",
     "output_type": "stream",
     "text": [
      "[  37.23066448 -122.46559873]\n"
     ]
    },
    {
     "name": "stderr",
     "output_type": "stream",
     "text": [
      "/var/folders/tm/g65yh1_d5f3gkpxmzywryqwc0000gn/T/ipykernel_66414/1125395041.py:39: FutureWarning: The frame.append method is deprecated and will be removed from pandas in a future version. Use pandas.concat instead.\n",
      "  df = df.append({'lng':loc[1],'lat':loc[0],'number of cities':int(city_count),'total population':int(population),'min distance':min_distance,'max distance':max_distance,\n"
     ]
    },
    {
     "name": "stdout",
     "output_type": "stream",
     "text": [
      "[  35.74455179 -120.95551973]\n"
     ]
    },
    {
     "name": "stderr",
     "output_type": "stream",
     "text": [
      "/var/folders/tm/g65yh1_d5f3gkpxmzywryqwc0000gn/T/ipykernel_66414/1125395041.py:39: FutureWarning: The frame.append method is deprecated and will be removed from pandas in a future version. Use pandas.concat instead.\n",
      "  df = df.append({'lng':loc[1],'lat':loc[0],'number of cities':int(city_count),'total population':int(population),'min distance':min_distance,'max distance':max_distance,\n"
     ]
    },
    {
     "name": "stdout",
     "output_type": "stream",
     "text": [
      "[  41.63034023 -124.12668562]\n"
     ]
    },
    {
     "name": "stderr",
     "output_type": "stream",
     "text": [
      "/var/folders/tm/g65yh1_d5f3gkpxmzywryqwc0000gn/T/ipykernel_66414/1125395041.py:39: FutureWarning: The frame.append method is deprecated and will be removed from pandas in a future version. Use pandas.concat instead.\n",
      "  df = df.append({'lng':loc[1],'lat':loc[0],'number of cities':int(city_count),'total population':int(population),'min distance':min_distance,'max distance':max_distance,\n"
     ]
    },
    {
     "name": "stdout",
     "output_type": "stream",
     "text": [
      "[  38.11059963 -122.48717128]\n"
     ]
    },
    {
     "name": "stderr",
     "output_type": "stream",
     "text": [
      "/var/folders/tm/g65yh1_d5f3gkpxmzywryqwc0000gn/T/ipykernel_66414/1125395041.py:39: FutureWarning: The frame.append method is deprecated and will be removed from pandas in a future version. Use pandas.concat instead.\n",
      "  df = df.append({'lng':loc[1],'lat':loc[0],'number of cities':int(city_count),'total population':int(population),'min distance':min_distance,'max distance':max_distance,\n"
     ]
    },
    {
     "name": "stdout",
     "output_type": "stream",
     "text": [
      "[  36.95690688 -121.96942991]\n"
     ]
    },
    {
     "name": "stderr",
     "output_type": "stream",
     "text": [
      "/var/folders/tm/g65yh1_d5f3gkpxmzywryqwc0000gn/T/ipykernel_66414/1125395041.py:39: FutureWarning: The frame.append method is deprecated and will be removed from pandas in a future version. Use pandas.concat instead.\n",
      "  df = df.append({'lng':loc[1],'lat':loc[0],'number of cities':int(city_count),'total population':int(population),'min distance':min_distance,'max distance':max_distance,\n"
     ]
    },
    {
     "name": "stdout",
     "output_type": "stream",
     "text": [
      "[  37.26977271 -122.46559873]\n"
     ]
    },
    {
     "name": "stderr",
     "output_type": "stream",
     "text": [
      "/var/folders/tm/g65yh1_d5f3gkpxmzywryqwc0000gn/T/ipykernel_66414/1125395041.py:39: FutureWarning: The frame.append method is deprecated and will be removed from pandas in a future version. Use pandas.concat instead.\n",
      "  df = df.append({'lng':loc[1],'lat':loc[0],'number of cities':int(city_count),'total population':int(population),'min distance':min_distance,'max distance':max_distance,\n"
     ]
    },
    {
     "name": "stdout",
     "output_type": "stream",
     "text": [
      "[  39.4207253  -123.75995215]\n"
     ]
    },
    {
     "name": "stderr",
     "output_type": "stream",
     "text": [
      "/var/folders/tm/g65yh1_d5f3gkpxmzywryqwc0000gn/T/ipykernel_66414/1125395041.py:39: FutureWarning: The frame.append method is deprecated and will be removed from pandas in a future version. Use pandas.concat instead.\n",
      "  df = df.append({'lng':loc[1],'lat':loc[0],'number of cities':int(city_count),'total population':int(population),'min distance':min_distance,'max distance':max_distance,\n"
     ]
    },
    {
     "name": "stdout",
     "output_type": "stream",
     "text": [
      "[  37.69996323 -122.24987316]\n"
     ]
    },
    {
     "name": "stderr",
     "output_type": "stream",
     "text": [
      "/var/folders/tm/g65yh1_d5f3gkpxmzywryqwc0000gn/T/ipykernel_66414/1125395041.py:39: FutureWarning: The frame.append method is deprecated and will be removed from pandas in a future version. Use pandas.concat instead.\n",
      "  df = df.append({'lng':loc[1],'lat':loc[0],'number of cities':int(city_count),'total population':int(population),'min distance':min_distance,'max distance':max_distance,\n"
     ]
    },
    {
     "name": "stdout",
     "output_type": "stream",
     "text": [
      "[  36.19429642 -121.75370434]\n"
     ]
    },
    {
     "name": "stderr",
     "output_type": "stream",
     "text": [
      "/var/folders/tm/g65yh1_d5f3gkpxmzywryqwc0000gn/T/ipykernel_66414/1125395041.py:39: FutureWarning: The frame.append method is deprecated and will be removed from pandas in a future version. Use pandas.concat instead.\n",
      "  df = df.append({'lng':loc[1],'lat':loc[0],'number of cities':int(city_count),'total population':int(population),'min distance':min_distance,'max distance':max_distance,\n"
     ]
    },
    {
     "name": "stdout",
     "output_type": "stream",
     "text": [
      "[  37.1133398 -122.3793085]\n"
     ]
    },
    {
     "name": "stderr",
     "output_type": "stream",
     "text": [
      "/var/folders/tm/g65yh1_d5f3gkpxmzywryqwc0000gn/T/ipykernel_66414/1125395041.py:39: FutureWarning: The frame.append method is deprecated and will be removed from pandas in a future version. Use pandas.concat instead.\n",
      "  df = df.append({'lng':loc[1],'lat':loc[0],'number of cities':int(city_count),'total population':int(population),'min distance':min_distance,'max distance':max_distance,\n"
     ]
    },
    {
     "name": "stdout",
     "output_type": "stream",
     "text": [
      "[  34.49308846 -118.75511892]\n"
     ]
    },
    {
     "name": "stderr",
     "output_type": "stream",
     "text": [
      "/var/folders/tm/g65yh1_d5f3gkpxmzywryqwc0000gn/T/ipykernel_66414/1125395041.py:39: FutureWarning: The frame.append method is deprecated and will be removed from pandas in a future version. Use pandas.concat instead.\n",
      "  df = df.append({'lng':loc[1],'lat':loc[0],'number of cities':int(city_count),'total population':int(population),'min distance':min_distance,'max distance':max_distance,\n"
     ]
    },
    {
     "name": "stdout",
     "output_type": "stream",
     "text": [
      "[  38.61900661 -123.41479123]\n"
     ]
    },
    {
     "name": "stderr",
     "output_type": "stream",
     "text": [
      "/var/folders/tm/g65yh1_d5f3gkpxmzywryqwc0000gn/T/ipykernel_66414/1125395041.py:39: FutureWarning: The frame.append method is deprecated and will be removed from pandas in a future version. Use pandas.concat instead.\n",
      "  df = df.append({'lng':loc[1],'lat':loc[0],'number of cities':int(city_count),'total population':int(population),'min distance':min_distance,'max distance':max_distance,\n"
     ]
    },
    {
     "name": "stdout",
     "output_type": "stream",
     "text": [
      "[  37.26977271 -120.86922951]\n"
     ]
    },
    {
     "name": "stderr",
     "output_type": "stream",
     "text": [
      "/var/folders/tm/g65yh1_d5f3gkpxmzywryqwc0000gn/T/ipykernel_66414/1125395041.py:39: FutureWarning: The frame.append method is deprecated and will be removed from pandas in a future version. Use pandas.concat instead.\n",
      "  df = df.append({'lng':loc[1],'lat':loc[0],'number of cities':int(city_count),'total population':int(population),'min distance':min_distance,'max distance':max_distance,\n"
     ]
    },
    {
     "name": "stdout",
     "output_type": "stream",
     "text": [
      "[  35.6272271  -121.27910809]\n"
     ]
    },
    {
     "name": "stderr",
     "output_type": "stream",
     "text": [
      "/var/folders/tm/g65yh1_d5f3gkpxmzywryqwc0000gn/T/ipykernel_66414/1125395041.py:39: FutureWarning: The frame.append method is deprecated and will be removed from pandas in a future version. Use pandas.concat instead.\n",
      "  df = df.append({'lng':loc[1],'lat':loc[0],'number of cities':int(city_count),'total population':int(population),'min distance':min_distance,'max distance':max_distance,\n"
     ]
    },
    {
     "name": "stdout",
     "output_type": "stream",
     "text": [
      "[  39.02964301 -122.87547731]\n"
     ]
    },
    {
     "name": "stderr",
     "output_type": "stream",
     "text": [
      "/var/folders/tm/g65yh1_d5f3gkpxmzywryqwc0000gn/T/ipykernel_66414/1125395041.py:39: FutureWarning: The frame.append method is deprecated and will be removed from pandas in a future version. Use pandas.concat instead.\n",
      "  df = df.append({'lng':loc[1],'lat':loc[0],'number of cities':int(city_count),'total population':int(population),'min distance':min_distance,'max distance':max_distance,\n"
     ]
    },
    {
     "name": "stdout",
     "output_type": "stream",
     "text": [
      "[  33.28073337 -117.52548317]\n"
     ]
    },
    {
     "name": "stderr",
     "output_type": "stream",
     "text": [
      "/var/folders/tm/g65yh1_d5f3gkpxmzywryqwc0000gn/T/ipykernel_66414/1125395041.py:39: FutureWarning: The frame.append method is deprecated and will be removed from pandas in a future version. Use pandas.concat instead.\n",
      "  df = df.append({'lng':loc[1],'lat':loc[0],'number of cities':int(city_count),'total population':int(population),'min distance':min_distance,'max distance':max_distance,\n"
     ]
    },
    {
     "name": "stdout",
     "output_type": "stream",
     "text": [
      "[  38.73633129 -121.10652763]\n"
     ]
    },
    {
     "name": "stderr",
     "output_type": "stream",
     "text": [
      "/var/folders/tm/g65yh1_d5f3gkpxmzywryqwc0000gn/T/ipykernel_66414/1125395041.py:39: FutureWarning: The frame.append method is deprecated and will be removed from pandas in a future version. Use pandas.concat instead.\n",
      "  df = df.append({'lng':loc[1],'lat':loc[0],'number of cities':int(city_count),'total population':int(population),'min distance':min_distance,'max distance':max_distance,\n"
     ]
    },
    {
     "name": "stdout",
     "output_type": "stream",
     "text": [
      "[  39.32295472 -122.0772927 ]\n"
     ]
    },
    {
     "name": "stderr",
     "output_type": "stream",
     "text": [
      "/var/folders/tm/g65yh1_d5f3gkpxmzywryqwc0000gn/T/ipykernel_66414/1125395041.py:39: FutureWarning: The frame.append method is deprecated and will be removed from pandas in a future version. Use pandas.concat instead.\n",
      "  df = df.append({'lng':loc[1],'lat':loc[0],'number of cities':int(city_count),'total population':int(population),'min distance':min_distance,'max distance':max_distance,\n"
     ]
    },
    {
     "name": "stdout",
     "output_type": "stream",
     "text": [
      "[  34.53219669 -120.61035882]\n"
     ]
    },
    {
     "name": "stderr",
     "output_type": "stream",
     "text": [
      "/var/folders/tm/g65yh1_d5f3gkpxmzywryqwc0000gn/T/ipykernel_66414/1125395041.py:39: FutureWarning: The frame.append method is deprecated and will be removed from pandas in a future version. Use pandas.concat instead.\n",
      "  df = df.append({'lng':loc[1],'lat':loc[0],'number of cities':int(city_count),'total population':int(population),'min distance':min_distance,'max distance':max_distance,\n"
     ]
    },
    {
     "name": "stdout",
     "output_type": "stream",
     "text": [
      "[  39.44027941 -122.18515548]\n"
     ]
    },
    {
     "name": "stderr",
     "output_type": "stream",
     "text": [
      "/var/folders/tm/g65yh1_d5f3gkpxmzywryqwc0000gn/T/ipykernel_66414/1125395041.py:39: FutureWarning: The frame.append method is deprecated and will be removed from pandas in a future version. Use pandas.concat instead.\n",
      "  df = df.append({'lng':loc[1],'lat':loc[0],'number of cities':int(city_count),'total population':int(population),'min distance':min_distance,'max distance':max_distance,\n"
     ]
    },
    {
     "name": "stdout",
     "output_type": "stream",
     "text": [
      "[  34.02378972 -120.2220528 ]\n"
     ]
    },
    {
     "name": "stderr",
     "output_type": "stream",
     "text": [
      "/var/folders/tm/g65yh1_d5f3gkpxmzywryqwc0000gn/T/ipykernel_66414/1125395041.py:39: FutureWarning: The frame.append method is deprecated and will be removed from pandas in a future version. Use pandas.concat instead.\n",
      "  df = df.append({'lng':loc[1],'lat':loc[0],'number of cities':int(city_count),'total population':int(population),'min distance':min_distance,'max distance':max_distance,\n"
     ]
    },
    {
     "name": "stdout",
     "output_type": "stream",
     "text": [
      "[  33.75003212 -118.17265988]\n"
     ]
    },
    {
     "name": "stderr",
     "output_type": "stream",
     "text": [
      "/var/folders/tm/g65yh1_d5f3gkpxmzywryqwc0000gn/T/ipykernel_66414/1125395041.py:39: FutureWarning: The frame.append method is deprecated and will be removed from pandas in a future version. Use pandas.concat instead.\n",
      "  df = df.append({'lng':loc[1],'lat':loc[0],'number of cities':int(city_count),'total population':int(population),'min distance':min_distance,'max distance':max_distance,\n"
     ]
    },
    {
     "name": "stdout",
     "output_type": "stream",
     "text": [
      "[  41.29792028 -124.16983073]\n"
     ]
    },
    {
     "name": "stderr",
     "output_type": "stream",
     "text": [
      "/var/folders/tm/g65yh1_d5f3gkpxmzywryqwc0000gn/T/ipykernel_66414/1125395041.py:39: FutureWarning: The frame.append method is deprecated and will be removed from pandas in a future version. Use pandas.concat instead.\n",
      "  df = df.append({'lng':loc[1],'lat':loc[0],'number of cities':int(city_count),'total population':int(population),'min distance':min_distance,'max distance':max_distance,\n"
     ]
    },
    {
     "name": "stdout",
     "output_type": "stream",
     "text": [
      "[  32.65500171 -117.18032225]\n"
     ]
    },
    {
     "name": "stderr",
     "output_type": "stream",
     "text": [
      "/var/folders/tm/g65yh1_d5f3gkpxmzywryqwc0000gn/T/ipykernel_66414/1125395041.py:39: FutureWarning: The frame.append method is deprecated and will be removed from pandas in a future version. Use pandas.concat instead.\n",
      "  df = df.append({'lng':loc[1],'lat':loc[0],'number of cities':int(city_count),'total population':int(population),'min distance':min_distance,'max distance':max_distance,\n"
     ]
    },
    {
     "name": "stdout",
     "output_type": "stream",
     "text": [
      "[  33.69136977 -115.62709815]\n"
     ]
    },
    {
     "name": "stderr",
     "output_type": "stream",
     "text": [
      "/var/folders/tm/g65yh1_d5f3gkpxmzywryqwc0000gn/T/ipykernel_66414/1125395041.py:39: FutureWarning: The frame.append method is deprecated and will be removed from pandas in a future version. Use pandas.concat instead.\n",
      "  df = df.append({'lng':loc[1],'lat':loc[0],'number of cities':int(city_count),'total population':int(population),'min distance':min_distance,'max distance':max_distance,\n"
     ]
    },
    {
     "name": "stdout",
     "output_type": "stream",
     "text": [
      "[  37.62174677 -120.56721371]\n"
     ]
    },
    {
     "name": "stderr",
     "output_type": "stream",
     "text": [
      "/var/folders/tm/g65yh1_d5f3gkpxmzywryqwc0000gn/T/ipykernel_66414/1125395041.py:39: FutureWarning: The frame.append method is deprecated and will be removed from pandas in a future version. Use pandas.concat instead.\n",
      "  df = df.append({'lng':loc[1],'lat':loc[0],'number of cities':int(city_count),'total population':int(population),'min distance':min_distance,'max distance':max_distance,\n"
     ]
    },
    {
     "name": "stdout",
     "output_type": "stream",
     "text": [
      "[  37.21111037 -120.65350394]\n"
     ]
    },
    {
     "name": "stderr",
     "output_type": "stream",
     "text": [
      "/var/folders/tm/g65yh1_d5f3gkpxmzywryqwc0000gn/T/ipykernel_66414/1125395041.py:39: FutureWarning: The frame.append method is deprecated and will be removed from pandas in a future version. Use pandas.concat instead.\n",
      "  df = df.append({'lng':loc[1],'lat':loc[0],'number of cities':int(city_count),'total population':int(population),'min distance':min_distance,'max distance':max_distance,\n"
     ]
    },
    {
     "name": "stdout",
     "output_type": "stream",
     "text": [
      "[  37.71951734 -123.06963032]\n"
     ]
    },
    {
     "name": "stderr",
     "output_type": "stream",
     "text": [
      "/var/folders/tm/g65yh1_d5f3gkpxmzywryqwc0000gn/T/ipykernel_66414/1125395041.py:39: FutureWarning: The frame.append method is deprecated and will be removed from pandas in a future version. Use pandas.concat instead.\n",
      "  df = df.append({'lng':loc[1],'lat':loc[0],'number of cities':int(city_count),'total population':int(population),'min distance':min_distance,'max distance':max_distance,\n"
     ]
    },
    {
     "name": "stdout",
     "output_type": "stream",
     "text": [
      "[  38.05193729 -121.60269644]\n"
     ]
    },
    {
     "name": "stderr",
     "output_type": "stream",
     "text": [
      "/var/folders/tm/g65yh1_d5f3gkpxmzywryqwc0000gn/T/ipykernel_66414/1125395041.py:39: FutureWarning: The frame.append method is deprecated and will be removed from pandas in a future version. Use pandas.concat instead.\n",
      "  df = df.append({'lng':loc[1],'lat':loc[0],'number of cities':int(city_count),'total population':int(population),'min distance':min_distance,'max distance':max_distance,\n"
     ]
    },
    {
     "name": "stdout",
     "output_type": "stream",
     "text": [
      "[  33.730478   -118.43153056]\n"
     ]
    },
    {
     "name": "stderr",
     "output_type": "stream",
     "text": [
      "/var/folders/tm/g65yh1_d5f3gkpxmzywryqwc0000gn/T/ipykernel_66414/1125395041.py:39: FutureWarning: The frame.append method is deprecated and will be removed from pandas in a future version. Use pandas.concat instead.\n",
      "  df = df.append({'lng':loc[1],'lat':loc[0],'number of cities':int(city_count),'total population':int(population),'min distance':min_distance,'max distance':max_distance,\n"
     ]
    },
    {
     "name": "stdout",
     "output_type": "stream",
     "text": [
      "[  33.49582863 -118.45310312]\n",
      "b'{\"message\":\"Impossible route between points\",\"code\":\"NoRoute\"}'\n",
      "[  38.79499363 -123.67366192]\n"
     ]
    },
    {
     "name": "stderr",
     "output_type": "stream",
     "text": [
      "/var/folders/tm/g65yh1_d5f3gkpxmzywryqwc0000gn/T/ipykernel_66414/1125395041.py:17: FutureWarning: The frame.append method is deprecated and will be removed from pandas in a future version. Use pandas.concat instead.\n",
      "  df = df.append({'lng':loc[1],'lat':loc[0],'number of cities':0,'total   population':0,'min distance':None,'max distance':None,\n",
      "/var/folders/tm/g65yh1_d5f3gkpxmzywryqwc0000gn/T/ipykernel_66414/1125395041.py:39: FutureWarning: The frame.append method is deprecated and will be removed from pandas in a future version. Use pandas.concat instead.\n",
      "  df = df.append({'lng':loc[1],'lat':loc[0],'number of cities':int(city_count),'total population':int(population),'min distance':min_distance,'max distance':max_distance,\n"
     ]
    },
    {
     "name": "stdout",
     "output_type": "stream",
     "text": [
      "[  36.48760813 -121.96942991]\n"
     ]
    },
    {
     "name": "stderr",
     "output_type": "stream",
     "text": [
      "/var/folders/tm/g65yh1_d5f3gkpxmzywryqwc0000gn/T/ipykernel_66414/1125395041.py:39: FutureWarning: The frame.append method is deprecated and will be removed from pandas in a future version. Use pandas.concat instead.\n",
      "  df = df.append({'lng':loc[1],'lat':loc[0],'number of cities':int(city_count),'total population':int(population),'min distance':min_distance,'max distance':max_distance,\n"
     ]
    },
    {
     "name": "stdout",
     "output_type": "stream",
     "text": [
      "[  32.77232639 -118.38838545]\n",
      "b'{\"message\":\"Impossible route between points\",\"code\":\"NoRoute\"}'\n",
      "[  40.41798513 -124.40712886]\n"
     ]
    },
    {
     "name": "stderr",
     "output_type": "stream",
     "text": [
      "/var/folders/tm/g65yh1_d5f3gkpxmzywryqwc0000gn/T/ipykernel_66414/1125395041.py:17: FutureWarning: The frame.append method is deprecated and will be removed from pandas in a future version. Use pandas.concat instead.\n",
      "  df = df.append({'lng':loc[1],'lat':loc[0],'number of cities':0,'total   population':0,'min distance':None,'max distance':None,\n",
      "/var/folders/tm/g65yh1_d5f3gkpxmzywryqwc0000gn/T/ipykernel_66414/1125395041.py:39: FutureWarning: The frame.append method is deprecated and will be removed from pandas in a future version. Use pandas.concat instead.\n",
      "  df = df.append({'lng':loc[1],'lat':loc[0],'number of cities':int(city_count),'total population':int(population),'min distance':min_distance,'max distance':max_distance,\n"
     ]
    },
    {
     "name": "stdout",
     "output_type": "stream",
     "text": [
      "[  40.02690284 -122.01257503]\n"
     ]
    },
    {
     "name": "stderr",
     "output_type": "stream",
     "text": [
      "/var/folders/tm/g65yh1_d5f3gkpxmzywryqwc0000gn/T/ipykernel_66414/1125395041.py:39: FutureWarning: The frame.append method is deprecated and will be removed from pandas in a future version. Use pandas.concat instead.\n",
      "  df = df.append({'lng':loc[1],'lat':loc[0],'number of cities':int(city_count),'total population':int(population),'min distance':min_distance,'max distance':max_distance,\n"
     ]
    },
    {
     "name": "stdout",
     "output_type": "stream",
     "text": [
      "[  37.60219266 -122.33616338]\n"
     ]
    },
    {
     "name": "stderr",
     "output_type": "stream",
     "text": [
      "/var/folders/tm/g65yh1_d5f3gkpxmzywryqwc0000gn/T/ipykernel_66414/1125395041.py:39: FutureWarning: The frame.append method is deprecated and will be removed from pandas in a future version. Use pandas.concat instead.\n",
      "  df = df.append({'lng':loc[1],'lat':loc[0],'number of cities':int(city_count),'total population':int(population),'min distance':min_distance,'max distance':max_distance,\n"
     ]
    },
    {
     "name": "stdout",
     "output_type": "stream",
     "text": [
      "[  38.05193729 -121.9262848 ]\n"
     ]
    },
    {
     "name": "stderr",
     "output_type": "stream",
     "text": [
      "/var/folders/tm/g65yh1_d5f3gkpxmzywryqwc0000gn/T/ipykernel_66414/1125395041.py:39: FutureWarning: The frame.append method is deprecated and will be removed from pandas in a future version. Use pandas.concat instead.\n",
      "  df = df.append({'lng':loc[1],'lat':loc[0],'number of cities':int(city_count),'total population':int(population),'min distance':min_distance,'max distance':max_distance,\n"
     ]
    },
    {
     "name": "stdout",
     "output_type": "stream",
     "text": [
      "[  38.14970786 -120.80451183]\n"
     ]
    },
    {
     "name": "stderr",
     "output_type": "stream",
     "text": [
      "/var/folders/tm/g65yh1_d5f3gkpxmzywryqwc0000gn/T/ipykernel_66414/1125395041.py:39: FutureWarning: The frame.append method is deprecated and will be removed from pandas in a future version. Use pandas.concat instead.\n",
      "  df = df.append({'lng':loc[1],'lat':loc[0],'number of cities':int(city_count),'total population':int(population),'min distance':min_distance,'max distance':max_distance,\n"
     ]
    },
    {
     "name": "stdout",
     "output_type": "stream",
     "text": [
      "[  39.26429238 -123.75995215]\n"
     ]
    },
    {
     "name": "stderr",
     "output_type": "stream",
     "text": [
      "/var/folders/tm/g65yh1_d5f3gkpxmzywryqwc0000gn/T/ipykernel_66414/1125395041.py:39: FutureWarning: The frame.append method is deprecated and will be removed from pandas in a future version. Use pandas.concat instead.\n",
      "  df = df.append({'lng':loc[1],'lat':loc[0],'number of cities':int(city_count),'total population':int(population),'min distance':min_distance,'max distance':max_distance,\n"
     ]
    },
    {
     "name": "stdout",
     "output_type": "stream",
     "text": [
      "[  38.91231832 -123.75995215]\n"
     ]
    },
    {
     "name": "stderr",
     "output_type": "stream",
     "text": [
      "/var/folders/tm/g65yh1_d5f3gkpxmzywryqwc0000gn/T/ipykernel_66414/1125395041.py:39: FutureWarning: The frame.append method is deprecated and will be removed from pandas in a future version. Use pandas.concat instead.\n",
      "  df = df.append({'lng':loc[1],'lat':loc[0],'number of cities':int(city_count),'total population':int(population),'min distance':min_distance,'max distance':max_distance,\n"
     ]
    },
    {
     "name": "stdout",
     "output_type": "stream",
     "text": [
      "[  33.33939571 -117.33133015]\n"
     ]
    },
    {
     "name": "stderr",
     "output_type": "stream",
     "text": [
      "/var/folders/tm/g65yh1_d5f3gkpxmzywryqwc0000gn/T/ipykernel_66414/1125395041.py:39: FutureWarning: The frame.append method is deprecated and will be removed from pandas in a future version. Use pandas.concat instead.\n",
      "  df = df.append({'lng':loc[1],'lat':loc[0],'number of cities':int(city_count),'total population':int(population),'min distance':min_distance,'max distance':max_distance,\n"
     ]
    },
    {
     "name": "stdout",
     "output_type": "stream",
     "text": [
      "[  34.02378972 -119.920037  ]\n"
     ]
    },
    {
     "name": "stderr",
     "output_type": "stream",
     "text": [
      "/var/folders/tm/g65yh1_d5f3gkpxmzywryqwc0000gn/T/ipykernel_66414/1125395041.py:39: FutureWarning: The frame.append method is deprecated and will be removed from pandas in a future version. Use pandas.concat instead.\n",
      "  df = df.append({'lng':loc[1],'lat':loc[0],'number of cities':int(city_count),'total population':int(population),'min distance':min_distance,'max distance':max_distance,\n"
     ]
    },
    {
     "name": "stdout",
     "output_type": "stream",
     "text": [
      "[  39.32295472 -121.7752769 ]\n"
     ]
    },
    {
     "name": "stderr",
     "output_type": "stream",
     "text": [
      "/var/folders/tm/g65yh1_d5f3gkpxmzywryqwc0000gn/T/ipykernel_66414/1125395041.py:39: FutureWarning: The frame.append method is deprecated and will be removed from pandas in a future version. Use pandas.concat instead.\n",
      "  df = df.append({'lng':loc[1],'lat':loc[0],'number of cities':int(city_count),'total population':int(population),'min distance':min_distance,'max distance':max_distance,\n"
     ]
    },
    {
     "name": "stdout",
     "output_type": "stream",
     "text": [
      "[  33.12430045 -115.75653349]\n"
     ]
    },
    {
     "name": "stderr",
     "output_type": "stream",
     "text": [
      "/var/folders/tm/g65yh1_d5f3gkpxmzywryqwc0000gn/T/ipykernel_66414/1125395041.py:39: FutureWarning: The frame.append method is deprecated and will be removed from pandas in a future version. Use pandas.concat instead.\n",
      "  df = df.append({'lng':loc[1],'lat':loc[0],'number of cities':int(city_count),'total population':int(population),'min distance':min_distance,'max distance':max_distance,\n"
     ]
    },
    {
     "name": "stdout",
     "output_type": "stream",
     "text": [
      "[  38.05193729 -122.0772927 ]\n"
     ]
    },
    {
     "name": "stderr",
     "output_type": "stream",
     "text": [
      "/var/folders/tm/g65yh1_d5f3gkpxmzywryqwc0000gn/T/ipykernel_66414/1125395041.py:39: FutureWarning: The frame.append method is deprecated and will be removed from pandas in a future version. Use pandas.concat instead.\n",
      "  df = df.append({'lng':loc[1],'lat':loc[0],'number of cities':int(city_count),'total population':int(population),'min distance':min_distance,'max distance':max_distance,\n"
     ]
    },
    {
     "name": "stdout",
     "output_type": "stream",
     "text": [
      "[  40.14422753 -124.21297584]\n"
     ]
    },
    {
     "name": "stderr",
     "output_type": "stream",
     "text": [
      "/var/folders/tm/g65yh1_d5f3gkpxmzywryqwc0000gn/T/ipykernel_66414/1125395041.py:39: FutureWarning: The frame.append method is deprecated and will be removed from pandas in a future version. Use pandas.concat instead.\n",
      "  df = df.append({'lng':loc[1],'lat':loc[0],'number of cities':int(city_count),'total population':int(population),'min distance':min_distance,'max distance':max_distance,\n"
     ]
    },
    {
     "name": "stdout",
     "output_type": "stream",
     "text": [
      "[  38.65811483 -123.43636379]\n"
     ]
    },
    {
     "name": "stderr",
     "output_type": "stream",
     "text": [
      "/var/folders/tm/g65yh1_d5f3gkpxmzywryqwc0000gn/T/ipykernel_66414/1125395041.py:39: FutureWarning: The frame.append method is deprecated and will be removed from pandas in a future version. Use pandas.concat instead.\n",
      "  df = df.append({'lng':loc[1],'lat':loc[0],'number of cities':int(city_count),'total population':int(population),'min distance':min_distance,'max distance':max_distance,\n"
     ]
    },
    {
     "name": "stdout",
     "output_type": "stream",
     "text": [
      "[  34.55175081 -120.58878626]\n"
     ]
    },
    {
     "name": "stderr",
     "output_type": "stream",
     "text": [
      "/var/folders/tm/g65yh1_d5f3gkpxmzywryqwc0000gn/T/ipykernel_66414/1125395041.py:39: FutureWarning: The frame.append method is deprecated and will be removed from pandas in a future version. Use pandas.concat instead.\n",
      "  df = df.append({'lng':loc[1],'lat':loc[0],'number of cities':int(city_count),'total population':int(population),'min distance':min_distance,'max distance':max_distance,\n"
     ]
    },
    {
     "name": "stdout",
     "output_type": "stream",
     "text": [
      "[  41.04371679 -124.12668562]\n"
     ]
    },
    {
     "name": "stderr",
     "output_type": "stream",
     "text": [
      "/var/folders/tm/g65yh1_d5f3gkpxmzywryqwc0000gn/T/ipykernel_66414/1125395041.py:39: FutureWarning: The frame.append method is deprecated and will be removed from pandas in a future version. Use pandas.concat instead.\n",
      "  df = df.append({'lng':loc[1],'lat':loc[0],'number of cities':int(city_count),'total population':int(population),'min distance':min_distance,'max distance':max_distance,\n"
     ]
    },
    {
     "name": "stdout",
     "output_type": "stream",
     "text": [
      "[  40.12467342 -124.25612096]\n"
     ]
    },
    {
     "name": "stderr",
     "output_type": "stream",
     "text": [
      "/var/folders/tm/g65yh1_d5f3gkpxmzywryqwc0000gn/T/ipykernel_66414/1125395041.py:39: FutureWarning: The frame.append method is deprecated and will be removed from pandas in a future version. Use pandas.concat instead.\n",
      "  df = df.append({'lng':loc[1],'lat':loc[0],'number of cities':int(city_count),'total population':int(population),'min distance':min_distance,'max distance':max_distance,\n"
     ]
    },
    {
     "name": "stdout",
     "output_type": "stream",
     "text": [
      "[  35.4903483  -121.10652763]\n"
     ]
    },
    {
     "name": "stderr",
     "output_type": "stream",
     "text": [
      "/var/folders/tm/g65yh1_d5f3gkpxmzywryqwc0000gn/T/ipykernel_66414/1125395041.py:39: FutureWarning: The frame.append method is deprecated and will be removed from pandas in a future version. Use pandas.concat instead.\n",
      "  df = df.append({'lng':loc[1],'lat':loc[0],'number of cities':int(city_count),'total population':int(population),'min distance':min_distance,'max distance':max_distance,\n"
     ]
    },
    {
     "name": "stdout",
     "output_type": "stream",
     "text": [
      "[  38.32569489 -123.09120288]\n"
     ]
    },
    {
     "name": "stderr",
     "output_type": "stream",
     "text": [
      "/var/folders/tm/g65yh1_d5f3gkpxmzywryqwc0000gn/T/ipykernel_66414/1125395041.py:39: FutureWarning: The frame.append method is deprecated and will be removed from pandas in a future version. Use pandas.concat instead.\n",
      "  df = df.append({'lng':loc[1],'lat':loc[0],'number of cities':int(city_count),'total population':int(population),'min distance':min_distance,'max distance':max_distance,\n"
     ]
    },
    {
     "name": "stdout",
     "output_type": "stream",
     "text": [
      "[  34.08245206 -120.50249604]\n"
     ]
    },
    {
     "name": "stderr",
     "output_type": "stream",
     "text": [
      "/var/folders/tm/g65yh1_d5f3gkpxmzywryqwc0000gn/T/ipykernel_66414/1125395041.py:39: FutureWarning: The frame.append method is deprecated and will be removed from pandas in a future version. Use pandas.concat instead.\n",
      "  df = df.append({'lng':loc[1],'lat':loc[0],'number of cities':int(city_count),'total population':int(population),'min distance':min_distance,'max distance':max_distance,\n"
     ]
    },
    {
     "name": "stdout",
     "output_type": "stream",
     "text": [
      "[  38.01282906 -122.01257503]\n"
     ]
    },
    {
     "name": "stderr",
     "output_type": "stream",
     "text": [
      "/var/folders/tm/g65yh1_d5f3gkpxmzywryqwc0000gn/T/ipykernel_66414/1125395041.py:39: FutureWarning: The frame.append method is deprecated and will be removed from pandas in a future version. Use pandas.concat instead.\n",
      "  df = df.append({'lng':loc[1],'lat':loc[0],'number of cities':int(city_count),'total population':int(population),'min distance':min_distance,'max distance':max_distance,\n"
     ]
    },
    {
     "name": "stdout",
     "output_type": "stream",
     "text": [
      "[  34.43442612 -120.52406859]\n"
     ]
    },
    {
     "name": "stderr",
     "output_type": "stream",
     "text": [
      "/var/folders/tm/g65yh1_d5f3gkpxmzywryqwc0000gn/T/ipykernel_66414/1125395041.py:39: FutureWarning: The frame.append method is deprecated and will be removed from pandas in a future version. Use pandas.concat instead.\n",
      "  df = df.append({'lng':loc[1],'lat':loc[0],'number of cities':int(city_count),'total population':int(population),'min distance':min_distance,'max distance':max_distance,\n"
     ]
    },
    {
     "name": "stdout",
     "output_type": "stream",
     "text": [
      "[  33.046084   -118.51782079]\n",
      "b'{\"message\":\"Impossible route between points\",\"code\":\"NoRoute\"}'\n",
      "[  33.06563811 -118.62568358]\n"
     ]
    },
    {
     "name": "stderr",
     "output_type": "stream",
     "text": [
      "/var/folders/tm/g65yh1_d5f3gkpxmzywryqwc0000gn/T/ipykernel_66414/1125395041.py:17: FutureWarning: The frame.append method is deprecated and will be removed from pandas in a future version. Use pandas.concat instead.\n",
      "  df = df.append({'lng':loc[1],'lat':loc[0],'number of cities':0,'total   population':0,'min distance':None,'max distance':None,\n"
     ]
    },
    {
     "name": "stdout",
     "output_type": "stream",
     "text": [
      "b'{\"message\":\"Impossible route between points\",\"code\":\"NoRoute\"}'\n",
      "[  37.60219266 -122.29301827]\n"
     ]
    },
    {
     "name": "stderr",
     "output_type": "stream",
     "text": [
      "/var/folders/tm/g65yh1_d5f3gkpxmzywryqwc0000gn/T/ipykernel_66414/1125395041.py:17: FutureWarning: The frame.append method is deprecated and will be removed from pandas in a future version. Use pandas.concat instead.\n",
      "  df = df.append({'lng':loc[1],'lat':loc[0],'number of cities':0,'total   population':0,'min distance':None,'max distance':None,\n",
      "/var/folders/tm/g65yh1_d5f3gkpxmzywryqwc0000gn/T/ipykernel_66414/1125395041.py:39: FutureWarning: The frame.append method is deprecated and will be removed from pandas in a future version. Use pandas.concat instead.\n",
      "  df = df.append({'lng':loc[1],'lat':loc[0],'number of cities':int(city_count),'total population':int(population),'min distance':min_distance,'max distance':max_distance,\n"
     ]
    },
    {
     "name": "stdout",
     "output_type": "stream",
     "text": [
      "[  38.52123603 -122.16358293]\n"
     ]
    },
    {
     "name": "stderr",
     "output_type": "stream",
     "text": [
      "/var/folders/tm/g65yh1_d5f3gkpxmzywryqwc0000gn/T/ipykernel_66414/1125395041.py:39: FutureWarning: The frame.append method is deprecated and will be removed from pandas in a future version. Use pandas.concat instead.\n",
      "  df = df.append({'lng':loc[1],'lat':loc[0],'number of cities':int(city_count),'total population':int(population),'min distance':min_distance,'max distance':max_distance,\n"
     ]
    },
    {
     "name": "stdout",
     "output_type": "stream",
     "text": [
      "[  39.04919712 -122.87547731]\n"
     ]
    },
    {
     "name": "stderr",
     "output_type": "stream",
     "text": [
      "/var/folders/tm/g65yh1_d5f3gkpxmzywryqwc0000gn/T/ipykernel_66414/1125395041.py:39: FutureWarning: The frame.append method is deprecated and will be removed from pandas in a future version. Use pandas.concat instead.\n",
      "  df = df.append({'lng':loc[1],'lat':loc[0],'number of cities':int(city_count),'total population':int(population),'min distance':min_distance,'max distance':max_distance,\n"
     ]
    },
    {
     "name": "stdout",
     "output_type": "stream",
     "text": [
      "[  38.03238317 -122.05572014]\n"
     ]
    },
    {
     "name": "stderr",
     "output_type": "stream",
     "text": [
      "/var/folders/tm/g65yh1_d5f3gkpxmzywryqwc0000gn/T/ipykernel_66414/1125395041.py:39: FutureWarning: The frame.append method is deprecated and will be removed from pandas in a future version. Use pandas.concat instead.\n",
      "  df = df.append({'lng':loc[1],'lat':loc[0],'number of cities':int(city_count),'total population':int(population),'min distance':min_distance,'max distance':max_distance,\n"
     ]
    },
    {
     "name": "stdout",
     "output_type": "stream",
     "text": [
      "[  39.08830535 -122.89704987]\n"
     ]
    },
    {
     "name": "stderr",
     "output_type": "stream",
     "text": [
      "/var/folders/tm/g65yh1_d5f3gkpxmzywryqwc0000gn/T/ipykernel_66414/1125395041.py:39: FutureWarning: The frame.append method is deprecated and will be removed from pandas in a future version. Use pandas.concat instead.\n",
      "  df = df.append({'lng':loc[1],'lat':loc[0],'number of cities':int(city_count),'total population':int(population),'min distance':min_distance,'max distance':max_distance,\n"
     ]
    },
    {
     "name": "stdout",
     "output_type": "stream",
     "text": [
      "[  38.42346546 -120.99866485]\n"
     ]
    },
    {
     "name": "stderr",
     "output_type": "stream",
     "text": [
      "/var/folders/tm/g65yh1_d5f3gkpxmzywryqwc0000gn/T/ipykernel_66414/1125395041.py:39: FutureWarning: The frame.append method is deprecated and will be removed from pandas in a future version. Use pandas.concat instead.\n",
      "  df = df.append({'lng':loc[1],'lat':loc[0],'number of cities':int(city_count),'total population':int(population),'min distance':min_distance,'max distance':max_distance,\n"
     ]
    },
    {
     "name": "stdout",
     "output_type": "stream",
     "text": [
      "[  38.85365598 -123.65208936]\n"
     ]
    },
    {
     "name": "stderr",
     "output_type": "stream",
     "text": [
      "/var/folders/tm/g65yh1_d5f3gkpxmzywryqwc0000gn/T/ipykernel_66414/1125395041.py:39: FutureWarning: The frame.append method is deprecated and will be removed from pandas in a future version. Use pandas.concat instead.\n",
      "  df = df.append({'lng':loc[1],'lat':loc[0],'number of cities':int(city_count),'total population':int(population),'min distance':min_distance,'max distance':max_distance,\n"
     ]
    },
    {
     "name": "stdout",
     "output_type": "stream",
     "text": [
      "[  41.82588137 -124.40712886]\n"
     ]
    },
    {
     "name": "stderr",
     "output_type": "stream",
     "text": [
      "/var/folders/tm/g65yh1_d5f3gkpxmzywryqwc0000gn/T/ipykernel_66414/1125395041.py:39: FutureWarning: The frame.append method is deprecated and will be removed from pandas in a future version. Use pandas.concat instead.\n",
      "  df = df.append({'lng':loc[1],'lat':loc[0],'number of cities':int(city_count),'total population':int(population),'min distance':min_distance,'max distance':max_distance,\n"
     ]
    },
    {
     "name": "stdout",
     "output_type": "stream",
     "text": [
      "[  34.04334383 -119.96318211]\n"
     ]
    },
    {
     "name": "stderr",
     "output_type": "stream",
     "text": [
      "/var/folders/tm/g65yh1_d5f3gkpxmzywryqwc0000gn/T/ipykernel_66414/1125395041.py:39: FutureWarning: The frame.append method is deprecated and will be removed from pandas in a future version. Use pandas.concat instead.\n",
      "  df = df.append({'lng':loc[1],'lat':loc[0],'number of cities':int(city_count),'total population':int(population),'min distance':min_distance,'max distance':max_distance,\n"
     ]
    },
    {
     "name": "stdout",
     "output_type": "stream",
     "text": [
      "[  35.3534695  -120.86922951]\n"
     ]
    },
    {
     "name": "stderr",
     "output_type": "stream",
     "text": [
      "/var/folders/tm/g65yh1_d5f3gkpxmzywryqwc0000gn/T/ipykernel_66414/1125395041.py:39: FutureWarning: The frame.append method is deprecated and will be removed from pandas in a future version. Use pandas.concat instead.\n",
      "  df = df.append({'lng':loc[1],'lat':loc[0],'number of cities':int(city_count),'total population':int(population),'min distance':min_distance,'max distance':max_distance,\n"
     ]
    },
    {
     "name": "stdout",
     "output_type": "stream",
     "text": [
      "[  33.33939571 -118.28052266]\n",
      "b'{\"message\":\"Impossible route between points\",\"code\":\"NoRoute\"}'\n",
      "[  38.09104552 -122.8323322 ]\n"
     ]
    },
    {
     "name": "stderr",
     "output_type": "stream",
     "text": [
      "/var/folders/tm/g65yh1_d5f3gkpxmzywryqwc0000gn/T/ipykernel_66414/1125395041.py:17: FutureWarning: The frame.append method is deprecated and will be removed from pandas in a future version. Use pandas.concat instead.\n",
      "  df = df.append({'lng':loc[1],'lat':loc[0],'number of cities':0,'total   population':0,'min distance':None,'max distance':None,\n",
      "/var/folders/tm/g65yh1_d5f3gkpxmzywryqwc0000gn/T/ipykernel_66414/1125395041.py:39: FutureWarning: The frame.append method is deprecated and will be removed from pandas in a future version. Use pandas.concat instead.\n",
      "  df = df.append({'lng':loc[1],'lat':loc[0],'number of cities':int(city_count),'total population':int(population),'min distance':min_distance,'max distance':max_distance,\n"
     ]
    },
    {
     "name": "stdout",
     "output_type": "stream",
     "text": [
      "[  38.71677718 -123.54422658]\n"
     ]
    },
    {
     "name": "stderr",
     "output_type": "stream",
     "text": [
      "/var/folders/tm/g65yh1_d5f3gkpxmzywryqwc0000gn/T/ipykernel_66414/1125395041.py:39: FutureWarning: The frame.append method is deprecated and will be removed from pandas in a future version. Use pandas.concat instead.\n",
      "  df = df.append({'lng':loc[1],'lat':loc[0],'number of cities':int(city_count),'total population':int(population),'min distance':min_distance,'max distance':max_distance,\n"
     ]
    },
    {
     "name": "stdout",
     "output_type": "stream",
     "text": [
      "[  33.33939571 -115.92911395]\n"
     ]
    },
    {
     "name": "stderr",
     "output_type": "stream",
     "text": [
      "/var/folders/tm/g65yh1_d5f3gkpxmzywryqwc0000gn/T/ipykernel_66414/1125395041.py:39: FutureWarning: The frame.append method is deprecated and will be removed from pandas in a future version. Use pandas.concat instead.\n",
      "  df = df.append({'lng':loc[1],'lat':loc[0],'number of cities':int(city_count),'total population':int(population),'min distance':min_distance,'max distance':max_distance,\n"
     ]
    },
    {
     "name": "stdout",
     "output_type": "stream",
     "text": [
      "[  35.23614481 -120.89080206]\n"
     ]
    },
    {
     "name": "stderr",
     "output_type": "stream",
     "text": [
      "/var/folders/tm/g65yh1_d5f3gkpxmzywryqwc0000gn/T/ipykernel_66414/1125395041.py:39: FutureWarning: The frame.append method is deprecated and will be removed from pandas in a future version. Use pandas.concat instead.\n",
      "  df = df.append({'lng':loc[1],'lat':loc[0],'number of cities':int(city_count),'total population':int(population),'min distance':min_distance,'max distance':max_distance,\n"
     ]
    },
    {
     "name": "stdout",
     "output_type": "stream",
     "text": [
      "[  37.660855   -122.33616338]\n"
     ]
    },
    {
     "name": "stderr",
     "output_type": "stream",
     "text": [
      "/var/folders/tm/g65yh1_d5f3gkpxmzywryqwc0000gn/T/ipykernel_66414/1125395041.py:39: FutureWarning: The frame.append method is deprecated and will be removed from pandas in a future version. Use pandas.concat instead.\n",
      "  df = df.append({'lng':loc[1],'lat':loc[0],'number of cities':int(city_count),'total population':int(population),'min distance':min_distance,'max distance':max_distance,\n"
     ]
    },
    {
     "name": "stdout",
     "output_type": "stream",
     "text": [
      "[  41.70855668 -124.21297584]\n"
     ]
    },
    {
     "name": "stderr",
     "output_type": "stream",
     "text": [
      "/var/folders/tm/g65yh1_d5f3gkpxmzywryqwc0000gn/T/ipykernel_66414/1125395041.py:39: FutureWarning: The frame.append method is deprecated and will be removed from pandas in a future version. Use pandas.concat instead.\n",
      "  df = df.append({'lng':loc[1],'lat':loc[0],'number of cities':int(city_count),'total population':int(population),'min distance':min_distance,'max distance':max_distance,\n"
     ]
    },
    {
     "name": "stdout",
     "output_type": "stream",
     "text": [
      "[  33.51538274 -118.60411102]\n",
      "b'{\"message\":\"Impossible route between points\",\"code\":\"NoRoute\"}'\n",
      "[  38.05193729 -122.31459083]\n"
     ]
    },
    {
     "name": "stderr",
     "output_type": "stream",
     "text": [
      "/var/folders/tm/g65yh1_d5f3gkpxmzywryqwc0000gn/T/ipykernel_66414/1125395041.py:17: FutureWarning: The frame.append method is deprecated and will be removed from pandas in a future version. Use pandas.concat instead.\n",
      "  df = df.append({'lng':loc[1],'lat':loc[0],'number of cities':0,'total   population':0,'min distance':None,'max distance':None,\n",
      "/var/folders/tm/g65yh1_d5f3gkpxmzywryqwc0000gn/T/ipykernel_66414/1125395041.py:39: FutureWarning: The frame.append method is deprecated and will be removed from pandas in a future version. Use pandas.concat instead.\n",
      "  df = df.append({'lng':loc[1],'lat':loc[0],'number of cities':int(city_count),'total population':int(population),'min distance':min_distance,'max distance':max_distance,\n"
     ]
    },
    {
     "name": "stdout",
     "output_type": "stream",
     "text": [
      "[  32.61589348 -117.18032225]\n"
     ]
    },
    {
     "name": "stderr",
     "output_type": "stream",
     "text": [
      "/var/folders/tm/g65yh1_d5f3gkpxmzywryqwc0000gn/T/ipykernel_66414/1125395041.py:39: FutureWarning: The frame.append method is deprecated and will be removed from pandas in a future version. Use pandas.concat instead.\n",
      "  df = df.append({'lng':loc[1],'lat':loc[0],'number of cities':int(city_count),'total population':int(population),'min distance':min_distance,'max distance':max_distance,\n"
     ]
    },
    {
     "name": "stdout",
     "output_type": "stream",
     "text": [
      "[  37.26977271 -120.93394718]\n"
     ]
    },
    {
     "name": "stderr",
     "output_type": "stream",
     "text": [
      "/var/folders/tm/g65yh1_d5f3gkpxmzywryqwc0000gn/T/ipykernel_66414/1125395041.py:39: FutureWarning: The frame.append method is deprecated and will be removed from pandas in a future version. Use pandas.concat instead.\n",
      "  df = df.append({'lng':loc[1],'lat':loc[0],'number of cities':int(city_count),'total population':int(population),'min distance':min_distance,'max distance':max_distance,\n"
     ]
    },
    {
     "name": "stdout",
     "output_type": "stream",
     "text": [
      "[  38.44301958 -123.19906566]\n"
     ]
    },
    {
     "name": "stderr",
     "output_type": "stream",
     "text": [
      "/var/folders/tm/g65yh1_d5f3gkpxmzywryqwc0000gn/T/ipykernel_66414/1125395041.py:39: FutureWarning: The frame.append method is deprecated and will be removed from pandas in a future version. Use pandas.concat instead.\n",
      "  df = df.append({'lng':loc[1],'lat':loc[0],'number of cities':int(city_count),'total population':int(population),'min distance':min_distance,'max distance':max_distance,\n"
     ]
    },
    {
     "name": "stdout",
     "output_type": "stream",
     "text": [
      "[  33.67181566 -118.34524033]\n"
     ]
    },
    {
     "name": "stderr",
     "output_type": "stream",
     "text": [
      "/var/folders/tm/g65yh1_d5f3gkpxmzywryqwc0000gn/T/ipykernel_66414/1125395041.py:39: FutureWarning: The frame.append method is deprecated and will be removed from pandas in a future version. Use pandas.concat instead.\n",
      "  df = df.append({'lng':loc[1],'lat':loc[0],'number of cities':int(city_count),'total population':int(population),'min distance':min_distance,'max distance':max_distance,\n"
     ]
    },
    {
     "name": "stdout",
     "output_type": "stream",
     "text": [
      "[  33.5935992  -117.93536175]\n"
     ]
    },
    {
     "name": "stderr",
     "output_type": "stream",
     "text": [
      "/var/folders/tm/g65yh1_d5f3gkpxmzywryqwc0000gn/T/ipykernel_66414/1125395041.py:39: FutureWarning: The frame.append method is deprecated and will be removed from pandas in a future version. Use pandas.concat instead.\n",
      "  df = df.append({'lng':loc[1],'lat':loc[0],'number of cities':int(city_count),'total population':int(population),'min distance':min_distance,'max distance':max_distance,\n"
     ]
    },
    {
     "name": "stdout",
     "output_type": "stream",
     "text": [
      "[  41.18059559 -124.16983073]\n"
     ]
    },
    {
     "name": "stderr",
     "output_type": "stream",
     "text": [
      "/var/folders/tm/g65yh1_d5f3gkpxmzywryqwc0000gn/T/ipykernel_66414/1125395041.py:39: FutureWarning: The frame.append method is deprecated and will be removed from pandas in a future version. Use pandas.concat instead.\n",
      "  df = df.append({'lng':loc[1],'lat':loc[0],'number of cities':int(city_count),'total population':int(population),'min distance':min_distance,'max distance':max_distance,\n"
     ]
    },
    {
     "name": "stdout",
     "output_type": "stream",
     "text": [
      "[  34.43442612 -120.24362535]\n"
     ]
    },
    {
     "name": "stderr",
     "output_type": "stream",
     "text": [
      "/var/folders/tm/g65yh1_d5f3gkpxmzywryqwc0000gn/T/ipykernel_66414/1125395041.py:39: FutureWarning: The frame.append method is deprecated and will be removed from pandas in a future version. Use pandas.concat instead.\n",
      "  df = df.append({'lng':loc[1],'lat':loc[0],'number of cities':int(city_count),'total population':int(population),'min distance':min_distance,'max distance':max_distance,\n"
     ]
    },
    {
     "name": "stdout",
     "output_type": "stream",
     "text": [
      "[  37.17200214 -120.89080206]\n"
     ]
    },
    {
     "name": "stderr",
     "output_type": "stream",
     "text": [
      "/var/folders/tm/g65yh1_d5f3gkpxmzywryqwc0000gn/T/ipykernel_66414/1125395041.py:39: FutureWarning: The frame.append method is deprecated and will be removed from pandas in a future version. Use pandas.concat instead.\n",
      "  df = df.append({'lng':loc[1],'lat':loc[0],'number of cities':int(city_count),'total population':int(population),'min distance':min_distance,'max distance':max_distance,\n"
     ]
    },
    {
     "name": "stdout",
     "output_type": "stream",
     "text": [
      "[  38.28658666 -121.25753553]\n"
     ]
    },
    {
     "name": "stderr",
     "output_type": "stream",
     "text": [
      "/var/folders/tm/g65yh1_d5f3gkpxmzywryqwc0000gn/T/ipykernel_66414/1125395041.py:39: FutureWarning: The frame.append method is deprecated and will be removed from pandas in a future version. Use pandas.concat instead.\n",
      "  df = df.append({'lng':loc[1],'lat':loc[0],'number of cities':int(city_count),'total population':int(population),'min distance':min_distance,'max distance':max_distance,\n"
     ]
    },
    {
     "name": "stdout",
     "output_type": "stream",
     "text": [
      "[  38.05193729 -121.64584156]\n"
     ]
    },
    {
     "name": "stderr",
     "output_type": "stream",
     "text": [
      "/var/folders/tm/g65yh1_d5f3gkpxmzywryqwc0000gn/T/ipykernel_66414/1125395041.py:39: FutureWarning: The frame.append method is deprecated and will be removed from pandas in a future version. Use pandas.concat instead.\n",
      "  df = df.append({'lng':loc[1],'lat':loc[0],'number of cities':int(city_count),'total population':int(population),'min distance':min_distance,'max distance':max_distance,\n"
     ]
    },
    {
     "name": "stdout",
     "output_type": "stream",
     "text": [
      "[  37.660855   -120.65350394]\n"
     ]
    },
    {
     "name": "stderr",
     "output_type": "stream",
     "text": [
      "/var/folders/tm/g65yh1_d5f3gkpxmzywryqwc0000gn/T/ipykernel_66414/1125395041.py:39: FutureWarning: The frame.append method is deprecated and will be removed from pandas in a future version. Use pandas.concat instead.\n",
      "  df = df.append({'lng':loc[1],'lat':loc[0],'number of cities':int(city_count),'total population':int(population),'min distance':min_distance,'max distance':max_distance,\n"
     ]
    },
    {
     "name": "stdout",
     "output_type": "stream",
     "text": [
      "[  38.13015374 -122.0772927 ]\n"
     ]
    },
    {
     "name": "stderr",
     "output_type": "stream",
     "text": [
      "/var/folders/tm/g65yh1_d5f3gkpxmzywryqwc0000gn/T/ipykernel_66414/1125395041.py:39: FutureWarning: The frame.append method is deprecated and will be removed from pandas in a future version. Use pandas.concat instead.\n",
      "  df = df.append({'lng':loc[1],'lat':loc[0],'number of cities':int(city_count),'total population':int(population),'min distance':min_distance,'max distance':max_distance,\n"
     ]
    },
    {
     "name": "stdout",
     "output_type": "stream",
     "text": [
      "[  39.51849587 -123.82466982]\n"
     ]
    },
    {
     "name": "stderr",
     "output_type": "stream",
     "text": [
      "/var/folders/tm/g65yh1_d5f3gkpxmzywryqwc0000gn/T/ipykernel_66414/1125395041.py:39: FutureWarning: The frame.append method is deprecated and will be removed from pandas in a future version. Use pandas.concat instead.\n",
      "  df = df.append({'lng':loc[1],'lat':loc[0],'number of cities':int(city_count),'total population':int(population),'min distance':min_distance,'max distance':max_distance,\n"
     ]
    },
    {
     "name": "stdout",
     "output_type": "stream",
     "text": [
      "[  32.65500171 -117.26661248]\n"
     ]
    },
    {
     "name": "stderr",
     "output_type": "stream",
     "text": [
      "/var/folders/tm/g65yh1_d5f3gkpxmzywryqwc0000gn/T/ipykernel_66414/1125395041.py:39: FutureWarning: The frame.append method is deprecated and will be removed from pandas in a future version. Use pandas.concat instead.\n",
      "  df = df.append({'lng':loc[1],'lat':loc[0],'number of cities':int(city_count),'total population':int(population),'min distance':min_distance,'max distance':max_distance,\n"
     ]
    },
    {
     "name": "stdout",
     "output_type": "stream",
     "text": [
      "[  35.74455179 -121.38697087]\n"
     ]
    },
    {
     "name": "stderr",
     "output_type": "stream",
     "text": [
      "/var/folders/tm/g65yh1_d5f3gkpxmzywryqwc0000gn/T/ipykernel_66414/1125395041.py:39: FutureWarning: The frame.append method is deprecated and will be removed from pandas in a future version. Use pandas.concat instead.\n",
      "  df = df.append({'lng':loc[1],'lat':loc[0],'number of cities':int(city_count),'total population':int(population),'min distance':min_distance,'max distance':max_distance,\n"
     ]
    },
    {
     "name": "stdout",
     "output_type": "stream",
     "text": [
      "[  33.28073337 -118.47467568]\n",
      "b'{\"message\":\"Impossible route between points\",\"code\":\"NoRoute\"}'\n",
      "[  38.05193729 -121.79684946]\n"
     ]
    },
    {
     "name": "stderr",
     "output_type": "stream",
     "text": [
      "/var/folders/tm/g65yh1_d5f3gkpxmzywryqwc0000gn/T/ipykernel_66414/1125395041.py:17: FutureWarning: The frame.append method is deprecated and will be removed from pandas in a future version. Use pandas.concat instead.\n",
      "  df = df.append({'lng':loc[1],'lat':loc[0],'number of cities':0,'total   population':0,'min distance':None,'max distance':None,\n",
      "/var/folders/tm/g65yh1_d5f3gkpxmzywryqwc0000gn/T/ipykernel_66414/1125395041.py:39: FutureWarning: The frame.append method is deprecated and will be removed from pandas in a future version. Use pandas.concat instead.\n",
      "  df = df.append({'lng':loc[1],'lat':loc[0],'number of cities':int(city_count),'total population':int(population),'min distance':min_distance,'max distance':max_distance,\n"
     ]
    },
    {
     "name": "stdout",
     "output_type": "stream",
     "text": [
      "[  37.21111037 -122.42245361]\n"
     ]
    },
    {
     "name": "stderr",
     "output_type": "stream",
     "text": [
      "/var/folders/tm/g65yh1_d5f3gkpxmzywryqwc0000gn/T/ipykernel_66414/1125395041.py:39: FutureWarning: The frame.append method is deprecated and will be removed from pandas in a future version. Use pandas.concat instead.\n",
      "  df = df.append({'lng':loc[1],'lat':loc[0],'number of cities':int(city_count),'total population':int(population),'min distance':min_distance,'max distance':max_distance,\n"
     ]
    },
    {
     "name": "stdout",
     "output_type": "stream",
     "text": [
      "[  36.78091985 -121.90471224]\n"
     ]
    },
    {
     "name": "stderr",
     "output_type": "stream",
     "text": [
      "/var/folders/tm/g65yh1_d5f3gkpxmzywryqwc0000gn/T/ipykernel_66414/1125395041.py:39: FutureWarning: The frame.append method is deprecated and will be removed from pandas in a future version. Use pandas.concat instead.\n",
      "  df = df.append({'lng':loc[1],'lat':loc[0],'number of cities':int(city_count),'total population':int(population),'min distance':min_distance,'max distance':max_distance,\n"
     ]
    },
    {
     "name": "stdout",
     "output_type": "stream",
     "text": [
      "[  38.345249   -123.06963032]\n"
     ]
    },
    {
     "name": "stderr",
     "output_type": "stream",
     "text": [
      "/var/folders/tm/g65yh1_d5f3gkpxmzywryqwc0000gn/T/ipykernel_66414/1125395041.py:39: FutureWarning: The frame.append method is deprecated and will be removed from pandas in a future version. Use pandas.concat instead.\n",
      "  df = df.append({'lng':loc[1],'lat':loc[0],'number of cities':int(city_count),'total population':int(population),'min distance':min_distance,'max distance':max_distance,\n"
     ]
    },
    {
     "name": "stdout",
     "output_type": "stream",
     "text": [
      "[  40.6526345  -124.34241119]\n"
     ]
    },
    {
     "name": "stderr",
     "output_type": "stream",
     "text": [
      "/var/folders/tm/g65yh1_d5f3gkpxmzywryqwc0000gn/T/ipykernel_66414/1125395041.py:39: FutureWarning: The frame.append method is deprecated and will be removed from pandas in a future version. Use pandas.concat instead.\n",
      "  df = df.append({'lng':loc[1],'lat':loc[0],'number of cities':int(city_count),'total population':int(population),'min distance':min_distance,'max distance':max_distance,\n"
     ]
    },
    {
     "name": "stdout",
     "output_type": "stream",
     "text": [
      "[  36.76136574 -120.35148814]\n"
     ]
    },
    {
     "name": "stderr",
     "output_type": "stream",
     "text": [
      "/var/folders/tm/g65yh1_d5f3gkpxmzywryqwc0000gn/T/ipykernel_66414/1125395041.py:39: FutureWarning: The frame.append method is deprecated and will be removed from pandas in a future version. Use pandas.concat instead.\n",
      "  df = df.append({'lng':loc[1],'lat':loc[0],'number of cities':int(city_count),'total population':int(population),'min distance':min_distance,'max distance':max_distance,\n"
     ]
    },
    {
     "name": "stdout",
     "output_type": "stream",
     "text": [
      "[  37.89550437 -122.78918708]\n"
     ]
    },
    {
     "name": "stderr",
     "output_type": "stream",
     "text": [
      "/var/folders/tm/g65yh1_d5f3gkpxmzywryqwc0000gn/T/ipykernel_66414/1125395041.py:39: FutureWarning: The frame.append method is deprecated and will be removed from pandas in a future version. Use pandas.concat instead.\n",
      "  df = df.append({'lng':loc[1],'lat':loc[0],'number of cities':int(city_count),'total population':int(population),'min distance':min_distance,'max distance':max_distance,\n"
     ]
    },
    {
     "name": "stdout",
     "output_type": "stream",
     "text": [
      "[  33.37850394 -115.97225906]\n"
     ]
    },
    {
     "name": "stderr",
     "output_type": "stream",
     "text": [
      "/var/folders/tm/g65yh1_d5f3gkpxmzywryqwc0000gn/T/ipykernel_66414/1125395041.py:39: FutureWarning: The frame.append method is deprecated and will be removed from pandas in a future version. Use pandas.concat instead.\n",
      "  df = df.append({'lng':loc[1],'lat':loc[0],'number of cities':int(city_count),'total population':int(population),'min distance':min_distance,'max distance':max_distance,\n"
     ]
    },
    {
     "name": "stdout",
     "output_type": "stream",
     "text": [
      "[  36.38983756 -121.96942991]\n"
     ]
    },
    {
     "name": "stderr",
     "output_type": "stream",
     "text": [
      "/var/folders/tm/g65yh1_d5f3gkpxmzywryqwc0000gn/T/ipykernel_66414/1125395041.py:39: FutureWarning: The frame.append method is deprecated and will be removed from pandas in a future version. Use pandas.concat instead.\n",
      "  df = df.append({'lng':loc[1],'lat':loc[0],'number of cities':int(city_count),'total population':int(population),'min distance':min_distance,'max distance':max_distance,\n"
     ]
    },
    {
     "name": "stdout",
     "output_type": "stream",
     "text": [
      "[  38.03238317 -122.14201037]\n"
     ]
    },
    {
     "name": "stderr",
     "output_type": "stream",
     "text": [
      "/var/folders/tm/g65yh1_d5f3gkpxmzywryqwc0000gn/T/ipykernel_66414/1125395041.py:39: FutureWarning: The frame.append method is deprecated and will be removed from pandas in a future version. Use pandas.concat instead.\n",
      "  df = df.append({'lng':loc[1],'lat':loc[0],'number of cities':int(city_count),'total population':int(population),'min distance':min_distance,'max distance':max_distance,\n"
     ]
    },
    {
     "name": "stdout",
     "output_type": "stream",
     "text": [
      "[  33.08519223 -114.6994782 ]\n"
     ]
    },
    {
     "name": "stderr",
     "output_type": "stream",
     "text": [
      "/var/folders/tm/g65yh1_d5f3gkpxmzywryqwc0000gn/T/ipykernel_66414/1125395041.py:39: FutureWarning: The frame.append method is deprecated and will be removed from pandas in a future version. Use pandas.concat instead.\n",
      "  df = df.append({'lng':loc[1],'lat':loc[0],'number of cities':int(city_count),'total population':int(population),'min distance':min_distance,'max distance':max_distance,\n"
     ]
    },
    {
     "name": "stdout",
     "output_type": "stream",
     "text": [
      "[  38.97098066 -123.7815247 ]\n"
     ]
    },
    {
     "name": "stderr",
     "output_type": "stream",
     "text": [
      "/var/folders/tm/g65yh1_d5f3gkpxmzywryqwc0000gn/T/ipykernel_66414/1125395041.py:39: FutureWarning: The frame.append method is deprecated and will be removed from pandas in a future version. Use pandas.concat instead.\n",
      "  df = df.append({'lng':loc[1],'lat':loc[0],'number of cities':int(city_count),'total population':int(population),'min distance':min_distance,'max distance':max_distance,\n"
     ]
    },
    {
     "name": "stdout",
     "output_type": "stream",
     "text": [
      "[  39.9682405  -124.04039539]\n"
     ]
    },
    {
     "name": "stderr",
     "output_type": "stream",
     "text": [
      "/var/folders/tm/g65yh1_d5f3gkpxmzywryqwc0000gn/T/ipykernel_66414/1125395041.py:39: FutureWarning: The frame.append method is deprecated and will be removed from pandas in a future version. Use pandas.concat instead.\n",
      "  df = df.append({'lng':loc[1],'lat':loc[0],'number of cities':int(city_count),'total population':int(population),'min distance':min_distance,'max distance':max_distance,\n"
     ]
    },
    {
     "name": "stdout",
     "output_type": "stream",
     "text": [
      "[  37.68040911 -123.00491265]\n"
     ]
    },
    {
     "name": "stderr",
     "output_type": "stream",
     "text": [
      "/var/folders/tm/g65yh1_d5f3gkpxmzywryqwc0000gn/T/ipykernel_66414/1125395041.py:39: FutureWarning: The frame.append method is deprecated and will be removed from pandas in a future version. Use pandas.concat instead.\n",
      "  df = df.append({'lng':loc[1],'lat':loc[0],'number of cities':int(city_count),'total population':int(population),'min distance':min_distance,'max distance':max_distance,\n"
     ]
    },
    {
     "name": "stdout",
     "output_type": "stream",
     "text": [
      "[  38.52123603 -123.35007356]\n"
     ]
    },
    {
     "name": "stderr",
     "output_type": "stream",
     "text": [
      "/var/folders/tm/g65yh1_d5f3gkpxmzywryqwc0000gn/T/ipykernel_66414/1125395041.py:39: FutureWarning: The frame.append method is deprecated and will be removed from pandas in a future version. Use pandas.concat instead.\n",
      "  df = df.append({'lng':loc[1],'lat':loc[0],'number of cities':int(city_count),'total population':int(population),'min distance':min_distance,'max distance':max_distance,\n"
     ]
    },
    {
     "name": "stdout",
     "output_type": "stream",
     "text": [
      "[  37.87595026 -122.6813243 ]\n"
     ]
    },
    {
     "name": "stderr",
     "output_type": "stream",
     "text": [
      "/var/folders/tm/g65yh1_d5f3gkpxmzywryqwc0000gn/T/ipykernel_66414/1125395041.py:39: FutureWarning: The frame.append method is deprecated and will be removed from pandas in a future version. Use pandas.concat instead.\n",
      "  df = df.append({'lng':loc[1],'lat':loc[0],'number of cities':int(city_count),'total population':int(population),'min distance':min_distance,'max distance':max_distance,\n"
     ]
    },
    {
     "name": "stdout",
     "output_type": "stream",
     "text": [
      "[  37.03512334 -122.27144571]\n"
     ]
    },
    {
     "name": "stderr",
     "output_type": "stream",
     "text": [
      "/var/folders/tm/g65yh1_d5f3gkpxmzywryqwc0000gn/T/ipykernel_66414/1125395041.py:39: FutureWarning: The frame.append method is deprecated and will be removed from pandas in a future version. Use pandas.concat instead.\n",
      "  df = df.append({'lng':loc[1],'lat':loc[0],'number of cities':int(city_count),'total population':int(population),'min distance':min_distance,'max distance':max_distance,\n"
     ]
    },
    {
     "name": "stdout",
     "output_type": "stream",
     "text": [
      "[  33.28073337 -115.75653349]\n"
     ]
    },
    {
     "name": "stderr",
     "output_type": "stream",
     "text": [
      "/var/folders/tm/g65yh1_d5f3gkpxmzywryqwc0000gn/T/ipykernel_66414/1125395041.py:39: FutureWarning: The frame.append method is deprecated and will be removed from pandas in a future version. Use pandas.concat instead.\n",
      "  df = df.append({'lng':loc[1],'lat':loc[0],'number of cities':int(city_count),'total population':int(population),'min distance':min_distance,'max distance':max_distance,\n"
     ]
    },
    {
     "name": "stdout",
     "output_type": "stream",
     "text": [
      "[  39.94868639 -124.01882283]\n"
     ]
    },
    {
     "name": "stderr",
     "output_type": "stream",
     "text": [
      "/var/folders/tm/g65yh1_d5f3gkpxmzywryqwc0000gn/T/ipykernel_66414/1125395041.py:39: FutureWarning: The frame.append method is deprecated and will be removed from pandas in a future version. Use pandas.concat instead.\n",
      "  df = df.append({'lng':loc[1],'lat':loc[0],'number of cities':int(city_count),'total population':int(population),'min distance':min_distance,'max distance':max_distance,\n"
     ]
    },
    {
     "name": "stdout",
     "output_type": "stream",
     "text": [
      "[  37.34798917 -122.42245361]\n"
     ]
    },
    {
     "name": "stderr",
     "output_type": "stream",
     "text": [
      "/var/folders/tm/g65yh1_d5f3gkpxmzywryqwc0000gn/T/ipykernel_66414/1125395041.py:39: FutureWarning: The frame.append method is deprecated and will be removed from pandas in a future version. Use pandas.concat instead.\n",
      "  df = df.append({'lng':loc[1],'lat':loc[0],'number of cities':int(city_count),'total population':int(population),'min distance':min_distance,'max distance':max_distance,\n"
     ]
    },
    {
     "name": "stdout",
     "output_type": "stream",
     "text": [
      "[  37.26977271 -120.82608439]\n"
     ]
    },
    {
     "name": "stderr",
     "output_type": "stream",
     "text": [
      "/var/folders/tm/g65yh1_d5f3gkpxmzywryqwc0000gn/T/ipykernel_66414/1125395041.py:39: FutureWarning: The frame.append method is deprecated and will be removed from pandas in a future version. Use pandas.concat instead.\n",
      "  df = df.append({'lng':loc[1],'lat':loc[0],'number of cities':int(city_count),'total population':int(population),'min distance':min_distance,'max distance':max_distance,\n"
     ]
    },
    {
     "name": "stdout",
     "output_type": "stream",
     "text": [
      "[  34.02378972 -118.75511892]\n"
     ]
    },
    {
     "name": "stderr",
     "output_type": "stream",
     "text": [
      "/var/folders/tm/g65yh1_d5f3gkpxmzywryqwc0000gn/T/ipykernel_66414/1125395041.py:39: FutureWarning: The frame.append method is deprecated and will be removed from pandas in a future version. Use pandas.concat instead.\n",
      "  df = df.append({'lng':loc[1],'lat':loc[0],'number of cities':int(city_count),'total population':int(population),'min distance':min_distance,'max distance':max_distance,\n"
     ]
    },
    {
     "name": "stdout",
     "output_type": "stream",
     "text": [
      "[  34.02378972 -120.02789978]\n"
     ]
    },
    {
     "name": "stderr",
     "output_type": "stream",
     "text": [
      "/var/folders/tm/g65yh1_d5f3gkpxmzywryqwc0000gn/T/ipykernel_66414/1125395041.py:39: FutureWarning: The frame.append method is deprecated and will be removed from pandas in a future version. Use pandas.concat instead.\n",
      "  df = df.append({'lng':loc[1],'lat':loc[0],'number of cities':int(city_count),'total population':int(population),'min distance':min_distance,'max distance':max_distance,\n"
     ]
    },
    {
     "name": "stdout",
     "output_type": "stream",
     "text": [
      "[  39.22518415 -123.82466982]\n"
     ]
    },
    {
     "name": "stderr",
     "output_type": "stream",
     "text": [
      "/var/folders/tm/g65yh1_d5f3gkpxmzywryqwc0000gn/T/ipykernel_66414/1125395041.py:39: FutureWarning: The frame.append method is deprecated and will be removed from pandas in a future version. Use pandas.concat instead.\n",
      "  df = df.append({'lng':loc[1],'lat':loc[0],'number of cities':int(city_count),'total population':int(population),'min distance':min_distance,'max distance':max_distance,\n"
     ]
    },
    {
     "name": "stdout",
     "output_type": "stream",
     "text": [
      "[  39.44027941 -122.96176754]\n"
     ]
    },
    {
     "name": "stderr",
     "output_type": "stream",
     "text": [
      "/var/folders/tm/g65yh1_d5f3gkpxmzywryqwc0000gn/T/ipykernel_66414/1125395041.py:39: FutureWarning: The frame.append method is deprecated and will be removed from pandas in a future version. Use pandas.concat instead.\n",
      "  df = df.append({'lng':loc[1],'lat':loc[0],'number of cities':int(city_count),'total population':int(population),'min distance':min_distance,'max distance':max_distance,\n"
     ]
    },
    {
     "name": "stdout",
     "output_type": "stream",
     "text": [
      "[  39.10785947 -123.73837959]\n"
     ]
    },
    {
     "name": "stderr",
     "output_type": "stream",
     "text": [
      "/var/folders/tm/g65yh1_d5f3gkpxmzywryqwc0000gn/T/ipykernel_66414/1125395041.py:39: FutureWarning: The frame.append method is deprecated and will be removed from pandas in a future version. Use pandas.concat instead.\n",
      "  df = df.append({'lng':loc[1],'lat':loc[0],'number of cities':int(city_count),'total population':int(population),'min distance':min_distance,'max distance':max_distance,\n"
     ]
    },
    {
     "name": "stdout",
     "output_type": "stream",
     "text": [
      "[  34.53219669 -120.65350394]\n"
     ]
    },
    {
     "name": "stderr",
     "output_type": "stream",
     "text": [
      "/var/folders/tm/g65yh1_d5f3gkpxmzywryqwc0000gn/T/ipykernel_66414/1125395041.py:39: FutureWarning: The frame.append method is deprecated and will be removed from pandas in a future version. Use pandas.concat instead.\n",
      "  df = df.append({'lng':loc[1],'lat':loc[0],'number of cities':int(city_count),'total population':int(population),'min distance':min_distance,'max distance':max_distance,\n"
     ]
    },
    {
     "name": "stdout",
     "output_type": "stream",
     "text": [
      "[  33.4567204  -117.67649107]\n"
     ]
    },
    {
     "name": "stderr",
     "output_type": "stream",
     "text": [
      "/var/folders/tm/g65yh1_d5f3gkpxmzywryqwc0000gn/T/ipykernel_66414/1125395041.py:39: FutureWarning: The frame.append method is deprecated and will be removed from pandas in a future version. Use pandas.concat instead.\n",
      "  df = df.append({'lng':loc[1],'lat':loc[0],'number of cities':int(city_count),'total population':int(population),'min distance':min_distance,'max distance':max_distance,\n"
     ]
    },
    {
     "name": "stdout",
     "output_type": "stream",
     "text": [
      "[  32.81143462 -117.07245947]\n"
     ]
    },
    {
     "name": "stderr",
     "output_type": "stream",
     "text": [
      "/var/folders/tm/g65yh1_d5f3gkpxmzywryqwc0000gn/T/ipykernel_66414/1125395041.py:39: FutureWarning: The frame.append method is deprecated and will be removed from pandas in a future version. Use pandas.concat instead.\n",
      "  df = df.append({'lng':loc[1],'lat':loc[0],'number of cities':int(city_count),'total population':int(population),'min distance':min_distance,'max distance':max_distance,\n"
     ]
    },
    {
     "name": "stdout",
     "output_type": "stream",
     "text": [
      "[  33.26117926 -115.64867071]\n"
     ]
    },
    {
     "name": "stderr",
     "output_type": "stream",
     "text": [
      "/var/folders/tm/g65yh1_d5f3gkpxmzywryqwc0000gn/T/ipykernel_66414/1125395041.py:39: FutureWarning: The frame.append method is deprecated and will be removed from pandas in a future version. Use pandas.concat instead.\n",
      "  df = df.append({'lng':loc[1],'lat':loc[0],'number of cities':int(city_count),'total population':int(population),'min distance':min_distance,'max distance':max_distance,\n"
     ]
    },
    {
     "name": "stdout",
     "output_type": "stream",
     "text": [
      "[  37.64130088 -122.24987316]\n"
     ]
    },
    {
     "name": "stderr",
     "output_type": "stream",
     "text": [
      "/var/folders/tm/g65yh1_d5f3gkpxmzywryqwc0000gn/T/ipykernel_66414/1125395041.py:39: FutureWarning: The frame.append method is deprecated and will be removed from pandas in a future version. Use pandas.concat instead.\n",
      "  df = df.append({'lng':loc[1],'lat':loc[0],'number of cities':int(city_count),'total population':int(population),'min distance':min_distance,'max distance':max_distance,\n"
     ]
    },
    {
     "name": "stdout",
     "output_type": "stream",
     "text": [
      "[  34.84506252 -120.2220528 ]\n"
     ]
    },
    {
     "name": "stderr",
     "output_type": "stream",
     "text": [
      "/var/folders/tm/g65yh1_d5f3gkpxmzywryqwc0000gn/T/ipykernel_66414/1125395041.py:39: FutureWarning: The frame.append method is deprecated and will be removed from pandas in a future version. Use pandas.concat instead.\n",
      "  df = df.append({'lng':loc[1],'lat':loc[0],'number of cities':int(city_count),'total population':int(population),'min distance':min_distance,'max distance':max_distance,\n"
     ]
    },
    {
     "name": "stdout",
     "output_type": "stream",
     "text": [
      "[  40.73085096 -124.25612096]\n"
     ]
    },
    {
     "name": "stderr",
     "output_type": "stream",
     "text": [
      "/var/folders/tm/g65yh1_d5f3gkpxmzywryqwc0000gn/T/ipykernel_66414/1125395041.py:39: FutureWarning: The frame.append method is deprecated and will be removed from pandas in a future version. Use pandas.concat instead.\n",
      "  df = df.append({'lng':loc[1],'lat':loc[0],'number of cities':int(city_count),'total population':int(population),'min distance':min_distance,'max distance':max_distance,\n"
     ]
    },
    {
     "name": "stdout",
     "output_type": "stream",
     "text": [
      "[  32.92875931 -118.43153056]\n",
      "b'{\"message\":\"Impossible route between points\",\"code\":\"NoRoute\"}'\n",
      "[  41.82588137 -124.2345484 ]\n"
     ]
    },
    {
     "name": "stderr",
     "output_type": "stream",
     "text": [
      "/var/folders/tm/g65yh1_d5f3gkpxmzywryqwc0000gn/T/ipykernel_66414/1125395041.py:17: FutureWarning: The frame.append method is deprecated and will be removed from pandas in a future version. Use pandas.concat instead.\n",
      "  df = df.append({'lng':loc[1],'lat':loc[0],'number of cities':0,'total   population':0,'min distance':None,'max distance':None,\n",
      "/var/folders/tm/g65yh1_d5f3gkpxmzywryqwc0000gn/T/ipykernel_66414/1125395041.py:39: FutureWarning: The frame.append method is deprecated and will be removed from pandas in a future version. Use pandas.concat instead.\n",
      "  df = df.append({'lng':loc[1],'lat':loc[0],'number of cities':int(city_count),'total population':int(population),'min distance':min_distance,'max distance':max_distance,\n"
     ]
    },
    {
     "name": "stdout",
     "output_type": "stream",
     "text": [
      "[  33.3198416  -117.50391061]\n"
     ]
    },
    {
     "name": "stderr",
     "output_type": "stream",
     "text": [
      "/var/folders/tm/g65yh1_d5f3gkpxmzywryqwc0000gn/T/ipykernel_66414/1125395041.py:39: FutureWarning: The frame.append method is deprecated and will be removed from pandas in a future version. Use pandas.concat instead.\n",
      "  df = df.append({'lng':loc[1],'lat':loc[0],'number of cities':int(city_count),'total population':int(population),'min distance':min_distance,'max distance':max_distance,\n"
     ]
    },
    {
     "name": "stdout",
     "output_type": "stream",
     "text": [
      "[  38.18881609 -122.12043781]\n"
     ]
    },
    {
     "name": "stderr",
     "output_type": "stream",
     "text": [
      "/var/folders/tm/g65yh1_d5f3gkpxmzywryqwc0000gn/T/ipykernel_66414/1125395041.py:39: FutureWarning: The frame.append method is deprecated and will be removed from pandas in a future version. Use pandas.concat instead.\n",
      "  df = df.append({'lng':loc[1],'lat':loc[0],'number of cities':int(city_count),'total population':int(population),'min distance':min_distance,'max distance':max_distance,\n"
     ]
    },
    {
     "name": "stdout",
     "output_type": "stream",
     "text": [
      "[  39.10785947 -122.87547731]\n"
     ]
    },
    {
     "name": "stderr",
     "output_type": "stream",
     "text": [
      "/var/folders/tm/g65yh1_d5f3gkpxmzywryqwc0000gn/T/ipykernel_66414/1125395041.py:39: FutureWarning: The frame.append method is deprecated and will be removed from pandas in a future version. Use pandas.concat instead.\n",
      "  df = df.append({'lng':loc[1],'lat':loc[0],'number of cities':int(city_count),'total population':int(population),'min distance':min_distance,'max distance':max_distance,\n"
     ]
    },
    {
     "name": "stdout",
     "output_type": "stream",
     "text": [
      "[  36.3116211 -121.9262848]\n"
     ]
    },
    {
     "name": "stderr",
     "output_type": "stream",
     "text": [
      "/var/folders/tm/g65yh1_d5f3gkpxmzywryqwc0000gn/T/ipykernel_66414/1125395041.py:39: FutureWarning: The frame.append method is deprecated and will be removed from pandas in a future version. Use pandas.concat instead.\n",
      "  df = df.append({'lng':loc[1],'lat':loc[0],'number of cities':int(city_count),'total population':int(population),'min distance':min_distance,'max distance':max_distance,\n"
     ]
    },
    {
     "name": "stdout",
     "output_type": "stream",
     "text": [
      "[  39.75314524 -123.86781493]\n"
     ]
    },
    {
     "name": "stderr",
     "output_type": "stream",
     "text": [
      "/var/folders/tm/g65yh1_d5f3gkpxmzywryqwc0000gn/T/ipykernel_66414/1125395041.py:39: FutureWarning: The frame.append method is deprecated and will be removed from pandas in a future version. Use pandas.concat instead.\n",
      "  df = df.append({'lng':loc[1],'lat':loc[0],'number of cities':int(city_count),'total population':int(population),'min distance':min_distance,'max distance':max_distance,\n"
     ]
    },
    {
     "name": "stdout",
     "output_type": "stream",
     "text": [
      "[  33.94557326 -118.51782079]\n"
     ]
    },
    {
     "name": "stderr",
     "output_type": "stream",
     "text": [
      "/var/folders/tm/g65yh1_d5f3gkpxmzywryqwc0000gn/T/ipykernel_66414/1125395041.py:39: FutureWarning: The frame.append method is deprecated and will be removed from pandas in a future version. Use pandas.concat instead.\n",
      "  df = df.append({'lng':loc[1],'lat':loc[0],'number of cities':int(city_count),'total population':int(population),'min distance':min_distance,'max distance':max_distance,\n"
     ]
    },
    {
     "name": "stdout",
     "output_type": "stream",
     "text": [
      "[  38.18881609 -122.01257503]\n"
     ]
    },
    {
     "name": "stderr",
     "output_type": "stream",
     "text": [
      "/var/folders/tm/g65yh1_d5f3gkpxmzywryqwc0000gn/T/ipykernel_66414/1125395041.py:39: FutureWarning: The frame.append method is deprecated and will be removed from pandas in a future version. Use pandas.concat instead.\n",
      "  df = df.append({'lng':loc[1],'lat':loc[0],'number of cities':int(city_count),'total population':int(population),'min distance':min_distance,'max distance':max_distance,\n"
     ]
    },
    {
     "name": "stdout",
     "output_type": "stream",
     "text": [
      "[  37.07423157 -122.35773594]\n"
     ]
    },
    {
     "name": "stderr",
     "output_type": "stream",
     "text": [
      "/var/folders/tm/g65yh1_d5f3gkpxmzywryqwc0000gn/T/ipykernel_66414/1125395041.py:39: FutureWarning: The frame.append method is deprecated and will be removed from pandas in a future version. Use pandas.concat instead.\n",
      "  df = df.append({'lng':loc[1],'lat':loc[0],'number of cities':int(city_count),'total population':int(population),'min distance':min_distance,'max distance':max_distance,\n"
     ]
    },
    {
     "name": "stdout",
     "output_type": "stream",
     "text": [
      "[  38.59945249 -123.39321868]\n"
     ]
    },
    {
     "name": "stderr",
     "output_type": "stream",
     "text": [
      "/var/folders/tm/g65yh1_d5f3gkpxmzywryqwc0000gn/T/ipykernel_66414/1125395041.py:39: FutureWarning: The frame.append method is deprecated and will be removed from pandas in a future version. Use pandas.concat instead.\n",
      "  df = df.append({'lng':loc[1],'lat':loc[0],'number of cities':int(city_count),'total population':int(population),'min distance':min_distance,'max distance':max_distance,\n"
     ]
    },
    {
     "name": "stdout",
     "output_type": "stream",
     "text": [
      "[  39.8313617  -123.26378334]\n"
     ]
    },
    {
     "name": "stderr",
     "output_type": "stream",
     "text": [
      "/var/folders/tm/g65yh1_d5f3gkpxmzywryqwc0000gn/T/ipykernel_66414/1125395041.py:39: FutureWarning: The frame.append method is deprecated and will be removed from pandas in a future version. Use pandas.concat instead.\n",
      "  df = df.append({'lng':loc[1],'lat':loc[0],'number of cities':int(city_count),'total population':int(population),'min distance':min_distance,'max distance':max_distance,\n"
     ]
    },
    {
     "name": "stdout",
     "output_type": "stream",
     "text": [
      "[  37.77817969 -122.33616338]\n"
     ]
    },
    {
     "name": "stderr",
     "output_type": "stream",
     "text": [
      "/var/folders/tm/g65yh1_d5f3gkpxmzywryqwc0000gn/T/ipykernel_66414/1125395041.py:39: FutureWarning: The frame.append method is deprecated and will be removed from pandas in a future version. Use pandas.concat instead.\n",
      "  df = df.append({'lng':loc[1],'lat':loc[0],'number of cities':int(city_count),'total population':int(population),'min distance':min_distance,'max distance':max_distance,\n"
     ]
    },
    {
     "name": "stdout",
     "output_type": "stream",
     "text": [
      "[  34.1411144  -120.50249604]\n"
     ]
    },
    {
     "name": "stderr",
     "output_type": "stream",
     "text": [
      "/var/folders/tm/g65yh1_d5f3gkpxmzywryqwc0000gn/T/ipykernel_66414/1125395041.py:39: FutureWarning: The frame.append method is deprecated and will be removed from pandas in a future version. Use pandas.concat instead.\n",
      "  df = df.append({'lng':loc[1],'lat':loc[0],'number of cities':int(city_count),'total population':int(population),'min distance':min_distance,'max distance':max_distance,\n"
     ]
    },
    {
     "name": "stdout",
     "output_type": "stream",
     "text": [
      "[  35.68588944 -121.34382576]\n"
     ]
    },
    {
     "name": "stderr",
     "output_type": "stream",
     "text": [
      "/var/folders/tm/g65yh1_d5f3gkpxmzywryqwc0000gn/T/ipykernel_66414/1125395041.py:39: FutureWarning: The frame.append method is deprecated and will be removed from pandas in a future version. Use pandas.concat instead.\n",
      "  df = df.append({'lng':loc[1],'lat':loc[0],'number of cities':int(city_count),'total population':int(population),'min distance':min_distance,'max distance':max_distance,\n"
     ]
    },
    {
     "name": "stdout",
     "output_type": "stream",
     "text": [
      "[  38.28658666 -122.98334009]\n"
     ]
    },
    {
     "name": "stderr",
     "output_type": "stream",
     "text": [
      "/var/folders/tm/g65yh1_d5f3gkpxmzywryqwc0000gn/T/ipykernel_66414/1125395041.py:39: FutureWarning: The frame.append method is deprecated and will be removed from pandas in a future version. Use pandas.concat instead.\n",
      "  df = df.append({'lng':loc[1],'lat':loc[0],'number of cities':int(city_count),'total population':int(population),'min distance':min_distance,'max distance':max_distance,\n"
     ]
    },
    {
     "name": "stdout",
     "output_type": "stream",
     "text": [
      "[  37.71951734 -122.29301827]\n"
     ]
    },
    {
     "name": "stderr",
     "output_type": "stream",
     "text": [
      "/var/folders/tm/g65yh1_d5f3gkpxmzywryqwc0000gn/T/ipykernel_66414/1125395041.py:39: FutureWarning: The frame.append method is deprecated and will be removed from pandas in a future version. Use pandas.concat instead.\n",
      "  df = df.append({'lng':loc[1],'lat':loc[0],'number of cities':int(city_count),'total population':int(population),'min distance':min_distance,'max distance':max_distance,\n"
     ]
    },
    {
     "name": "stdout",
     "output_type": "stream",
     "text": [
      "[  35.86187647 -121.43011599]\n"
     ]
    },
    {
     "name": "stderr",
     "output_type": "stream",
     "text": [
      "/var/folders/tm/g65yh1_d5f3gkpxmzywryqwc0000gn/T/ipykernel_66414/1125395041.py:39: FutureWarning: The frame.append method is deprecated and will be removed from pandas in a future version. Use pandas.concat instead.\n",
      "  df = df.append({'lng':loc[1],'lat':loc[0],'number of cities':int(city_count),'total population':int(population),'min distance':min_distance,'max distance':max_distance,\n"
     ]
    },
    {
     "name": "stdout",
     "output_type": "stream",
     "text": [
      "[  39.47938764 -123.82466982]\n"
     ]
    },
    {
     "name": "stderr",
     "output_type": "stream",
     "text": [
      "/var/folders/tm/g65yh1_d5f3gkpxmzywryqwc0000gn/T/ipykernel_66414/1125395041.py:39: FutureWarning: The frame.append method is deprecated and will be removed from pandas in a future version. Use pandas.concat instead.\n",
      "  df = df.append({'lng':loc[1],'lat':loc[0],'number of cities':int(city_count),'total population':int(population),'min distance':min_distance,'max distance':max_distance,\n"
     ]
    },
    {
     "name": "stdout",
     "output_type": "stream",
     "text": [
      "[  39.30340061 -123.84624238]\n"
     ]
    },
    {
     "name": "stderr",
     "output_type": "stream",
     "text": [
      "/var/folders/tm/g65yh1_d5f3gkpxmzywryqwc0000gn/T/ipykernel_66414/1125395041.py:39: FutureWarning: The frame.append method is deprecated and will be removed from pandas in a future version. Use pandas.concat instead.\n",
      "  df = df.append({'lng':loc[1],'lat':loc[0],'number of cities':int(city_count),'total population':int(population),'min distance':min_distance,'max distance':max_distance,\n"
     ]
    },
    {
     "name": "stdout",
     "output_type": "stream",
     "text": [
      "[  38.05193729 -122.48717128]\n"
     ]
    },
    {
     "name": "stderr",
     "output_type": "stream",
     "text": [
      "/var/folders/tm/g65yh1_d5f3gkpxmzywryqwc0000gn/T/ipykernel_66414/1125395041.py:39: FutureWarning: The frame.append method is deprecated and will be removed from pandas in a future version. Use pandas.concat instead.\n",
      "  df = df.append({'lng':loc[1],'lat':loc[0],'number of cities':int(city_count),'total population':int(population),'min distance':min_distance,'max distance':max_distance,\n"
     ]
    },
    {
     "name": "stdout",
     "output_type": "stream",
     "text": [
      "[  39.65537467 -123.80309726]\n"
     ]
    },
    {
     "name": "stderr",
     "output_type": "stream",
     "text": [
      "/var/folders/tm/g65yh1_d5f3gkpxmzywryqwc0000gn/T/ipykernel_66414/1125395041.py:39: FutureWarning: The frame.append method is deprecated and will be removed from pandas in a future version. Use pandas.concat instead.\n",
      "  df = df.append({'lng':loc[1],'lat':loc[0],'number of cities':int(city_count),'total population':int(population),'min distance':min_distance,'max distance':max_distance,\n"
     ]
    },
    {
     "name": "stdout",
     "output_type": "stream",
     "text": [
      "[  35.66633533 -118.409958  ]\n"
     ]
    },
    {
     "name": "stderr",
     "output_type": "stream",
     "text": [
      "/var/folders/tm/g65yh1_d5f3gkpxmzywryqwc0000gn/T/ipykernel_66414/1125395041.py:39: FutureWarning: The frame.append method is deprecated and will be removed from pandas in a future version. Use pandas.concat instead.\n",
      "  df = df.append({'lng':loc[1],'lat':loc[0],'number of cities':int(city_count),'total population':int(population),'min distance':min_distance,'max distance':max_distance,\n"
     ]
    },
    {
     "name": "stdout",
     "output_type": "stream",
     "text": [
      "[  40.78951331 -124.27769352]\n"
     ]
    },
    {
     "name": "stderr",
     "output_type": "stream",
     "text": [
      "/var/folders/tm/g65yh1_d5f3gkpxmzywryqwc0000gn/T/ipykernel_66414/1125395041.py:39: FutureWarning: The frame.append method is deprecated and will be removed from pandas in a future version. Use pandas.concat instead.\n",
      "  df = df.append({'lng':loc[1],'lat':loc[0],'number of cities':int(city_count),'total population':int(population),'min distance':min_distance,'max distance':max_distance,\n"
     ]
    },
    {
     "name": "stdout",
     "output_type": "stream",
     "text": [
      "[  33.35894983 -115.9506865 ]\n"
     ]
    },
    {
     "name": "stderr",
     "output_type": "stream",
     "text": [
      "/var/folders/tm/g65yh1_d5f3gkpxmzywryqwc0000gn/T/ipykernel_66414/1125395041.py:39: FutureWarning: The frame.append method is deprecated and will be removed from pandas in a future version. Use pandas.concat instead.\n",
      "  df = df.append({'lng':loc[1],'lat':loc[0],'number of cities':int(city_count),'total population':int(population),'min distance':min_distance,'max distance':max_distance,\n"
     ]
    },
    {
     "name": "stdout",
     "output_type": "stream",
     "text": [
      "[  36.85913631 -121.94785736]\n"
     ]
    },
    {
     "name": "stderr",
     "output_type": "stream",
     "text": [
      "/var/folders/tm/g65yh1_d5f3gkpxmzywryqwc0000gn/T/ipykernel_66414/1125395041.py:39: FutureWarning: The frame.append method is deprecated and will be removed from pandas in a future version. Use pandas.concat instead.\n",
      "  df = df.append({'lng':loc[1],'lat':loc[0],'number of cities':int(city_count),'total population':int(population),'min distance':min_distance,'max distance':max_distance,\n"
     ]
    },
    {
     "name": "stdout",
     "output_type": "stream",
     "text": [
      "[  35.6272271  -121.21439042]\n"
     ]
    },
    {
     "name": "stderr",
     "output_type": "stream",
     "text": [
      "/var/folders/tm/g65yh1_d5f3gkpxmzywryqwc0000gn/T/ipykernel_66414/1125395041.py:39: FutureWarning: The frame.append method is deprecated and will be removed from pandas in a future version. Use pandas.concat instead.\n",
      "  df = df.append({'lng':loc[1],'lat':loc[0],'number of cities':int(city_count),'total population':int(population),'min distance':min_distance,'max distance':max_distance,\n"
     ]
    },
    {
     "name": "stdout",
     "output_type": "stream",
     "text": [
      "[  36.11607996 -116.83516134]\n"
     ]
    },
    {
     "name": "stderr",
     "output_type": "stream",
     "text": [
      "/var/folders/tm/g65yh1_d5f3gkpxmzywryqwc0000gn/T/ipykernel_66414/1125395041.py:39: FutureWarning: The frame.append method is deprecated and will be removed from pandas in a future version. Use pandas.concat instead.\n",
      "  df = df.append({'lng':loc[1],'lat':loc[0],'number of cities':int(city_count),'total population':int(population),'min distance':min_distance,'max distance':max_distance,\n"
     ]
    },
    {
     "name": "stdout",
     "output_type": "stream",
     "text": [
      "[  33.35894983 -115.90754139]\n"
     ]
    },
    {
     "name": "stderr",
     "output_type": "stream",
     "text": [
      "/var/folders/tm/g65yh1_d5f3gkpxmzywryqwc0000gn/T/ipykernel_66414/1125395041.py:39: FutureWarning: The frame.append method is deprecated and will be removed from pandas in a future version. Use pandas.concat instead.\n",
      "  df = df.append({'lng':loc[1],'lat':loc[0],'number of cities':int(city_count),'total population':int(population),'min distance':min_distance,'max distance':max_distance,\n"
     ]
    },
    {
     "name": "stdout",
     "output_type": "stream",
     "text": [
      "[  41.66944845 -124.19140329]\n"
     ]
    },
    {
     "name": "stderr",
     "output_type": "stream",
     "text": [
      "/var/folders/tm/g65yh1_d5f3gkpxmzywryqwc0000gn/T/ipykernel_66414/1125395041.py:39: FutureWarning: The frame.append method is deprecated and will be removed from pandas in a future version. Use pandas.concat instead.\n",
      "  df = df.append({'lng':loc[1],'lat':loc[0],'number of cities':int(city_count),'total population':int(population),'min distance':min_distance,'max distance':max_distance,\n"
     ]
    },
    {
     "name": "stdout",
     "output_type": "stream",
     "text": [
      "[  40.2419981  -124.34241119]\n"
     ]
    },
    {
     "name": "stderr",
     "output_type": "stream",
     "text": [
      "/var/folders/tm/g65yh1_d5f3gkpxmzywryqwc0000gn/T/ipykernel_66414/1125395041.py:39: FutureWarning: The frame.append method is deprecated and will be removed from pandas in a future version. Use pandas.concat instead.\n",
      "  df = df.append({'lng':loc[1],'lat':loc[0],'number of cities':int(city_count),'total population':int(population),'min distance':min_distance,'max distance':max_distance,\n"
     ]
    },
    {
     "name": "stdout",
     "output_type": "stream",
     "text": [
      "[  37.7977338  -122.50874384]\n"
     ]
    },
    {
     "name": "stderr",
     "output_type": "stream",
     "text": [
      "/var/folders/tm/g65yh1_d5f3gkpxmzywryqwc0000gn/T/ipykernel_66414/1125395041.py:39: FutureWarning: The frame.append method is deprecated and will be removed from pandas in a future version. Use pandas.concat instead.\n",
      "  df = df.append({'lng':loc[1],'lat':loc[0],'number of cities':int(city_count),'total population':int(population),'min distance':min_distance,'max distance':max_distance,\n"
     ]
    },
    {
     "name": "stdout",
     "output_type": "stream",
     "text": [
      "[  41.06327091 -124.21297584]\n"
     ]
    },
    {
     "name": "stderr",
     "output_type": "stream",
     "text": [
      "/var/folders/tm/g65yh1_d5f3gkpxmzywryqwc0000gn/T/ipykernel_66414/1125395041.py:39: FutureWarning: The frame.append method is deprecated and will be removed from pandas in a future version. Use pandas.concat instead.\n",
      "  df = df.append({'lng':loc[1],'lat':loc[0],'number of cities':int(city_count),'total population':int(population),'min distance':min_distance,'max distance':max_distance,\n"
     ]
    },
    {
     "name": "stdout",
     "output_type": "stream",
     "text": [
      "[  36.95690688 -122.01257503]\n"
     ]
    },
    {
     "name": "stderr",
     "output_type": "stream",
     "text": [
      "/var/folders/tm/g65yh1_d5f3gkpxmzywryqwc0000gn/T/ipykernel_66414/1125395041.py:39: FutureWarning: The frame.append method is deprecated and will be removed from pandas in a future version. Use pandas.concat instead.\n",
      "  df = df.append({'lng':loc[1],'lat':loc[0],'number of cities':int(city_count),'total population':int(population),'min distance':min_distance,'max distance':max_distance,\n"
     ]
    },
    {
     "name": "stdout",
     "output_type": "stream",
     "text": [
      "[  37.09378568 -121.14967275]\n"
     ]
    },
    {
     "name": "stderr",
     "output_type": "stream",
     "text": [
      "/var/folders/tm/g65yh1_d5f3gkpxmzywryqwc0000gn/T/ipykernel_66414/1125395041.py:39: FutureWarning: The frame.append method is deprecated and will be removed from pandas in a future version. Use pandas.concat instead.\n",
      "  df = df.append({'lng':loc[1],'lat':loc[0],'number of cities':int(city_count),'total population':int(population),'min distance':min_distance,'max distance':max_distance,\n"
     ]
    },
    {
     "name": "stdout",
     "output_type": "stream",
     "text": [
      "[  34.12156029 -120.54564115]\n"
     ]
    },
    {
     "name": "stderr",
     "output_type": "stream",
     "text": [
      "/var/folders/tm/g65yh1_d5f3gkpxmzywryqwc0000gn/T/ipykernel_66414/1125395041.py:39: FutureWarning: The frame.append method is deprecated and will be removed from pandas in a future version. Use pandas.concat instead.\n",
      "  df = df.append({'lng':loc[1],'lat':loc[0],'number of cities':int(city_count),'total population':int(population),'min distance':min_distance,'max distance':max_distance,\n"
     ]
    },
    {
     "name": "stdout",
     "output_type": "stream",
     "text": [
      "[  35.68588944 -121.36539832]\n"
     ]
    },
    {
     "name": "stderr",
     "output_type": "stream",
     "text": [
      "/var/folders/tm/g65yh1_d5f3gkpxmzywryqwc0000gn/T/ipykernel_66414/1125395041.py:39: FutureWarning: The frame.append method is deprecated and will be removed from pandas in a future version. Use pandas.concat instead.\n",
      "  df = df.append({'lng':loc[1],'lat':loc[0],'number of cities':int(city_count),'total population':int(population),'min distance':min_distance,'max distance':max_distance,\n"
     ]
    },
    {
     "name": "stdout",
     "output_type": "stream",
     "text": [
      "[  38.54079015 -123.35007356]\n"
     ]
    },
    {
     "name": "stderr",
     "output_type": "stream",
     "text": [
      "/var/folders/tm/g65yh1_d5f3gkpxmzywryqwc0000gn/T/ipykernel_66414/1125395041.py:39: FutureWarning: The frame.append method is deprecated and will be removed from pandas in a future version. Use pandas.concat instead.\n",
      "  df = df.append({'lng':loc[1],'lat':loc[0],'number of cities':int(city_count),'total population':int(population),'min distance':min_distance,'max distance':max_distance,\n"
     ]
    },
    {
     "name": "stdout",
     "output_type": "stream",
     "text": [
      "[  39.02964301 -122.76761452]\n"
     ]
    },
    {
     "name": "stderr",
     "output_type": "stream",
     "text": [
      "/var/folders/tm/g65yh1_d5f3gkpxmzywryqwc0000gn/T/ipykernel_66414/1125395041.py:39: FutureWarning: The frame.append method is deprecated and will be removed from pandas in a future version. Use pandas.concat instead.\n",
      "  df = df.append({'lng':loc[1],'lat':loc[0],'number of cities':int(city_count),'total population':int(population),'min distance':min_distance,'max distance':max_distance,\n"
     ]
    },
    {
     "name": "stdout",
     "output_type": "stream",
     "text": [
      "[  36.76136574 -121.99100247]\n"
     ]
    },
    {
     "name": "stderr",
     "output_type": "stream",
     "text": [
      "/var/folders/tm/g65yh1_d5f3gkpxmzywryqwc0000gn/T/ipykernel_66414/1125395041.py:39: FutureWarning: The frame.append method is deprecated and will be removed from pandas in a future version. Use pandas.concat instead.\n",
      "  df = df.append({'lng':loc[1],'lat':loc[0],'number of cities':int(city_count),'total population':int(population),'min distance':min_distance,'max distance':max_distance,\n"
     ]
    },
    {
     "name": "stdout",
     "output_type": "stream",
     "text": [
      "[  38.13015374 -122.09886526]\n"
     ]
    },
    {
     "name": "stderr",
     "output_type": "stream",
     "text": [
      "/var/folders/tm/g65yh1_d5f3gkpxmzywryqwc0000gn/T/ipykernel_66414/1125395041.py:39: FutureWarning: The frame.append method is deprecated and will be removed from pandas in a future version. Use pandas.concat instead.\n",
      "  df = df.append({'lng':loc[1],'lat':loc[0],'number of cities':int(city_count),'total population':int(population),'min distance':min_distance,'max distance':max_distance,\n"
     ]
    },
    {
     "name": "stdout",
     "output_type": "stream",
     "text": [
      "[  36.76136574 -121.86156713]\n"
     ]
    },
    {
     "name": "stderr",
     "output_type": "stream",
     "text": [
      "/var/folders/tm/g65yh1_d5f3gkpxmzywryqwc0000gn/T/ipykernel_66414/1125395041.py:39: FutureWarning: The frame.append method is deprecated and will be removed from pandas in a future version. Use pandas.concat instead.\n",
      "  df = df.append({'lng':loc[1],'lat':loc[0],'number of cities':int(city_count),'total population':int(population),'min distance':min_distance,'max distance':max_distance,\n"
     ]
    },
    {
     "name": "stdout",
     "output_type": "stream",
     "text": [
      "[  38.2083702 -121.9262848]\n"
     ]
    },
    {
     "name": "stderr",
     "output_type": "stream",
     "text": [
      "/var/folders/tm/g65yh1_d5f3gkpxmzywryqwc0000gn/T/ipykernel_66414/1125395041.py:39: FutureWarning: The frame.append method is deprecated and will be removed from pandas in a future version. Use pandas.concat instead.\n",
      "  df = df.append({'lng':loc[1],'lat':loc[0],'number of cities':int(city_count),'total population':int(population),'min distance':min_distance,'max distance':max_distance,\n"
     ]
    },
    {
     "name": "stdout",
     "output_type": "stream",
     "text": [
      "[  41.74766491 -124.10511306]\n"
     ]
    },
    {
     "name": "stderr",
     "output_type": "stream",
     "text": [
      "/var/folders/tm/g65yh1_d5f3gkpxmzywryqwc0000gn/T/ipykernel_66414/1125395041.py:39: FutureWarning: The frame.append method is deprecated and will be removed from pandas in a future version. Use pandas.concat instead.\n",
      "  df = df.append({'lng':loc[1],'lat':loc[0],'number of cities':int(city_count),'total population':int(population),'min distance':min_distance,'max distance':max_distance,\n"
     ]
    },
    {
     "name": "stdout",
     "output_type": "stream",
     "text": [
      "[  33.43716628 -115.86439628]\n"
     ]
    },
    {
     "name": "stderr",
     "output_type": "stream",
     "text": [
      "/var/folders/tm/g65yh1_d5f3gkpxmzywryqwc0000gn/T/ipykernel_66414/1125395041.py:39: FutureWarning: The frame.append method is deprecated and will be removed from pandas in a future version. Use pandas.concat instead.\n",
      "  df = df.append({'lng':loc[1],'lat':loc[0],'number of cities':int(city_count),'total population':int(population),'min distance':min_distance,'max distance':max_distance,\n"
     ]
    },
    {
     "name": "stdout",
     "output_type": "stream",
     "text": [
      "[  41.591232   -122.96176754]\n"
     ]
    },
    {
     "name": "stderr",
     "output_type": "stream",
     "text": [
      "/var/folders/tm/g65yh1_d5f3gkpxmzywryqwc0000gn/T/ipykernel_66414/1125395041.py:39: FutureWarning: The frame.append method is deprecated and will be removed from pandas in a future version. Use pandas.concat instead.\n",
      "  df = df.append({'lng':loc[1],'lat':loc[0],'number of cities':int(city_count),'total population':int(population),'min distance':min_distance,'max distance':max_distance,\n"
     ]
    },
    {
     "name": "stdout",
     "output_type": "stream",
     "text": [
      "[  34.08245206 -120.02789978]\n"
     ]
    },
    {
     "name": "stderr",
     "output_type": "stream",
     "text": [
      "/var/folders/tm/g65yh1_d5f3gkpxmzywryqwc0000gn/T/ipykernel_66414/1125395041.py:39: FutureWarning: The frame.append method is deprecated and will be removed from pandas in a future version. Use pandas.concat instead.\n",
      "  df = df.append({'lng':loc[1],'lat':loc[0],'number of cities':int(city_count),'total population':int(population),'min distance':min_distance,'max distance':max_distance,\n"
     ]
    },
    {
     "name": "stdout",
     "output_type": "stream",
     "text": [
      "[  33.96512737 -120.26519791]\n"
     ]
    },
    {
     "name": "stderr",
     "output_type": "stream",
     "text": [
      "/var/folders/tm/g65yh1_d5f3gkpxmzywryqwc0000gn/T/ipykernel_66414/1125395041.py:39: FutureWarning: The frame.append method is deprecated and will be removed from pandas in a future version. Use pandas.concat instead.\n",
      "  df = df.append({'lng':loc[1],'lat':loc[0],'number of cities':int(city_count),'total population':int(population),'min distance':min_distance,'max distance':max_distance,\n"
     ]
    },
    {
     "name": "stdout",
     "output_type": "stream",
     "text": [
      "[  37.62174677 -122.5303164 ]\n"
     ]
    },
    {
     "name": "stderr",
     "output_type": "stream",
     "text": [
      "/var/folders/tm/g65yh1_d5f3gkpxmzywryqwc0000gn/T/ipykernel_66414/1125395041.py:39: FutureWarning: The frame.append method is deprecated and will be removed from pandas in a future version. Use pandas.concat instead.\n",
      "  df = df.append({'lng':loc[1],'lat':loc[0],'number of cities':int(city_count),'total population':int(population),'min distance':min_distance,'max distance':max_distance,\n"
     ]
    },
    {
     "name": "stdout",
     "output_type": "stream",
     "text": [
      "[  40.35932279 -124.40712886]\n"
     ]
    },
    {
     "name": "stderr",
     "output_type": "stream",
     "text": [
      "/var/folders/tm/g65yh1_d5f3gkpxmzywryqwc0000gn/T/ipykernel_66414/1125395041.py:39: FutureWarning: The frame.append method is deprecated and will be removed from pandas in a future version. Use pandas.concat instead.\n",
      "  df = df.append({'lng':loc[1],'lat':loc[0],'number of cities':int(city_count),'total population':int(population),'min distance':min_distance,'max distance':max_distance,\n"
     ]
    },
    {
     "name": "stdout",
     "output_type": "stream",
     "text": [
      "[  37.09378568 -121.12810019]\n"
     ]
    },
    {
     "name": "stderr",
     "output_type": "stream",
     "text": [
      "/var/folders/tm/g65yh1_d5f3gkpxmzywryqwc0000gn/T/ipykernel_66414/1125395041.py:39: FutureWarning: The frame.append method is deprecated and will be removed from pandas in a future version. Use pandas.concat instead.\n",
      "  df = df.append({'lng':loc[1],'lat':loc[0],'number of cities':int(city_count),'total population':int(population),'min distance':min_distance,'max distance':max_distance,\n"
     ]
    },
    {
     "name": "stdout",
     "output_type": "stream",
     "text": [
      "[  37.44575974 -122.03414759]\n"
     ]
    },
    {
     "name": "stderr",
     "output_type": "stream",
     "text": [
      "/var/folders/tm/g65yh1_d5f3gkpxmzywryqwc0000gn/T/ipykernel_66414/1125395041.py:39: FutureWarning: The frame.append method is deprecated and will be removed from pandas in a future version. Use pandas.concat instead.\n",
      "  df = df.append({'lng':loc[1],'lat':loc[0],'number of cities':int(city_count),'total population':int(population),'min distance':min_distance,'max distance':max_distance,\n"
     ]
    },
    {
     "name": "stdout",
     "output_type": "stream",
     "text": [
      "[  37.58263854 -122.24987316]\n"
     ]
    },
    {
     "name": "stderr",
     "output_type": "stream",
     "text": [
      "/var/folders/tm/g65yh1_d5f3gkpxmzywryqwc0000gn/T/ipykernel_66414/1125395041.py:39: FutureWarning: The frame.append method is deprecated and will be removed from pandas in a future version. Use pandas.concat instead.\n",
      "  df = df.append({'lng':loc[1],'lat':loc[0],'number of cities':int(city_count),'total population':int(population),'min distance':min_distance,'max distance':max_distance,\n"
     ]
    },
    {
     "name": "stdout",
     "output_type": "stream",
     "text": [
      "[  33.8673568  -120.13576257]\n"
     ]
    },
    {
     "name": "stderr",
     "output_type": "stream",
     "text": [
      "/var/folders/tm/g65yh1_d5f3gkpxmzywryqwc0000gn/T/ipykernel_66414/1125395041.py:39: FutureWarning: The frame.append method is deprecated and will be removed from pandas in a future version. Use pandas.concat instead.\n",
      "  df = df.append({'lng':loc[1],'lat':loc[0],'number of cities':int(city_count),'total population':int(population),'min distance':min_distance,'max distance':max_distance,\n"
     ]
    },
    {
     "name": "stdout",
     "output_type": "stream",
     "text": [
      "[  40.78951331 -124.25612096]\n"
     ]
    },
    {
     "name": "stderr",
     "output_type": "stream",
     "text": [
      "/var/folders/tm/g65yh1_d5f3gkpxmzywryqwc0000gn/T/ipykernel_66414/1125395041.py:39: FutureWarning: The frame.append method is deprecated and will be removed from pandas in a future version. Use pandas.concat instead.\n",
      "  df = df.append({'lng':loc[1],'lat':loc[0],'number of cities':int(city_count),'total population':int(population),'min distance':min_distance,'max distance':max_distance,\n"
     ]
    },
    {
     "name": "stdout",
     "output_type": "stream",
     "text": [
      "[  38.56034426 -121.55955133]\n"
     ]
    },
    {
     "name": "stderr",
     "output_type": "stream",
     "text": [
      "/var/folders/tm/g65yh1_d5f3gkpxmzywryqwc0000gn/T/ipykernel_66414/1125395041.py:39: FutureWarning: The frame.append method is deprecated and will be removed from pandas in a future version. Use pandas.concat instead.\n",
      "  df = df.append({'lng':loc[1],'lat':loc[0],'number of cities':int(city_count),'total population':int(population),'min distance':min_distance,'max distance':max_distance,\n"
     ]
    },
    {
     "name": "stdout",
     "output_type": "stream",
     "text": [
      "[  39.38161707 -122.01257503]\n"
     ]
    },
    {
     "name": "stderr",
     "output_type": "stream",
     "text": [
      "/var/folders/tm/g65yh1_d5f3gkpxmzywryqwc0000gn/T/ipykernel_66414/1125395041.py:39: FutureWarning: The frame.append method is deprecated and will be removed from pandas in a future version. Use pandas.concat instead.\n",
      "  df = df.append({'lng':loc[1],'lat':loc[0],'number of cities':int(city_count),'total population':int(population),'min distance':min_distance,'max distance':max_distance,\n"
     ]
    },
    {
     "name": "stdout",
     "output_type": "stream",
     "text": [
      "[  38.09104552 -122.29301827]\n"
     ]
    },
    {
     "name": "stderr",
     "output_type": "stream",
     "text": [
      "/var/folders/tm/g65yh1_d5f3gkpxmzywryqwc0000gn/T/ipykernel_66414/1125395041.py:39: FutureWarning: The frame.append method is deprecated and will be removed from pandas in a future version. Use pandas.concat instead.\n",
      "  df = df.append({'lng':loc[1],'lat':loc[0],'number of cities':int(city_count),'total population':int(population),'min distance':min_distance,'max distance':max_distance,\n"
     ]
    },
    {
     "name": "stdout",
     "output_type": "stream",
     "text": [
      "[  33.10474634 -115.71338838]\n"
     ]
    },
    {
     "name": "stderr",
     "output_type": "stream",
     "text": [
      "/var/folders/tm/g65yh1_d5f3gkpxmzywryqwc0000gn/T/ipykernel_66414/1125395041.py:39: FutureWarning: The frame.append method is deprecated and will be removed from pandas in a future version. Use pandas.concat instead.\n",
      "  df = df.append({'lng':loc[1],'lat':loc[0],'number of cities':int(city_count),'total population':int(population),'min distance':min_distance,'max distance':max_distance,\n"
     ]
    },
    {
     "name": "stdout",
     "output_type": "stream",
     "text": [
      "[  34.43442612 -120.2220528 ]\n"
     ]
    },
    {
     "name": "stderr",
     "output_type": "stream",
     "text": [
      "/var/folders/tm/g65yh1_d5f3gkpxmzywryqwc0000gn/T/ipykernel_66414/1125395041.py:39: FutureWarning: The frame.append method is deprecated and will be removed from pandas in a future version. Use pandas.concat instead.\n",
      "  df = df.append({'lng':loc[1],'lat':loc[0],'number of cities':int(city_count),'total population':int(population),'min distance':min_distance,'max distance':max_distance,\n"
     ]
    },
    {
     "name": "stdout",
     "output_type": "stream",
     "text": [
      "[  33.92601915 -120.02789978]\n"
     ]
    },
    {
     "name": "stderr",
     "output_type": "stream",
     "text": [
      "/var/folders/tm/g65yh1_d5f3gkpxmzywryqwc0000gn/T/ipykernel_66414/1125395041.py:39: FutureWarning: The frame.append method is deprecated and will be removed from pandas in a future version. Use pandas.concat instead.\n",
      "  df = df.append({'lng':loc[1],'lat':loc[0],'number of cities':int(city_count),'total population':int(population),'min distance':min_distance,'max distance':max_distance,\n"
     ]
    },
    {
     "name": "stdout",
     "output_type": "stream",
     "text": [
      "[  37.07423157 -121.02023741]\n"
     ]
    },
    {
     "name": "stderr",
     "output_type": "stream",
     "text": [
      "/var/folders/tm/g65yh1_d5f3gkpxmzywryqwc0000gn/T/ipykernel_66414/1125395041.py:39: FutureWarning: The frame.append method is deprecated and will be removed from pandas in a future version. Use pandas.concat instead.\n",
      "  df = df.append({'lng':loc[1],'lat':loc[0],'number of cities':int(city_count),'total population':int(population),'min distance':min_distance,'max distance':max_distance,\n"
     ]
    },
    {
     "name": "stdout",
     "output_type": "stream",
     "text": [
      "[  34.10200618 -118.00007942]\n"
     ]
    },
    {
     "name": "stderr",
     "output_type": "stream",
     "text": [
      "/var/folders/tm/g65yh1_d5f3gkpxmzywryqwc0000gn/T/ipykernel_66414/1125395041.py:39: FutureWarning: The frame.append method is deprecated and will be removed from pandas in a future version. Use pandas.concat instead.\n",
      "  df = df.append({'lng':loc[1],'lat':loc[0],'number of cities':int(city_count),'total population':int(population),'min distance':min_distance,'max distance':max_distance,\n"
     ]
    },
    {
     "name": "stdout",
     "output_type": "stream",
     "text": [
      "[  40.26155222 -124.36398374]\n"
     ]
    },
    {
     "name": "stderr",
     "output_type": "stream",
     "text": [
      "/var/folders/tm/g65yh1_d5f3gkpxmzywryqwc0000gn/T/ipykernel_66414/1125395041.py:39: FutureWarning: The frame.append method is deprecated and will be removed from pandas in a future version. Use pandas.concat instead.\n",
      "  df = df.append({'lng':loc[1],'lat':loc[0],'number of cities':int(city_count),'total population':int(population),'min distance':min_distance,'max distance':max_distance,\n"
     ]
    },
    {
     "name": "stdout",
     "output_type": "stream",
     "text": [
      "[  40.92639211 -124.10511306]\n"
     ]
    },
    {
     "name": "stderr",
     "output_type": "stream",
     "text": [
      "/var/folders/tm/g65yh1_d5f3gkpxmzywryqwc0000gn/T/ipykernel_66414/1125395041.py:39: FutureWarning: The frame.append method is deprecated and will be removed from pandas in a future version. Use pandas.concat instead.\n",
      "  df = df.append({'lng':loc[1],'lat':loc[0],'number of cities':int(city_count),'total population':int(population),'min distance':min_distance,'max distance':max_distance,\n"
     ]
    },
    {
     "name": "stdout",
     "output_type": "stream",
     "text": [
      "[  37.23066448 -122.42245361]\n"
     ]
    },
    {
     "name": "stderr",
     "output_type": "stream",
     "text": [
      "/var/folders/tm/g65yh1_d5f3gkpxmzywryqwc0000gn/T/ipykernel_66414/1125395041.py:39: FutureWarning: The frame.append method is deprecated and will be removed from pandas in a future version. Use pandas.concat instead.\n",
      "  df = df.append({'lng':loc[1],'lat':loc[0],'number of cities':int(city_count),'total population':int(population),'min distance':min_distance,'max distance':max_distance,\n"
     ]
    },
    {
     "name": "stdout",
     "output_type": "stream",
     "text": [
      "[  34.08245206 -119.920037  ]\n"
     ]
    },
    {
     "name": "stderr",
     "output_type": "stream",
     "text": [
      "/var/folders/tm/g65yh1_d5f3gkpxmzywryqwc0000gn/T/ipykernel_66414/1125395041.py:39: FutureWarning: The frame.append method is deprecated and will be removed from pandas in a future version. Use pandas.concat instead.\n",
      "  df = df.append({'lng':loc[1],'lat':loc[0],'number of cities':int(city_count),'total population':int(population),'min distance':min_distance,'max distance':max_distance,\n"
     ]
    },
    {
     "name": "stdout",
     "output_type": "stream",
     "text": [
      "[  36.91779865 -122.01257503]\n"
     ]
    },
    {
     "name": "stderr",
     "output_type": "stream",
     "text": [
      "/var/folders/tm/g65yh1_d5f3gkpxmzywryqwc0000gn/T/ipykernel_66414/1125395041.py:39: FutureWarning: The frame.append method is deprecated and will be removed from pandas in a future version. Use pandas.concat instead.\n",
      "  df = df.append({'lng':loc[1],'lat':loc[0],'number of cities':int(city_count),'total population':int(population),'min distance':min_distance,'max distance':max_distance,\n"
     ]
    },
    {
     "name": "stdout",
     "output_type": "stream",
     "text": [
      "[  33.33939571 -117.59020084]\n"
     ]
    },
    {
     "name": "stderr",
     "output_type": "stream",
     "text": [
      "/var/folders/tm/g65yh1_d5f3gkpxmzywryqwc0000gn/T/ipykernel_66414/1125395041.py:39: FutureWarning: The frame.append method is deprecated and will be removed from pandas in a future version. Use pandas.concat instead.\n",
      "  df = df.append({'lng':loc[1],'lat':loc[0],'number of cities':int(city_count),'total population':int(population),'min distance':min_distance,'max distance':max_distance,\n"
     ]
    },
    {
     "name": "stdout",
     "output_type": "stream",
     "text": [
      "[  40.3788769  -124.40712886]\n"
     ]
    },
    {
     "name": "stderr",
     "output_type": "stream",
     "text": [
      "/var/folders/tm/g65yh1_d5f3gkpxmzywryqwc0000gn/T/ipykernel_66414/1125395041.py:39: FutureWarning: The frame.append method is deprecated and will be removed from pandas in a future version. Use pandas.concat instead.\n",
      "  df = df.append({'lng':loc[1],'lat':loc[0],'number of cities':int(city_count),'total population':int(population),'min distance':min_distance,'max distance':max_distance,\n"
     ]
    },
    {
     "name": "stdout",
     "output_type": "stream",
     "text": [
      "[  37.07423157 -122.27144571]\n"
     ]
    },
    {
     "name": "stderr",
     "output_type": "stream",
     "text": [
      "/var/folders/tm/g65yh1_d5f3gkpxmzywryqwc0000gn/T/ipykernel_66414/1125395041.py:39: FutureWarning: The frame.append method is deprecated and will be removed from pandas in a future version. Use pandas.concat instead.\n",
      "  df = df.append({'lng':loc[1],'lat':loc[0],'number of cities':int(city_count),'total population':int(population),'min distance':min_distance,'max distance':max_distance,\n"
     ]
    },
    {
     "name": "stdout",
     "output_type": "stream",
     "text": [
      "[  36.83958219 -121.83999457]\n"
     ]
    },
    {
     "name": "stderr",
     "output_type": "stream",
     "text": [
      "/var/folders/tm/g65yh1_d5f3gkpxmzywryqwc0000gn/T/ipykernel_66414/1125395041.py:39: FutureWarning: The frame.append method is deprecated and will be removed from pandas in a future version. Use pandas.concat instead.\n",
      "  df = df.append({'lng':loc[1],'lat':loc[0],'number of cities':int(city_count),'total population':int(population),'min distance':min_distance,'max distance':max_distance,\n"
     ]
    },
    {
     "name": "stdout",
     "output_type": "stream",
     "text": [
      "[  34.10200618 -120.48092348]\n"
     ]
    },
    {
     "name": "stderr",
     "output_type": "stream",
     "text": [
      "/var/folders/tm/g65yh1_d5f3gkpxmzywryqwc0000gn/T/ipykernel_66414/1125395041.py:39: FutureWarning: The frame.append method is deprecated and will be removed from pandas in a future version. Use pandas.concat instead.\n",
      "  df = df.append({'lng':loc[1],'lat':loc[0],'number of cities':int(city_count),'total population':int(population),'min distance':min_distance,'max distance':max_distance,\n"
     ]
    },
    {
     "name": "stdout",
     "output_type": "stream",
     "text": [
      "[  40.33976867 -124.3855563 ]\n"
     ]
    },
    {
     "name": "stderr",
     "output_type": "stream",
     "text": [
      "/var/folders/tm/g65yh1_d5f3gkpxmzywryqwc0000gn/T/ipykernel_66414/1125395041.py:39: FutureWarning: The frame.append method is deprecated and will be removed from pandas in a future version. Use pandas.concat instead.\n",
      "  df = df.append({'lng':loc[1],'lat':loc[0],'number of cities':int(city_count),'total population':int(population),'min distance':min_distance,'max distance':max_distance,\n"
     ]
    },
    {
     "name": "stdout",
     "output_type": "stream",
     "text": [
      "[  40.84817565 -124.12668562]\n"
     ]
    },
    {
     "name": "stderr",
     "output_type": "stream",
     "text": [
      "/var/folders/tm/g65yh1_d5f3gkpxmzywryqwc0000gn/T/ipykernel_66414/1125395041.py:39: FutureWarning: The frame.append method is deprecated and will be removed from pandas in a future version. Use pandas.concat instead.\n",
      "  df = df.append({'lng':loc[1],'lat':loc[0],'number of cities':int(city_count),'total population':int(population),'min distance':min_distance,'max distance':max_distance,\n"
     ]
    },
    {
     "name": "stdout",
     "output_type": "stream",
     "text": [
      "[  32.96786754 -118.49624823]\n",
      "b'{\"message\":\"Impossible route between points\",\"code\":\"NoRoute\"}'\n",
      "[  39.98779461 -124.10511306]\n"
     ]
    },
    {
     "name": "stderr",
     "output_type": "stream",
     "text": [
      "/var/folders/tm/g65yh1_d5f3gkpxmzywryqwc0000gn/T/ipykernel_66414/1125395041.py:17: FutureWarning: The frame.append method is deprecated and will be removed from pandas in a future version. Use pandas.concat instead.\n",
      "  df = df.append({'lng':loc[1],'lat':loc[0],'number of cities':0,'total   population':0,'min distance':None,'max distance':None,\n",
      "/var/folders/tm/g65yh1_d5f3gkpxmzywryqwc0000gn/T/ipykernel_66414/1125395041.py:39: FutureWarning: The frame.append method is deprecated and will be removed from pandas in a future version. Use pandas.concat instead.\n",
      "  df = df.append({'lng':loc[1],'lat':loc[0],'number of cities':int(city_count),'total population':int(population),'min distance':min_distance,'max distance':max_distance,\n"
     ]
    },
    {
     "name": "stdout",
     "output_type": "stream",
     "text": [
      "[  34.04334383 -119.89846444]\n"
     ]
    },
    {
     "name": "stderr",
     "output_type": "stream",
     "text": [
      "/var/folders/tm/g65yh1_d5f3gkpxmzywryqwc0000gn/T/ipykernel_66414/1125395041.py:39: FutureWarning: The frame.append method is deprecated and will be removed from pandas in a future version. Use pandas.concat instead.\n",
      "  df = df.append({'lng':loc[1],'lat':loc[0],'number of cities':int(city_count),'total population':int(population),'min distance':min_distance,'max distance':max_distance,\n"
     ]
    },
    {
     "name": "stdout",
     "output_type": "stream",
     "text": [
      "[  39.22518415 -121.9262848 ]\n"
     ]
    },
    {
     "name": "stderr",
     "output_type": "stream",
     "text": [
      "/var/folders/tm/g65yh1_d5f3gkpxmzywryqwc0000gn/T/ipykernel_66414/1125395041.py:39: FutureWarning: The frame.append method is deprecated and will be removed from pandas in a future version. Use pandas.concat instead.\n",
      "  df = df.append({'lng':loc[1],'lat':loc[0],'number of cities':int(city_count),'total population':int(population),'min distance':min_distance,'max distance':max_distance,\n"
     ]
    },
    {
     "name": "stdout",
     "output_type": "stream",
     "text": [
      "[  33.88691092 -120.00632722]\n"
     ]
    },
    {
     "name": "stderr",
     "output_type": "stream",
     "text": [
      "/var/folders/tm/g65yh1_d5f3gkpxmzywryqwc0000gn/T/ipykernel_66414/1125395041.py:39: FutureWarning: The frame.append method is deprecated and will be removed from pandas in a future version. Use pandas.concat instead.\n",
      "  df = df.append({'lng':loc[1],'lat':loc[0],'number of cities':int(city_count),'total population':int(population),'min distance':min_distance,'max distance':max_distance,\n"
     ]
    },
    {
     "name": "stdout",
     "output_type": "stream",
     "text": [
      "[  39.6944829  -123.86781493]\n"
     ]
    },
    {
     "name": "stderr",
     "output_type": "stream",
     "text": [
      "/var/folders/tm/g65yh1_d5f3gkpxmzywryqwc0000gn/T/ipykernel_66414/1125395041.py:39: FutureWarning: The frame.append method is deprecated and will be removed from pandas in a future version. Use pandas.concat instead.\n",
      "  df = df.append({'lng':loc[1],'lat':loc[0],'number of cities':int(city_count),'total population':int(population),'min distance':min_distance,'max distance':max_distance,\n"
     ]
    },
    {
     "name": "stdout",
     "output_type": "stream",
     "text": [
      "[  32.59633936 -117.09403203]\n"
     ]
    },
    {
     "name": "stderr",
     "output_type": "stream",
     "text": [
      "/var/folders/tm/g65yh1_d5f3gkpxmzywryqwc0000gn/T/ipykernel_66414/1125395041.py:39: FutureWarning: The frame.append method is deprecated and will be removed from pandas in a future version. Use pandas.concat instead.\n",
      "  df = df.append({'lng':loc[1],'lat':loc[0],'number of cities':int(city_count),'total population':int(population),'min distance':min_distance,'max distance':max_distance,\n"
     ]
    },
    {
     "name": "stdout",
     "output_type": "stream",
     "text": [
      "[  33.67181566 -118.08636965]\n"
     ]
    },
    {
     "name": "stderr",
     "output_type": "stream",
     "text": [
      "/var/folders/tm/g65yh1_d5f3gkpxmzywryqwc0000gn/T/ipykernel_66414/1125395041.py:39: FutureWarning: The frame.append method is deprecated and will be removed from pandas in a future version. Use pandas.concat instead.\n",
      "  df = df.append({'lng':loc[1],'lat':loc[0],'number of cities':int(city_count),'total population':int(population),'min distance':min_distance,'max distance':max_distance,\n"
     ]
    },
    {
     "name": "stdout",
     "output_type": "stream",
     "text": [
      "[  38.03238317 -121.90471224]\n"
     ]
    },
    {
     "name": "stderr",
     "output_type": "stream",
     "text": [
      "/var/folders/tm/g65yh1_d5f3gkpxmzywryqwc0000gn/T/ipykernel_66414/1125395041.py:39: FutureWarning: The frame.append method is deprecated and will be removed from pandas in a future version. Use pandas.concat instead.\n",
      "  df = df.append({'lng':loc[1],'lat':loc[0],'number of cities':int(city_count),'total population':int(population),'min distance':min_distance,'max distance':max_distance,\n"
     ]
    },
    {
     "name": "stdout",
     "output_type": "stream",
     "text": [
      "[  40.30066045 -124.40712886]\n"
     ]
    },
    {
     "name": "stderr",
     "output_type": "stream",
     "text": [
      "/var/folders/tm/g65yh1_d5f3gkpxmzywryqwc0000gn/T/ipykernel_66414/1125395041.py:39: FutureWarning: The frame.append method is deprecated and will be removed from pandas in a future version. Use pandas.concat instead.\n",
      "  df = df.append({'lng':loc[1],'lat':loc[0],'number of cities':int(city_count),'total population':int(population),'min distance':min_distance,'max distance':max_distance,\n"
     ]
    },
    {
     "name": "stdout",
     "output_type": "stream",
     "text": [
      "[  38.81454775 -121.10652763]\n"
     ]
    },
    {
     "name": "stderr",
     "output_type": "stream",
     "text": [
      "/var/folders/tm/g65yh1_d5f3gkpxmzywryqwc0000gn/T/ipykernel_66414/1125395041.py:39: FutureWarning: The frame.append method is deprecated and will be removed from pandas in a future version. Use pandas.concat instead.\n",
      "  df = df.append({'lng':loc[1],'lat':loc[0],'number of cities':int(city_count),'total population':int(population),'min distance':min_distance,'max distance':max_distance,\n"
     ]
    },
    {
     "name": "stdout",
     "output_type": "stream",
     "text": [
      "[  38.01282906 -122.33616338]\n"
     ]
    },
    {
     "name": "stderr",
     "output_type": "stream",
     "text": [
      "/var/folders/tm/g65yh1_d5f3gkpxmzywryqwc0000gn/T/ipykernel_66414/1125395041.py:39: FutureWarning: The frame.append method is deprecated and will be removed from pandas in a future version. Use pandas.concat instead.\n",
      "  df = df.append({'lng':loc[1],'lat':loc[0],'number of cities':int(city_count),'total population':int(population),'min distance':min_distance,'max distance':max_distance,\n"
     ]
    },
    {
     "name": "stdout",
     "output_type": "stream",
     "text": [
      "[  41.70855668 -124.2345484 ]\n"
     ]
    },
    {
     "name": "stderr",
     "output_type": "stream",
     "text": [
      "/var/folders/tm/g65yh1_d5f3gkpxmzywryqwc0000gn/T/ipykernel_66414/1125395041.py:39: FutureWarning: The frame.append method is deprecated and will be removed from pandas in a future version. Use pandas.concat instead.\n",
      "  df = df.append({'lng':loc[1],'lat':loc[0],'number of cities':int(city_count),'total population':int(population),'min distance':min_distance,'max distance':max_distance,\n"
     ]
    },
    {
     "name": "stdout",
     "output_type": "stream",
     "text": [
      "[  41.31747439 -124.10511306]\n"
     ]
    },
    {
     "name": "stderr",
     "output_type": "stream",
     "text": [
      "/var/folders/tm/g65yh1_d5f3gkpxmzywryqwc0000gn/T/ipykernel_66414/1125395041.py:39: FutureWarning: The frame.append method is deprecated and will be removed from pandas in a future version. Use pandas.concat instead.\n",
      "  df = df.append({'lng':loc[1],'lat':loc[0],'number of cities':int(city_count),'total population':int(population),'min distance':min_distance,'max distance':max_distance,\n"
     ]
    },
    {
     "name": "stdout",
     "output_type": "stream",
     "text": [
      "[  37.99327494 -121.51640622]\n"
     ]
    },
    {
     "name": "stderr",
     "output_type": "stream",
     "text": [
      "/var/folders/tm/g65yh1_d5f3gkpxmzywryqwc0000gn/T/ipykernel_66414/1125395041.py:39: FutureWarning: The frame.append method is deprecated and will be removed from pandas in a future version. Use pandas.concat instead.\n",
      "  df = df.append({'lng':loc[1],'lat':loc[0],'number of cities':int(city_count),'total population':int(population),'min distance':min_distance,'max distance':max_distance,\n"
     ]
    },
    {
     "name": "stdout",
     "output_type": "stream",
     "text": [
      "[  37.81728791 -123.11277544]\n"
     ]
    },
    {
     "name": "stderr",
     "output_type": "stream",
     "text": [
      "/var/folders/tm/g65yh1_d5f3gkpxmzywryqwc0000gn/T/ipykernel_66414/1125395041.py:39: FutureWarning: The frame.append method is deprecated and will be removed from pandas in a future version. Use pandas.concat instead.\n",
      "  df = df.append({'lng':loc[1],'lat':loc[0],'number of cities':int(city_count),'total population':int(population),'min distance':min_distance,'max distance':max_distance,\n"
     ]
    },
    {
     "name": "stdout",
     "output_type": "stream",
     "text": [
      "[  34.68862961 -120.61035882]\n"
     ]
    },
    {
     "name": "stderr",
     "output_type": "stream",
     "text": [
      "/var/folders/tm/g65yh1_d5f3gkpxmzywryqwc0000gn/T/ipykernel_66414/1125395041.py:39: FutureWarning: The frame.append method is deprecated and will be removed from pandas in a future version. Use pandas.concat instead.\n",
      "  df = df.append({'lng':loc[1],'lat':loc[0],'number of cities':int(city_count),'total population':int(population),'min distance':min_distance,'max distance':max_distance,\n"
     ]
    },
    {
     "name": "stdout",
     "output_type": "stream",
     "text": [
      "[  37.56308443 -122.29301827]\n"
     ]
    },
    {
     "name": "stderr",
     "output_type": "stream",
     "text": [
      "/var/folders/tm/g65yh1_d5f3gkpxmzywryqwc0000gn/T/ipykernel_66414/1125395041.py:39: FutureWarning: The frame.append method is deprecated and will be removed from pandas in a future version. Use pandas.concat instead.\n",
      "  df = df.append({'lng':loc[1],'lat':loc[0],'number of cities':int(city_count),'total population':int(population),'min distance':min_distance,'max distance':max_distance,\n"
     ]
    },
    {
     "name": "stdout",
     "output_type": "stream",
     "text": [
      "[  33.39805806 -118.5609659 ]\n",
      "b'{\"message\":\"Impossible route between points\",\"code\":\"NoRoute\"}'\n",
      "[  38.18881609 -122.33616338]\n"
     ]
    },
    {
     "name": "stderr",
     "output_type": "stream",
     "text": [
      "/var/folders/tm/g65yh1_d5f3gkpxmzywryqwc0000gn/T/ipykernel_66414/1125395041.py:17: FutureWarning: The frame.append method is deprecated and will be removed from pandas in a future version. Use pandas.concat instead.\n",
      "  df = df.append({'lng':loc[1],'lat':loc[0],'number of cities':0,'total   population':0,'min distance':None,'max distance':None,\n",
      "/var/folders/tm/g65yh1_d5f3gkpxmzywryqwc0000gn/T/ipykernel_66414/1125395041.py:39: FutureWarning: The frame.append method is deprecated and will be removed from pandas in a future version. Use pandas.concat instead.\n",
      "  df = df.append({'lng':loc[1],'lat':loc[0],'number of cities':int(city_count),'total population':int(population),'min distance':min_distance,'max distance':max_distance,\n"
     ]
    },
    {
     "name": "stdout",
     "output_type": "stream",
     "text": [
      "[  35.43168596 -121.04180996]\n"
     ]
    },
    {
     "name": "stderr",
     "output_type": "stream",
     "text": [
      "/var/folders/tm/g65yh1_d5f3gkpxmzywryqwc0000gn/T/ipykernel_66414/1125395041.py:39: FutureWarning: The frame.append method is deprecated and will be removed from pandas in a future version. Use pandas.concat instead.\n",
      "  df = df.append({'lng':loc[1],'lat':loc[0],'number of cities':int(city_count),'total population':int(population),'min distance':min_distance,'max distance':max_distance,\n"
     ]
    },
    {
     "name": "stdout",
     "output_type": "stream",
     "text": [
      "[  38.13015374 -121.68898667]\n"
     ]
    },
    {
     "name": "stderr",
     "output_type": "stream",
     "text": [
      "/var/folders/tm/g65yh1_d5f3gkpxmzywryqwc0000gn/T/ipykernel_66414/1125395041.py:39: FutureWarning: The frame.append method is deprecated and will be removed from pandas in a future version. Use pandas.concat instead.\n",
      "  df = df.append({'lng':loc[1],'lat':loc[0],'number of cities':int(city_count),'total population':int(population),'min distance':min_distance,'max distance':max_distance,\n"
     ]
    },
    {
     "name": "stdout",
     "output_type": "stream",
     "text": [
      "[  41.10237914 -124.16983073]\n"
     ]
    },
    {
     "name": "stderr",
     "output_type": "stream",
     "text": [
      "/var/folders/tm/g65yh1_d5f3gkpxmzywryqwc0000gn/T/ipykernel_66414/1125395041.py:39: FutureWarning: The frame.append method is deprecated and will be removed from pandas in a future version. Use pandas.concat instead.\n",
      "  df = df.append({'lng':loc[1],'lat':loc[0],'number of cities':int(city_count),'total population':int(population),'min distance':min_distance,'max distance':max_distance,\n"
     ]
    },
    {
     "name": "stdout",
     "output_type": "stream",
     "text": [
      "[  38.57989838 -123.37164612]\n"
     ]
    },
    {
     "name": "stderr",
     "output_type": "stream",
     "text": [
      "/var/folders/tm/g65yh1_d5f3gkpxmzywryqwc0000gn/T/ipykernel_66414/1125395041.py:39: FutureWarning: The frame.append method is deprecated and will be removed from pandas in a future version. Use pandas.concat instead.\n",
      "  df = df.append({'lng':loc[1],'lat':loc[0],'number of cities':int(city_count),'total population':int(population),'min distance':min_distance,'max distance':max_distance,\n"
     ]
    },
    {
     "name": "stdout",
     "output_type": "stream",
     "text": [
      "[  38.56034426 -123.39321868]\n"
     ]
    },
    {
     "name": "stderr",
     "output_type": "stream",
     "text": [
      "/var/folders/tm/g65yh1_d5f3gkpxmzywryqwc0000gn/T/ipykernel_66414/1125395041.py:39: FutureWarning: The frame.append method is deprecated and will be removed from pandas in a future version. Use pandas.concat instead.\n",
      "  df = df.append({'lng':loc[1],'lat':loc[0],'number of cities':int(city_count),'total population':int(population),'min distance':min_distance,'max distance':max_distance,\n"
     ]
    },
    {
     "name": "stdout",
     "output_type": "stream",
     "text": [
      "[  38.93187244 -123.7815247 ]\n"
     ]
    },
    {
     "name": "stderr",
     "output_type": "stream",
     "text": [
      "/var/folders/tm/g65yh1_d5f3gkpxmzywryqwc0000gn/T/ipykernel_66414/1125395041.py:39: FutureWarning: The frame.append method is deprecated and will be removed from pandas in a future version. Use pandas.concat instead.\n",
      "  df = df.append({'lng':loc[1],'lat':loc[0],'number of cities':int(city_count),'total population':int(population),'min distance':min_distance,'max distance':max_distance,\n"
     ]
    },
    {
     "name": "stdout",
     "output_type": "stream",
     "text": [
      "[  33.1829628  -115.67024326]\n"
     ]
    },
    {
     "name": "stderr",
     "output_type": "stream",
     "text": [
      "/var/folders/tm/g65yh1_d5f3gkpxmzywryqwc0000gn/T/ipykernel_66414/1125395041.py:39: FutureWarning: The frame.append method is deprecated and will be removed from pandas in a future version. Use pandas.concat instead.\n",
      "  df = df.append({'lng':loc[1],'lat':loc[0],'number of cities':int(city_count),'total population':int(population),'min distance':min_distance,'max distance':max_distance,\n"
     ]
    },
    {
     "name": "stdout",
     "output_type": "stream",
     "text": [
      "[  37.97372083 -120.54564115]\n"
     ]
    },
    {
     "name": "stderr",
     "output_type": "stream",
     "text": [
      "/var/folders/tm/g65yh1_d5f3gkpxmzywryqwc0000gn/T/ipykernel_66414/1125395041.py:39: FutureWarning: The frame.append method is deprecated and will be removed from pandas in a future version. Use pandas.concat instead.\n",
      "  df = df.append({'lng':loc[1],'lat':loc[0],'number of cities':int(city_count),'total population':int(population),'min distance':min_distance,'max distance':max_distance,\n"
     ]
    },
    {
     "name": "stdout",
     "output_type": "stream",
     "text": [
      "[  33.90646503 -120.02789978]\n"
     ]
    },
    {
     "name": "stderr",
     "output_type": "stream",
     "text": [
      "/var/folders/tm/g65yh1_d5f3gkpxmzywryqwc0000gn/T/ipykernel_66414/1125395041.py:39: FutureWarning: The frame.append method is deprecated and will be removed from pandas in a future version. Use pandas.concat instead.\n",
      "  df = df.append({'lng':loc[1],'lat':loc[0],'number of cities':int(city_count),'total population':int(population),'min distance':min_distance,'max distance':max_distance,\n"
     ]
    },
    {
     "name": "stdout",
     "output_type": "stream",
     "text": [
      "[  33.41761217 -115.99383162]\n"
     ]
    },
    {
     "name": "stderr",
     "output_type": "stream",
     "text": [
      "/var/folders/tm/g65yh1_d5f3gkpxmzywryqwc0000gn/T/ipykernel_66414/1125395041.py:39: FutureWarning: The frame.append method is deprecated and will be removed from pandas in a future version. Use pandas.concat instead.\n",
      "  df = df.append({'lng':loc[1],'lat':loc[0],'number of cities':int(city_count),'total population':int(population),'min distance':min_distance,'max distance':max_distance,\n"
     ]
    },
    {
     "name": "stdout",
     "output_type": "stream",
     "text": [
      "[  41.68900257 -122.46559873]\n"
     ]
    },
    {
     "name": "stderr",
     "output_type": "stream",
     "text": [
      "/var/folders/tm/g65yh1_d5f3gkpxmzywryqwc0000gn/T/ipykernel_66414/1125395041.py:39: FutureWarning: The frame.append method is deprecated and will be removed from pandas in a future version. Use pandas.concat instead.\n",
      "  df = df.append({'lng':loc[1],'lat':loc[0],'number of cities':int(city_count),'total population':int(population),'min distance':min_distance,'max distance':max_distance,\n"
     ]
    },
    {
     "name": "stdout",
     "output_type": "stream",
     "text": [
      "[  36.68314928 -120.32991558]\n"
     ]
    },
    {
     "name": "stderr",
     "output_type": "stream",
     "text": [
      "/var/folders/tm/g65yh1_d5f3gkpxmzywryqwc0000gn/T/ipykernel_66414/1125395041.py:39: FutureWarning: The frame.append method is deprecated and will be removed from pandas in a future version. Use pandas.concat instead.\n",
      "  df = df.append({'lng':loc[1],'lat':loc[0],'number of cities':int(city_count),'total population':int(population),'min distance':min_distance,'max distance':max_distance,\n"
     ]
    },
    {
     "name": "stdout",
     "output_type": "stream",
     "text": [
      "[  39.8313617 -123.9325326]\n"
     ]
    },
    {
     "name": "stderr",
     "output_type": "stream",
     "text": [
      "/var/folders/tm/g65yh1_d5f3gkpxmzywryqwc0000gn/T/ipykernel_66414/1125395041.py:39: FutureWarning: The frame.append method is deprecated and will be removed from pandas in a future version. Use pandas.concat instead.\n",
      "  df = df.append({'lng':loc[1],'lat':loc[0],'number of cities':int(city_count),'total population':int(population),'min distance':min_distance,'max distance':max_distance,\n"
     ]
    }
   ],
   "source": [
    "# Generate a dataframe for a list of locations\n",
    "\n",
    "radii = 50 #in mile\n",
    "\n",
    "if df_copy is None:  \n",
    "    df = pd.DataFrame({'lng':[],'lat':[],'number of cities':[],'total population':[],'min distance':[],'max distance':[],'name of the nearest city':[],'coordinates of the nearest city (lat,lng)':[],'distance list':[],'population list':[],'cities name':[],'cities locations':[]})\n",
    "else:\n",
    "    df = df_copy.copy(deep=True)\n",
    "nearest_dist = 0\n",
    "nearest_city = ''\n",
    "for i,loc in enumerate(locations[len(df):]):\n",
    "    #loc[0] is lat and lat[1] is lng\n",
    "    print(loc)\n",
    "    # df['drivin radii'].append(radii)\n",
    "    result = distance_from_cities(loc[0],loc[1],radii=radii)\n",
    "    if not result:\n",
    "        df = df.append({'lng':loc[1],'lat':loc[0],'number of cities':0,'total   population':0,'min distance':None,'max distance':None,\n",
    "            'name of the nearest city':None,\n",
    "            'coordinates of the nearest city (lat,lng)':None,\n",
    "            'distance list':[],'population list':[],'cities name':[],'cities locations':[]},ignore_index=True)\n",
    "    else:\n",
    "        dist_list, pop_list, name_list, loc_list = result\n",
    "        city_count = len(dist_list)\n",
    "        population = np.sum(pop_list)\n",
    "\n",
    "        if city_count== 0:\n",
    "            min_distance = None\n",
    "            max_distance = None\n",
    "            name_of_the_nearest_city = None\n",
    "            coordinates = None\n",
    "        else:\n",
    "            min_distance = dist_list[0]\n",
    "            max_distance = dist_list[-1]\n",
    "            name_of_the_nearest_city = name_list[0]\n",
    "            coordinates = loc_list[0]\n",
    "\n",
    "        # print([loc[0],loc[1],radii,city_count,population])\n",
    "\n",
    "        df = df.append({'lng':loc[1],'lat':loc[0],'number of cities':int(city_count),'total population':int(population),'min distance':min_distance,'max distance':max_distance,\n",
    "        'name of the nearest city':name_of_the_nearest_city,\n",
    "         'coordinates of the nearest city (lat,lng)':coordinates,\n",
    "        'distance list':dist_list,'population list':pop_list,'cities name':name_list,'cities locations':loc_list},ignore_index=True)\n",
    "    \n",
    "    if (i+1)%100 == 0:\n",
    "        df_copy = df.copy(deep=True)"
   ]
  },
  {
   "cell_type": "code",
   "execution_count": 169,
   "metadata": {},
   "outputs": [
    {
     "name": "stdout",
     "output_type": "stream",
     "text": [
      "5000 5000\n"
     ]
    }
   ],
   "source": [
    "print(len(locations),len(df_copy))"
   ]
  },
  {
   "cell_type": "code",
   "execution_count": 172,
   "metadata": {},
   "outputs": [
    {
     "data": {
      "text/html": [
       "<div>\n",
       "<style scoped>\n",
       "    .dataframe tbody tr th:only-of-type {\n",
       "        vertical-align: middle;\n",
       "    }\n",
       "\n",
       "    .dataframe tbody tr th {\n",
       "        vertical-align: top;\n",
       "    }\n",
       "\n",
       "    .dataframe thead th {\n",
       "        text-align: right;\n",
       "    }\n",
       "</style>\n",
       "<table border=\"1\" class=\"dataframe\">\n",
       "  <thead>\n",
       "    <tr style=\"text-align: right;\">\n",
       "      <th></th>\n",
       "      <th>Longitude</th>\n",
       "      <th>Latitude</th>\n",
       "      <th>number of cities</th>\n",
       "      <th>total population</th>\n",
       "      <th>min distance</th>\n",
       "      <th>max distance</th>\n",
       "      <th>name of the nearest city</th>\n",
       "      <th>coordinates of the nearest city (lat,lng)</th>\n",
       "      <th>distance list</th>\n",
       "      <th>population list</th>\n",
       "      <th>cities name</th>\n",
       "      <th>cities locations</th>\n",
       "      <th>total   population</th>\n",
       "    </tr>\n",
       "  </thead>\n",
       "  <tbody>\n",
       "    <tr>\n",
       "      <th>0</th>\n",
       "      <td>-117.396048</td>\n",
       "      <td>34.082452</td>\n",
       "      <td>1.0</td>\n",
       "      <td>103799.0</td>\n",
       "      <td>4.9767</td>\n",
       "      <td>4.9767</td>\n",
       "      <td>Rialto</td>\n",
       "      <td>(34.1175, -117.3892)</td>\n",
       "      <td>[4.9767]</td>\n",
       "      <td>[103799]</td>\n",
       "      <td>[Rialto]</td>\n",
       "      <td>[(34.1175, -117.3892)]</td>\n",
       "      <td>NaN</td>\n",
       "    </tr>\n",
       "    <tr>\n",
       "      <th>1</th>\n",
       "      <td>-117.137177</td>\n",
       "      <td>33.710924</td>\n",
       "      <td>1.0</td>\n",
       "      <td>101089.0</td>\n",
       "      <td>8.2905</td>\n",
       "      <td>8.2905</td>\n",
       "      <td>Menifee</td>\n",
       "      <td>(33.6909, -117.1849)</td>\n",
       "      <td>[8.2905]</td>\n",
       "      <td>[101089]</td>\n",
       "      <td>[Menifee]</td>\n",
       "      <td>[(33.6909, -117.1849)]</td>\n",
       "      <td>NaN</td>\n",
       "    </tr>\n",
       "    <tr>\n",
       "      <th>2</th>\n",
       "      <td>-122.357736</td>\n",
       "      <td>39.948686</td>\n",
       "      <td>1.0</td>\n",
       "      <td>121498.0</td>\n",
       "      <td>83.4367</td>\n",
       "      <td>83.4367</td>\n",
       "      <td>Redding</td>\n",
       "      <td>(40.5698, -122.365)</td>\n",
       "      <td>[83.4367]</td>\n",
       "      <td>[121498]</td>\n",
       "      <td>[Redding]</td>\n",
       "      <td>[(40.5698, -122.365)]</td>\n",
       "      <td>NaN</td>\n",
       "    </tr>\n",
       "    <tr>\n",
       "      <th>3</th>\n",
       "      <td>-121.645842</td>\n",
       "      <td>37.934613</td>\n",
       "      <td>1.0</td>\n",
       "      <td>322796.0</td>\n",
       "      <td>17.8811</td>\n",
       "      <td>17.8811</td>\n",
       "      <td>Antioch</td>\n",
       "      <td>(37.9787, -121.796)</td>\n",
       "      <td>[17.8811]</td>\n",
       "      <td>[322796]</td>\n",
       "      <td>[Antioch]</td>\n",
       "      <td>[(37.9787, -121.796)]</td>\n",
       "      <td>NaN</td>\n",
       "    </tr>\n",
       "    <tr>\n",
       "      <th>4</th>\n",
       "      <td>-121.991002</td>\n",
       "      <td>37.973721</td>\n",
       "      <td>1.0</td>\n",
       "      <td>640270.0</td>\n",
       "      <td>1.1831</td>\n",
       "      <td>1.1831</td>\n",
       "      <td>Concord</td>\n",
       "      <td>(37.9722, -122.0016)</td>\n",
       "      <td>[1.1830999999999998]</td>\n",
       "      <td>[640270]</td>\n",
       "      <td>[Concord]</td>\n",
       "      <td>[(37.9722, -122.0016)]</td>\n",
       "      <td>NaN</td>\n",
       "    </tr>\n",
       "  </tbody>\n",
       "</table>\n",
       "</div>"
      ],
      "text/plain": [
       "    Longitude   Latitude  number of cities  total population  min distance  \\\n",
       "0 -117.396048  34.082452               1.0          103799.0        4.9767   \n",
       "1 -117.137177  33.710924               1.0          101089.0        8.2905   \n",
       "2 -122.357736  39.948686               1.0          121498.0       83.4367   \n",
       "3 -121.645842  37.934613               1.0          322796.0       17.8811   \n",
       "4 -121.991002  37.973721               1.0          640270.0        1.1831   \n",
       "\n",
       "   max distance name of the nearest city  \\\n",
       "0        4.9767                   Rialto   \n",
       "1        8.2905                  Menifee   \n",
       "2       83.4367                  Redding   \n",
       "3       17.8811                  Antioch   \n",
       "4        1.1831                  Concord   \n",
       "\n",
       "  coordinates of the nearest city (lat,lng)         distance list  \\\n",
       "0                      (34.1175, -117.3892)              [4.9767]   \n",
       "1                      (33.6909, -117.1849)              [8.2905]   \n",
       "2                       (40.5698, -122.365)             [83.4367]   \n",
       "3                       (37.9787, -121.796)             [17.8811]   \n",
       "4                      (37.9722, -122.0016)  [1.1830999999999998]   \n",
       "\n",
       "  population list cities name        cities locations  total   population  \n",
       "0        [103799]    [Rialto]  [(34.1175, -117.3892)]                 NaN  \n",
       "1        [101089]   [Menifee]  [(33.6909, -117.1849)]                 NaN  \n",
       "2        [121498]   [Redding]   [(40.5698, -122.365)]                 NaN  \n",
       "3        [322796]   [Antioch]   [(37.9787, -121.796)]                 NaN  \n",
       "4        [640270]   [Concord]  [(37.9722, -122.0016)]                 NaN  "
      ]
     },
     "execution_count": 172,
     "metadata": {},
     "output_type": "execute_result"
    }
   ],
   "source": [
    "df.head()"
   ]
  },
  {
   "cell_type": "code",
   "execution_count": 171,
   "metadata": {},
   "outputs": [],
   "source": [
    "df.rename(columns={'lat':'Latitude','lng':'Longitude'},inplace=True)"
   ]
  },
  {
   "cell_type": "code",
   "execution_count": 173,
   "metadata": {},
   "outputs": [],
   "source": [
    "# with open('../data/cities_data_resolution_2_km.pd','wb') as f:\n",
    "#     pickle.dump(df,f)"
   ]
  },
  {
   "cell_type": "code",
   "execution_count": 174,
   "metadata": {},
   "outputs": [],
   "source": [
    "# df.to_csv('../data/cities_data_resolution_2_km.csv')"
   ]
  },
  {
   "cell_type": "markdown",
   "metadata": {},
   "source": [
    "### Merging cities data with the final database"
   ]
  },
  {
   "cell_type": "code",
   "execution_count": 175,
   "metadata": {},
   "outputs": [],
   "source": [
    "final_data = pd.read_csv('../data/ca_data_version_12.csv')"
   ]
  },
  {
   "cell_type": "code",
   "execution_count": 176,
   "metadata": {},
   "outputs": [
    {
     "data": {
      "text/html": [
       "<div>\n",
       "<style scoped>\n",
       "    .dataframe tbody tr th:only-of-type {\n",
       "        vertical-align: middle;\n",
       "    }\n",
       "\n",
       "    .dataframe tbody tr th {\n",
       "        vertical-align: top;\n",
       "    }\n",
       "\n",
       "    .dataframe thead th {\n",
       "        text-align: right;\n",
       "    }\n",
       "</style>\n",
       "<table border=\"1\" class=\"dataframe\">\n",
       "  <thead>\n",
       "    <tr style=\"text-align: right;\">\n",
       "      <th></th>\n",
       "      <th>Latitude</th>\n",
       "      <th>Longitude</th>\n",
       "      <th>Solar_farm_present</th>\n",
       "      <th>State</th>\n",
       "      <th>panel.area</th>\n",
       "      <th>power</th>\n",
       "      <th>panels</th>\n",
       "      <th>landscape.area</th>\n",
       "      <th>water</th>\n",
       "      <th>urban</th>\n",
       "      <th>...</th>\n",
       "      <th>elevation</th>\n",
       "      <th>feature_violated</th>\n",
       "      <th>solrad_annual</th>\n",
       "      <th>ac_monthly</th>\n",
       "      <th>poa_monthly</th>\n",
       "      <th>solrad_monthly</th>\n",
       "      <th>dc_monthly</th>\n",
       "      <th>ac_annual</th>\n",
       "      <th>Unnamed: 21</th>\n",
       "      <th>0.0</th>\n",
       "    </tr>\n",
       "  </thead>\n",
       "  <tbody>\n",
       "    <tr>\n",
       "      <th>0</th>\n",
       "      <td>34.082452</td>\n",
       "      <td>-117.396048</td>\n",
       "      <td>NaN</td>\n",
       "      <td>CA</td>\n",
       "      <td>NaN</td>\n",
       "      <td>NaN</td>\n",
       "      <td>NaN</td>\n",
       "      <td>NaN</td>\n",
       "      <td>NaN</td>\n",
       "      <td>NaN</td>\n",
       "      <td>...</td>\n",
       "      <td>354.0</td>\n",
       "      <td>ac_annual</td>\n",
       "      <td>6.137753</td>\n",
       "      <td>[126643.6284333316, 123642.4656084192, 146079....</td>\n",
       "      <td>[160.3371500625433, 157.9419747969732, 190.017...</td>\n",
       "      <td>[5.172166131049785, 5.640784814177614, 6.12959...</td>\n",
       "      <td>[132621.8932622115, 129576.8218587892, 153178....</td>\n",
       "      <td>1.696741e+06</td>\n",
       "      <td>0</td>\n",
       "      <td>0</td>\n",
       "    </tr>\n",
       "    <tr>\n",
       "      <th>1</th>\n",
       "      <td>33.710924</td>\n",
       "      <td>-117.137177</td>\n",
       "      <td>NaN</td>\n",
       "      <td>CA</td>\n",
       "      <td>NaN</td>\n",
       "      <td>NaN</td>\n",
       "      <td>NaN</td>\n",
       "      <td>NaN</td>\n",
       "      <td>NaN</td>\n",
       "      <td>NaN</td>\n",
       "      <td>...</td>\n",
       "      <td>446.0</td>\n",
       "      <td>ac_annual</td>\n",
       "      <td>6.204925</td>\n",
       "      <td>[126868.3514493219, 123183.8261829259, 150337....</td>\n",
       "      <td>[163.6214888471466, 159.1281172506521, 198.769...</td>\n",
       "      <td>[5.278112543456341, 5.683147044666148, 6.41193...</td>\n",
       "      <td>[132793.0245010775, 128887.8434912795, 157389....</td>\n",
       "      <td>1.690435e+06</td>\n",
       "      <td>0</td>\n",
       "      <td>0</td>\n",
       "    </tr>\n",
       "    <tr>\n",
       "      <th>2</th>\n",
       "      <td>39.948686</td>\n",
       "      <td>-122.357736</td>\n",
       "      <td>NaN</td>\n",
       "      <td>CA</td>\n",
       "      <td>NaN</td>\n",
       "      <td>NaN</td>\n",
       "      <td>NaN</td>\n",
       "      <td>NaN</td>\n",
       "      <td>NaN</td>\n",
       "      <td>NaN</td>\n",
       "      <td>...</td>\n",
       "      <td>139.0</td>\n",
       "      <td>ac_annual</td>\n",
       "      <td>5.701319</td>\n",
       "      <td>[81871.68545656932, 90825.3059124629, 139086.2...</td>\n",
       "      <td>[100.9587614211884, 113.1211746079644, 177.813...</td>\n",
       "      <td>[3.256734239393176, 4.040041950284444, 5.73593...</td>\n",
       "      <td>[86019.00030301968, 95337.82386751169, 145682....</td>\n",
       "      <td>1.566192e+06</td>\n",
       "      <td>0</td>\n",
       "      <td>0</td>\n",
       "    </tr>\n",
       "    <tr>\n",
       "      <th>3</th>\n",
       "      <td>37.934613</td>\n",
       "      <td>-121.645842</td>\n",
       "      <td>NaN</td>\n",
       "      <td>CA</td>\n",
       "      <td>NaN</td>\n",
       "      <td>NaN</td>\n",
       "      <td>NaN</td>\n",
       "      <td>NaN</td>\n",
       "      <td>NaN</td>\n",
       "      <td>NaN</td>\n",
       "      <td>...</td>\n",
       "      <td>10.0</td>\n",
       "      <td>ac_annual</td>\n",
       "      <td>5.892671</td>\n",
       "      <td>[93225.92555313384, 117872.5185756382, 133564....</td>\n",
       "      <td>[113.2858897184085, 147.74228808641, 170.25043...</td>\n",
       "      <td>[3.654383539303501, 5.276510288800359, 5.49194...</td>\n",
       "      <td>[97835.782674236, 123415.2943375236, 139980.07...</td>\n",
       "      <td>1.657431e+06</td>\n",
       "      <td>0</td>\n",
       "      <td>0</td>\n",
       "    </tr>\n",
       "    <tr>\n",
       "      <th>4</th>\n",
       "      <td>37.973721</td>\n",
       "      <td>-121.991002</td>\n",
       "      <td>NaN</td>\n",
       "      <td>CA</td>\n",
       "      <td>NaN</td>\n",
       "      <td>NaN</td>\n",
       "      <td>NaN</td>\n",
       "      <td>NaN</td>\n",
       "      <td>NaN</td>\n",
       "      <td>NaN</td>\n",
       "      <td>...</td>\n",
       "      <td>54.0</td>\n",
       "      <td>ac_annual</td>\n",
       "      <td>5.897817</td>\n",
       "      <td>[96173.72130512354, 120312.542412835, 141419.0...</td>\n",
       "      <td>[116.6067532589445, 150.3203686240996, 179.493...</td>\n",
       "      <td>[3.761508169643369, 5.368584593717842, 5.79011...</td>\n",
       "      <td>[100873.0371669258, 125951.7057612103, 148151....</td>\n",
       "      <td>1.666310e+06</td>\n",
       "      <td>0</td>\n",
       "      <td>0</td>\n",
       "    </tr>\n",
       "    <tr>\n",
       "      <th>...</th>\n",
       "      <td>...</td>\n",
       "      <td>...</td>\n",
       "      <td>...</td>\n",
       "      <td>...</td>\n",
       "      <td>...</td>\n",
       "      <td>...</td>\n",
       "      <td>...</td>\n",
       "      <td>...</td>\n",
       "      <td>...</td>\n",
       "      <td>...</td>\n",
       "      <td>...</td>\n",
       "      <td>...</td>\n",
       "      <td>...</td>\n",
       "      <td>...</td>\n",
       "      <td>...</td>\n",
       "      <td>...</td>\n",
       "      <td>...</td>\n",
       "      <td>...</td>\n",
       "      <td>...</td>\n",
       "      <td>...</td>\n",
       "      <td>...</td>\n",
       "    </tr>\n",
       "    <tr>\n",
       "      <th>4995</th>\n",
       "      <td>33.906465</td>\n",
       "      <td>-120.027900</td>\n",
       "      <td>0.0</td>\n",
       "      <td>CA</td>\n",
       "      <td>NaN</td>\n",
       "      <td>NaN</td>\n",
       "      <td>NaN</td>\n",
       "      <td>NaN</td>\n",
       "      <td>NaN</td>\n",
       "      <td>NaN</td>\n",
       "      <td>...</td>\n",
       "      <td>0.0</td>\n",
       "      <td>ac_annual</td>\n",
       "      <td>5.657576</td>\n",
       "      <td>[124430.625264793, 128050.6419688767, 145367.7...</td>\n",
       "      <td>[153.6989610932505, 160.3153573714344, 182.836...</td>\n",
       "      <td>[4.958031003008081, 5.725548477551228, 5.89796...</td>\n",
       "      <td>[130265.685683405, 134053.1184491426, 152307.0...</td>\n",
       "      <td>1.630118e+06</td>\n",
       "      <td>0</td>\n",
       "      <td>0</td>\n",
       "    </tr>\n",
       "    <tr>\n",
       "      <th>4996</th>\n",
       "      <td>33.417612</td>\n",
       "      <td>-115.993832</td>\n",
       "      <td>0.0</td>\n",
       "      <td>CA</td>\n",
       "      <td>NaN</td>\n",
       "      <td>NaN</td>\n",
       "      <td>NaN</td>\n",
       "      <td>NaN</td>\n",
       "      <td>NaN</td>\n",
       "      <td>NaN</td>\n",
       "      <td>...</td>\n",
       "      <td>-70.0</td>\n",
       "      <td>ac_annual</td>\n",
       "      <td>6.323911</td>\n",
       "      <td>[134881.0702731289, 134061.3259228609, 160552....</td>\n",
       "      <td>[171.7044746679793, 171.4122722654111, 210.579...</td>\n",
       "      <td>[5.538854021547718, 6.121866866621824, 6.79290...</td>\n",
       "      <td>[141101.3654307219, 140161.8184159705, 167980....</td>\n",
       "      <td>1.721495e+06</td>\n",
       "      <td>0</td>\n",
       "      <td>0</td>\n",
       "    </tr>\n",
       "    <tr>\n",
       "      <th>4997</th>\n",
       "      <td>41.689003</td>\n",
       "      <td>-122.465599</td>\n",
       "      <td>0.0</td>\n",
       "      <td>CA</td>\n",
       "      <td>NaN</td>\n",
       "      <td>NaN</td>\n",
       "      <td>NaN</td>\n",
       "      <td>NaN</td>\n",
       "      <td>NaN</td>\n",
       "      <td>NaN</td>\n",
       "      <td>...</td>\n",
       "      <td>798.0</td>\n",
       "      <td>ac_annual</td>\n",
       "      <td>5.611707</td>\n",
       "      <td>[93573.38738081408, 97924.47093016192, 131421....</td>\n",
       "      <td>[114.6791140404956, 121.3874734554713, 166.397...</td>\n",
       "      <td>[3.699326259370827, 4.335266909123976, 5.36766...</td>\n",
       "      <td>[98146.2203916726, 102768.3713357534, 137701.7...</td>\n",
       "      <td>1.557846e+06</td>\n",
       "      <td>0</td>\n",
       "      <td>0</td>\n",
       "    </tr>\n",
       "    <tr>\n",
       "      <th>4998</th>\n",
       "      <td>36.683149</td>\n",
       "      <td>-120.329916</td>\n",
       "      <td>0.0</td>\n",
       "      <td>CA</td>\n",
       "      <td>NaN</td>\n",
       "      <td>NaN</td>\n",
       "      <td>NaN</td>\n",
       "      <td>NaN</td>\n",
       "      <td>NaN</td>\n",
       "      <td>NaN</td>\n",
       "      <td>...</td>\n",
       "      <td>49.0</td>\n",
       "      <td>ac_annual</td>\n",
       "      <td>5.919039</td>\n",
       "      <td>[87091.30519709826, 105473.3029344761, 150766....</td>\n",
       "      <td>[107.8239676379539, 132.2051590546551, 193.002...</td>\n",
       "      <td>[3.478192504450126, 4.72161282338054, 6.225877...</td>\n",
       "      <td>[91538.11642345533, 110607.0393392461, 158047....</td>\n",
       "      <td>1.633566e+06</td>\n",
       "      <td>0</td>\n",
       "      <td>0</td>\n",
       "    </tr>\n",
       "    <tr>\n",
       "      <th>4999</th>\n",
       "      <td>39.831362</td>\n",
       "      <td>-123.932533</td>\n",
       "      <td>0.0</td>\n",
       "      <td>CA</td>\n",
       "      <td>NaN</td>\n",
       "      <td>NaN</td>\n",
       "      <td>NaN</td>\n",
       "      <td>NaN</td>\n",
       "      <td>NaN</td>\n",
       "      <td>NaN</td>\n",
       "      <td>...</td>\n",
       "      <td>0.0</td>\n",
       "      <td>ac_annual</td>\n",
       "      <td>4.741830</td>\n",
       "      <td>[80130.83642485294, 83019.93567018978, 112548....</td>\n",
       "      <td>[100.7047651639755, 105.2451459724102, 144.019...</td>\n",
       "      <td>[3.248540811741146, 3.758755213300365, 4.64579...</td>\n",
       "      <td>[84193.91767523765, 87256.28879063463, 118177....</td>\n",
       "      <td>1.320341e+06</td>\n",
       "      <td>0</td>\n",
       "      <td>0</td>\n",
       "    </tr>\n",
       "  </tbody>\n",
       "</table>\n",
       "<p>5000 rows × 23 columns</p>\n",
       "</div>"
      ],
      "text/plain": [
       "       Latitude   Longitude  Solar_farm_present State  panel.area  power  \\\n",
       "0     34.082452 -117.396048                 NaN    CA         NaN    NaN   \n",
       "1     33.710924 -117.137177                 NaN    CA         NaN    NaN   \n",
       "2     39.948686 -122.357736                 NaN    CA         NaN    NaN   \n",
       "3     37.934613 -121.645842                 NaN    CA         NaN    NaN   \n",
       "4     37.973721 -121.991002                 NaN    CA         NaN    NaN   \n",
       "...         ...         ...                 ...   ...         ...    ...   \n",
       "4995  33.906465 -120.027900                 0.0    CA         NaN    NaN   \n",
       "4996  33.417612 -115.993832                 0.0    CA         NaN    NaN   \n",
       "4997  41.689003 -122.465599                 0.0    CA         NaN    NaN   \n",
       "4998  36.683149 -120.329916                 0.0    CA         NaN    NaN   \n",
       "4999  39.831362 -123.932533                 0.0    CA         NaN    NaN   \n",
       "\n",
       "      panels  landscape.area  water  urban  ... elevation  feature_violated  \\\n",
       "0        NaN             NaN    NaN    NaN  ...     354.0         ac_annual   \n",
       "1        NaN             NaN    NaN    NaN  ...     446.0         ac_annual   \n",
       "2        NaN             NaN    NaN    NaN  ...     139.0         ac_annual   \n",
       "3        NaN             NaN    NaN    NaN  ...      10.0         ac_annual   \n",
       "4        NaN             NaN    NaN    NaN  ...      54.0         ac_annual   \n",
       "...      ...             ...    ...    ...  ...       ...               ...   \n",
       "4995     NaN             NaN    NaN    NaN  ...       0.0         ac_annual   \n",
       "4996     NaN             NaN    NaN    NaN  ...     -70.0         ac_annual   \n",
       "4997     NaN             NaN    NaN    NaN  ...     798.0         ac_annual   \n",
       "4998     NaN             NaN    NaN    NaN  ...      49.0         ac_annual   \n",
       "4999     NaN             NaN    NaN    NaN  ...       0.0         ac_annual   \n",
       "\n",
       "      solrad_annual                                         ac_monthly  \\\n",
       "0          6.137753  [126643.6284333316, 123642.4656084192, 146079....   \n",
       "1          6.204925  [126868.3514493219, 123183.8261829259, 150337....   \n",
       "2          5.701319  [81871.68545656932, 90825.3059124629, 139086.2...   \n",
       "3          5.892671  [93225.92555313384, 117872.5185756382, 133564....   \n",
       "4          5.897817  [96173.72130512354, 120312.542412835, 141419.0...   \n",
       "...             ...                                                ...   \n",
       "4995       5.657576  [124430.625264793, 128050.6419688767, 145367.7...   \n",
       "4996       6.323911  [134881.0702731289, 134061.3259228609, 160552....   \n",
       "4997       5.611707  [93573.38738081408, 97924.47093016192, 131421....   \n",
       "4998       5.919039  [87091.30519709826, 105473.3029344761, 150766....   \n",
       "4999       4.741830  [80130.83642485294, 83019.93567018978, 112548....   \n",
       "\n",
       "                                            poa_monthly  \\\n",
       "0     [160.3371500625433, 157.9419747969732, 190.017...   \n",
       "1     [163.6214888471466, 159.1281172506521, 198.769...   \n",
       "2     [100.9587614211884, 113.1211746079644, 177.813...   \n",
       "3     [113.2858897184085, 147.74228808641, 170.25043...   \n",
       "4     [116.6067532589445, 150.3203686240996, 179.493...   \n",
       "...                                                 ...   \n",
       "4995  [153.6989610932505, 160.3153573714344, 182.836...   \n",
       "4996  [171.7044746679793, 171.4122722654111, 210.579...   \n",
       "4997  [114.6791140404956, 121.3874734554713, 166.397...   \n",
       "4998  [107.8239676379539, 132.2051590546551, 193.002...   \n",
       "4999  [100.7047651639755, 105.2451459724102, 144.019...   \n",
       "\n",
       "                                         solrad_monthly  \\\n",
       "0     [5.172166131049785, 5.640784814177614, 6.12959...   \n",
       "1     [5.278112543456341, 5.683147044666148, 6.41193...   \n",
       "2     [3.256734239393176, 4.040041950284444, 5.73593...   \n",
       "3     [3.654383539303501, 5.276510288800359, 5.49194...   \n",
       "4     [3.761508169643369, 5.368584593717842, 5.79011...   \n",
       "...                                                 ...   \n",
       "4995  [4.958031003008081, 5.725548477551228, 5.89796...   \n",
       "4996  [5.538854021547718, 6.121866866621824, 6.79290...   \n",
       "4997  [3.699326259370827, 4.335266909123976, 5.36766...   \n",
       "4998  [3.478192504450126, 4.72161282338054, 6.225877...   \n",
       "4999  [3.248540811741146, 3.758755213300365, 4.64579...   \n",
       "\n",
       "                                             dc_monthly     ac_annual  \\\n",
       "0     [132621.8932622115, 129576.8218587892, 153178....  1.696741e+06   \n",
       "1     [132793.0245010775, 128887.8434912795, 157389....  1.690435e+06   \n",
       "2     [86019.00030301968, 95337.82386751169, 145682....  1.566192e+06   \n",
       "3     [97835.782674236, 123415.2943375236, 139980.07...  1.657431e+06   \n",
       "4     [100873.0371669258, 125951.7057612103, 148151....  1.666310e+06   \n",
       "...                                                 ...           ...   \n",
       "4995  [130265.685683405, 134053.1184491426, 152307.0...  1.630118e+06   \n",
       "4996  [141101.3654307219, 140161.8184159705, 167980....  1.721495e+06   \n",
       "4997  [98146.2203916726, 102768.3713357534, 137701.7...  1.557846e+06   \n",
       "4998  [91538.11642345533, 110607.0393392461, 158047....  1.633566e+06   \n",
       "4999  [84193.91767523765, 87256.28879063463, 118177....  1.320341e+06   \n",
       "\n",
       "     Unnamed: 21 0.0  \n",
       "0              0   0  \n",
       "1              0   0  \n",
       "2              0   0  \n",
       "3              0   0  \n",
       "4              0   0  \n",
       "...          ...  ..  \n",
       "4995           0   0  \n",
       "4996           0   0  \n",
       "4997           0   0  \n",
       "4998           0   0  \n",
       "4999           0   0  \n",
       "\n",
       "[5000 rows x 23 columns]"
      ]
     },
     "execution_count": 176,
     "metadata": {},
     "output_type": "execute_result"
    }
   ],
   "source": [
    "final_data"
   ]
  },
  {
   "cell_type": "code",
   "execution_count": 177,
   "metadata": {},
   "outputs": [],
   "source": [
    "df = pd.read_csv('../data/cities_data_resolution_2_km.csv',index_col=0)"
   ]
  },
  {
   "cell_type": "code",
   "execution_count": 178,
   "metadata": {},
   "outputs": [
    {
     "data": {
      "text/html": [
       "<div>\n",
       "<style scoped>\n",
       "    .dataframe tbody tr th:only-of-type {\n",
       "        vertical-align: middle;\n",
       "    }\n",
       "\n",
       "    .dataframe tbody tr th {\n",
       "        vertical-align: top;\n",
       "    }\n",
       "\n",
       "    .dataframe thead th {\n",
       "        text-align: right;\n",
       "    }\n",
       "</style>\n",
       "<table border=\"1\" class=\"dataframe\">\n",
       "  <thead>\n",
       "    <tr style=\"text-align: right;\">\n",
       "      <th></th>\n",
       "      <th>Longitude</th>\n",
       "      <th>Latitude</th>\n",
       "      <th>min distance</th>\n",
       "    </tr>\n",
       "  </thead>\n",
       "  <tbody>\n",
       "    <tr>\n",
       "      <th>0</th>\n",
       "      <td>-117.396048</td>\n",
       "      <td>34.082452</td>\n",
       "      <td>4.9767</td>\n",
       "    </tr>\n",
       "    <tr>\n",
       "      <th>1</th>\n",
       "      <td>-117.137177</td>\n",
       "      <td>33.710924</td>\n",
       "      <td>8.2905</td>\n",
       "    </tr>\n",
       "    <tr>\n",
       "      <th>2</th>\n",
       "      <td>-122.357736</td>\n",
       "      <td>39.948686</td>\n",
       "      <td>83.4367</td>\n",
       "    </tr>\n",
       "    <tr>\n",
       "      <th>3</th>\n",
       "      <td>-121.645842</td>\n",
       "      <td>37.934613</td>\n",
       "      <td>17.8811</td>\n",
       "    </tr>\n",
       "    <tr>\n",
       "      <th>4</th>\n",
       "      <td>-121.991002</td>\n",
       "      <td>37.973721</td>\n",
       "      <td>1.1831</td>\n",
       "    </tr>\n",
       "    <tr>\n",
       "      <th>...</th>\n",
       "      <td>...</td>\n",
       "      <td>...</td>\n",
       "      <td>...</td>\n",
       "    </tr>\n",
       "    <tr>\n",
       "      <th>4995</th>\n",
       "      <td>-120.027900</td>\n",
       "      <td>33.906465</td>\n",
       "      <td>18.4074</td>\n",
       "    </tr>\n",
       "    <tr>\n",
       "      <th>4996</th>\n",
       "      <td>-115.993832</td>\n",
       "      <td>33.417612</td>\n",
       "      <td>46.7102</td>\n",
       "    </tr>\n",
       "    <tr>\n",
       "      <th>4997</th>\n",
       "      <td>-122.465599</td>\n",
       "      <td>41.689003</td>\n",
       "      <td>152.5223</td>\n",
       "    </tr>\n",
       "    <tr>\n",
       "      <th>4998</th>\n",
       "      <td>-120.329916</td>\n",
       "      <td>36.683149</td>\n",
       "      <td>61.3323</td>\n",
       "    </tr>\n",
       "    <tr>\n",
       "      <th>4999</th>\n",
       "      <td>-123.932533</td>\n",
       "      <td>39.831362</td>\n",
       "      <td>367.5614</td>\n",
       "    </tr>\n",
       "  </tbody>\n",
       "</table>\n",
       "<p>5000 rows × 3 columns</p>\n",
       "</div>"
      ],
      "text/plain": [
       "       Longitude   Latitude  min distance\n",
       "0    -117.396048  34.082452        4.9767\n",
       "1    -117.137177  33.710924        8.2905\n",
       "2    -122.357736  39.948686       83.4367\n",
       "3    -121.645842  37.934613       17.8811\n",
       "4    -121.991002  37.973721        1.1831\n",
       "...          ...        ...           ...\n",
       "4995 -120.027900  33.906465       18.4074\n",
       "4996 -115.993832  33.417612       46.7102\n",
       "4997 -122.465599  41.689003      152.5223\n",
       "4998 -120.329916  36.683149       61.3323\n",
       "4999 -123.932533  39.831362      367.5614\n",
       "\n",
       "[5000 rows x 3 columns]"
      ]
     },
     "execution_count": 178,
     "metadata": {},
     "output_type": "execute_result"
    }
   ],
   "source": [
    "df = df[['Longitude','Latitude','min distance']]\n",
    "df"
   ]
  },
  {
   "cell_type": "code",
   "execution_count": 179,
   "metadata": {},
   "outputs": [],
   "source": [
    "final_data_city = final_data.join(df.set_index(['Latitude','Longitude']),on=['Latitude','Longitude'])"
   ]
  },
  {
   "cell_type": "code",
   "execution_count": 181,
   "metadata": {},
   "outputs": [
    {
     "data": {
      "text/html": [
       "<div>\n",
       "<style scoped>\n",
       "    .dataframe tbody tr th:only-of-type {\n",
       "        vertical-align: middle;\n",
       "    }\n",
       "\n",
       "    .dataframe tbody tr th {\n",
       "        vertical-align: top;\n",
       "    }\n",
       "\n",
       "    .dataframe thead th {\n",
       "        text-align: right;\n",
       "    }\n",
       "</style>\n",
       "<table border=\"1\" class=\"dataframe\">\n",
       "  <thead>\n",
       "    <tr style=\"text-align: right;\">\n",
       "      <th></th>\n",
       "      <th>Latitude</th>\n",
       "      <th>Longitude</th>\n",
       "      <th>Solar_farm_present</th>\n",
       "      <th>State</th>\n",
       "      <th>panel.area</th>\n",
       "      <th>power</th>\n",
       "      <th>panels</th>\n",
       "      <th>landscape.area</th>\n",
       "      <th>water</th>\n",
       "      <th>urban</th>\n",
       "      <th>...</th>\n",
       "      <th>feature_violated</th>\n",
       "      <th>solrad_annual</th>\n",
       "      <th>ac_monthly</th>\n",
       "      <th>poa_monthly</th>\n",
       "      <th>solrad_monthly</th>\n",
       "      <th>dc_monthly</th>\n",
       "      <th>ac_annual</th>\n",
       "      <th>Unnamed: 21</th>\n",
       "      <th>0.0</th>\n",
       "      <th>min distance</th>\n",
       "    </tr>\n",
       "  </thead>\n",
       "  <tbody>\n",
       "  </tbody>\n",
       "</table>\n",
       "<p>0 rows × 24 columns</p>\n",
       "</div>"
      ],
      "text/plain": [
       "Empty DataFrame\n",
       "Columns: [Latitude, Longitude, Solar_farm_present, State, panel.area, power, panels, landscape.area, water, urban, Address, land_cover, slope, elevation, feature_violated, solrad_annual, ac_monthly, poa_monthly, solrad_monthly, dc_monthly, ac_annual, Unnamed: 21, 0.0, min distance]\n",
       "Index: []\n",
       "\n",
       "[0 rows x 24 columns]"
      ]
     },
     "execution_count": 181,
     "metadata": {},
     "output_type": "execute_result"
    }
   ],
   "source": [
    "final_data_city.loc[(final_data_city['Latitude']<38.089889).values * (final_data_city['Latitude']>38.089887).values]"
   ]
  },
  {
   "cell_type": "code",
   "execution_count": 182,
   "metadata": {},
   "outputs": [],
   "source": [
    "final_data_city.rename(columns={'min distance':'min_distance'},inplace=True)"
   ]
  },
  {
   "cell_type": "code",
   "execution_count": 184,
   "metadata": {},
   "outputs": [],
   "source": [
    "# filename = 'ca_data_version_13.csv'\n",
    "# final_data_city.to_csv('../data/'+ filename,index=False)"
   ]
  },
  {
   "cell_type": "code",
   "execution_count": 185,
   "metadata": {},
   "outputs": [],
   "source": [
    "test = pd.read_csv('../data/ca_data_version_13.csv')"
   ]
  },
  {
   "cell_type": "code",
   "execution_count": 186,
   "metadata": {},
   "outputs": [
    {
     "data": {
      "text/html": [
       "<div>\n",
       "<style scoped>\n",
       "    .dataframe tbody tr th:only-of-type {\n",
       "        vertical-align: middle;\n",
       "    }\n",
       "\n",
       "    .dataframe tbody tr th {\n",
       "        vertical-align: top;\n",
       "    }\n",
       "\n",
       "    .dataframe thead th {\n",
       "        text-align: right;\n",
       "    }\n",
       "</style>\n",
       "<table border=\"1\" class=\"dataframe\">\n",
       "  <thead>\n",
       "    <tr style=\"text-align: right;\">\n",
       "      <th></th>\n",
       "      <th>Latitude</th>\n",
       "      <th>Longitude</th>\n",
       "      <th>Solar_farm_present</th>\n",
       "      <th>State</th>\n",
       "      <th>panel.area</th>\n",
       "      <th>power</th>\n",
       "      <th>panels</th>\n",
       "      <th>landscape.area</th>\n",
       "      <th>water</th>\n",
       "      <th>urban</th>\n",
       "      <th>...</th>\n",
       "      <th>feature_violated</th>\n",
       "      <th>solrad_annual</th>\n",
       "      <th>ac_monthly</th>\n",
       "      <th>poa_monthly</th>\n",
       "      <th>solrad_monthly</th>\n",
       "      <th>dc_monthly</th>\n",
       "      <th>ac_annual</th>\n",
       "      <th>Unnamed: 21</th>\n",
       "      <th>0.0</th>\n",
       "      <th>min_distance</th>\n",
       "    </tr>\n",
       "  </thead>\n",
       "  <tbody>\n",
       "    <tr>\n",
       "      <th>0</th>\n",
       "      <td>34.082452</td>\n",
       "      <td>-117.396048</td>\n",
       "      <td>NaN</td>\n",
       "      <td>CA</td>\n",
       "      <td>NaN</td>\n",
       "      <td>NaN</td>\n",
       "      <td>NaN</td>\n",
       "      <td>NaN</td>\n",
       "      <td>NaN</td>\n",
       "      <td>NaN</td>\n",
       "      <td>...</td>\n",
       "      <td>ac_annual</td>\n",
       "      <td>6.137753</td>\n",
       "      <td>[126643.6284333316, 123642.4656084192, 146079....</td>\n",
       "      <td>[160.3371500625433, 157.9419747969732, 190.017...</td>\n",
       "      <td>[5.172166131049785, 5.640784814177614, 6.12959...</td>\n",
       "      <td>[132621.8932622115, 129576.8218587892, 153178....</td>\n",
       "      <td>1.696741e+06</td>\n",
       "      <td>0</td>\n",
       "      <td>0</td>\n",
       "      <td>4.9767</td>\n",
       "    </tr>\n",
       "    <tr>\n",
       "      <th>1</th>\n",
       "      <td>33.710924</td>\n",
       "      <td>-117.137177</td>\n",
       "      <td>NaN</td>\n",
       "      <td>CA</td>\n",
       "      <td>NaN</td>\n",
       "      <td>NaN</td>\n",
       "      <td>NaN</td>\n",
       "      <td>NaN</td>\n",
       "      <td>NaN</td>\n",
       "      <td>NaN</td>\n",
       "      <td>...</td>\n",
       "      <td>ac_annual</td>\n",
       "      <td>6.204925</td>\n",
       "      <td>[126868.3514493219, 123183.8261829259, 150337....</td>\n",
       "      <td>[163.6214888471466, 159.1281172506521, 198.769...</td>\n",
       "      <td>[5.278112543456341, 5.683147044666148, 6.41193...</td>\n",
       "      <td>[132793.0245010775, 128887.8434912795, 157389....</td>\n",
       "      <td>1.690435e+06</td>\n",
       "      <td>0</td>\n",
       "      <td>0</td>\n",
       "      <td>8.2905</td>\n",
       "    </tr>\n",
       "    <tr>\n",
       "      <th>2</th>\n",
       "      <td>39.948686</td>\n",
       "      <td>-122.357736</td>\n",
       "      <td>NaN</td>\n",
       "      <td>CA</td>\n",
       "      <td>NaN</td>\n",
       "      <td>NaN</td>\n",
       "      <td>NaN</td>\n",
       "      <td>NaN</td>\n",
       "      <td>NaN</td>\n",
       "      <td>NaN</td>\n",
       "      <td>...</td>\n",
       "      <td>ac_annual</td>\n",
       "      <td>5.701319</td>\n",
       "      <td>[81871.68545656932, 90825.3059124629, 139086.2...</td>\n",
       "      <td>[100.9587614211884, 113.1211746079644, 177.813...</td>\n",
       "      <td>[3.256734239393176, 4.040041950284444, 5.73593...</td>\n",
       "      <td>[86019.00030301968, 95337.82386751169, 145682....</td>\n",
       "      <td>1.566192e+06</td>\n",
       "      <td>0</td>\n",
       "      <td>0</td>\n",
       "      <td>83.4367</td>\n",
       "    </tr>\n",
       "    <tr>\n",
       "      <th>3</th>\n",
       "      <td>37.934613</td>\n",
       "      <td>-121.645842</td>\n",
       "      <td>NaN</td>\n",
       "      <td>CA</td>\n",
       "      <td>NaN</td>\n",
       "      <td>NaN</td>\n",
       "      <td>NaN</td>\n",
       "      <td>NaN</td>\n",
       "      <td>NaN</td>\n",
       "      <td>NaN</td>\n",
       "      <td>...</td>\n",
       "      <td>ac_annual</td>\n",
       "      <td>5.892671</td>\n",
       "      <td>[93225.92555313384, 117872.5185756382, 133564....</td>\n",
       "      <td>[113.2858897184085, 147.74228808641, 170.25043...</td>\n",
       "      <td>[3.654383539303501, 5.276510288800359, 5.49194...</td>\n",
       "      <td>[97835.782674236, 123415.2943375236, 139980.07...</td>\n",
       "      <td>1.657431e+06</td>\n",
       "      <td>0</td>\n",
       "      <td>0</td>\n",
       "      <td>17.8811</td>\n",
       "    </tr>\n",
       "    <tr>\n",
       "      <th>4</th>\n",
       "      <td>37.973721</td>\n",
       "      <td>-121.991002</td>\n",
       "      <td>NaN</td>\n",
       "      <td>CA</td>\n",
       "      <td>NaN</td>\n",
       "      <td>NaN</td>\n",
       "      <td>NaN</td>\n",
       "      <td>NaN</td>\n",
       "      <td>NaN</td>\n",
       "      <td>NaN</td>\n",
       "      <td>...</td>\n",
       "      <td>ac_annual</td>\n",
       "      <td>5.897817</td>\n",
       "      <td>[96173.72130512354, 120312.542412835, 141419.0...</td>\n",
       "      <td>[116.6067532589445, 150.3203686240996, 179.493...</td>\n",
       "      <td>[3.761508169643369, 5.368584593717842, 5.79011...</td>\n",
       "      <td>[100873.0371669258, 125951.7057612103, 148151....</td>\n",
       "      <td>1.666310e+06</td>\n",
       "      <td>0</td>\n",
       "      <td>0</td>\n",
       "      <td>1.1831</td>\n",
       "    </tr>\n",
       "    <tr>\n",
       "      <th>...</th>\n",
       "      <td>...</td>\n",
       "      <td>...</td>\n",
       "      <td>...</td>\n",
       "      <td>...</td>\n",
       "      <td>...</td>\n",
       "      <td>...</td>\n",
       "      <td>...</td>\n",
       "      <td>...</td>\n",
       "      <td>...</td>\n",
       "      <td>...</td>\n",
       "      <td>...</td>\n",
       "      <td>...</td>\n",
       "      <td>...</td>\n",
       "      <td>...</td>\n",
       "      <td>...</td>\n",
       "      <td>...</td>\n",
       "      <td>...</td>\n",
       "      <td>...</td>\n",
       "      <td>...</td>\n",
       "      <td>...</td>\n",
       "      <td>...</td>\n",
       "    </tr>\n",
       "    <tr>\n",
       "      <th>4995</th>\n",
       "      <td>33.906465</td>\n",
       "      <td>-120.027900</td>\n",
       "      <td>0.0</td>\n",
       "      <td>CA</td>\n",
       "      <td>NaN</td>\n",
       "      <td>NaN</td>\n",
       "      <td>NaN</td>\n",
       "      <td>NaN</td>\n",
       "      <td>NaN</td>\n",
       "      <td>NaN</td>\n",
       "      <td>...</td>\n",
       "      <td>ac_annual</td>\n",
       "      <td>5.657576</td>\n",
       "      <td>[124430.625264793, 128050.6419688767, 145367.7...</td>\n",
       "      <td>[153.6989610932505, 160.3153573714344, 182.836...</td>\n",
       "      <td>[4.958031003008081, 5.725548477551228, 5.89796...</td>\n",
       "      <td>[130265.685683405, 134053.1184491426, 152307.0...</td>\n",
       "      <td>1.630118e+06</td>\n",
       "      <td>0</td>\n",
       "      <td>0</td>\n",
       "      <td>18.4074</td>\n",
       "    </tr>\n",
       "    <tr>\n",
       "      <th>4996</th>\n",
       "      <td>33.417612</td>\n",
       "      <td>-115.993832</td>\n",
       "      <td>0.0</td>\n",
       "      <td>CA</td>\n",
       "      <td>NaN</td>\n",
       "      <td>NaN</td>\n",
       "      <td>NaN</td>\n",
       "      <td>NaN</td>\n",
       "      <td>NaN</td>\n",
       "      <td>NaN</td>\n",
       "      <td>...</td>\n",
       "      <td>ac_annual</td>\n",
       "      <td>6.323911</td>\n",
       "      <td>[134881.0702731289, 134061.3259228609, 160552....</td>\n",
       "      <td>[171.7044746679793, 171.4122722654111, 210.579...</td>\n",
       "      <td>[5.538854021547718, 6.121866866621824, 6.79290...</td>\n",
       "      <td>[141101.3654307219, 140161.8184159705, 167980....</td>\n",
       "      <td>1.721495e+06</td>\n",
       "      <td>0</td>\n",
       "      <td>0</td>\n",
       "      <td>46.7102</td>\n",
       "    </tr>\n",
       "    <tr>\n",
       "      <th>4997</th>\n",
       "      <td>41.689003</td>\n",
       "      <td>-122.465599</td>\n",
       "      <td>0.0</td>\n",
       "      <td>CA</td>\n",
       "      <td>NaN</td>\n",
       "      <td>NaN</td>\n",
       "      <td>NaN</td>\n",
       "      <td>NaN</td>\n",
       "      <td>NaN</td>\n",
       "      <td>NaN</td>\n",
       "      <td>...</td>\n",
       "      <td>ac_annual</td>\n",
       "      <td>5.611707</td>\n",
       "      <td>[93573.38738081408, 97924.47093016192, 131421....</td>\n",
       "      <td>[114.6791140404956, 121.3874734554713, 166.397...</td>\n",
       "      <td>[3.699326259370827, 4.335266909123976, 5.36766...</td>\n",
       "      <td>[98146.2203916726, 102768.3713357534, 137701.7...</td>\n",
       "      <td>1.557846e+06</td>\n",
       "      <td>0</td>\n",
       "      <td>0</td>\n",
       "      <td>152.5223</td>\n",
       "    </tr>\n",
       "    <tr>\n",
       "      <th>4998</th>\n",
       "      <td>36.683149</td>\n",
       "      <td>-120.329916</td>\n",
       "      <td>0.0</td>\n",
       "      <td>CA</td>\n",
       "      <td>NaN</td>\n",
       "      <td>NaN</td>\n",
       "      <td>NaN</td>\n",
       "      <td>NaN</td>\n",
       "      <td>NaN</td>\n",
       "      <td>NaN</td>\n",
       "      <td>...</td>\n",
       "      <td>ac_annual</td>\n",
       "      <td>5.919039</td>\n",
       "      <td>[87091.30519709826, 105473.3029344761, 150766....</td>\n",
       "      <td>[107.8239676379539, 132.2051590546551, 193.002...</td>\n",
       "      <td>[3.478192504450126, 4.72161282338054, 6.225877...</td>\n",
       "      <td>[91538.11642345533, 110607.0393392461, 158047....</td>\n",
       "      <td>1.633566e+06</td>\n",
       "      <td>0</td>\n",
       "      <td>0</td>\n",
       "      <td>61.3323</td>\n",
       "    </tr>\n",
       "    <tr>\n",
       "      <th>4999</th>\n",
       "      <td>39.831362</td>\n",
       "      <td>-123.932533</td>\n",
       "      <td>0.0</td>\n",
       "      <td>CA</td>\n",
       "      <td>NaN</td>\n",
       "      <td>NaN</td>\n",
       "      <td>NaN</td>\n",
       "      <td>NaN</td>\n",
       "      <td>NaN</td>\n",
       "      <td>NaN</td>\n",
       "      <td>...</td>\n",
       "      <td>ac_annual</td>\n",
       "      <td>4.741830</td>\n",
       "      <td>[80130.83642485294, 83019.93567018978, 112548....</td>\n",
       "      <td>[100.7047651639755, 105.2451459724102, 144.019...</td>\n",
       "      <td>[3.248540811741146, 3.758755213300365, 4.64579...</td>\n",
       "      <td>[84193.91767523765, 87256.28879063463, 118177....</td>\n",
       "      <td>1.320341e+06</td>\n",
       "      <td>0</td>\n",
       "      <td>0</td>\n",
       "      <td>367.5614</td>\n",
       "    </tr>\n",
       "  </tbody>\n",
       "</table>\n",
       "<p>5000 rows × 24 columns</p>\n",
       "</div>"
      ],
      "text/plain": [
       "       Latitude   Longitude  Solar_farm_present State  panel.area  power  \\\n",
       "0     34.082452 -117.396048                 NaN    CA         NaN    NaN   \n",
       "1     33.710924 -117.137177                 NaN    CA         NaN    NaN   \n",
       "2     39.948686 -122.357736                 NaN    CA         NaN    NaN   \n",
       "3     37.934613 -121.645842                 NaN    CA         NaN    NaN   \n",
       "4     37.973721 -121.991002                 NaN    CA         NaN    NaN   \n",
       "...         ...         ...                 ...   ...         ...    ...   \n",
       "4995  33.906465 -120.027900                 0.0    CA         NaN    NaN   \n",
       "4996  33.417612 -115.993832                 0.0    CA         NaN    NaN   \n",
       "4997  41.689003 -122.465599                 0.0    CA         NaN    NaN   \n",
       "4998  36.683149 -120.329916                 0.0    CA         NaN    NaN   \n",
       "4999  39.831362 -123.932533                 0.0    CA         NaN    NaN   \n",
       "\n",
       "      panels  landscape.area  water  urban  ... feature_violated  \\\n",
       "0        NaN             NaN    NaN    NaN  ...        ac_annual   \n",
       "1        NaN             NaN    NaN    NaN  ...        ac_annual   \n",
       "2        NaN             NaN    NaN    NaN  ...        ac_annual   \n",
       "3        NaN             NaN    NaN    NaN  ...        ac_annual   \n",
       "4        NaN             NaN    NaN    NaN  ...        ac_annual   \n",
       "...      ...             ...    ...    ...  ...              ...   \n",
       "4995     NaN             NaN    NaN    NaN  ...        ac_annual   \n",
       "4996     NaN             NaN    NaN    NaN  ...        ac_annual   \n",
       "4997     NaN             NaN    NaN    NaN  ...        ac_annual   \n",
       "4998     NaN             NaN    NaN    NaN  ...        ac_annual   \n",
       "4999     NaN             NaN    NaN    NaN  ...        ac_annual   \n",
       "\n",
       "      solrad_annual                                         ac_monthly  \\\n",
       "0          6.137753  [126643.6284333316, 123642.4656084192, 146079....   \n",
       "1          6.204925  [126868.3514493219, 123183.8261829259, 150337....   \n",
       "2          5.701319  [81871.68545656932, 90825.3059124629, 139086.2...   \n",
       "3          5.892671  [93225.92555313384, 117872.5185756382, 133564....   \n",
       "4          5.897817  [96173.72130512354, 120312.542412835, 141419.0...   \n",
       "...             ...                                                ...   \n",
       "4995       5.657576  [124430.625264793, 128050.6419688767, 145367.7...   \n",
       "4996       6.323911  [134881.0702731289, 134061.3259228609, 160552....   \n",
       "4997       5.611707  [93573.38738081408, 97924.47093016192, 131421....   \n",
       "4998       5.919039  [87091.30519709826, 105473.3029344761, 150766....   \n",
       "4999       4.741830  [80130.83642485294, 83019.93567018978, 112548....   \n",
       "\n",
       "                                            poa_monthly  \\\n",
       "0     [160.3371500625433, 157.9419747969732, 190.017...   \n",
       "1     [163.6214888471466, 159.1281172506521, 198.769...   \n",
       "2     [100.9587614211884, 113.1211746079644, 177.813...   \n",
       "3     [113.2858897184085, 147.74228808641, 170.25043...   \n",
       "4     [116.6067532589445, 150.3203686240996, 179.493...   \n",
       "...                                                 ...   \n",
       "4995  [153.6989610932505, 160.3153573714344, 182.836...   \n",
       "4996  [171.7044746679793, 171.4122722654111, 210.579...   \n",
       "4997  [114.6791140404956, 121.3874734554713, 166.397...   \n",
       "4998  [107.8239676379539, 132.2051590546551, 193.002...   \n",
       "4999  [100.7047651639755, 105.2451459724102, 144.019...   \n",
       "\n",
       "                                         solrad_monthly  \\\n",
       "0     [5.172166131049785, 5.640784814177614, 6.12959...   \n",
       "1     [5.278112543456341, 5.683147044666148, 6.41193...   \n",
       "2     [3.256734239393176, 4.040041950284444, 5.73593...   \n",
       "3     [3.654383539303501, 5.276510288800359, 5.49194...   \n",
       "4     [3.761508169643369, 5.368584593717842, 5.79011...   \n",
       "...                                                 ...   \n",
       "4995  [4.958031003008081, 5.725548477551228, 5.89796...   \n",
       "4996  [5.538854021547718, 6.121866866621824, 6.79290...   \n",
       "4997  [3.699326259370827, 4.335266909123976, 5.36766...   \n",
       "4998  [3.478192504450126, 4.72161282338054, 6.225877...   \n",
       "4999  [3.248540811741146, 3.758755213300365, 4.64579...   \n",
       "\n",
       "                                             dc_monthly     ac_annual  \\\n",
       "0     [132621.8932622115, 129576.8218587892, 153178....  1.696741e+06   \n",
       "1     [132793.0245010775, 128887.8434912795, 157389....  1.690435e+06   \n",
       "2     [86019.00030301968, 95337.82386751169, 145682....  1.566192e+06   \n",
       "3     [97835.782674236, 123415.2943375236, 139980.07...  1.657431e+06   \n",
       "4     [100873.0371669258, 125951.7057612103, 148151....  1.666310e+06   \n",
       "...                                                 ...           ...   \n",
       "4995  [130265.685683405, 134053.1184491426, 152307.0...  1.630118e+06   \n",
       "4996  [141101.3654307219, 140161.8184159705, 167980....  1.721495e+06   \n",
       "4997  [98146.2203916726, 102768.3713357534, 137701.7...  1.557846e+06   \n",
       "4998  [91538.11642345533, 110607.0393392461, 158047....  1.633566e+06   \n",
       "4999  [84193.91767523765, 87256.28879063463, 118177....  1.320341e+06   \n",
       "\n",
       "     Unnamed: 21 0.0 min_distance  \n",
       "0              0   0       4.9767  \n",
       "1              0   0       8.2905  \n",
       "2              0   0      83.4367  \n",
       "3              0   0      17.8811  \n",
       "4              0   0       1.1831  \n",
       "...          ...  ..          ...  \n",
       "4995           0   0      18.4074  \n",
       "4996           0   0      46.7102  \n",
       "4997           0   0     152.5223  \n",
       "4998           0   0      61.3323  \n",
       "4999           0   0     367.5614  \n",
       "\n",
       "[5000 rows x 24 columns]"
      ]
     },
     "execution_count": 186,
     "metadata": {},
     "output_type": "execute_result"
    }
   ],
   "source": [
    "\n",
    "test.loc[test['State']=='CA']"
   ]
  },
  {
   "cell_type": "markdown",
   "metadata": {},
   "source": [
    "### Analyzing dataset"
   ]
  },
  {
   "cell_type": "code",
   "execution_count": 187,
   "metadata": {},
   "outputs": [],
   "source": [
    "CA_data = test.loc[test['State']=='CA']"
   ]
  },
  {
   "cell_type": "code",
   "execution_count": 188,
   "metadata": {},
   "outputs": [
    {
     "data": {
      "text/plain": [
       "0       354.0\n",
       "1       446.0\n",
       "2       139.0\n",
       "3        10.0\n",
       "4        54.0\n",
       "        ...  \n",
       "4995      0.0\n",
       "4996    -70.0\n",
       "4997    798.0\n",
       "4998     49.0\n",
       "4999      0.0\n",
       "Name: elevation, Length: 5000, dtype: float64"
      ]
     },
     "execution_count": 188,
     "metadata": {},
     "output_type": "execute_result"
    }
   ],
   "source": [
    "CA_data['elevation']"
   ]
  },
  {
   "cell_type": "code",
   "execution_count": 190,
   "metadata": {},
   "outputs": [],
   "source": [
    "lats = CA_data['Latitude'].values.copy()\n",
    "lngs = CA_data['Longitude'].values.copy()\n",
    "lats_solar_farm = CA_data.loc[CA_data['power']>0.01]['Latitude'].values.copy()\n",
    "lngs_solar_farm = CA_data.loc[CA_data['power']>0.01]['Longitude'].values.copy()\n",
    "lats_grid = CA_data.loc[np.isnan(CA_data['panel.area'])]['Latitude'].values.copy()\n",
    "lngs_grid = CA_data.loc[np.isnan(CA_data['panel.area'])]['Longitude'].values.copy()"
   ]
  },
  {
   "cell_type": "code",
   "execution_count": 191,
   "metadata": {},
   "outputs": [
    {
     "data": {
      "text/plain": [
       "154"
      ]
     },
     "execution_count": 191,
     "metadata": {},
     "output_type": "execute_result"
    }
   ],
   "source": [
    "len(lats_solar_farm)"
   ]
  },
  {
   "cell_type": "code",
   "execution_count": 192,
   "metadata": {},
   "outputs": [
    {
     "data": {
      "text/plain": [
       "<matplotlib.collections.PathCollection at 0x290ee63d0>"
      ]
     },
     "execution_count": 192,
     "metadata": {},
     "output_type": "execute_result"
    },
    {
     "data": {
      "image/png": "[encoded data removed]",
      "text/plain": [
       "<Figure size 640x480 with 1 Axes>"
      ]
     },
     "metadata": {},
     "output_type": "display_data"
    }
   ],
   "source": [
    "pl.plot(*CA_polygon.exterior.xy)\n",
    "pl.scatter(lngs_grid,lats_grid,color='blue',s=0.7)\n",
    "pl.scatter(lngs_solar_farm,lats_solar_farm,color='red',s=2)"
   ]
  },
  {
   "cell_type": "code",
   "execution_count": 194,
   "metadata": {},
   "outputs": [],
   "source": [
    "cities_distance = CA_data['min_distance'].values.copy()\n",
    "cities_distance_solar_farms = CA_data.loc[CA_data['power']>0.5]['min_distance'].values.copy()\n",
    "cities_distance_grid = CA_data.loc[np.isnan(CA_data['panel.area'])]['min_distance'].values.copy()"
   ]
  },
  {
   "cell_type": "code",
   "execution_count": 195,
   "metadata": {},
   "outputs": [
    {
     "data": {
      "text/plain": [
       "True"
      ]
     },
     "execution_count": 195,
     "metadata": {},
     "output_type": "execute_result"
    }
   ],
   "source": [
    "np.any(np.isnan(cities_distance))"
   ]
  },
  {
   "cell_type": "code",
   "execution_count": 209,
   "metadata": {},
   "outputs": [
    {
     "data": {
      "text/plain": [
       "1442"
      ]
     },
     "execution_count": 209,
     "metadata": {},
     "output_type": "execute_result"
    }
   ],
   "source": [
    "temp = CA_data.loc[(CA_data['elevation']<1500) * (CA_data['slope']<20) * (CA_data['land_cover']!=0)  * (CA_data['solrad_annual']>3.0)]\n",
    "cities_distance_2 = temp['min_distance'].values.copy()\n",
    "# len(cities_distance_2)\n",
    "np.sum((cities_distance_2>100))"
   ]
  },
  {
   "cell_type": "code",
   "execution_count": 131,
   "metadata": {},
   "outputs": [],
   "source": [
    "# threshold for cities distance = 100"
   ]
  },
  {
   "cell_type": "code",
   "execution_count": 210,
   "metadata": {},
   "outputs": [
    {
     "data": {
      "text/plain": [
       "<matplotlib.legend.Legend at 0x290f08130>"
      ]
     },
     "execution_count": 210,
     "metadata": {},
     "output_type": "execute_result"
    },
    {
     "data": {
      "image/png": "[encoded data removed]",
      "text/plain": [
       "<Figure size 640x480 with 1 Axes>"
      ]
     },
     "metadata": {},
     "output_type": "display_data"
    }
   ],
   "source": [
    "pl.hist(cities_distance,bins=15,density=True,label='New locations')\n",
    "pl.hist(cities_distance_solar_farms,bins=15,density=True,alpha=0.5,label='Existing Solar Farms')\n",
    "pl.title('Histogram for fraction of location points with a city within a distance')\n",
    "pl.xlabel('Distance')\n",
    "pl.ylabel('Fraction of locations')\n",
    "pl.legend()"
   ]
  },
  {
   "cell_type": "code",
   "execution_count": 211,
   "metadata": {},
   "outputs": [
    {
     "ename": "KeyError",
     "evalue": "'Latitude'",
     "output_type": "error",
     "traceback": [
      "\u001b[0;31m---------------------------------------------------------------------------\u001b[0m",
      "\u001b[0;31mKeyError\u001b[0m                                  Traceback (most recent call last)",
      "File \u001b[0;32m~/anaconda3/lib/python3.9/site-packages/pandas/core/indexes/base.py:3629\u001b[0m, in \u001b[0;36mIndex.get_loc\u001b[0;34m(self, key, method, tolerance)\u001b[0m\n\u001b[1;32m   3628\u001b[0m \u001b[39mtry\u001b[39;00m:\n\u001b[0;32m-> 3629\u001b[0m     \u001b[39mreturn\u001b[39;00m \u001b[39mself\u001b[39;49m\u001b[39m.\u001b[39;49m_engine\u001b[39m.\u001b[39;49mget_loc(casted_key)\n\u001b[1;32m   3630\u001b[0m \u001b[39mexcept\u001b[39;00m \u001b[39mKeyError\u001b[39;00m \u001b[39mas\u001b[39;00m err:\n",
      "File \u001b[0;32m~/anaconda3/lib/python3.9/site-packages/pandas/_libs/index.pyx:136\u001b[0m, in \u001b[0;36mpandas._libs.index.IndexEngine.get_loc\u001b[0;34m()\u001b[0m\n",
      "File \u001b[0;32m~/anaconda3/lib/python3.9/site-packages/pandas/_libs/index.pyx:163\u001b[0m, in \u001b[0;36mpandas._libs.index.IndexEngine.get_loc\u001b[0;34m()\u001b[0m\n",
      "File \u001b[0;32mpandas/_libs/hashtable_class_helper.pxi:5198\u001b[0m, in \u001b[0;36mpandas._libs.hashtable.PyObjectHashTable.get_item\u001b[0;34m()\u001b[0m\n",
      "File \u001b[0;32mpandas/_libs/hashtable_class_helper.pxi:5206\u001b[0m, in \u001b[0;36mpandas._libs.hashtable.PyObjectHashTable.get_item\u001b[0;34m()\u001b[0m\n",
      "\u001b[0;31mKeyError\u001b[0m: 'Latitude'",
      "\nThe above exception was the direct cause of the following exception:\n",
      "\u001b[0;31mKeyError\u001b[0m                                  Traceback (most recent call last)",
      "\u001b[1;32m/Users/utkarshagrawal/Documents/Postdoc/Data_Science_2023/SolarFarmPrediction/data_code/cities.ipynb Cell 52\u001b[0m in \u001b[0;36m<cell line: 1>\u001b[0;34m()\u001b[0m\n\u001b[0;32m----> <a href='vscode-notebook-cell:/Users/utkarshagrawal/Documents/Postdoc/Data_Science_2023/SolarFarmPrediction/data_code/cities.ipynb#Y116sZmlsZQ%3D%3D?line=0'>1</a>\u001b[0m cities_lat \u001b[39m=\u001b[39m cities[\u001b[39m'\u001b[39;49m\u001b[39mLatitude\u001b[39;49m\u001b[39m'\u001b[39;49m]\u001b[39m.\u001b[39mvalues\u001b[39m.\u001b[39mcopy()\n\u001b[1;32m      <a href='vscode-notebook-cell:/Users/utkarshagrawal/Documents/Postdoc/Data_Science_2023/SolarFarmPrediction/data_code/cities.ipynb#Y116sZmlsZQ%3D%3D?line=1'>2</a>\u001b[0m cities_lng \u001b[39m=\u001b[39m cities[\u001b[39m'\u001b[39m\u001b[39mLongitude\u001b[39m\u001b[39m'\u001b[39m]\u001b[39m.\u001b[39mvalues\u001b[39m.\u001b[39mcopy()\n",
      "File \u001b[0;32m~/anaconda3/lib/python3.9/site-packages/pandas/core/frame.py:3505\u001b[0m, in \u001b[0;36mDataFrame.__getitem__\u001b[0;34m(self, key)\u001b[0m\n\u001b[1;32m   3503\u001b[0m \u001b[39mif\u001b[39;00m \u001b[39mself\u001b[39m\u001b[39m.\u001b[39mcolumns\u001b[39m.\u001b[39mnlevels \u001b[39m>\u001b[39m \u001b[39m1\u001b[39m:\n\u001b[1;32m   3504\u001b[0m     \u001b[39mreturn\u001b[39;00m \u001b[39mself\u001b[39m\u001b[39m.\u001b[39m_getitem_multilevel(key)\n\u001b[0;32m-> 3505\u001b[0m indexer \u001b[39m=\u001b[39m \u001b[39mself\u001b[39;49m\u001b[39m.\u001b[39;49mcolumns\u001b[39m.\u001b[39;49mget_loc(key)\n\u001b[1;32m   3506\u001b[0m \u001b[39mif\u001b[39;00m is_integer(indexer):\n\u001b[1;32m   3507\u001b[0m     indexer \u001b[39m=\u001b[39m [indexer]\n",
      "File \u001b[0;32m~/anaconda3/lib/python3.9/site-packages/pandas/core/indexes/base.py:3631\u001b[0m, in \u001b[0;36mIndex.get_loc\u001b[0;34m(self, key, method, tolerance)\u001b[0m\n\u001b[1;32m   3629\u001b[0m     \u001b[39mreturn\u001b[39;00m \u001b[39mself\u001b[39m\u001b[39m.\u001b[39m_engine\u001b[39m.\u001b[39mget_loc(casted_key)\n\u001b[1;32m   3630\u001b[0m \u001b[39mexcept\u001b[39;00m \u001b[39mKeyError\u001b[39;00m \u001b[39mas\u001b[39;00m err:\n\u001b[0;32m-> 3631\u001b[0m     \u001b[39mraise\u001b[39;00m \u001b[39mKeyError\u001b[39;00m(key) \u001b[39mfrom\u001b[39;00m \u001b[39merr\u001b[39;00m\n\u001b[1;32m   3632\u001b[0m \u001b[39mexcept\u001b[39;00m \u001b[39mTypeError\u001b[39;00m:\n\u001b[1;32m   3633\u001b[0m     \u001b[39m# If we have a listlike key, _check_indexing_error will raise\u001b[39;00m\n\u001b[1;32m   3634\u001b[0m     \u001b[39m#  InvalidIndexError. Otherwise we fall through and re-raise\u001b[39;00m\n\u001b[1;32m   3635\u001b[0m     \u001b[39m#  the TypeError.\u001b[39;00m\n\u001b[1;32m   3636\u001b[0m     \u001b[39mself\u001b[39m\u001b[39m.\u001b[39m_check_indexing_error(key)\n",
      "\u001b[0;31mKeyError\u001b[0m: 'Latitude'"
     ]
    }
   ],
   "source": [
    "cities_lat = cities['Latitude'].values.copy()\n",
    "cities_lng = cities['Longitude'].values.copy()"
   ]
  },
  {
   "cell_type": "code",
   "execution_count": 212,
   "metadata": {},
   "outputs": [
    {
     "data": {
      "text/plain": [
       "Text(0.5, 1.0, 'Cities with min. population 88000 in CA')"
      ]
     },
     "execution_count": 212,
     "metadata": {},
     "output_type": "execute_result"
    },
    {
     "data": {
      "image/png": "[encoded data removed]",
      "text/plain": [
       "<Figure size 640x480 with 1 Axes>"
      ]
     },
     "metadata": {},
     "output_type": "display_data"
    }
   ],
   "source": [
    "pl.plot(*CA_polygon.exterior.xy)\n",
    "pl.scatter(cities_lng,cities_lat,color='green')\n",
    "pl.title('Cities with min. population 88000 in CA')"
   ]
  },
  {
   "cell_type": "code",
   "execution_count": 213,
   "metadata": {},
   "outputs": [
    {
     "data": {
      "text/plain": [
       "<matplotlib.colorbar.Colorbar at 0x2910786d0>"
      ]
     },
     "execution_count": 213,
     "metadata": {},
     "output_type": "execute_result"
    },
    {
     "data": {
      "image/png": "[encoded data removed]",
      "text/plain": [
       "<Figure size 640x480 with 2 Axes>"
      ]
     },
     "metadata": {},
     "output_type": "display_data"
    }
   ],
   "source": [
    "pl.plot(*CA_polygon.exterior.xy) \n",
    "max_dist = np.max(cities_distance)\n",
    "cities_distance_grid[np.isnan(cities_distance_grid)]=500\n",
    "# pl.tricontour(lngs[:],lats[:],cities_distance[:])\n",
    "sc = pl.scatter(lngs_grid,lats_grid,c=cities_distance_grid,s= 3.5)\n",
    "pl.colorbar(sc)\n"
   ]
  },
  {
   "cell_type": "code",
   "execution_count": null,
   "metadata": {},
   "outputs": [],
   "source": []
  }
 ],
 "metadata": {
  "kernelspec": {
   "display_name": "Python 3.9.13 ('base')",
   "language": "python",
   "name": "python3"
  },
  "language_info": {
   "codemirror_mode": {
    "name": "ipython",
    "version": 3
   },
   "file_extension": ".py",
   "mimetype": "text/x-python",
   "name": "python",
   "nbconvert_exporter": "python",
   "pygments_lexer": "ipython3",
   "version": "3.9.13"
  },
  "orig_nbformat": 4,
  "vscode": {
   "interpreter": {
    "hash": "46d4d6e35a705a453addec98352089b1c875d6193677971858623155cb10eb88"
   }
  }
 },
 "nbformat": 4,
 "nbformat_minor": 2
}
