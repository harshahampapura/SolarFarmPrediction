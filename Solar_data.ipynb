{
 "cells": [
  {
   "cell_type": "code",
   "execution_count": null,
   "id": "88a9db4c-ed9e-43b6-a664-34723260a974",
   "metadata": {},
   "outputs": [],
   "source": [
    "##########  Solar Radiation Output from NSRDB ###########"
   ]
  },
  {
   "cell_type": "code",
   "execution_count": null,
   "id": "4ce6264b-4865-4c36-81ad-d08ae6f3c4bc",
   "metadata": {},
   "outputs": [],
   "source": [
    "import numpy as np\n",
    "import scipy as sp\n",
    "import requests\n",
    "import pandas as pd"
   ]
  }
 ],
 "metadata": {
  "kernelspec": {
   "display_name": "Python 3 (ipykernel)",
   "language": "python",
   "name": "python3"
  },
  "language_info": {
   "codemirror_mode": {
    "name": "ipython",
    "version": 3
   },
   "file_extension": ".py",
   "mimetype": "text/x-python",
   "name": "python",
   "nbconvert_exporter": "python",
   "pygments_lexer": "ipython3",
   "version": "3.12.0"
  }
 },
 "nbformat": 4,
 "nbformat_minor": 5
}
