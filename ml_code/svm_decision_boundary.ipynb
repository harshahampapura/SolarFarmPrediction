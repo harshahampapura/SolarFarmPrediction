{
 "cells": [
  {
   "cell_type": "code",
   "execution_count": null,
   "metadata": {},
   "outputs": [],
   "source": [
    "import pandas as pd\n",
    "import requests\n",
    "import json \n",
    "import numpy as np\n",
    "import matplotlib.pyplot as pl"
   ]
  },
  {
   "cell_type": "code",
   "execution_count": null,
   "metadata": {},
   "outputs": [],
   "source": [
    "import os\n",
    "import pickle\n",
    "import geopandas as gpd\n",
    "from shapely.geometry import Polygon, Point"
   ]
  },
  {
   "cell_type": "code",
   "execution_count": null,
   "metadata": {},
   "outputs": [],
   "source": [
    "from sklearn.svm import SVC\n",
    "from sklearn.impute import SimpleImputer\n",
    "from sklearn.preprocessing import StandardScaler\n",
    "from sklearn.model_selection import train_test_split, GridSearchCV\n",
    "from sklearn.metrics import accuracy_score, confusion_matrix, classification_report\n",
    "from sklearn.decomposition import PCA\n"
   ]
  },
  {
   "cell_type": "code",
   "execution_count": null,
   "metadata": {},
   "outputs": [],
   "source": [
    "threshold = 95\n",
    "data_location = '../../new_data/threshold_{}percentile/ca_data_version_6.csv'.format(threshold)"
   ]
  },
  {
   "cell_type": "code",
   "execution_count": null,
   "metadata": {},
   "outputs": [],
   "source": [
    "solar = pd.read_csv(data_location)\n",
    "# solar.drop(columns='Unnamed: 0', index=1, inplace = True)"
   ]
  },
  {
   "cell_type": "code",
   "execution_count": null,
   "metadata": {},
   "outputs": [],
   "source": [
    "solar"
   ]
  },
  {
   "cell_type": "code",
   "execution_count": null,
   "metadata": {},
   "outputs": [],
   "source": [
    "solar[solar['Solar_farm_present']==1]['land_cover'].values"
   ]
  },
  {
   "cell_type": "code",
   "execution_count": null,
   "metadata": {},
   "outputs": [],
   "source": [
    "solar.columns\n"
   ]
  },
  {
   "cell_type": "code",
   "execution_count": null,
   "metadata": {},
   "outputs": [],
   "source": [
    "solar.describe()"
   ]
  },
  {
   "cell_type": "code",
   "execution_count": null,
   "metadata": {},
   "outputs": [],
   "source": [
    "solar.head()"
   ]
  },
  {
   "cell_type": "code",
   "execution_count": null,
   "metadata": {},
   "outputs": [],
   "source": [
    "solar = solar[solar['min_distance'].notnull()]\n",
    "solar.describe()"
   ]
  },
  {
   "cell_type": "code",
   "execution_count": null,
   "metadata": {},
   "outputs": [],
   "source": [
    "solar = solar[solar['Solar_farm_present'].notnull()]"
   ]
  },
  {
   "cell_type": "code",
   "execution_count": null,
   "metadata": {},
   "outputs": [],
   "source": [
    "solar.describe()"
   ]
  },
  {
   "cell_type": "code",
   "execution_count": null,
   "metadata": {},
   "outputs": [],
   "source": [
    "solar_existing = solar[solar['Solar_farm_present']==1]\n",
    "solar_non_existing = solar[solar['Solar_farm_present']==0]\n",
    "solar_non_existing_sample = solar_non_existing.sample(500, random_state = 42)\n",
    "solar = pd.concat([solar_existing, solar_non_existing_sample])\n",
    "solar.describe()"
   ]
  },
  {
   "cell_type": "code",
   "execution_count": null,
   "metadata": {},
   "outputs": [],
   "source": [
    "req_col = ['land_cover','slope', 'elevation',  'solrad_annual','ac_annual', 'min_distance']\n",
    "X = solar[req_col]\n",
    "Y = solar['Solar_farm_present']"
   ]
  },
  {
   "cell_type": "code",
   "execution_count": null,
   "metadata": {},
   "outputs": [],
   "source": []
  },
  {
   "cell_type": "code",
   "execution_count": null,
   "metadata": {},
   "outputs": [],
   "source": [
    "X_train, X_test, y_train, y_test = train_test_split(X, Y, test_size=0.2, random_state=42)\n",
    "\n",
    "sd = StandardScaler()\n",
    "columns_ML_excluding_LC = ['slope', 'elevation',  'solrad_annual','ac_annual', 'min_distance']\n",
    "X_train_excluding_LC = X_train[columns_ML_excluding_LC ]\n",
    "temp = np.hstack((sd.fit_transform(X_train_excluding_LC),X_train['land_cover'].values.reshape((-1,1))))\n",
    "X_train_2 = pd.DataFrame(temp, columns = columns_ML_excluding_LC + ['land_cover'])\n",
    "\n",
    "X_test_excluding_LC = X_test[columns_ML_excluding_LC ]\n",
    "temp = np.hstack((sd.transform(X_test_excluding_LC),X_test['land_cover'].values.reshape((-1,1))))\n",
    "X_test_2 = pd.DataFrame(temp, columns = columns_ML_excluding_LC+['land_cover'])\n",
    "\n",
    "\n",
    "assert np.sum(np.abs(X_test_2['land_cover'].values - X_test['land_cover'].values)) == 0\n",
    "assert np.sum(np.abs(X_train_2['land_cover'].values - X_train['land_cover'].values)) == 0\n",
    "\n",
    "X_test = X_test_2\n",
    "X_train = X_train_2\n",
    "\n",
    "col_index = {'slope':0, 'elevation':1,  'solrad_annual':2,'ac_annual':3, 'min_distance':4,'land_cover':5}\n",
    "index_col = {0:'slope', 1:'elevation',  2:'solrad_annual',3:'ac_annual', 4:'min_distance',5:'land_cover'}"
   ]
  },
  {
   "cell_type": "code",
   "execution_count": null,
   "metadata": {},
   "outputs": [],
   "source": [
    "len(X_train),len(X_test)"
   ]
  },
  {
   "cell_type": "code",
   "execution_count": null,
   "metadata": {},
   "outputs": [],
   "source": [
    "svm = SVC(kernel='rbf', gamma=0.1, C=1.0, random_state= 113)\n",
    "\n",
    "params = {\"C\":(0.1, 1, 2,4),  \n",
    "          \"kernel\":('linear', 'rbf','poly')}\n",
    "\n",
    "svm_cv = GridSearchCV(svm, params, scoring=\"accuracy\", n_jobs=-1, verbose=2, cv=5)\n",
    "svm_cv.fit(X_train, y_train)"
   ]
  },
  {
   "cell_type": "code",
   "execution_count": null,
   "metadata": {},
   "outputs": [],
   "source": [
    "svm_cv.best_params_"
   ]
  },
  {
   "cell_type": "code",
   "execution_count": null,
   "metadata": {},
   "outputs": [],
   "source": []
  },
  {
   "cell_type": "code",
   "execution_count": null,
   "metadata": {},
   "outputs": [],
   "source": [
    "# svm_tuned = SVC(**svm_cv.best_params_, random_state=113)\n",
    "svm_tuned = SVC(C=4,kernel='rbf',random_state=113)\n",
    "pca = PCA(n_components=6)\n",
    "\n",
    "Xreduced = pca.fit_transform(X_train)\n",
    "# Xreduced = np.vstack([X_train['ac_annual'].values, X_train['solrad_annual'].values]).T\n",
    "print(Xreduced.shape,y_train.shape)\n",
    "\n",
    "svm_tuned.fit(Xreduced, y_train)\n",
    "y_pred_train_svm = svm_tuned.predict(Xreduced) \n",
    "Xreducedtest = pca.transform(X_test)\n",
    "# Xreducedtest = np.vstack([X_test['ac_annual'].values, X_test['solrad_annual'].values]).T\n",
    "\n",
    "y_pred_test_svm = svm_tuned.predict(Xreducedtest)"
   ]
  },
  {
   "cell_type": "code",
   "execution_count": 975,
   "metadata": {},
   "outputs": [
    {
     "name": "stdout",
     "output_type": "stream",
     "text": [
      "[0.1894152  0.46534452 0.56436825 0.58545286 0.25867676 0.18111   ] [0.1894152  0.46534452 0.56436825 0.58545286 0.25867676 0.13926993] 2.3673203324495815\n",
      "[ 0.42256854  0.42453365 -0.39753816 -0.34966757  0.60014297 -0.04040139] [ 0.42256854  0.42453365 -0.39753816 -0.34966757  0.60014297 -0.02704499] 1.4400893612934966\n",
      "[ 0.86410396 -0.14498632  0.0459842  -0.00749583 -0.47788059  0.07652576] [ 0.86410396 -0.14498632  0.0459842  -0.00749583 -0.47788059  0.04198465] 0.864462777312106\n",
      "[ 0.19168326 -0.75436258  0.18226372  0.11844854  0.58551338 -0.18772732] [ 0.19168326 -0.75436258  0.18226372  0.11844854  0.58551338 -0.06417626] 0.3694196297095739\n",
      "[ 0.04254719  0.08695488 -0.0214415   0.1878255  -0.04023582 -9.00768597] [ 0.04254719  0.08695488 -0.0214415   0.1878255  -0.04023582 -0.97635624] 0.0864595404076954\n",
      "[-0.01814709  0.0747032   0.69832481 -0.69685929  0.01000275 -9.14735696] [-0.01814709  0.0747032   0.69832481 -0.69685929  0.01000275 -0.1439432 ] 0.01137040738091612\n",
      "\n",
      " Varaiance covered as we increasing the number of PCA components:  [0.46064684 0.74086773 0.90907988 0.98096368 0.99778748 1.        ]\n",
      "0.1948368443326801 [ 0.1894152   0.42256854  0.86410396  0.19168326  0.04254719 -0.01814709] [0.46064684 0.28022089 0.16821215 0.0718838  0.0168238  0.00221252]\n",
      "[[0.19483684]\n",
      " [0.19483684]\n",
      " [0.19483684]\n",
      " [0.19483684]\n",
      " [0.19483684]\n",
      " [0.02581578]] 1.0000000000000002\n"
     ]
    },
    {
     "data": {
      "text/plain": [
       "[]"
      ]
     },
     "execution_count": 975,
     "metadata": {},
     "output_type": "execute_result"
    },
    {
     "data": {
      "image/png": "[encoded data removed]",
      "text/plain": [
       "<Figure size 640x480 with 2 Axes>"
      ]
     },
     "metadata": {},
     "output_type": "display_data"
    }
   ],
   "source": [
    "components = pca.components_ #eigenvectors of pca\n",
    "num_com = components.shape[0]\n",
    "eigvals = pca.explained_variance_ #eigenvalues of pca\n",
    "covariance = np.dot(X_train.T,X_train)/(X_train.shape[0]-1)\n",
    "\n",
    "# checking the SVD decompostion\n",
    "for i in range(components.shape[0]):\n",
    "    temp = np.dot(covariance,components[i])/eigvals[i]\n",
    "    print(temp,components[i],eigvals[i])\n",
    "    # assert np.mean(np.abs(temp-components[i])) < 1e-8\n",
    "    # eigvals.append(np.dot(temp,components[i]))\n",
    "\n",
    "var_ratio = pca.explained_variance_ratio_\n",
    "var = pca.explained_variance_\n",
    "print(\"\\n Varaiance covered as we increasing the number of PCA components: \", np.cumsum(var_ratio))\n",
    "\n",
    "print(np.sum(components[:,0]**2*var_ratio),components[:,0],var_ratio)\n",
    "fig,ax = pl.subplots()\n",
    "weighted_contri = np.abs(components[:,:])**2*var_ratio.reshape((num_com,1))\n",
    "weighted_sum = np.sum(weighted_contri,axis=0).reshape((weighted_contri.shape[1],1))\n",
    "print(weighted_sum,np.sum(weighted_sum))\n",
    "xdata = weighted_sum\n",
    "img = ax.imshow(xdata,cmap='Reds')\n",
    "pl.colorbar(img)\n",
    "ax.set_yticks([0,1,2,3,4,5])\n",
    "ax.set_yticklabels([index_col[i] for i in range(components.shape[1])],fontsize=10)\n",
    "ax.set_ylabel('Features',fontsize=14)\n",
    "\n",
    "# ax.set_xticks([0,1,2,3,4,5])\n",
    "ax.set_xticks([])\n",
    "# ax.set_xticklabels([i+1 for i in [0,1,2,3,4,5]],fontsize=10)\n",
    "# ax.set_xlabel('PCA compenents',fontsize=14)\n",
    "# _ = ax.set_title('Weights of components on features \\n (multiplied by the variance ratio of the components)',fontsize=10)"
   ]
  },
  {
   "cell_type": "markdown",
   "metadata": {},
   "source": [
    "how much variance in PCA? Weights in different features using PCA.\n",
    "Conclusion:\n",
    "Decision boundaries, non-trivial points, key take away points, future improvements."
   ]
  },
  {
   "cell_type": "code",
   "execution_count": null,
   "metadata": {},
   "outputs": [],
   "source": [
    "df = pd.DataFrame(classification_report(y_train, y_pred_train_svm, output_dict=True))\n",
    "fig, ax = pl.subplots(figsize=(15, 8))\n",
    "ax.axis('off')\n",
    "table = ax.table(cellText=df.values, colLabels=df.columns, rowLabels=df.index, loc='center', bbox=[0, 0, 1, 1], fontsize=14)\n",
    "pl.subplots_adjust(left=0.1, right=0.8, top=0.9, bottom=0.6)"
   ]
  },
  {
   "cell_type": "code",
   "execution_count": null,
   "metadata": {},
   "outputs": [],
   "source": [
    "df = pd.DataFrame(classification_report(y_test, y_pred_test_svm, output_dict=True))\n",
    "fig, ax = pl.subplots(figsize=(15, 8))\n",
    "ax.axis('off')\n",
    "table = ax.table(cellText=df.values, colLabels=df.columns, rowLabels=df.index, loc='center', bbox=[0, 0, 1, 1], fontsize=14)\n",
    "pl.subplots_adjust(left=0.1, right=0.8, top=0.9, bottom=0.6)"
   ]
  },
  {
   "cell_type": "markdown",
   "metadata": {},
   "source": [
    "## Predicting on new solar farms"
   ]
  },
  {
   "cell_type": "code",
   "execution_count": null,
   "metadata": {},
   "outputs": [],
   "source": [
    "file_loc = 'new_farms.csv'\n",
    "new_data = pd.read_csv(file_loc)\n",
    "new_data = new_data.loc[new_data['Solar_farm_present']==1]\n",
    "print(new_data.columns)"
   ]
  },
  {
   "cell_type": "code",
   "execution_count": null,
   "metadata": {},
   "outputs": [],
   "source": [
    "new_farms = new_data[columns_ML_excluding_LC+['land_cover']]"
   ]
  },
  {
   "cell_type": "code",
   "execution_count": null,
   "metadata": {},
   "outputs": [],
   "source": [
    "sd.transform(new_farms[columns_ML_excluding_LC])"
   ]
  },
  {
   "cell_type": "code",
   "execution_count": null,
   "metadata": {},
   "outputs": [],
   "source": [
    "temp = np.hstack((sd.transform(new_farms[columns_ML_excluding_LC]),new_farms['land_cover'].values.reshape((-1,1))))\n",
    "new_farms = pd.DataFrame(temp, columns = columns_ML_excluding_LC+['land_cover'])\n",
    "new_farms_reduced = pca.transform(new_farms)\n",
    "# Xreducedtest = np.vstack([X_test['ac_annual'].values, X_test['solrad_annual'].values]).T\n",
    "\n",
    "new_y_pred_test_svm = svm_tuned.predict(new_farms_reduced)"
   ]
  },
  {
   "cell_type": "code",
   "execution_count": null,
   "metadata": {},
   "outputs": [],
   "source": [
    "new_y_pred_test_svm"
   ]
  },
  {
   "cell_type": "code",
   "execution_count": null,
   "metadata": {},
   "outputs": [],
   "source": [
    "df = pd.DataFrame(classification_report([1]*len(new_y_pred_test_svm), new_y_pred_test_svm, output_dict=True))\n",
    "fig, ax = pl.subplots(figsize=(15, 8))\n",
    "ax.axis('off')\n",
    "table = ax.table(cellText=df.values, colLabels=df.columns, rowLabels=df.index, loc='center', bbox=[0, 0, 1, 1], fontsize=14)\n",
    "pl.subplots_adjust(left=0.1, right=0.8, top=0.9, bottom=0.6)"
   ]
  },
  {
   "cell_type": "code",
   "execution_count": null,
   "metadata": {},
   "outputs": [],
   "source": []
  },
  {
   "cell_type": "markdown",
   "metadata": {},
   "source": [
    "## Decision boundary"
   ]
  },
  {
   "cell_type": "code",
   "execution_count": null,
   "metadata": {},
   "outputs": [],
   "source": []
  },
  {
   "cell_type": "code",
   "execution_count": null,
   "metadata": {},
   "outputs": [],
   "source": []
  },
  {
   "cell_type": "code",
   "execution_count": 976,
   "metadata": {},
   "outputs": [],
   "source": [
    "def make_meshgrid(x, y, h=.02):\n",
    "    x_min, x_max = x.min() - 1, x.max() + 1\n",
    "    y_min, y_max = y.min() - 1, y.max() + 1\n",
    "    xx, yy = np.meshgrid(np.arange(x_min, x_max, h), np.arange(y_min, y_max, h))\n",
    "    return xx, yy\n",
    "\n",
    "def plot_contours(ax, clf, xx, yy, **params):\n",
    "    Z = clf.predict(np.c_[xx.ravel(), yy.ravel()])\n",
    "    Z = Z.reshape(xx.shape)\n",
    "    out = ax.contourf(xx, yy, Z, **params)\n",
    "    return out"
   ]
  },
  {
   "cell_type": "code",
   "execution_count": 988,
   "metadata": {},
   "outputs": [
    {
     "data": {
      "text/plain": [
       "array([4.33747858e+01, 3.73230175e+05, 2.82138881e-01, 2.01669464e+10,\n",
       "       1.48580537e+04])"
      ]
     },
     "execution_count": 988,
     "metadata": {},
     "output_type": "execute_result"
    }
   ],
   "source": [
    "sd.var_"
   ]
  },
  {
   "cell_type": "code",
   "execution_count": 989,
   "metadata": {},
   "outputs": [
    {
     "ename": "",
     "evalue": "",
     "output_type": "error",
     "traceback": [
      "\u001b[1;31mThe Kernel crashed while executing code in the the current cell or a previous cell. Please review the code in the cell(s) to identify a possible cause of the failure. Click <a href='https://aka.ms/vscodeJupyterKernelCrash'>here</a> for more info. View Jupyter <a href='command:jupyter.viewOutput'>log</a> for further details."
     ]
    },
    {
     "ename": "",
     "evalue": "",
     "output_type": "error",
     "traceback": [
      "\u001b[1;31mCanceled future for execute_request message before replies were done"
     ]
    }
   ],
   "source": [
    "pca = PCA(n_components=2)\n",
    "Xreduced = pca.fit_transform(X_train)\n",
    "Xreduced = np.vstack([X_train['ac_annual'].values, X_train['min_distance'].values]).T\n",
    "\n",
    "means = sd.mean_[col_index['ac_annual']],sd.mean_[col_index['min_distance']]\n",
    "stds = sd.var_[col_index['ac_annual']]**0.5,sd.var_[col_index['min_distance']]**0.5\n",
    "X0, X1 = Xreduced[:,0]*stds[0]+means[0], Xreduced[:,1]*stds[1]+means[1]\n",
    "xx, yy = make_meshgrid(X0, X1)\n",
    "\n",
    "model = SVC(kernel='rbf',C=4)\n",
    "clf = model.fit(Xreduced, y_train)\n",
    "\n",
    "farms_reduced = np.vstack([new_farms['ac_annual'].values,new_farms['min_distance']]).T\n",
    "\n",
    "# farms_reduced = pca.transform(new_farms)\n",
    "print(farms_reduced.shape,Xreduced.shape)\n",
    "new_y_pred_test_svm = model.predict(farms_reduced)\n",
    "\n",
    "fig, ax = pl.subplots()\n",
    "plot_contours(ax, clf, xx, yy, cmap=pl.cm.coolwarm, alpha=0.8)\n",
    "ax.scatter(X0, X1, c=y_train, cmap=pl.cm.coolwarm, s=20, edgecolors='k')\n",
    "\n",
    "print(new_farms_reduced[:,col_index['ac_annual']].shape)\n",
    "\n",
    "# ax.scatter(new_farms_reduced[:,col_index['ac_annual']],new_farms_reduced[:,col_index['elevation']], c=new_y_pred_test_svm, cmap=pl.cm.coolwarm, s=20, edgecolors='k',marker='s')"
   ]
  },
  {
   "cell_type": "code",
   "execution_count": null,
   "metadata": {},
   "outputs": [],
   "source": [
    "Xreduced"
   ]
  },
  {
   "cell_type": "code",
   "execution_count": null,
   "metadata": {},
   "outputs": [],
   "source": [
    "print(np.sum(np.abs(y_pred_train_svm - y_train.values))/len(y_train))\n",
    "# thresholds\n",
    "solar_slopes = solar.loc[solar['Solar_farm_present']==1]['slope'].values.copy()\n",
    "solor_elevations = solar.loc[solar['Solar_farm_present']==1]['elevation'].values.copy()\n",
    "solar_distance = solar.loc[solar['Solar_farm_present']==1]['min_distance'].values.copy()\n",
    "solar_ac_annual = solar.loc[solar['Solar_farm_present']==1]['ac_annual'].values.copy()\n",
    "\n",
    "slope_threshold = np.percentile(solar_slopes,threshold)\n",
    "elevations_threshold = np.percentile(solor_elevations,threshold)\n",
    "distance_threshold = np.percentile(solar_distance,threshold)\n",
    "ac_threshold = np.percentile(solar_ac_annual,threshold)\n",
    "print('slope_th:{}, elevation_th:{}, distance_th:{}, ac_th:{}'.format(slope_threshold,elevations_threshold,distance_threshold,ac_threshold))\n",
    "\n",
    "print(np.sum(np.abs(y_pred_test_svm - y_test.values))/len(y_test))"
   ]
  },
  {
   "cell_type": "code",
   "execution_count": null,
   "metadata": {},
   "outputs": [],
   "source": [
    "X_train"
   ]
  },
  {
   "cell_type": "code",
   "execution_count": null,
   "metadata": {},
   "outputs": [],
   "source": [
    "fake_data = "
   ]
  }
 ],
 "metadata": {
  "kernelspec": {
   "display_name": "Python 3.9.13 ('base')",
   "language": "python",
   "name": "python3"
  },
  "language_info": {
   "codemirror_mode": {
    "name": "ipython",
    "version": 3
   },
   "file_extension": ".py",
   "mimetype": "text/x-python",
   "name": "python",
   "nbconvert_exporter": "python",
   "pygments_lexer": "ipython3",
   "version": "3.9.13"
  },
  "orig_nbformat": 4,
  "vscode": {
   "interpreter": {
    "hash": "46d4d6e35a705a453addec98352089b1c875d6193677971858623155cb10eb88"
   }
  }
 },
 "nbformat": 4,
 "nbformat_minor": 2
}
