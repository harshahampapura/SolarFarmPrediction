{
 "cells": [
  {
   "cell_type": "markdown",
   "id": "e22cd993",
   "metadata": {},
   "source": [
    "# Import useful functions"
   ]
  },
  {
   "cell_type": "code",
   "execution_count": 1,
   "id": "f02c8206",
   "metadata": {},
   "outputs": [],
   "source": [
    "from utils import *"
   ]
  },
  {
   "cell_type": "markdown",
   "id": "da4e47cc",
   "metadata": {},
   "source": [
    "# Set parameters"
   ]
  },
  {
   "cell_type": "code",
   "execution_count": 2,
   "id": "cb4e4fe1",
   "metadata": {},
   "outputs": [],
   "source": [
    "latitude, longitude    = 34.214650770803395, -118.86591793067261\n",
    "demand_within_distance = 50 # miles\n",
    "\n",
    "\n",
    "\n"
   ]
  },
  {
   "cell_type": "markdown",
   "id": "608f933d",
   "metadata": {},
   "source": [
    "# Calculate Feature values for above parameters"
   ]
  },
  {
   "cell_type": "code",
   "execution_count": 3,
   "id": "5d075c74",
   "metadata": {},
   "outputs": [],
   "source": [
    "electrictiy_demand    = get_demand_within_distance(latitude,longitude,demand_within_distance)\n",
    "electricity_output    = get_electricity_output(latitude, longitude)\n",
    "land_use              = get_land_use(latitude, longitude)\n",
    "dis_from_closest_city = get_dis_from_closest_city(latitude, longitude)"
   ]
  },
  {
   "cell_type": "markdown",
   "id": "3225bbb2",
   "metadata": {},
   "source": [
    "# Feature vector"
   ]
  },
  {
   "cell_type": "code",
   "execution_count": null,
   "id": "48d431cb",
   "metadata": {},
   "outputs": [],
   "source": [
    "feature_vector = np.array([electrictiy_demand,electricity_output,land_use,dis_from_closest_city])"
   ]
  }
 ],
 "metadata": {
  "kernelspec": {
   "display_name": "Python 3 (ipykernel)",
   "language": "python",
   "name": "python3"
  },
  "language_info": {
   "codemirror_mode": {
    "name": "ipython",
    "version": 3
   },
   "file_extension": ".py",
   "mimetype": "text/x-python",
   "name": "python",
   "nbconvert_exporter": "python",
   "pygments_lexer": "ipython3",
   "version": "3.12.0"
  }
 },
 "nbformat": 4,
 "nbformat_minor": 5
}
